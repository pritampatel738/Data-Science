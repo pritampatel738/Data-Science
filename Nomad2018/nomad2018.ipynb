{
 "cells": [
  {
   "cell_type": "code",
   "execution_count": 1,
   "metadata": {
    "collapsed": true
   },
   "outputs": [],
   "source": [
    "import pandas as pd\n",
    "import numpy as np\n",
    "import matplotlib.pyplot as plt"
   ]
  },
  {
   "cell_type": "code",
   "execution_count": 2,
   "metadata": {
    "collapsed": true
   },
   "outputs": [],
   "source": [
    "train_set=pd.read_csv('train.csv')"
   ]
  },
  {
   "cell_type": "code",
   "execution_count": 4,
   "metadata": {},
   "outputs": [
    {
     "name": "stdout",
     "output_type": "stream",
     "text": [
      "   id  spacegroup  number_of_total_atoms  percent_atom_al  percent_atom_ga  \\\n",
      "0   1          33                   80.0           0.6250           0.3750   \n",
      "1   2         194                   80.0           0.6250           0.3750   \n",
      "2   3         227                   40.0           0.8125           0.1875   \n",
      "3   4         167                   30.0           0.7500           0.0000   \n",
      "4   5         194                   80.0           0.0000           0.6250   \n",
      "\n",
      "   percent_atom_in  lattice_vector_1_ang  lattice_vector_2_ang  \\\n",
      "0            0.000                9.9523                8.5513   \n",
      "1            0.000                6.1840                6.1838   \n",
      "2            0.000                9.7510                5.6595   \n",
      "3            0.250                5.0036                5.0034   \n",
      "4            0.375                6.6614                6.6612   \n",
      "\n",
      "   lattice_vector_3_ang  lattice_angle_alpha_degree  \\\n",
      "0                9.1775                     90.0026   \n",
      "1               23.6287                     90.0186   \n",
      "2               13.9630                     90.9688   \n",
      "3               13.5318                     89.9888   \n",
      "4               24.5813                     89.9960   \n",
      "\n",
      "   lattice_angle_beta_degree  lattice_angle_gamma_degree  \\\n",
      "0                    90.0023                     90.0017   \n",
      "1                    89.9980                    120.0025   \n",
      "2                    91.1228                     30.5185   \n",
      "3                    90.0119                    120.0017   \n",
      "4                    90.0006                    119.9893   \n",
      "\n",
      "   formation_energy_ev_natom  bandgap_energy_ev  \n",
      "0                     0.0680             3.4387  \n",
      "1                     0.2490             2.9210  \n",
      "2                     0.1821             2.7438  \n",
      "3                     0.2172             3.3492  \n",
      "4                     0.0505             1.3793  \n"
     ]
    }
   ],
   "source": [
    "print(train_set.head())"
   ]
  },
  {
   "cell_type": "code",
   "execution_count": 5,
   "metadata": {
    "collapsed": true
   },
   "outputs": [],
   "source": [
    "test_set=pd.read_csv('test.csv')\n",
    "sample_submission=pd.read_csv('sample_submission.csv')"
   ]
  },
  {
   "cell_type": "code",
   "execution_count": 6,
   "metadata": {},
   "outputs": [
    {
     "name": "stdout",
     "output_type": "stream",
     "text": [
      "   id  spacegroup  number_of_total_atoms  percent_atom_al  percent_atom_ga  \\\n",
      "0   1          33                   80.0           0.1875           0.4688   \n",
      "1   2          33                   80.0           0.7500           0.2500   \n",
      "2   3         167                   30.0           0.6667           0.1667   \n",
      "3   4          12                   80.0           0.5625           0.4375   \n",
      "4   5          12                   80.0           0.1875           0.5000   \n",
      "\n",
      "   percent_atom_in  lattice_vector_1_ang  lattice_vector_2_ang  \\\n",
      "0           0.3438               10.5381                9.0141   \n",
      "1           0.0000                9.8938                8.5014   \n",
      "2           0.1667                4.9811                4.9808   \n",
      "3           0.0000               24.3370                6.0091   \n",
      "4           0.3125               24.6443                6.2906   \n",
      "\n",
      "   lattice_vector_3_ang  lattice_angle_alpha_degree  \\\n",
      "0                9.6361                     89.9997   \n",
      "1                9.1298                     90.0038   \n",
      "2               13.4799                     89.9900   \n",
      "3                5.7620                     89.9995   \n",
      "4                6.1589                     90.0000   \n",
      "\n",
      "   lattice_angle_beta_degree  lattice_angle_gamma_degree  \n",
      "0                    90.0003                     90.0006  \n",
      "1                    90.0023                     90.0015  \n",
      "2                    90.0109                    120.0014  \n",
      "3                   103.8581                     90.0002  \n",
      "4                   104.5929                     90.0001  \n"
     ]
    }
   ],
   "source": [
    "print(test_set.head())"
   ]
  },
  {
   "cell_type": "code",
   "execution_count": 7,
   "metadata": {},
   "outputs": [
    {
     "name": "stdout",
     "output_type": "stream",
     "text": [
      "   id  formation_energy_ev_natom  bandgap_energy_ev\n",
      "0   1                     0.1779             1.8892\n",
      "1   2                     0.1779             1.8892\n",
      "2   3                     0.1779             1.8892\n",
      "3   4                     0.1779             1.8892\n",
      "4   5                     0.1779             1.8892\n"
     ]
    }
   ],
   "source": [
    "print(sample_submission.head())"
   ]
  },
  {
   "cell_type": "code",
   "execution_count": 9,
   "metadata": {},
   "outputs": [],
   "source": [
    "ids=test_set['id']"
   ]
  },
  {
   "cell_type": "code",
   "execution_count": 10,
   "metadata": {},
   "outputs": [
    {
     "name": "stdout",
     "output_type": "stream",
     "text": [
      "   spacegroup  number_of_total_atoms  percent_atom_al  percent_atom_ga  \\\n",
      "0          33                   80.0           0.6250           0.3750   \n",
      "1         194                   80.0           0.6250           0.3750   \n",
      "2         227                   40.0           0.8125           0.1875   \n",
      "3         167                   30.0           0.7500           0.0000   \n",
      "4         194                   80.0           0.0000           0.6250   \n",
      "\n",
      "   percent_atom_in  lattice_vector_1_ang  lattice_vector_2_ang  \\\n",
      "0            0.000                9.9523                8.5513   \n",
      "1            0.000                6.1840                6.1838   \n",
      "2            0.000                9.7510                5.6595   \n",
      "3            0.250                5.0036                5.0034   \n",
      "4            0.375                6.6614                6.6612   \n",
      "\n",
      "   lattice_vector_3_ang  lattice_angle_alpha_degree  \\\n",
      "0                9.1775                     90.0026   \n",
      "1               23.6287                     90.0186   \n",
      "2               13.9630                     90.9688   \n",
      "3               13.5318                     89.9888   \n",
      "4               24.5813                     89.9960   \n",
      "\n",
      "   lattice_angle_beta_degree  lattice_angle_gamma_degree  \\\n",
      "0                    90.0023                     90.0017   \n",
      "1                    89.9980                    120.0025   \n",
      "2                    91.1228                     30.5185   \n",
      "3                    90.0119                    120.0017   \n",
      "4                    90.0006                    119.9893   \n",
      "\n",
      "   formation_energy_ev_natom  bandgap_energy_ev  \n",
      "0                     0.0680             3.4387  \n",
      "1                     0.2490             2.9210  \n",
      "2                     0.1821             2.7438  \n",
      "3                     0.2172             3.3492  \n",
      "4                     0.0505             1.3793  \n"
     ]
    }
   ],
   "source": [
    "del train_set['id']\n",
    "print(train_set.head())"
   ]
  },
  {
   "cell_type": "code",
   "execution_count": 11,
   "metadata": {},
   "outputs": [
    {
     "name": "stdout",
     "output_type": "stream",
     "text": [
      "   spacegroup  number_of_total_atoms  percent_atom_al  percent_atom_ga  \\\n",
      "0          33                   80.0           0.6250           0.3750   \n",
      "1         194                   80.0           0.6250           0.3750   \n",
      "2         227                   40.0           0.8125           0.1875   \n",
      "3         167                   30.0           0.7500           0.0000   \n",
      "4         194                   80.0           0.0000           0.6250   \n",
      "\n",
      "   percent_atom_in  lattice_vector_1_ang  lattice_vector_2_ang  \\\n",
      "0            0.000                9.9523                8.5513   \n",
      "1            0.000                6.1840                6.1838   \n",
      "2            0.000                9.7510                5.6595   \n",
      "3            0.250                5.0036                5.0034   \n",
      "4            0.375                6.6614                6.6612   \n",
      "\n",
      "   lattice_vector_3_ang  lattice_angle_alpha_degree  \\\n",
      "0                9.1775                     90.0026   \n",
      "1               23.6287                     90.0186   \n",
      "2               13.9630                     90.9688   \n",
      "3               13.5318                     89.9888   \n",
      "4               24.5813                     89.9960   \n",
      "\n",
      "   lattice_angle_beta_degree  lattice_angle_gamma_degree  \\\n",
      "0                    90.0023                     90.0017   \n",
      "1                    89.9980                    120.0025   \n",
      "2                    91.1228                     30.5185   \n",
      "3                    90.0119                    120.0017   \n",
      "4                    90.0006                    119.9893   \n",
      "\n",
      "   formation_energy_ev_natom  bandgap_energy_ev     alpha      beta     gamma  \n",
      "0                     0.0680             3.4387  1.570045  1.570040  1.570030  \n",
      "1                     0.2490             2.9210  1.570324  1.569965  2.093377  \n",
      "2                     0.1821             2.7438  1.586900  1.589587  0.532378  \n",
      "3                     0.2172             3.3492  1.569805  1.570208  2.093363  \n",
      "4                     0.0505             1.3793  1.569930  1.570010  2.093147  \n"
     ]
    }
   ],
   "source": [
    "train_set['alpha']=(3.14/180)*train_set['lattice_angle_alpha_degree']\n",
    "train_set['beta']=(3.14/180)*train_set['lattice_angle_beta_degree']\n",
    "train_set['gamma']=(3.14/180)*train_set['lattice_angle_gamma_degree']\n",
    "print(train_set.head())"
   ]
  },
  {
   "cell_type": "code",
   "execution_count": 12,
   "metadata": {
    "collapsed": true
   },
   "outputs": [],
   "source": [
    "del train_set['lattice_angle_alpha_degree']\n",
    "del train_set['lattice_angle_beta_degree']\n",
    "del train_set['lattice_angle_gamma_degree']"
   ]
  },
  {
   "cell_type": "code",
   "execution_count": 13,
   "metadata": {},
   "outputs": [
    {
     "name": "stdout",
     "output_type": "stream",
     "text": [
      "   spacegroup  number_of_total_atoms  percent_atom_al  percent_atom_ga  \\\n",
      "0          33                   80.0           0.6250           0.3750   \n",
      "1         194                   80.0           0.6250           0.3750   \n",
      "2         227                   40.0           0.8125           0.1875   \n",
      "3         167                   30.0           0.7500           0.0000   \n",
      "4         194                   80.0           0.0000           0.6250   \n",
      "\n",
      "   percent_atom_in  lattice_vector_1_ang  lattice_vector_2_ang  \\\n",
      "0            0.000                9.9523                8.5513   \n",
      "1            0.000                6.1840                6.1838   \n",
      "2            0.000                9.7510                5.6595   \n",
      "3            0.250                5.0036                5.0034   \n",
      "4            0.375                6.6614                6.6612   \n",
      "\n",
      "   lattice_vector_3_ang  formation_energy_ev_natom  bandgap_energy_ev  \\\n",
      "0                9.1775                     0.0680             3.4387   \n",
      "1               23.6287                     0.2490             2.9210   \n",
      "2               13.9630                     0.1821             2.7438   \n",
      "3               13.5318                     0.2172             3.3492   \n",
      "4               24.5813                     0.0505             1.3793   \n",
      "\n",
      "      alpha      beta     gamma  \n",
      "0  1.570045  1.570040  1.570030  \n",
      "1  1.570324  1.569965  2.093377  \n",
      "2  1.586900  1.589587  0.532378  \n",
      "3  1.569805  1.570208  2.093363  \n",
      "4  1.569930  1.570010  2.093147  \n"
     ]
    }
   ],
   "source": [
    "print(train_set.head())"
   ]
  },
  {
   "cell_type": "code",
   "execution_count": 14,
   "metadata": {
    "collapsed": true
   },
   "outputs": [],
   "source": [
    "target1=['formation_energy_ev_natom']\n",
    "target2=['bandgap_energy_ev']"
   ]
  },
  {
   "cell_type": "code",
   "execution_count": 15,
   "metadata": {},
   "outputs": [
    {
     "name": "stdout",
     "output_type": "stream",
     "text": [
      "Index(['spacegroup', 'number_of_total_atoms', 'percent_atom_al',\n",
      "       'percent_atom_ga', 'percent_atom_in', 'lattice_vector_1_ang',\n",
      "       'lattice_vector_2_ang', 'lattice_vector_3_ang',\n",
      "       'formation_energy_ev_natom', 'bandgap_energy_ev', 'alpha', 'beta',\n",
      "       'gamma'],\n",
      "      dtype='object')\n"
     ]
    }
   ],
   "source": [
    "print(train_set.columns)"
   ]
  },
  {
   "cell_type": "code",
   "execution_count": 16,
   "metadata": {
    "collapsed": true
   },
   "outputs": [],
   "source": [
    "features = ['spacegroup', 'number_of_total_atoms', 'percent_atom_al',\n",
    "       'percent_atom_ga', 'percent_atom_in', 'lattice_vector_1_ang',\n",
    "       'lattice_vector_2_ang', 'lattice_vector_3_ang',\n",
    "       'alpha', 'beta',\n",
    "       'gamma']"
   ]
  },
  {
   "cell_type": "code",
   "execution_count": 17,
   "metadata": {
    "collapsed": true
   },
   "outputs": [],
   "source": [
    "train=train_set[features]\n",
    "y1=train_set[target1]\n",
    "y2=train_set[target2]"
   ]
  },
  {
   "cell_type": "code",
   "execution_count": 18,
   "metadata": {},
   "outputs": [
    {
     "name": "stdout",
     "output_type": "stream",
     "text": [
      "   spacegroup  number_of_total_atoms  percent_atom_al  percent_atom_ga  \\\n",
      "0          33                   80.0           0.6250           0.3750   \n",
      "1         194                   80.0           0.6250           0.3750   \n",
      "2         227                   40.0           0.8125           0.1875   \n",
      "3         167                   30.0           0.7500           0.0000   \n",
      "4         194                   80.0           0.0000           0.6250   \n",
      "\n",
      "   percent_atom_in  lattice_vector_1_ang  lattice_vector_2_ang  \\\n",
      "0            0.000                9.9523                8.5513   \n",
      "1            0.000                6.1840                6.1838   \n",
      "2            0.000                9.7510                5.6595   \n",
      "3            0.250                5.0036                5.0034   \n",
      "4            0.375                6.6614                6.6612   \n",
      "\n",
      "   lattice_vector_3_ang  formation_energy_ev_natom  bandgap_energy_ev  \\\n",
      "0                9.1775                     0.0680             3.4387   \n",
      "1               23.6287                     0.2490             2.9210   \n",
      "2               13.9630                     0.1821             2.7438   \n",
      "3               13.5318                     0.2172             3.3492   \n",
      "4               24.5813                     0.0505             1.3793   \n",
      "\n",
      "      alpha      beta     gamma  \n",
      "0  1.570045  1.570040  1.570030  \n",
      "1  1.570324  1.569965  2.093377  \n",
      "2  1.586900  1.589587  0.532378  \n",
      "3  1.569805  1.570208  2.093363  \n",
      "4  1.569930  1.570010  2.093147  \n"
     ]
    }
   ],
   "source": [
    "print(train_set.head())"
   ]
  },
  {
   "cell_type": "code",
   "execution_count": 19,
   "metadata": {},
   "outputs": [
    {
     "name": "stdout",
     "output_type": "stream",
     "text": [
      "   id  spacegroup  number_of_total_atoms  percent_atom_al  percent_atom_ga  \\\n",
      "0   1          33                   80.0           0.1875           0.4688   \n",
      "1   2          33                   80.0           0.7500           0.2500   \n",
      "2   3         167                   30.0           0.6667           0.1667   \n",
      "3   4          12                   80.0           0.5625           0.4375   \n",
      "4   5          12                   80.0           0.1875           0.5000   \n",
      "\n",
      "   percent_atom_in  lattice_vector_1_ang  lattice_vector_2_ang  \\\n",
      "0           0.3438               10.5381                9.0141   \n",
      "1           0.0000                9.8938                8.5014   \n",
      "2           0.1667                4.9811                4.9808   \n",
      "3           0.0000               24.3370                6.0091   \n",
      "4           0.3125               24.6443                6.2906   \n",
      "\n",
      "   lattice_vector_3_ang  lattice_angle_alpha_degree  \\\n",
      "0                9.6361                     89.9997   \n",
      "1                9.1298                     90.0038   \n",
      "2               13.4799                     89.9900   \n",
      "3                5.7620                     89.9995   \n",
      "4                6.1589                     90.0000   \n",
      "\n",
      "   lattice_angle_beta_degree  lattice_angle_gamma_degree     alpha      beta  \\\n",
      "0                    90.0003                     90.0006  1.569995  1.570005   \n",
      "1                    90.0023                     90.0015  1.570066  1.570040   \n",
      "2                    90.0109                    120.0014  1.569826  1.570190   \n",
      "3                   103.8581                     90.0002  1.569991  1.811747   \n",
      "4                   104.5929                     90.0001  1.570000  1.824565   \n",
      "\n",
      "      gamma  \n",
      "0  1.570010  \n",
      "1  1.570026  \n",
      "2  2.093358  \n",
      "3  1.570003  \n",
      "4  1.570002  \n"
     ]
    }
   ],
   "source": [
    "test_set['alpha']=(3.14/180)*test_set['lattice_angle_alpha_degree']\n",
    "test_set['beta']=(3.14/180)*test_set['lattice_angle_beta_degree']\n",
    "test_set['gamma']=(3.14/180)*test_set['lattice_angle_gamma_degree']\n",
    "print(test_set.head())"
   ]
  },
  {
   "cell_type": "code",
   "execution_count": 20,
   "metadata": {
    "collapsed": true
   },
   "outputs": [],
   "source": [
    "del test_set['id']"
   ]
  },
  {
   "cell_type": "code",
   "execution_count": 21,
   "metadata": {},
   "outputs": [
    {
     "name": "stdout",
     "output_type": "stream",
     "text": [
      "   spacegroup  number_of_total_atoms  percent_atom_al  percent_atom_ga  \\\n",
      "0          33                   80.0           0.1875           0.4688   \n",
      "1          33                   80.0           0.7500           0.2500   \n",
      "2         167                   30.0           0.6667           0.1667   \n",
      "3          12                   80.0           0.5625           0.4375   \n",
      "4          12                   80.0           0.1875           0.5000   \n",
      "\n",
      "   percent_atom_in  lattice_vector_1_ang  lattice_vector_2_ang  \\\n",
      "0           0.3438               10.5381                9.0141   \n",
      "1           0.0000                9.8938                8.5014   \n",
      "2           0.1667                4.9811                4.9808   \n",
      "3           0.0000               24.3370                6.0091   \n",
      "4           0.3125               24.6443                6.2906   \n",
      "\n",
      "   lattice_vector_3_ang  lattice_angle_alpha_degree  \\\n",
      "0                9.6361                     89.9997   \n",
      "1                9.1298                     90.0038   \n",
      "2               13.4799                     89.9900   \n",
      "3                5.7620                     89.9995   \n",
      "4                6.1589                     90.0000   \n",
      "\n",
      "   lattice_angle_beta_degree  lattice_angle_gamma_degree     alpha      beta  \\\n",
      "0                    90.0003                     90.0006  1.569995  1.570005   \n",
      "1                    90.0023                     90.0015  1.570066  1.570040   \n",
      "2                    90.0109                    120.0014  1.569826  1.570190   \n",
      "3                   103.8581                     90.0002  1.569991  1.811747   \n",
      "4                   104.5929                     90.0001  1.570000  1.824565   \n",
      "\n",
      "      gamma  \n",
      "0  1.570010  \n",
      "1  1.570026  \n",
      "2  2.093358  \n",
      "3  1.570003  \n",
      "4  1.570002  \n"
     ]
    }
   ],
   "source": [
    "print(test_set.head())"
   ]
  },
  {
   "cell_type": "code",
   "execution_count": 22,
   "metadata": {
    "collapsed": true
   },
   "outputs": [],
   "source": [
    "del test_set['lattice_angle_alpha_degree']\n",
    "del test_set['lattice_angle_beta_degree']\n",
    "del test_set['lattice_angle_gamma_degree']"
   ]
  },
  {
   "cell_type": "code",
   "execution_count": 23,
   "metadata": {},
   "outputs": [
    {
     "name": "stdout",
     "output_type": "stream",
     "text": [
      "   spacegroup  number_of_total_atoms  percent_atom_al  percent_atom_ga  \\\n",
      "0          33                   80.0           0.1875           0.4688   \n",
      "1          33                   80.0           0.7500           0.2500   \n",
      "2         167                   30.0           0.6667           0.1667   \n",
      "3          12                   80.0           0.5625           0.4375   \n",
      "4          12                   80.0           0.1875           0.5000   \n",
      "\n",
      "   percent_atom_in  lattice_vector_1_ang  lattice_vector_2_ang  \\\n",
      "0           0.3438               10.5381                9.0141   \n",
      "1           0.0000                9.8938                8.5014   \n",
      "2           0.1667                4.9811                4.9808   \n",
      "3           0.0000               24.3370                6.0091   \n",
      "4           0.3125               24.6443                6.2906   \n",
      "\n",
      "   lattice_vector_3_ang     alpha      beta     gamma  \n",
      "0                9.6361  1.569995  1.570005  1.570010  \n",
      "1                9.1298  1.570066  1.570040  1.570026  \n",
      "2               13.4799  1.569826  1.570190  2.093358  \n",
      "3                5.7620  1.569991  1.811747  1.570003  \n",
      "4                6.1589  1.570000  1.824565  1.570002  \n"
     ]
    }
   ],
   "source": [
    "print(test_set.head())"
   ]
  },
  {
   "cell_type": "code",
   "execution_count": 24,
   "metadata": {},
   "outputs": [
    {
     "name": "stdout",
     "output_type": "stream",
     "text": [
      "   spacegroup  number_of_total_atoms  percent_atom_al  percent_atom_ga  \\\n",
      "0          33                   80.0           0.6250           0.3750   \n",
      "1         194                   80.0           0.6250           0.3750   \n",
      "2         227                   40.0           0.8125           0.1875   \n",
      "3         167                   30.0           0.7500           0.0000   \n",
      "4         194                   80.0           0.0000           0.6250   \n",
      "\n",
      "   percent_atom_in  lattice_vector_1_ang  lattice_vector_2_ang  \\\n",
      "0            0.000                9.9523                8.5513   \n",
      "1            0.000                6.1840                6.1838   \n",
      "2            0.000                9.7510                5.6595   \n",
      "3            0.250                5.0036                5.0034   \n",
      "4            0.375                6.6614                6.6612   \n",
      "\n",
      "   lattice_vector_3_ang  formation_energy_ev_natom  bandgap_energy_ev  \\\n",
      "0                9.1775                     0.0680             3.4387   \n",
      "1               23.6287                     0.2490             2.9210   \n",
      "2               13.9630                     0.1821             2.7438   \n",
      "3               13.5318                     0.2172             3.3492   \n",
      "4               24.5813                     0.0505             1.3793   \n",
      "\n",
      "      alpha      beta     gamma  \n",
      "0  1.570045  1.570040  1.570030  \n",
      "1  1.570324  1.569965  2.093377  \n",
      "2  1.586900  1.589587  0.532378  \n",
      "3  1.569805  1.570208  2.093363  \n",
      "4  1.569930  1.570010  2.093147  \n"
     ]
    }
   ],
   "source": [
    "print(train_set.head())"
   ]
  },
  {
   "cell_type": "code",
   "execution_count": 25,
   "metadata": {},
   "outputs": [
    {
     "name": "stdout",
     "output_type": "stream",
     "text": [
      "Index(['spacegroup', 'number_of_total_atoms', 'percent_atom_al',\n",
      "       'percent_atom_ga', 'percent_atom_in', 'lattice_vector_1_ang',\n",
      "       'lattice_vector_2_ang', 'lattice_vector_3_ang',\n",
      "       'formation_energy_ev_natom', 'bandgap_energy_ev', 'alpha', 'beta',\n",
      "       'gamma'],\n",
      "      dtype='object')\n"
     ]
    }
   ],
   "source": [
    "print(train_set.columns)"
   ]
  },
  {
   "cell_type": "code",
   "execution_count": 26,
   "metadata": {},
   "outputs": [
    {
     "name": "stdout",
     "output_type": "stream",
     "text": [
      "Index(['spacegroup', 'number_of_total_atoms', 'percent_atom_al',\n",
      "       'percent_atom_ga', 'percent_atom_in', 'lattice_vector_1_ang',\n",
      "       'lattice_vector_2_ang', 'lattice_vector_3_ang', 'alpha', 'beta',\n",
      "       'gamma'],\n",
      "      dtype='object')\n"
     ]
    }
   ],
   "source": [
    "print(test_set.columns)"
   ]
  },
  {
   "cell_type": "code",
   "execution_count": 27,
   "metadata": {
    "collapsed": true
   },
   "outputs": [],
   "source": [
    "features = ['spacegroup', 'number_of_total_atoms', 'percent_atom_al',\n",
    "       'percent_atom_ga', 'percent_atom_in', 'lattice_vector_1_ang',\n",
    "       'lattice_vector_2_ang', 'lattice_vector_3_ang', 'alpha', 'beta',\n",
    "       'gamma']\n"
   ]
  },
  {
   "cell_type": "code",
   "execution_count": 31,
   "metadata": {},
   "outputs": [],
   "source": [
    "from sklearn.model_selection import train_test_split"
   ]
  },
  {
   "cell_type": "code",
   "execution_count": 33,
   "metadata": {},
   "outputs": [],
   "source": [
    "x_train,x_test,y_train,y_test=train_test_split(train,y1,test_size=0.1)"
   ]
  },
  {
   "cell_type": "code",
   "execution_count": 34,
   "metadata": {},
   "outputs": [
    {
     "name": "stderr",
     "output_type": "stream",
     "text": [
      "/home/pritam/anaconda3/lib/python3.6/site-packages/sklearn/cross_validation.py:41: DeprecationWarning: This module was deprecated in version 0.18 in favor of the model_selection module into which all the refactored classes and functions are moved. Also note that the interface of the new CV iterators are different from that of this module. This module will be removed in 0.20.\n",
      "  \"This module will be removed in 0.20.\", DeprecationWarning)\n"
     ]
    }
   ],
   "source": [
    "from xgboost import XGBRegressor"
   ]
  },
  {
   "cell_type": "code",
   "execution_count": 43,
   "metadata": {
    "collapsed": true
   },
   "outputs": [],
   "source": [
    "clf=XGBRegressor()"
   ]
  },
  {
   "cell_type": "code",
   "execution_count": 44,
   "metadata": {},
   "outputs": [
    {
     "name": "stdout",
     "output_type": "stream",
     "text": [
      "XGBRegressor(base_score=0.5, colsample_bylevel=1, colsample_bytree=1, gamma=0,\n",
      "       learning_rate=0.1, max_delta_step=0, max_depth=3,\n",
      "       min_child_weight=1, missing=None, n_estimators=100, nthread=-1,\n",
      "       objective='reg:linear', reg_alpha=0, reg_lambda=1,\n",
      "       scale_pos_weight=1, seed=0, silent=True, subsample=1)\n"
     ]
    }
   ],
   "source": [
    "print(clf)"
   ]
  },
  {
   "cell_type": "code",
   "execution_count": 45,
   "metadata": {},
   "outputs": [
    {
     "data": {
      "text/plain": [
       "XGBRegressor(base_score=0.5, colsample_bylevel=1, colsample_bytree=1, gamma=0,\n",
       "       learning_rate=0.1, max_delta_step=0, max_depth=3,\n",
       "       min_child_weight=1, missing=None, n_estimators=100, nthread=-1,\n",
       "       objective='reg:linear', reg_alpha=0, reg_lambda=1,\n",
       "       scale_pos_weight=1, seed=0, silent=True, subsample=1)"
      ]
     },
     "execution_count": 45,
     "metadata": {},
     "output_type": "execute_result"
    }
   ],
   "source": [
    "clf.fit(x_train,y_train)"
   ]
  },
  {
   "cell_type": "code",
   "execution_count": 46,
   "metadata": {},
   "outputs": [
    {
     "data": {
      "text/plain": [
       "0.86654441792844183"
      ]
     },
     "execution_count": 46,
     "metadata": {},
     "output_type": "execute_result"
    }
   ],
   "source": [
    "clf.score(x_test,y_test)"
   ]
  },
  {
   "cell_type": "code",
   "execution_count": 47,
   "metadata": {
    "collapsed": true
   },
   "outputs": [],
   "source": [
    "from sklearn.ensemble import RandomForestRegressor"
   ]
  },
  {
   "cell_type": "code",
   "execution_count": 48,
   "metadata": {
    "collapsed": true
   },
   "outputs": [],
   "source": [
    "clf1=RandomForestRegressor()"
   ]
  },
  {
   "cell_type": "code",
   "execution_count": 49,
   "metadata": {},
   "outputs": [
    {
     "name": "stderr",
     "output_type": "stream",
     "text": [
      "/home/pritam/anaconda3/lib/python3.6/site-packages/ipykernel_launcher.py:1: DataConversionWarning: A column-vector y was passed when a 1d array was expected. Please change the shape of y to (n_samples,), for example using ravel().\n",
      "  \"\"\"Entry point for launching an IPython kernel.\n"
     ]
    },
    {
     "data": {
      "text/plain": [
       "RandomForestRegressor(bootstrap=True, criterion='mse', max_depth=None,\n",
       "           max_features='auto', max_leaf_nodes=None,\n",
       "           min_impurity_decrease=0.0, min_impurity_split=None,\n",
       "           min_samples_leaf=1, min_samples_split=2,\n",
       "           min_weight_fraction_leaf=0.0, n_estimators=10, n_jobs=1,\n",
       "           oob_score=False, random_state=None, verbose=0, warm_start=False)"
      ]
     },
     "execution_count": 49,
     "metadata": {},
     "output_type": "execute_result"
    }
   ],
   "source": [
    "clf1.fit(x_train,y_train)"
   ]
  },
  {
   "cell_type": "code",
   "execution_count": 50,
   "metadata": {},
   "outputs": [
    {
     "data": {
      "text/plain": [
       "0.81418856495148673"
      ]
     },
     "execution_count": 50,
     "metadata": {},
     "output_type": "execute_result"
    }
   ],
   "source": [
    "clf1.score(x_test,y_test)"
   ]
  },
  {
   "cell_type": "code",
   "execution_count": 51,
   "metadata": {
    "collapsed": true
   },
   "outputs": [],
   "source": [
    "prediction1=clf.predict(test_set)"
   ]
  },
  {
   "cell_type": "code",
   "execution_count": 108,
   "metadata": {
    "collapsed": true
   },
   "outputs": [],
   "source": [
    "x_train,x_test,y_train,y_test=train_test_split(train,y2,test_size=0.1)"
   ]
  },
  {
   "cell_type": "code",
   "execution_count": 88,
   "metadata": {},
   "outputs": [
    {
     "name": "stdout",
     "output_type": "stream",
     "text": [
      "(2160, 11)\n",
      "(240, 11)\n"
     ]
    }
   ],
   "source": [
    "print(x_train.shape)\n",
    "print(x_test.shape)\n",
    "#print(x_test)"
   ]
  },
  {
   "cell_type": "code",
   "execution_count": 53,
   "metadata": {},
   "outputs": [
    {
     "data": {
      "text/plain": [
       "XGBRegressor(base_score=0.5, colsample_bylevel=1, colsample_bytree=1, gamma=0,\n",
       "       learning_rate=0.1, max_delta_step=0, max_depth=3,\n",
       "       min_child_weight=1, missing=None, n_estimators=100, nthread=-1,\n",
       "       objective='reg:linear', reg_alpha=0, reg_lambda=1,\n",
       "       scale_pos_weight=1, seed=0, silent=True, subsample=1)"
      ]
     },
     "execution_count": 53,
     "metadata": {},
     "output_type": "execute_result"
    }
   ],
   "source": [
    "clf.fit(x_train,y_train)"
   ]
  },
  {
   "cell_type": "code",
   "execution_count": 54,
   "metadata": {},
   "outputs": [
    {
     "data": {
      "text/plain": [
       "0.94957627694834401"
      ]
     },
     "execution_count": 54,
     "metadata": {},
     "output_type": "execute_result"
    }
   ],
   "source": [
    "clf.score(x_test,y_test)"
   ]
  },
  {
   "cell_type": "code",
   "execution_count": 55,
   "metadata": {
    "collapsed": true
   },
   "outputs": [],
   "source": [
    "prediction2=clf.predict(test_set)"
   ]
  },
  {
   "cell_type": "code",
   "execution_count": 57,
   "metadata": {},
   "outputs": [
    {
     "name": "stdout",
     "output_type": "stream",
     "text": [
      "   spacegroup  number_of_total_atoms  percent_atom_al  percent_atom_ga  \\\n",
      "0          33                   80.0           0.1875           0.4688   \n",
      "1          33                   80.0           0.7500           0.2500   \n",
      "2         167                   30.0           0.6667           0.1667   \n",
      "3          12                   80.0           0.5625           0.4375   \n",
      "4          12                   80.0           0.1875           0.5000   \n",
      "\n",
      "   percent_atom_in  lattice_vector_1_ang  lattice_vector_2_ang  \\\n",
      "0           0.3438               10.5381                9.0141   \n",
      "1           0.0000                9.8938                8.5014   \n",
      "2           0.1667                4.9811                4.9808   \n",
      "3           0.0000               24.3370                6.0091   \n",
      "4           0.3125               24.6443                6.2906   \n",
      "\n",
      "   lattice_vector_3_ang     alpha      beta     gamma  \n",
      "0                9.6361  1.569995  1.570005  1.570010  \n",
      "1                9.1298  1.570066  1.570040  1.570026  \n",
      "2               13.4799  1.569826  1.570190  2.093358  \n",
      "3                5.7620  1.569991  1.811747  1.570003  \n",
      "4                6.1589  1.570000  1.824565  1.570002  \n"
     ]
    }
   ],
   "source": [
    "print(test_set.head())"
   ]
  },
  {
   "cell_type": "code",
   "execution_count": 59,
   "metadata": {},
   "outputs": [
    {
     "name": "stdout",
     "output_type": "stream",
     "text": [
      "0        1\n",
      "1        2\n",
      "2        3\n",
      "3        4\n",
      "4        5\n",
      "5        6\n",
      "6        7\n",
      "7        8\n",
      "8        9\n",
      "9       10\n",
      "10      11\n",
      "11      12\n",
      "12      13\n",
      "13      14\n",
      "14      15\n",
      "15      16\n",
      "16      17\n",
      "17      18\n",
      "18      19\n",
      "19      20\n",
      "20      21\n",
      "21      22\n",
      "22      23\n",
      "23      24\n",
      "24      25\n",
      "25      26\n",
      "26      27\n",
      "27      28\n",
      "28      29\n",
      "29      30\n",
      "      ... \n",
      "570    571\n",
      "571    572\n",
      "572    573\n",
      "573    574\n",
      "574    575\n",
      "575    576\n",
      "576    577\n",
      "577    578\n",
      "578    579\n",
      "579    580\n",
      "580    581\n",
      "581    582\n",
      "582    583\n",
      "583    584\n",
      "584    585\n",
      "585    586\n",
      "586    587\n",
      "587    588\n",
      "588    589\n",
      "589    590\n",
      "590    591\n",
      "591    592\n",
      "592    593\n",
      "593    594\n",
      "594    595\n",
      "595    596\n",
      "596    597\n",
      "597    598\n",
      "598    599\n",
      "599    600\n",
      "Name: id, Length: 600, dtype: int64\n"
     ]
    }
   ],
   "source": [
    "print(ids)"
   ]
  },
  {
   "cell_type": "code",
   "execution_count": null,
   "metadata": {
    "collapsed": true
   },
   "outputs": [],
   "source": [
    "id formation_energy_ev_natom  bandgap_energy_ev"
   ]
  },
  {
   "cell_type": "code",
   "execution_count": 68,
   "metadata": {},
   "outputs": [],
   "source": [
    "submission ={'id':ids,'formation_energy_ev_natom':prediction1,'bandgap_energy_ev':prediction2}"
   ]
  },
  {
   "cell_type": "code",
   "execution_count": 69,
   "metadata": {
    "collapsed": true
   },
   "outputs": [],
   "source": [
    "subm=pd.DataFrame(submission)"
   ]
  },
  {
   "cell_type": "code",
   "execution_count": 70,
   "metadata": {},
   "outputs": [
    {
     "name": "stdout",
     "output_type": "stream",
     "text": [
      "      id  formation_energy_ev_natom  bandgap_energy_ev\n",
      "0      1                   0.189783           1.489003\n",
      "1      2                   0.060766           3.644295\n",
      "2      3                   0.162825           3.616603\n",
      "3      4                   0.027726           2.974561\n",
      "4      5                   0.144676           1.463807\n",
      "5      6                   0.066542           4.525223\n",
      "6      7                   0.066799           3.217252\n",
      "7      8                   0.123562           2.150367\n",
      "8      9                   0.057288           2.664884\n",
      "9     10                   0.241765           2.989179\n",
      "10    11                   0.194272           1.822550\n",
      "11    12                   0.095498           2.611889\n",
      "12    13                   0.333727           1.011178\n",
      "13    14                   0.188320           2.049855\n",
      "14    15                   0.053364           0.970340\n",
      "15    16                   0.245846           3.503532\n",
      "16    17                   0.212126           1.675557\n",
      "17    18                   0.213443           2.344576\n",
      "18    19                   0.373305           1.224321\n",
      "19    20                   0.181357           1.391498\n",
      "20    21                   0.091400           1.881293\n",
      "21    22                   0.154053           3.031564\n",
      "22    23                   0.168361           1.824478\n",
      "23    24                   0.174861           3.171666\n",
      "24    25                   0.021902           2.640898\n",
      "25    26                   0.147342           1.035669\n",
      "26    27                   0.251755           1.290319\n",
      "27    28                   0.220652           1.892809\n",
      "28    29                   0.119435           1.202705\n",
      "29    30                   0.234142           2.042650\n",
      "..   ...                        ...                ...\n",
      "570  571                   0.299769           1.276339\n",
      "571  572                   0.146252           1.120727\n",
      "572  573                   0.234174           2.619247\n",
      "573  574                   0.130239           1.868189\n",
      "574  575                   0.027447           3.269205\n",
      "575  576                   0.241144           2.576040\n",
      "576  577                   0.303472           0.577583\n",
      "577  578                   0.257507           1.091609\n",
      "578  579                   0.186636           1.268403\n",
      "579  580                   0.141631           1.383046\n",
      "580  581                   0.065257           3.553875\n",
      "581  582                   0.094616           1.087883\n",
      "582  583                   0.257483           1.559705\n",
      "583  584                   0.122102           1.266464\n",
      "584  585                   0.220918           1.049750\n",
      "585  586                   0.030782           5.069943\n",
      "586  587                   0.030782           5.069943\n",
      "587  588                   0.162912           3.598410\n",
      "588  589                   0.366413           0.846773\n",
      "589  590                   0.179676           1.848783\n",
      "590  591                   0.029466           2.963541\n",
      "591  592                   0.223095           1.410315\n",
      "592  593                   0.129538           1.027846\n",
      "593  594                   0.065401           3.635736\n",
      "594  595                   0.136325           1.508740\n",
      "595  596                   0.042443           1.339589\n",
      "596  597                   0.224159           0.928344\n",
      "597  598                   0.143292           0.769971\n",
      "598  599                   0.253767           2.320026\n",
      "599  600                   0.209304           2.107361\n",
      "\n",
      "[600 rows x 3 columns]\n"
     ]
    }
   ],
   "source": [
    "\n",
    "a=subm['id']\n",
    "b=subm['formation_energy_ev_natom']\n",
    "c=subm['bandgap_energy_ev']\n",
    "del subm['bandgap_energy_ev']\n",
    "del subm['formation_energy_ev_natom']\n",
    "subm['formation_energy_ev_natom'] = b\n",
    "subm['bandgap_energy_ev'] = c\n",
    "print(subm)"
   ]
  },
  {
   "cell_type": "code",
   "execution_count": 71,
   "metadata": {},
   "outputs": [],
   "source": [
    "subm.to_csv('out.csv',index=False)"
   ]
  },
  {
   "cell_type": "code",
   "execution_count": 72,
   "metadata": {},
   "outputs": [
    {
     "name": "stdout",
     "output_type": "stream",
     "text": [
      "   id  formation_energy_ev_natom  bandgap_energy_ev\n",
      "0   1                   0.189783           1.489003\n",
      "1   2                   0.060766           3.644295\n",
      "2   3                   0.162825           3.616603\n",
      "3   4                   0.027726           2.974561\n",
      "4   5                   0.144676           1.463807\n"
     ]
    }
   ],
   "source": [
    "print(subm.head())"
   ]
  },
  {
   "cell_type": "code",
   "execution_count": 74,
   "metadata": {},
   "outputs": [],
   "source": [
    "subm['formation_energy_ev_natom']=abs(subm['formation_energy_ev_natom'])"
   ]
  },
  {
   "cell_type": "code",
   "execution_count": 76,
   "metadata": {},
   "outputs": [],
   "source": [
    "for i in subm['formation_energy_ev_natom']:\n",
    "    if i<0:\n",
    "        print('yes')\n",
    "        break"
   ]
  },
  {
   "cell_type": "code",
   "execution_count": 77,
   "metadata": {
    "collapsed": true
   },
   "outputs": [],
   "source": [
    "for i in subm['bandgap_energy_ev']:\n",
    "    if i<0:\n",
    "        print('yes')\n",
    "        break"
   ]
  },
  {
   "cell_type": "code",
   "execution_count": 79,
   "metadata": {
    "collapsed": true
   },
   "outputs": [],
   "source": [
    "subm.to_csv('out.csv',index=False)"
   ]
  },
  {
   "cell_type": "code",
   "execution_count": null,
   "metadata": {
    "collapsed": true
   },
   "outputs": [],
   "source": []
  },
  {
   "cell_type": "code",
   "execution_count": null,
   "metadata": {
    "collapsed": true
   },
   "outputs": [],
   "source": []
  },
  {
   "cell_type": "code",
   "execution_count": null,
   "metadata": {
    "collapsed": true
   },
   "outputs": [],
   "source": []
  },
  {
   "cell_type": "code",
   "execution_count": null,
   "metadata": {
    "collapsed": true
   },
   "outputs": [],
   "source": []
  },
  {
   "cell_type": "code",
   "execution_count": null,
   "metadata": {
    "collapsed": true
   },
   "outputs": [],
   "source": []
  },
  {
   "cell_type": "code",
   "execution_count": null,
   "metadata": {
    "collapsed": true
   },
   "outputs": [],
   "source": []
  },
  {
   "cell_type": "code",
   "execution_count": null,
   "metadata": {
    "collapsed": true
   },
   "outputs": [],
   "source": []
  },
  {
   "cell_type": "code",
   "execution_count": null,
   "metadata": {
    "collapsed": true
   },
   "outputs": [],
   "source": []
  },
  {
   "cell_type": "code",
   "execution_count": null,
   "metadata": {
    "collapsed": true
   },
   "outputs": [],
   "source": []
  },
  {
   "cell_type": "code",
   "execution_count": null,
   "metadata": {
    "collapsed": true
   },
   "outputs": [],
   "source": []
  },
  {
   "cell_type": "code",
   "execution_count": null,
   "metadata": {
    "collapsed": true
   },
   "outputs": [],
   "source": []
  },
  {
   "cell_type": "code",
   "execution_count": null,
   "metadata": {
    "collapsed": true
   },
   "outputs": [],
   "source": []
  },
  {
   "cell_type": "code",
   "execution_count": null,
   "metadata": {
    "collapsed": true
   },
   "outputs": [],
   "source": []
  },
  {
   "cell_type": "code",
   "execution_count": null,
   "metadata": {
    "collapsed": true
   },
   "outputs": [],
   "source": []
  },
  {
   "cell_type": "code",
   "execution_count": null,
   "metadata": {
    "collapsed": true
   },
   "outputs": [],
   "source": []
  },
  {
   "cell_type": "code",
   "execution_count": 80,
   "metadata": {},
   "outputs": [
    {
     "name": "stdout",
     "output_type": "stream",
     "text": [
      "   spacegroup  number_of_total_atoms  percent_atom_al  percent_atom_ga  \\\n",
      "0          33                   80.0           0.6250           0.3750   \n",
      "1         194                   80.0           0.6250           0.3750   \n",
      "2         227                   40.0           0.8125           0.1875   \n",
      "3         167                   30.0           0.7500           0.0000   \n",
      "4         194                   80.0           0.0000           0.6250   \n",
      "\n",
      "   percent_atom_in  lattice_vector_1_ang  lattice_vector_2_ang  \\\n",
      "0            0.000                9.9523                8.5513   \n",
      "1            0.000                6.1840                6.1838   \n",
      "2            0.000                9.7510                5.6595   \n",
      "3            0.250                5.0036                5.0034   \n",
      "4            0.375                6.6614                6.6612   \n",
      "\n",
      "   lattice_vector_3_ang  formation_energy_ev_natom  bandgap_energy_ev  \\\n",
      "0                9.1775                     0.0680             3.4387   \n",
      "1               23.6287                     0.2490             2.9210   \n",
      "2               13.9630                     0.1821             2.7438   \n",
      "3               13.5318                     0.2172             3.3492   \n",
      "4               24.5813                     0.0505             1.3793   \n",
      "\n",
      "      alpha      beta     gamma  \n",
      "0  1.570045  1.570040  1.570030  \n",
      "1  1.570324  1.569965  2.093377  \n",
      "2  1.586900  1.589587  0.532378  \n",
      "3  1.569805  1.570208  2.093363  \n",
      "4  1.569930  1.570010  2.093147  \n"
     ]
    }
   ],
   "source": [
    "print(train_set.head())"
   ]
  },
  {
   "cell_type": "code",
   "execution_count": 102,
   "metadata": {},
   "outputs": [
    {
     "name": "stdout",
     "output_type": "stream",
     "text": [
      "[ 3.80315018]\n",
      "      spacegroup  number_of_total_atoms  percent_atom_al  percent_atom_ga  \\\n",
      "1865          33                   80.0           0.8438           0.0938   \n",
      "\n",
      "      percent_atom_in  lattice_vector_1_ang  lattice_vector_2_ang  \\\n",
      "1865           0.0625                9.9193                8.5165   \n",
      "\n",
      "      lattice_vector_3_ang     alpha      beta     gamma  \n",
      "1865                 9.147  1.570085  1.570038  1.570021  \n"
     ]
    }
   ],
   "source": [
    "#print(x_test)\n",
    "print(clf.predict(x_test[:1]))\n",
    "print(x_test[:1])\n",
    "#print(x_test.columns)"
   ]
  },
  {
   "cell_type": "code",
   "execution_count": 104,
   "metadata": {},
   "outputs": [
    {
     "name": "stdout",
     "output_type": "stream",
     "text": [
      "<class 'pandas.core.frame.DataFrame'>\n",
      "<class 'pandas.core.frame.DataFrame'>\n"
     ]
    }
   ],
   "source": [
    "print(type(x_test))\n",
    "print(type(x_train))"
   ]
  },
  {
   "cell_type": "code",
   "execution_count": null,
   "metadata": {
    "collapsed": true
   },
   "outputs": [],
   "source": []
  },
  {
   "cell_type": "code",
   "execution_count": null,
   "metadata": {
    "collapsed": true
   },
   "outputs": [],
   "source": []
  },
  {
   "cell_type": "code",
   "execution_count": null,
   "metadata": {
    "collapsed": true
   },
   "outputs": [],
   "source": []
  },
  {
   "cell_type": "code",
   "execution_count": null,
   "metadata": {
    "collapsed": true
   },
   "outputs": [],
   "source": []
  },
  {
   "cell_type": "code",
   "execution_count": null,
   "metadata": {
    "collapsed": true
   },
   "outputs": [],
   "source": []
  },
  {
   "cell_type": "code",
   "execution_count": null,
   "metadata": {
    "collapsed": true
   },
   "outputs": [],
   "source": []
  },
  {
   "cell_type": "code",
   "execution_count": null,
   "metadata": {
    "collapsed": true
   },
   "outputs": [],
   "source": []
  },
  {
   "cell_type": "code",
   "execution_count": null,
   "metadata": {
    "collapsed": true
   },
   "outputs": [],
   "source": []
  },
  {
   "cell_type": "code",
   "execution_count": null,
   "metadata": {
    "collapsed": true
   },
   "outputs": [],
   "source": []
  },
  {
   "cell_type": "code",
   "execution_count": null,
   "metadata": {
    "collapsed": true
   },
   "outputs": [],
   "source": []
  },
  {
   "cell_type": "code",
   "execution_count": null,
   "metadata": {
    "collapsed": true
   },
   "outputs": [],
   "source": []
  },
  {
   "cell_type": "code",
   "execution_count": null,
   "metadata": {
    "collapsed": true
   },
   "outputs": [],
   "source": []
  },
  {
   "cell_type": "code",
   "execution_count": null,
   "metadata": {
    "collapsed": true
   },
   "outputs": [],
   "source": []
  },
  {
   "cell_type": "code",
   "execution_count": null,
   "metadata": {
    "collapsed": true
   },
   "outputs": [],
   "source": []
  },
  {
   "cell_type": "code",
   "execution_count": null,
   "metadata": {
    "collapsed": true
   },
   "outputs": [],
   "source": []
  },
  {
   "cell_type": "code",
   "execution_count": null,
   "metadata": {
    "collapsed": true
   },
   "outputs": [],
   "source": []
  },
  {
   "cell_type": "code",
   "execution_count": null,
   "metadata": {
    "collapsed": true
   },
   "outputs": [],
   "source": []
  },
  {
   "cell_type": "code",
   "execution_count": null,
   "metadata": {
    "collapsed": true
   },
   "outputs": [],
   "source": []
  },
  {
   "cell_type": "code",
   "execution_count": null,
   "metadata": {
    "collapsed": true
   },
   "outputs": [],
   "source": []
  },
  {
   "cell_type": "code",
   "execution_count": null,
   "metadata": {
    "collapsed": true
   },
   "outputs": [],
   "source": []
  },
  {
   "cell_type": "code",
   "execution_count": null,
   "metadata": {
    "collapsed": true
   },
   "outputs": [],
   "source": []
  },
  {
   "cell_type": "code",
   "execution_count": null,
   "metadata": {
    "collapsed": true
   },
   "outputs": [],
   "source": []
  },
  {
   "cell_type": "code",
   "execution_count": null,
   "metadata": {
    "collapsed": true
   },
   "outputs": [],
   "source": []
  },
  {
   "cell_type": "code",
   "execution_count": null,
   "metadata": {
    "collapsed": true
   },
   "outputs": [],
   "source": []
  },
  {
   "cell_type": "code",
   "execution_count": null,
   "metadata": {
    "collapsed": true
   },
   "outputs": [],
   "source": []
  },
  {
   "cell_type": "code",
   "execution_count": null,
   "metadata": {
    "collapsed": true
   },
   "outputs": [],
   "source": []
  },
  {
   "cell_type": "code",
   "execution_count": null,
   "metadata": {
    "collapsed": true
   },
   "outputs": [],
   "source": []
  },
  {
   "cell_type": "code",
   "execution_count": null,
   "metadata": {
    "collapsed": true
   },
   "outputs": [],
   "source": []
  },
  {
   "cell_type": "code",
   "execution_count": null,
   "metadata": {
    "collapsed": true
   },
   "outputs": [],
   "source": []
  },
  {
   "cell_type": "code",
   "execution_count": null,
   "metadata": {
    "collapsed": true
   },
   "outputs": [],
   "source": []
  },
  {
   "cell_type": "code",
   "execution_count": null,
   "metadata": {
    "collapsed": true
   },
   "outputs": [],
   "source": []
  },
  {
   "cell_type": "code",
   "execution_count": null,
   "metadata": {
    "collapsed": true
   },
   "outputs": [],
   "source": []
  },
  {
   "cell_type": "code",
   "execution_count": null,
   "metadata": {
    "collapsed": true
   },
   "outputs": [],
   "source": []
  },
  {
   "cell_type": "code",
   "execution_count": null,
   "metadata": {
    "collapsed": true
   },
   "outputs": [],
   "source": []
  },
  {
   "cell_type": "code",
   "execution_count": null,
   "metadata": {
    "collapsed": true
   },
   "outputs": [],
   "source": []
  },
  {
   "cell_type": "code",
   "execution_count": null,
   "metadata": {
    "collapsed": true
   },
   "outputs": [],
   "source": []
  },
  {
   "cell_type": "code",
   "execution_count": null,
   "metadata": {
    "collapsed": true
   },
   "outputs": [],
   "source": []
  },
  {
   "cell_type": "code",
   "execution_count": null,
   "metadata": {
    "collapsed": true
   },
   "outputs": [],
   "source": []
  },
  {
   "cell_type": "code",
   "execution_count": null,
   "metadata": {
    "collapsed": true
   },
   "outputs": [],
   "source": []
  },
  {
   "cell_type": "code",
   "execution_count": null,
   "metadata": {
    "collapsed": true
   },
   "outputs": [],
   "source": []
  },
  {
   "cell_type": "code",
   "execution_count": null,
   "metadata": {
    "collapsed": true
   },
   "outputs": [],
   "source": []
  },
  {
   "cell_type": "code",
   "execution_count": null,
   "metadata": {
    "collapsed": true
   },
   "outputs": [],
   "source": []
  },
  {
   "cell_type": "code",
   "execution_count": null,
   "metadata": {
    "collapsed": true
   },
   "outputs": [],
   "source": []
  },
  {
   "cell_type": "code",
   "execution_count": null,
   "metadata": {
    "collapsed": true
   },
   "outputs": [],
   "source": []
  },
  {
   "cell_type": "code",
   "execution_count": null,
   "metadata": {
    "collapsed": true
   },
   "outputs": [],
   "source": []
  },
  {
   "cell_type": "code",
   "execution_count": null,
   "metadata": {
    "collapsed": true
   },
   "outputs": [],
   "source": []
  },
  {
   "cell_type": "code",
   "execution_count": null,
   "metadata": {
    "collapsed": true
   },
   "outputs": [],
   "source": []
  },
  {
   "cell_type": "code",
   "execution_count": null,
   "metadata": {
    "collapsed": true
   },
   "outputs": [],
   "source": []
  },
  {
   "cell_type": "code",
   "execution_count": null,
   "metadata": {
    "collapsed": true
   },
   "outputs": [],
   "source": []
  },
  {
   "cell_type": "code",
   "execution_count": null,
   "metadata": {
    "collapsed": true
   },
   "outputs": [],
   "source": []
  },
  {
   "cell_type": "code",
   "execution_count": null,
   "metadata": {
    "collapsed": true
   },
   "outputs": [],
   "source": []
  },
  {
   "cell_type": "code",
   "execution_count": null,
   "metadata": {
    "collapsed": true
   },
   "outputs": [],
   "source": []
  },
  {
   "cell_type": "code",
   "execution_count": null,
   "metadata": {
    "collapsed": true
   },
   "outputs": [],
   "source": []
  },
  {
   "cell_type": "code",
   "execution_count": null,
   "metadata": {
    "collapsed": true
   },
   "outputs": [],
   "source": []
  },
  {
   "cell_type": "code",
   "execution_count": null,
   "metadata": {
    "collapsed": true
   },
   "outputs": [],
   "source": []
  },
  {
   "cell_type": "code",
   "execution_count": null,
   "metadata": {
    "collapsed": true
   },
   "outputs": [],
   "source": []
  },
  {
   "cell_type": "code",
   "execution_count": null,
   "metadata": {
    "collapsed": true
   },
   "outputs": [],
   "source": []
  },
  {
   "cell_type": "code",
   "execution_count": null,
   "metadata": {
    "collapsed": true
   },
   "outputs": [],
   "source": []
  },
  {
   "cell_type": "code",
   "execution_count": null,
   "metadata": {
    "collapsed": true
   },
   "outputs": [],
   "source": []
  },
  {
   "cell_type": "code",
   "execution_count": null,
   "metadata": {
    "collapsed": true
   },
   "outputs": [],
   "source": []
  },
  {
   "cell_type": "code",
   "execution_count": null,
   "metadata": {
    "collapsed": true
   },
   "outputs": [],
   "source": []
  },
  {
   "cell_type": "code",
   "execution_count": null,
   "metadata": {
    "collapsed": true
   },
   "outputs": [],
   "source": []
  },
  {
   "cell_type": "code",
   "execution_count": null,
   "metadata": {
    "collapsed": true
   },
   "outputs": [],
   "source": []
  },
  {
   "cell_type": "code",
   "execution_count": null,
   "metadata": {
    "collapsed": true
   },
   "outputs": [],
   "source": []
  },
  {
   "cell_type": "code",
   "execution_count": null,
   "metadata": {
    "collapsed": true
   },
   "outputs": [],
   "source": []
  },
  {
   "cell_type": "code",
   "execution_count": null,
   "metadata": {
    "collapsed": true
   },
   "outputs": [],
   "source": []
  },
  {
   "cell_type": "code",
   "execution_count": null,
   "metadata": {
    "collapsed": true
   },
   "outputs": [],
   "source": []
  },
  {
   "cell_type": "code",
   "execution_count": null,
   "metadata": {
    "collapsed": true
   },
   "outputs": [],
   "source": []
  },
  {
   "cell_type": "code",
   "execution_count": null,
   "metadata": {
    "collapsed": true
   },
   "outputs": [],
   "source": []
  },
  {
   "cell_type": "code",
   "execution_count": null,
   "metadata": {
    "collapsed": true
   },
   "outputs": [],
   "source": []
  },
  {
   "cell_type": "code",
   "execution_count": null,
   "metadata": {
    "collapsed": true
   },
   "outputs": [],
   "source": []
  },
  {
   "cell_type": "code",
   "execution_count": null,
   "metadata": {
    "collapsed": true
   },
   "outputs": [],
   "source": []
  },
  {
   "cell_type": "code",
   "execution_count": null,
   "metadata": {
    "collapsed": true
   },
   "outputs": [],
   "source": []
  },
  {
   "cell_type": "code",
   "execution_count": null,
   "metadata": {
    "collapsed": true
   },
   "outputs": [],
   "source": []
  },
  {
   "cell_type": "code",
   "execution_count": null,
   "metadata": {
    "collapsed": true
   },
   "outputs": [],
   "source": []
  },
  {
   "cell_type": "code",
   "execution_count": null,
   "metadata": {
    "collapsed": true
   },
   "outputs": [],
   "source": []
  },
  {
   "cell_type": "code",
   "execution_count": null,
   "metadata": {
    "collapsed": true
   },
   "outputs": [],
   "source": []
  },
  {
   "cell_type": "code",
   "execution_count": null,
   "metadata": {
    "collapsed": true
   },
   "outputs": [],
   "source": []
  },
  {
   "cell_type": "code",
   "execution_count": null,
   "metadata": {
    "collapsed": true
   },
   "outputs": [],
   "source": []
  },
  {
   "cell_type": "code",
   "execution_count": null,
   "metadata": {
    "collapsed": true
   },
   "outputs": [],
   "source": []
  },
  {
   "cell_type": "code",
   "execution_count": null,
   "metadata": {
    "collapsed": true
   },
   "outputs": [],
   "source": []
  },
  {
   "cell_type": "code",
   "execution_count": 82,
   "metadata": {},
   "outputs": [
    {
     "name": "stdout",
     "output_type": "stream",
     "text": [
      "   spacegroup  number_of_total_atoms  percent_atom_al  percent_atom_ga  \\\n",
      "0          33                   80.0           0.6250           0.3750   \n",
      "1         194                   80.0           0.6250           0.3750   \n",
      "2         227                   40.0           0.8125           0.1875   \n",
      "3         167                   30.0           0.7500           0.0000   \n",
      "4         194                   80.0           0.0000           0.6250   \n",
      "\n",
      "   percent_atom_in  lattice_vector_1_ang  lattice_vector_2_ang  \\\n",
      "0            0.000                9.9523                8.5513   \n",
      "1            0.000                6.1840                6.1838   \n",
      "2            0.000                9.7510                5.6595   \n",
      "3            0.250                5.0036                5.0034   \n",
      "4            0.375                6.6614                6.6612   \n",
      "\n",
      "   lattice_vector_3_ang  formation_energy_ev_natom  bandgap_energy_ev  \\\n",
      "0                9.1775                     0.0680             3.4387   \n",
      "1               23.6287                     0.2490             2.9210   \n",
      "2               13.9630                     0.1821             2.7438   \n",
      "3               13.5318                     0.2172             3.3492   \n",
      "4               24.5813                     0.0505             1.3793   \n",
      "\n",
      "      alpha      beta     gamma  \n",
      "0  1.570045  1.570040  1.570030  \n",
      "1  1.570324  1.569965  2.093377  \n",
      "2  1.586900  1.589587  0.532378  \n",
      "3  1.569805  1.570208  2.093363  \n",
      "4  1.569930  1.570010  2.093147  \n"
     ]
    }
   ],
   "source": [
    "print(train_set.head())"
   ]
  },
  {
   "cell_type": "code",
   "execution_count": 84,
   "metadata": {},
   "outputs": [
    {
     "name": "stdout",
     "output_type": "stream",
     "text": [
      "(2160, 11)\n"
     ]
    }
   ],
   "source": [
    "print(x_train.shape)"
   ]
  },
  {
   "cell_type": "code",
   "execution_count": 85,
   "metadata": {},
   "outputs": [
    {
     "ename": "ValueError",
     "evalue": "feature_names mismatch: ['spacegroup', 'number_of_total_atoms', 'percent_atom_al', 'percent_atom_ga', 'percent_atom_in', 'lattice_vector_1_ang', 'lattice_vector_2_ang', 'lattice_vector_3_ang', 'alpha', 'beta', 'gamma'] ['f0', 'f1', 'f2', 'f3', 'f4', 'f5', 'f6', 'f7', 'f8', 'f9', 'f10']\nexpected number_of_total_atoms, lattice_vector_1_ang, lattice_vector_3_ang, lattice_vector_2_ang, alpha, percent_atom_in, percent_atom_ga, spacegroup, percent_atom_al, beta, gamma in input data\ntraining data did not have the following fields: f2, f5, f8, f9, f6, f0, f1, f4, f3, f7, f10",
     "output_type": "error",
     "traceback": [
      "\u001b[0;31m---------------------------------------------------------------------------\u001b[0m",
      "\u001b[0;31mValueError\u001b[0m                                Traceback (most recent call last)",
      "\u001b[0;32m<ipython-input-85-95a9297c2bcf>\u001b[0m in \u001b[0;36m<module>\u001b[0;34m()\u001b[0m\n\u001b[0;32m----> 1\u001b[0;31m \u001b[0mprint\u001b[0m\u001b[0;34m(\u001b[0m\u001b[0mclf\u001b[0m\u001b[0;34m.\u001b[0m\u001b[0mpredict\u001b[0m\u001b[0;34m(\u001b[0m\u001b[0;34m[\u001b[0m\u001b[0;36m1\u001b[0m\u001b[0;34m,\u001b[0m\u001b[0;36m2\u001b[0m\u001b[0;34m,\u001b[0m\u001b[0;36m3\u001b[0m\u001b[0;34m,\u001b[0m\u001b[0;36m4\u001b[0m\u001b[0;34m,\u001b[0m\u001b[0;36m5\u001b[0m\u001b[0;34m,\u001b[0m\u001b[0;36m6\u001b[0m\u001b[0;34m,\u001b[0m\u001b[0;36m7\u001b[0m\u001b[0;34m,\u001b[0m\u001b[0;36m8\u001b[0m\u001b[0;34m,\u001b[0m\u001b[0;36m9\u001b[0m\u001b[0;34m,\u001b[0m\u001b[0;36m0\u001b[0m\u001b[0;34m,\u001b[0m\u001b[0;36m9\u001b[0m\u001b[0;34m,\u001b[0m\u001b[0;34m]\u001b[0m\u001b[0;34m)\u001b[0m\u001b[0;34m)\u001b[0m\u001b[0;34m\u001b[0m\u001b[0m\n\u001b[0m",
      "\u001b[0;32m~/anaconda3/lib/python3.6/site-packages/xgboost/sklearn.py\u001b[0m in \u001b[0;36mpredict\u001b[0;34m(self, data, output_margin, ntree_limit)\u001b[0m\n\u001b[1;32m    268\u001b[0m         return self.booster().predict(test_dmatrix,\n\u001b[1;32m    269\u001b[0m                                       \u001b[0moutput_margin\u001b[0m\u001b[0;34m=\u001b[0m\u001b[0moutput_margin\u001b[0m\u001b[0;34m,\u001b[0m\u001b[0;34m\u001b[0m\u001b[0m\n\u001b[0;32m--> 270\u001b[0;31m                                       ntree_limit=ntree_limit)\n\u001b[0m\u001b[1;32m    271\u001b[0m \u001b[0;34m\u001b[0m\u001b[0m\n\u001b[1;32m    272\u001b[0m     \u001b[0;32mdef\u001b[0m \u001b[0mapply\u001b[0m\u001b[0;34m(\u001b[0m\u001b[0mself\u001b[0m\u001b[0;34m,\u001b[0m \u001b[0mX\u001b[0m\u001b[0;34m,\u001b[0m \u001b[0mntree_limit\u001b[0m\u001b[0;34m=\u001b[0m\u001b[0;36m0\u001b[0m\u001b[0;34m)\u001b[0m\u001b[0;34m:\u001b[0m\u001b[0;34m\u001b[0m\u001b[0m\n",
      "\u001b[0;32m~/anaconda3/lib/python3.6/site-packages/xgboost/core.py\u001b[0m in \u001b[0;36mpredict\u001b[0;34m(self, data, output_margin, ntree_limit, pred_leaf)\u001b[0m\n\u001b[1;32m    937\u001b[0m             \u001b[0moption_mask\u001b[0m \u001b[0;34m|=\u001b[0m \u001b[0;36m0x02\u001b[0m\u001b[0;34m\u001b[0m\u001b[0m\n\u001b[1;32m    938\u001b[0m \u001b[0;34m\u001b[0m\u001b[0m\n\u001b[0;32m--> 939\u001b[0;31m         \u001b[0mself\u001b[0m\u001b[0;34m.\u001b[0m\u001b[0m_validate_features\u001b[0m\u001b[0;34m(\u001b[0m\u001b[0mdata\u001b[0m\u001b[0;34m)\u001b[0m\u001b[0;34m\u001b[0m\u001b[0m\n\u001b[0m\u001b[1;32m    940\u001b[0m \u001b[0;34m\u001b[0m\u001b[0m\n\u001b[1;32m    941\u001b[0m         \u001b[0mlength\u001b[0m \u001b[0;34m=\u001b[0m \u001b[0mctypes\u001b[0m\u001b[0;34m.\u001b[0m\u001b[0mc_ulong\u001b[0m\u001b[0;34m(\u001b[0m\u001b[0;34m)\u001b[0m\u001b[0;34m\u001b[0m\u001b[0m\n",
      "\u001b[0;32m~/anaconda3/lib/python3.6/site-packages/xgboost/core.py\u001b[0m in \u001b[0;36m_validate_features\u001b[0;34m(self, data)\u001b[0m\n\u001b[1;32m   1177\u001b[0m \u001b[0;34m\u001b[0m\u001b[0m\n\u001b[1;32m   1178\u001b[0m                 raise ValueError(msg.format(self.feature_names,\n\u001b[0;32m-> 1179\u001b[0;31m                                             data.feature_names))\n\u001b[0m\u001b[1;32m   1180\u001b[0m \u001b[0;34m\u001b[0m\u001b[0m\n\u001b[1;32m   1181\u001b[0m     \u001b[0;32mdef\u001b[0m \u001b[0mget_split_value_histogram\u001b[0m\u001b[0;34m(\u001b[0m\u001b[0mself\u001b[0m\u001b[0;34m,\u001b[0m \u001b[0mfeature\u001b[0m\u001b[0;34m,\u001b[0m \u001b[0mfmap\u001b[0m\u001b[0;34m=\u001b[0m\u001b[0;34m''\u001b[0m\u001b[0;34m,\u001b[0m \u001b[0mbins\u001b[0m\u001b[0;34m=\u001b[0m\u001b[0;32mNone\u001b[0m\u001b[0;34m,\u001b[0m \u001b[0mas_pandas\u001b[0m\u001b[0;34m=\u001b[0m\u001b[0;32mTrue\u001b[0m\u001b[0;34m)\u001b[0m\u001b[0;34m:\u001b[0m\u001b[0;34m\u001b[0m\u001b[0m\n",
      "\u001b[0;31mValueError\u001b[0m: feature_names mismatch: ['spacegroup', 'number_of_total_atoms', 'percent_atom_al', 'percent_atom_ga', 'percent_atom_in', 'lattice_vector_1_ang', 'lattice_vector_2_ang', 'lattice_vector_3_ang', 'alpha', 'beta', 'gamma'] ['f0', 'f1', 'f2', 'f3', 'f4', 'f5', 'f6', 'f7', 'f8', 'f9', 'f10']\nexpected number_of_total_atoms, lattice_vector_1_ang, lattice_vector_3_ang, lattice_vector_2_ang, alpha, percent_atom_in, percent_atom_ga, spacegroup, percent_atom_al, beta, gamma in input data\ntraining data did not have the following fields: f2, f5, f8, f9, f6, f0, f1, f4, f3, f7, f10"
     ]
    }
   ],
   "source": [
    "print(clf.predict([1,2,3,4,5,6,7,8,9,0,9,]))"
   ]
  },
  {
   "cell_type": "code",
   "execution_count": null,
   "metadata": {
    "collapsed": true
   },
   "outputs": [],
   "source": []
  }
 ],
 "metadata": {
  "kernelspec": {
   "display_name": "Python 3",
   "language": "python",
   "name": "python3"
  },
  "language_info": {
   "codemirror_mode": {
    "name": "ipython",
    "version": 3
   },
   "file_extension": ".py",
   "mimetype": "text/x-python",
   "name": "python",
   "nbconvert_exporter": "python",
   "pygments_lexer": "ipython3",
   "version": "3.6.3"
  }
 },
 "nbformat": 4,
 "nbformat_minor": 2
}
