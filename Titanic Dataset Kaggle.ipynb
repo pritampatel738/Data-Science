{
 "cells": [
  {
   "cell_type": "code",
   "execution_count": 22,
   "metadata": {
    "collapsed": true
   },
   "outputs": [],
   "source": [
    "import pandas as pd\n",
    "import numpy as np\n"
   ]
  },
  {
   "cell_type": "code",
   "execution_count": 23,
   "metadata": {},
   "outputs": [
    {
     "name": "stdout",
     "output_type": "stream",
     "text": [
      "Dimensions of train: (891, 12)\n",
      "Dimensions of test: (418, 11)\n"
     ]
    }
   ],
   "source": [
    "import pandas as pd\n",
    "\n",
    "test = pd.read_csv('./test.csv')\n",
    "train = pd.read_csv('./titanic_train.csv')\n",
    "\n",
    "print(\"Dimensions of train: {}\".format(train.shape))\n",
    "print(\"Dimensions of test: {}\".format(test.shape))"
   ]
  },
  {
   "cell_type": "code",
   "execution_count": 24,
   "metadata": {},
   "outputs": [
    {
     "name": "stdout",
     "output_type": "stream",
     "text": [
      "   PassengerId  Pclass                                          Name     Sex  \\\n",
      "0          892       3                              Kelly, Mr. James    male   \n",
      "1          893       3              Wilkes, Mrs. James (Ellen Needs)  female   \n",
      "2          894       2                     Myles, Mr. Thomas Francis    male   \n",
      "3          895       3                              Wirz, Mr. Albert    male   \n",
      "4          896       3  Hirvonen, Mrs. Alexander (Helga E Lindqvist)  female   \n",
      "\n",
      "    Age  SibSp  Parch   Ticket     Fare Cabin Embarked  \n",
      "0  34.5      0      0   330911   7.8292   NaN        Q  \n",
      "1  47.0      1      0   363272   7.0000   NaN        S  \n",
      "2  62.0      0      0   240276   9.6875   NaN        Q  \n",
      "3  27.0      0      0   315154   8.6625   NaN        S  \n",
      "4  22.0      1      1  3101298  12.2875   NaN        S  \n",
      "   PassengerId  Survived  Pclass  \\\n",
      "0            1         0       3   \n",
      "1            2         1       1   \n",
      "2            3         1       3   \n",
      "3            4         1       1   \n",
      "4            5         0       3   \n",
      "\n",
      "                                                Name     Sex   Age  SibSp  \\\n",
      "0                            Braund, Mr. Owen Harris    male  22.0      1   \n",
      "1  Cumings, Mrs. John Bradley (Florence Briggs Th...  female  38.0      1   \n",
      "2                             Heikkinen, Miss. Laina  female  26.0      0   \n",
      "3       Futrelle, Mrs. Jacques Heath (Lily May Peel)  female  35.0      1   \n",
      "4                           Allen, Mr. William Henry    male  35.0      0   \n",
      "\n",
      "   Parch            Ticket     Fare Cabin Embarked  \n",
      "0      0         A/5 21171   7.2500   NaN        S  \n",
      "1      0          PC 17599  71.2833   C85        C  \n",
      "2      0  STON/O2. 3101282   7.9250   NaN        S  \n",
      "3      0            113803  53.1000  C123        S  \n",
      "4      0            373450   8.0500   NaN        S  \n"
     ]
    }
   ],
   "source": [
    "print(test.head())\n",
    "print(train.head())"
   ]
  },
  {
   "cell_type": "code",
   "execution_count": 25,
   "metadata": {},
   "outputs": [
    {
     "name": "stdout",
     "output_type": "stream",
     "text": [
      "   PassengerId  Pclass  Name  Sex   Age  SibSp  Parch  Ticket     Fare  Cabin  \\\n",
      "0          892       3   103    1  34.5      0      0      27   7.8292      0   \n",
      "1          893       3   190    0  47.0      1      0     262   7.0000      0   \n",
      "2          894       2   248    1  62.0      0      0      76   9.6875      0   \n",
      "3          895       3   353    1  27.0      0      0     316   8.6625      0   \n",
      "4          896       3   398    0  22.0      1      1     142  12.2875      0   \n",
      "\n",
      "   Embarked  \n",
      "0         1  \n",
      "1         0  \n",
      "2         1  \n",
      "3         0  \n",
      "4         0  \n"
     ]
    }
   ],
   "source": [
    "def handle_non_numerical_data(df):\n",
    "    columns = df.columns.values\n",
    "    for column in columns:\n",
    "        text_digit_vals = {}\n",
    "        def convert_to_int(val):\n",
    "            return text_digit_vals[val]\n",
    "\n",
    "        if df[column].dtype != np.int64 and df[column].dtype != np.float64:\n",
    "            column_contents = df[column].values.tolist()\n",
    "            unique_elements = set(column_contents)\n",
    "            x = 0\n",
    "            for unique in unique_elements:\n",
    "                if unique not in text_digit_vals:\n",
    "                    text_digit_vals[unique] = x\n",
    "                    x+=1\n",
    "\n",
    "            df[column] = list(map(convert_to_int, df[column]))\n",
    "\n",
    "    return df\n",
    "\n",
    "test=handle_non_numerical_data(test)\n",
    "train=handle_non_numerical_data(train)\n",
    "print(test.head())"
   ]
  },
  {
   "cell_type": "code",
   "execution_count": 26,
   "metadata": {},
   "outputs": [
    {
     "name": "stdout",
     "output_type": "stream",
     "text": [
      "   PassengerId  Survived  Pclass  Name  Sex   Age  SibSp  Parch  Ticket  \\\n",
      "0            1         0       3   311    1  22.0      1      0     197   \n",
      "1            2         1       1   208    0  38.0      1      0     602   \n",
      "2            3         1       3    78    0  26.0      0      0     465   \n",
      "3            4         1       1   172    0  35.0      1      0     536   \n",
      "4            5         0       3   699    1  35.0      0      0     454   \n",
      "\n",
      "      Fare  Cabin  Embarked  \n",
      "0   7.2500      0         2  \n",
      "1  71.2833    147         3  \n",
      "2   7.9250      0         2  \n",
      "3  53.1000      7         2  \n",
      "4   8.0500      0         2  \n"
     ]
    }
   ],
   "source": [
    "print(train.head())"
   ]
  },
  {
   "cell_type": "code",
   "execution_count": 27,
   "metadata": {},
   "outputs": [
    {
     "name": "stdout",
     "output_type": "stream",
     "text": [
      "Index(['PassengerId', 'Survived', 'Pclass', 'Name', 'Sex', 'Age', 'SibSp',\n",
      "       'Parch', 'Ticket', 'Fare', 'Cabin', 'Embarked'],\n",
      "      dtype='object')\n"
     ]
    }
   ],
   "source": [
    "print(train.columns)"
   ]
  },
  {
   "cell_type": "code",
   "execution_count": 28,
   "metadata": {
    "collapsed": true
   },
   "outputs": [],
   "source": [
    "features=['Pclass', 'Name', 'Sex', 'Age', 'SibSp',\n",
    "       'Parch', 'Ticket', 'Fare', 'Cabin', 'Embarked']\n",
    "target=['Survived']"
   ]
  },
  {
   "cell_type": "code",
   "execution_count": 53,
   "metadata": {},
   "outputs": [
    {
     "name": "stderr",
     "output_type": "stream",
     "text": [
      "/home/pritam/anaconda3/lib/python3.6/site-packages/pandas/core/frame.py:2754: SettingWithCopyWarning: \n",
      "A value is trying to be set on a copy of a slice from a DataFrame\n",
      "\n",
      "See the caveats in the documentation: http://pandas.pydata.org/pandas-docs/stable/indexing.html#indexing-view-versus-copy\n",
      "  downcast=downcast, **kwargs)\n"
     ]
    }
   ],
   "source": [
    "df=train[features]\n",
    "holdout=test[features]\n",
    "holdout.fillna(method='ffill',inplace=True)"
   ]
  },
  {
   "cell_type": "code",
   "execution_count": 30,
   "metadata": {},
   "outputs": [
    {
     "name": "stdout",
     "output_type": "stream",
     "text": [
      "   Pclass  Name  Sex   Age  SibSp  Parch  Ticket     Fare  Cabin  Embarked\n",
      "0       3   311    1  22.0      1      0     197   7.2500      0         2\n",
      "1       1   208    0  38.0      1      0     602  71.2833    147         3\n",
      "2       3    78    0  26.0      0      0     465   7.9250      0         2\n",
      "3       1   172    0  35.0      1      0     536  53.1000      7         2\n",
      "4       3   699    1  35.0      0      0     454   8.0500      0         2\n",
      "   Pclass  Name  Sex   Age  SibSp  Parch  Ticket     Fare  Cabin  Embarked\n",
      "0       3   103    1  34.5      0      0      27   7.8292      0         1\n",
      "1       3   190    0  47.0      1      0     262   7.0000      0         0\n",
      "2       2   248    1  62.0      0      0      76   9.6875      0         1\n",
      "3       3   353    1  27.0      0      0     316   8.6625      0         0\n",
      "4       3   398    0  22.0      1      1     142  12.2875      0         0\n"
     ]
    }
   ],
   "source": [
    "print(df.head())\n",
    "print(holdout.head())"
   ]
  },
  {
   "cell_type": "code",
   "execution_count": 31,
   "metadata": {},
   "outputs": [
    {
     "name": "stdout",
     "output_type": "stream",
     "text": [
      "     Pclass  Name  Sex   Age  SibSp  Parch  Ticket      Fare  Cabin  Embarked\n",
      "0         3   311    1  22.0      1      0     197    7.2500      0         2\n",
      "1         1   208    0  38.0      1      0     602   71.2833    147         3\n",
      "2         3    78    0  26.0      0      0     465    7.9250      0         2\n",
      "3         1   172    0  35.0      1      0     536   53.1000      7         2\n",
      "4         3   699    1  35.0      0      0     454    8.0500      0         2\n",
      "5         3   350    1   NaN      0      0     474    8.4583      0         1\n",
      "6         1   777    1  54.0      0      0     633   51.8625     78         2\n",
      "7         3   862    1   2.0      3      1     622   21.0750      0         2\n",
      "8         3   764    0  27.0      0      2     325   11.1333      0         2\n",
      "9         2   732    0  14.0      1      0     601   30.0708      0         3\n",
      "10        3   780    0   4.0      1      1     190   16.7000    131         2\n",
      "11        1   106    0  58.0      0      0     360   26.5500      8         2\n",
      "12        3   849    1  20.0      0      0     261    8.0500      0         2\n",
      "13        3   837    1  39.0      1      5     157   31.2750      0         2\n",
      "14        3   593    0  14.0      0      0     514    7.8542      0         2\n",
      "15        2   442    0  55.0      0      0     616   16.0000      0         2\n",
      "16        3   832    1   2.0      4      1      73   29.1250      0         1\n",
      "17        2   183    1   NaN      0      0     482   13.0000      0         2\n",
      "18        3    33    0  31.0      1      0     248   18.0000      0         2\n",
      "19        3   637    0   NaN      0      0      29    7.2250      0         3\n",
      "20        2   869    1  35.0      0      0     366   26.0000      0         2\n",
      "21        2   445    1  34.0      0      0     327   13.0000    116         2\n",
      "22        3   661    0  15.0      0      0     350    8.0292      0         1\n",
      "23        1   812    1  28.0      0      0     647   35.5000     66         2\n",
      "24        3   846    0   8.0      3      1     622   21.0750      0         2\n",
      "25        3   536    0  38.0      1      5      68   31.3875      0         2\n",
      "26        3    25    1   NaN      0      0     561    7.2250      0         3\n",
      "27        1   875    1  19.0      3      2     676  263.0000     88         2\n",
      "28        3   566    0   NaN      0      0      37    7.8792      0         1\n",
      "29        3   834    1   NaN      0      0      75    7.8958      0         2\n",
      "..      ...   ...  ...   ...    ...    ...     ...       ...    ...       ...\n",
      "861       2   628    1  21.0      1      0     178   11.5000      0         2\n",
      "862       1   590    0  48.0      0      0     557   25.9292    129         2\n",
      "863       3   328    0   NaN      8      2      35   69.5500      0         2\n",
      "864       2   876    1  24.0      0      0     257   13.0000      0         2\n",
      "865       2   698    0  42.0      0      0     591   13.0000      0         2\n",
      "866       2     8    0  27.0      1      0     468   13.8583      0         3\n",
      "867       1   487    1  31.0      0      0     156   50.4958     41         2\n",
      "868       3   518    1   NaN      0      0     620    9.5000      0         2\n",
      "869       3   345    1   4.0      1      1     325   11.1333      0         2\n",
      "870       3   199    1  26.0      0      0      31    7.8958      0         2\n",
      "871       1   721    0  47.0      1      1     345   52.5542    135         2\n",
      "872       1   398    1  33.0      0      0     470    5.0000     87         2\n",
      "873       3   483    1  47.0      0      0     314    9.0000      0         2\n",
      "874       2   206    0  28.0      1      0     618   24.0000      0         3\n",
      "875       3   444    0  15.0      0      0     662    7.2250      0         3\n",
      "876       3    70    1  20.0      0      0      70    9.8458      0         2\n",
      "877       3   828    1  19.0      0      0     164    7.8958      0         2\n",
      "878       3   596    1   NaN      0      0     316    7.8958      0         2\n",
      "879       1   306    0  56.0      0      1     205   83.1583    115         3\n",
      "880       2   188    0  25.0      0      1     348   26.0000      0         2\n",
      "881       3     7    1  33.0      0      0     645    7.8958      0         2\n",
      "882       3   327    0  22.0      0      0     505   10.5167      0         2\n",
      "883       2   196    1  28.0      0      0     417   10.5000      0         2\n",
      "884       3   769    1  25.0      0      0     452    7.0500      0         2\n",
      "885       3   514    0  39.0      0      5      73   29.1250      0         1\n",
      "886       2   277    1  27.0      0      0     533   13.0000      0         2\n",
      "887       1   174    0  19.0      0      0     448   30.0000     67         2\n",
      "888       3   360    0   NaN      1      2     518   23.4500      0         2\n",
      "889       1   219    1  26.0      0      0     118   30.0000     10         3\n",
      "890       3   257    1  32.0      0      0      83    7.7500      0         1\n",
      "\n",
      "[891 rows x 10 columns]\n"
     ]
    }
   ],
   "source": [
    "print(df)"
   ]
  },
  {
   "cell_type": "code",
   "execution_count": 32,
   "metadata": {
    "collapsed": true
   },
   "outputs": [],
   "source": [
    "#del df['PassengerId']"
   ]
  },
  {
   "cell_type": "code",
   "execution_count": 33,
   "metadata": {},
   "outputs": [
    {
     "name": "stdout",
     "output_type": "stream",
     "text": [
      "   Pclass  Name  Sex   Age  SibSp  Parch  Ticket     Fare  Cabin  Embarked\n",
      "0       3   311    1  22.0      1      0     197   7.2500      0         2\n",
      "1       1   208    0  38.0      1      0     602  71.2833    147         3\n",
      "2       3    78    0  26.0      0      0     465   7.9250      0         2\n",
      "3       1   172    0  35.0      1      0     536  53.1000      7         2\n",
      "4       3   699    1  35.0      0      0     454   8.0500      0         2\n"
     ]
    }
   ],
   "source": [
    "print(df.head())"
   ]
  },
  {
   "cell_type": "code",
   "execution_count": 34,
   "metadata": {
    "collapsed": true
   },
   "outputs": [],
   "source": [
    "from sklearn.model_selection import train_test_split\n",
    "from sklearn.metrics import roc_auc_score\n"
   ]
  },
  {
   "cell_type": "code",
   "execution_count": 35,
   "metadata": {},
   "outputs": [
    {
     "name": "stdout",
     "output_type": "stream",
     "text": [
      "   PassengerId  Survived  Pclass  Name  Sex   Age  SibSp  Parch  Ticket  \\\n",
      "0            1         0       3   311    1  22.0      1      0     197   \n",
      "1            2         1       1   208    0  38.0      1      0     602   \n",
      "2            3         1       3    78    0  26.0      0      0     465   \n",
      "3            4         1       1   172    0  35.0      1      0     536   \n",
      "4            5         0       3   699    1  35.0      0      0     454   \n",
      "\n",
      "      Fare  Cabin  Embarked  \n",
      "0   7.2500      0         2  \n",
      "1  71.2833    147         3  \n",
      "2   7.9250      0         2  \n",
      "3  53.1000      7         2  \n",
      "4   8.0500      0         2  \n"
     ]
    }
   ],
   "source": [
    "print(train.head())"
   ]
  },
  {
   "cell_type": "code",
   "execution_count": 36,
   "metadata": {},
   "outputs": [
    {
     "name": "stdout",
     "output_type": "stream",
     "text": [
      "0    0\n",
      "1    1\n",
      "2    1\n",
      "3    1\n",
      "4    0\n",
      "Name: Survived, dtype: int64\n"
     ]
    }
   ],
   "source": [
    "y=train['Survived']\n",
    "print(y.head())"
   ]
  },
  {
   "cell_type": "code",
   "execution_count": 41,
   "metadata": {},
   "outputs": [
    {
     "name": "stderr",
     "output_type": "stream",
     "text": [
      "/home/pritam/anaconda3/lib/python3.6/site-packages/pandas/core/generic.py:3660: SettingWithCopyWarning: \n",
      "A value is trying to be set on a copy of a slice from a DataFrame\n",
      "\n",
      "See the caveats in the documentation: http://pandas.pydata.org/pandas-docs/stable/indexing.html#indexing-view-versus-copy\n",
      "  self._update_inplace(new_data)\n"
     ]
    }
   ],
   "source": [
    "df['Age'].fillna(method='ffill',inplace=True)"
   ]
  },
  {
   "cell_type": "code",
   "execution_count": 42,
   "metadata": {
    "collapsed": true
   },
   "outputs": [],
   "source": [
    "x_train,x_test,y_train,y_test=train_test_split(df,y,test_size=0.2)"
   ]
  },
  {
   "cell_type": "code",
   "execution_count": 43,
   "metadata": {
    "collapsed": true
   },
   "outputs": [],
   "source": [
    "from sklearn.linear_model import LogisticRegression"
   ]
  },
  {
   "cell_type": "code",
   "execution_count": 44,
   "metadata": {
    "collapsed": true
   },
   "outputs": [],
   "source": [
    "clf=LogisticRegression()"
   ]
  },
  {
   "cell_type": "code",
   "execution_count": 45,
   "metadata": {},
   "outputs": [
    {
     "name": "stdout",
     "output_type": "stream",
     "text": [
      "LogisticRegression(C=1.0, class_weight=None, dual=False, fit_intercept=True,\n",
      "          intercept_scaling=1, max_iter=100, multi_class='ovr', n_jobs=1,\n",
      "          penalty='l2', random_state=None, solver='liblinear', tol=0.0001,\n",
      "          verbose=0, warm_start=False)\n"
     ]
    }
   ],
   "source": [
    "print(clf)"
   ]
  },
  {
   "cell_type": "code",
   "execution_count": 46,
   "metadata": {},
   "outputs": [
    {
     "data": {
      "text/plain": [
       "LogisticRegression(C=1.0, class_weight=None, dual=False, fit_intercept=True,\n",
       "          intercept_scaling=1, max_iter=100, multi_class='ovr', n_jobs=1,\n",
       "          penalty='l2', random_state=None, solver='liblinear', tol=0.0001,\n",
       "          verbose=0, warm_start=False)"
      ]
     },
     "execution_count": 46,
     "metadata": {},
     "output_type": "execute_result"
    }
   ],
   "source": [
    "clf.fit(x_train,y_train)"
   ]
  },
  {
   "cell_type": "code",
   "execution_count": 47,
   "metadata": {
    "collapsed": true
   },
   "outputs": [],
   "source": [
    "predictions=clf.predict(x_test)"
   ]
  },
  {
   "cell_type": "code",
   "execution_count": 48,
   "metadata": {},
   "outputs": [
    {
     "name": "stdout",
     "output_type": "stream",
     "text": [
      "[0 1 0 1 0 0 0 0 1 0]\n",
      "0    0\n",
      "1    1\n",
      "2    1\n",
      "3    1\n",
      "4    0\n",
      "5    0\n",
      "6    0\n",
      "7    0\n",
      "8    1\n",
      "9    1\n",
      "Name: Survived, dtype: int64\n"
     ]
    }
   ],
   "source": [
    "print(predictions[:10])\n",
    "print(y.head(10))"
   ]
  },
  {
   "cell_type": "code",
   "execution_count": 49,
   "metadata": {},
   "outputs": [
    {
     "data": {
      "text/plain": [
       "0.75977653631284914"
      ]
     },
     "execution_count": 49,
     "metadata": {},
     "output_type": "execute_result"
    }
   ],
   "source": [
    "clf.score(x_test,y_test)"
   ]
  },
  {
   "cell_type": "code",
   "execution_count": 50,
   "metadata": {
    "collapsed": true
   },
   "outputs": [],
   "source": [
    "accuracy=roc_auc_score(predictions,y_test)"
   ]
  },
  {
   "cell_type": "code",
   "execution_count": 51,
   "metadata": {},
   "outputs": [
    {
     "name": "stdout",
     "output_type": "stream",
     "text": [
      "0.747214673913\n"
     ]
    }
   ],
   "source": [
    "print(accuracy)"
   ]
  },
  {
   "cell_type": "code",
   "execution_count": 54,
   "metadata": {
    "collapsed": true
   },
   "outputs": [],
   "source": [
    "submission=clf.predict(holdout)"
   ]
  },
  {
   "cell_type": "code",
   "execution_count": 55,
   "metadata": {},
   "outputs": [
    {
     "name": "stdout",
     "output_type": "stream",
     "text": [
      "[0 0 0 0 0 0 1 0 1 0 0 0 1 0 1 1 0 0 0 1 0 0 1 0 1 0 1 0 0 0 0 0 0 0 0 0 1\n",
      " 1 0 0 0 0 0 1 1 0 0 0 1 0 0 0 1 1 0 0 0 0 0 1 0 0 0 1 1 1 1 0 0 1 1 0 1 0\n",
      " 1 1 0 1 0 1 0 0 0 0 0 0 1 1 1 0 1 0 1 0 0 0 1 0 1 0 1 0 0 0 1 0 0 0 0 0 0\n",
      " 1 1 1 1 0 0 1 0 1 1 0 1 0 0 1 0 1 0 0 0 0 0 0 0 0 0 0 1 0 0 1 0 0 0 0 0 0\n",
      " 0 0 1 0 0 0 0 0 1 1 0 0 1 0 1 0 0 0 0 0 1 1 0 0 0 0 0 1 1 0 1 1 0 0 1 0 1\n",
      " 0 1 0 0 0 0 0 0 0 0 0 1 1 0 1 1 0 1 1 0 0 1 0 1 0 0 0 0 0 0 0 1 0 1 0 1 0\n",
      " 1 0 1 0 0 1 0 0 0 1 0 0 0 0 0 0 1 1 1 1 0 0 0 0 1 0 1 1 1 0 0 0 0 0 0 0 1\n",
      " 0 0 0 1 1 0 0 0 0 1 0 0 0 1 1 0 1 0 0 0 0 1 0 1 1 1 0 0 0 0 0 0 1 0 0 0 0\n",
      " 1 0 0 0 0 0 0 0 1 1 0 0 0 0 0 0 0 1 1 1 0 0 0 0 0 0 0 0 1 0 1 0 0 0 1 0 0\n",
      " 1 0 0 0 0 0 0 0 0 0 1 0 1 0 1 0 1 1 0 0 0 1 0 1 0 0 0 0 1 1 0 1 0 0 1 1 0\n",
      " 0 1 0 0 1 1 0 0 0 0 0 0 1 1 0 1 0 0 0 0 1 1 0 0 0 1 0 1 0 0 1 0 1 0 0 0 0\n",
      " 0 0 1 1 1 1 0 1 0 0 0]\n",
      "<class 'numpy.ndarray'>\n"
     ]
    }
   ],
   "source": [
    "print(submission)\n",
    "print(type(submission))"
   ]
  },
  {
   "cell_type": "code",
   "execution_count": 56,
   "metadata": {
    "collapsed": true
   },
   "outputs": [],
   "source": [
    "holdout_ids=test['PassengerId']"
   ]
  },
  {
   "cell_type": "code",
   "execution_count": 57,
   "metadata": {
    "collapsed": true
   },
   "outputs": [],
   "source": [
    "submission={\"PassengerId\":holdout_ids,\"Survived\":submission}"
   ]
  },
  {
   "cell_type": "code",
   "execution_count": 58,
   "metadata": {
    "collapsed": true
   },
   "outputs": [],
   "source": [
    "submission=pd.DataFrame(submission)"
   ]
  },
  {
   "cell_type": "code",
   "execution_count": 59,
   "metadata": {},
   "outputs": [
    {
     "name": "stdout",
     "output_type": "stream",
     "text": [
      "     PassengerId  Survived\n",
      "0            892         0\n",
      "1            893         0\n",
      "2            894         0\n",
      "3            895         0\n",
      "4            896         0\n",
      "5            897         0\n",
      "6            898         1\n",
      "7            899         0\n",
      "8            900         1\n",
      "9            901         0\n",
      "10           902         0\n",
      "11           903         0\n",
      "12           904         1\n",
      "13           905         0\n",
      "14           906         1\n",
      "15           907         1\n",
      "16           908         0\n",
      "17           909         0\n",
      "18           910         0\n",
      "19           911         1\n",
      "20           912         0\n",
      "21           913         0\n",
      "22           914         1\n",
      "23           915         0\n",
      "24           916         1\n",
      "25           917         0\n",
      "26           918         1\n",
      "27           919         0\n",
      "28           920         0\n",
      "29           921         0\n",
      "..           ...       ...\n",
      "388         1280         0\n",
      "389         1281         0\n",
      "390         1282         1\n",
      "391         1283         1\n",
      "392         1284         0\n",
      "393         1285         0\n",
      "394         1286         0\n",
      "395         1287         1\n",
      "396         1288         0\n",
      "397         1289         1\n",
      "398         1290         0\n",
      "399         1291         0\n",
      "400         1292         1\n",
      "401         1293         0\n",
      "402         1294         1\n",
      "403         1295         0\n",
      "404         1296         0\n",
      "405         1297         0\n",
      "406         1298         0\n",
      "407         1299         0\n",
      "408         1300         0\n",
      "409         1301         1\n",
      "410         1302         1\n",
      "411         1303         1\n",
      "412         1304         1\n",
      "413         1305         0\n",
      "414         1306         1\n",
      "415         1307         0\n",
      "416         1308         0\n",
      "417         1309         0\n",
      "\n",
      "[418 rows x 2 columns]\n"
     ]
    }
   ],
   "source": [
    "print(submission)"
   ]
  },
  {
   "cell_type": "code",
   "execution_count": 62,
   "metadata": {
    "collapsed": true
   },
   "outputs": [],
   "source": [
    "submission.to_csv('submission.csv',index=False)"
   ]
  },
  {
   "cell_type": "code",
   "execution_count": 63,
   "metadata": {
    "collapsed": true
   },
   "outputs": [],
   "source": [
    "sb=pd.read_csv('submission.csv')"
   ]
  },
  {
   "cell_type": "code",
   "execution_count": 64,
   "metadata": {},
   "outputs": [
    {
     "name": "stdout",
     "output_type": "stream",
     "text": [
      "   PassengerId  Survived\n",
      "0          892         0\n",
      "1          893         0\n",
      "2          894         0\n",
      "3          895         0\n",
      "4          896         0\n"
     ]
    }
   ],
   "source": [
    "print(sb.head())"
   ]
  },
  {
   "cell_type": "code",
   "execution_count": null,
   "metadata": {
    "collapsed": true
   },
   "outputs": [],
   "source": []
  }
 ],
 "metadata": {
  "kernelspec": {
   "display_name": "Python 3",
   "language": "python",
   "name": "python3"
  },
  "language_info": {
   "codemirror_mode": {
    "name": "ipython",
    "version": 3
   },
   "file_extension": ".py",
   "mimetype": "text/x-python",
   "name": "python",
   "nbconvert_exporter": "python",
   "pygments_lexer": "ipython3",
   "version": "3.6.3"
  }
 },
 "nbformat": 4,
 "nbformat_minor": 2
}
