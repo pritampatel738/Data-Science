{
 "cells": [
  {
   "cell_type": "code",
   "execution_count": 1,
   "metadata": {
    "collapsed": true
   },
   "outputs": [],
   "source": [
    "import pandas as pd\n",
    "import numpy as np"
   ]
  },
  {
   "cell_type": "code",
   "execution_count": 10,
   "metadata": {},
   "outputs": [],
   "source": [
    "train_set=pd.read_csv('train_bike_sharing.csv')\n",
    "test_set=pd.read_csv('test _bike_sharing.csv')\n",
    "sample_submission=pd.read_csv('sampleSubmission_bike_sharing.csv')"
   ]
  },
  {
   "cell_type": "code",
   "execution_count": 11,
   "metadata": {},
   "outputs": [
    {
     "name": "stdout",
     "output_type": "stream",
     "text": [
      "              datetime  season  holiday  workingday  weather  temp   atemp  \\\n",
      "0  2011-01-01 00:00:00       1        0           0        1  9.84  14.395   \n",
      "1  2011-01-01 01:00:00       1        0           0        1  9.02  13.635   \n",
      "2  2011-01-01 02:00:00       1        0           0        1  9.02  13.635   \n",
      "3  2011-01-01 03:00:00       1        0           0        1  9.84  14.395   \n",
      "4  2011-01-01 04:00:00       1        0           0        1  9.84  14.395   \n",
      "\n",
      "   humidity  windspeed  casual  registered  count  \n",
      "0        81        0.0       3          13     16  \n",
      "1        80        0.0       8          32     40  \n",
      "2        80        0.0       5          27     32  \n",
      "3        75        0.0       3          10     13  \n",
      "4        75        0.0       0           1      1  \n"
     ]
    }
   ],
   "source": [
    "print(train_set.head())"
   ]
  },
  {
   "cell_type": "code",
   "execution_count": 12,
   "metadata": {},
   "outputs": [
    {
     "name": "stdout",
     "output_type": "stream",
     "text": [
      "              datetime  season  holiday  workingday  weather   temp   atemp  \\\n",
      "0  2011-01-20 00:00:00       1        0           1        1  10.66  11.365   \n",
      "1  2011-01-20 01:00:00       1        0           1        1  10.66  13.635   \n",
      "2  2011-01-20 02:00:00       1        0           1        1  10.66  13.635   \n",
      "3  2011-01-20 03:00:00       1        0           1        1  10.66  12.880   \n",
      "4  2011-01-20 04:00:00       1        0           1        1  10.66  12.880   \n",
      "\n",
      "   humidity  windspeed  \n",
      "0        56    26.0027  \n",
      "1        56     0.0000  \n",
      "2        56     0.0000  \n",
      "3        56    11.0014  \n",
      "4        56    11.0014  \n"
     ]
    }
   ],
   "source": [
    "print(test_set.head())"
   ]
  },
  {
   "cell_type": "code",
   "execution_count": 13,
   "metadata": {},
   "outputs": [
    {
     "name": "stdout",
     "output_type": "stream",
     "text": [
      "Index(['datetime', 'season', 'holiday', 'workingday', 'weather', 'temp',\n",
      "       'atemp', 'humidity', 'windspeed', 'casual', 'registered', 'count'],\n",
      "      dtype='object')\n"
     ]
    }
   ],
   "source": [
    "print(train_set.columns)"
   ]
  },
  {
   "cell_type": "code",
   "execution_count": 15,
   "metadata": {},
   "outputs": [],
   "source": [
    "features=['datetime', 'season', 'holiday', 'workingday', 'weather', 'temp',\n",
    "       'atemp', 'humidity', 'windspeed', 'casual', 'registered']\n",
    "target=['count']\n"
   ]
  },
  {
   "cell_type": "code",
   "execution_count": 17,
   "metadata": {},
   "outputs": [],
   "source": [
    "train=train_set[features]\n",
    "#test=test_set[features]"
   ]
  },
  {
   "cell_type": "code",
   "execution_count": 18,
   "metadata": {},
   "outputs": [
    {
     "name": "stdout",
     "output_type": "stream",
     "text": [
      "Index(['datetime', 'season', 'holiday', 'workingday', 'weather', 'temp',\n",
      "       'atemp', 'humidity', 'windspeed'],\n",
      "      dtype='object')\n"
     ]
    }
   ],
   "source": [
    "print(test_set.columns)"
   ]
  },
  {
   "cell_type": "code",
   "execution_count": 20,
   "metadata": {},
   "outputs": [
    {
     "name": "stdout",
     "output_type": "stream",
     "text": [
      "              datetime  season  holiday  workingday  weather  temp   atemp  \\\n",
      "0  2011-01-01 00:00:00       1        0           0        1  9.84  14.395   \n",
      "1  2011-01-01 01:00:00       1        0           0        1  9.02  13.635   \n",
      "2  2011-01-01 02:00:00       1        0           0        1  9.02  13.635   \n",
      "3  2011-01-01 03:00:00       1        0           0        1  9.84  14.395   \n",
      "4  2011-01-01 04:00:00       1        0           0        1  9.84  14.395   \n",
      "\n",
      "   humidity  windspeed  casual  registered  \n",
      "0        81        0.0       3          13  \n",
      "1        80        0.0       8          32  \n",
      "2        80        0.0       5          27  \n",
      "3        75        0.0       3          10  \n",
      "4        75        0.0       0           1  \n"
     ]
    }
   ],
   "source": [
    "print(train.head())\n",
    "test=test_set\n"
   ]
  },
  {
   "cell_type": "code",
   "execution_count": 21,
   "metadata": {},
   "outputs": [
    {
     "name": "stdout",
     "output_type": "stream",
     "text": [
      "              datetime  season  holiday  workingday  weather   temp   atemp  \\\n",
      "0  2011-01-20 00:00:00       1        0           1        1  10.66  11.365   \n",
      "1  2011-01-20 01:00:00       1        0           1        1  10.66  13.635   \n",
      "2  2011-01-20 02:00:00       1        0           1        1  10.66  13.635   \n",
      "3  2011-01-20 03:00:00       1        0           1        1  10.66  12.880   \n",
      "4  2011-01-20 04:00:00       1        0           1        1  10.66  12.880   \n",
      "\n",
      "   humidity  windspeed  \n",
      "0        56    26.0027  \n",
      "1        56     0.0000  \n",
      "2        56     0.0000  \n",
      "3        56    11.0014  \n",
      "4        56    11.0014  \n"
     ]
    }
   ],
   "source": [
    "print(test.head())"
   ]
  },
  {
   "cell_type": "code",
   "execution_count": 22,
   "metadata": {},
   "outputs": [
    {
     "name": "stderr",
     "output_type": "stream",
     "text": [
      "/home/pritam/anaconda3/lib/python3.6/site-packages/sklearn/cross_validation.py:41: DeprecationWarning: This module was deprecated in version 0.18 in favor of the model_selection module into which all the refactored classes and functions are moved. Also note that the interface of the new CV iterators are different from that of this module. This module will be removed in 0.20.\n",
      "  \"This module will be removed in 0.20.\", DeprecationWarning)\n"
     ]
    }
   ],
   "source": [
    "from xgboost import XGBRegressor\n",
    "from sklearn.svm import SVR\n",
    "from sklearn.tree import DecisionTreeRegressor\n",
    "from sklearn.ensemble import RandomForestClassifier"
   ]
  },
  {
   "cell_type": "code",
   "execution_count": 23,
   "metadata": {
    "collapsed": true
   },
   "outputs": [],
   "source": [
    "clf=XGBRegressor()"
   ]
  },
  {
   "cell_type": "code",
   "execution_count": 24,
   "metadata": {},
   "outputs": [
    {
     "name": "stdout",
     "output_type": "stream",
     "text": [
      "XGBRegressor(base_score=0.5, colsample_bylevel=1, colsample_bytree=1, gamma=0,\n",
      "       learning_rate=0.1, max_delta_step=0, max_depth=3,\n",
      "       min_child_weight=1, missing=None, n_estimators=100, nthread=-1,\n",
      "       objective='reg:linear', reg_alpha=0, reg_lambda=1,\n",
      "       scale_pos_weight=1, seed=0, silent=True, subsample=1)\n"
     ]
    }
   ],
   "source": [
    "print(clf)"
   ]
  },
  {
   "cell_type": "code",
   "execution_count": 25,
   "metadata": {
    "collapsed": true
   },
   "outputs": [],
   "source": [
    "from sklearn.model_selection import train_test_split"
   ]
  },
  {
   "cell_type": "code",
   "execution_count": 26,
   "metadata": {},
   "outputs": [
    {
     "name": "stderr",
     "output_type": "stream",
     "text": [
      "/home/pritam/anaconda3/lib/python3.6/site-packages/pandas/core/frame.py:2754: SettingWithCopyWarning: \n",
      "A value is trying to be set on a copy of a slice from a DataFrame\n",
      "\n",
      "See the caveats in the documentation: http://pandas.pydata.org/pandas-docs/stable/indexing.html#indexing-view-versus-copy\n",
      "  downcast=downcast, **kwargs)\n"
     ]
    }
   ],
   "source": [
    "train.fillna(method='ffill',inplace=True)\n",
    "test.fillna(method='ffill',inplace=True)"
   ]
  },
  {
   "cell_type": "code",
   "execution_count": 30,
   "metadata": {
    "collapsed": true
   },
   "outputs": [],
   "source": [
    "y=train_set[target]\n",
    "del train['datetime']"
   ]
  },
  {
   "cell_type": "code",
   "execution_count": 31,
   "metadata": {
    "collapsed": true
   },
   "outputs": [],
   "source": [
    "x_train,x_test,y_train,y_test=train_test_split(train,y,test_size=0.1)"
   ]
  },
  {
   "cell_type": "code",
   "execution_count": 32,
   "metadata": {},
   "outputs": [
    {
     "data": {
      "text/plain": [
       "XGBRegressor(base_score=0.5, colsample_bylevel=1, colsample_bytree=1, gamma=0,\n",
       "       learning_rate=0.1, max_delta_step=0, max_depth=3,\n",
       "       min_child_weight=1, missing=None, n_estimators=100, nthread=-1,\n",
       "       objective='reg:linear', reg_alpha=0, reg_lambda=1,\n",
       "       scale_pos_weight=1, seed=0, silent=True, subsample=1)"
      ]
     },
     "execution_count": 32,
     "metadata": {},
     "output_type": "execute_result"
    }
   ],
   "source": [
    "clf.fit(x_train,y_train)"
   ]
  },
  {
   "cell_type": "code",
   "execution_count": 33,
   "metadata": {},
   "outputs": [
    {
     "data": {
      "text/plain": [
       "0.99893006027170583"
      ]
     },
     "execution_count": 33,
     "metadata": {},
     "output_type": "execute_result"
    }
   ],
   "source": [
    "clf.score(x_test,y_test)"
   ]
  },
  {
   "cell_type": "code",
   "execution_count": 42,
   "metadata": {},
   "outputs": [
    {
     "name": "stdout",
     "output_type": "stream",
     "text": [
      "   season  holiday  workingday  weather   temp   atemp  humidity  windspeed\n",
      "0       1        0           1        1  10.66  11.365        56    26.0027\n",
      "1       1        0           1        1  10.66  13.635        56     0.0000\n",
      "2       1        0           1        1  10.66  13.635        56     0.0000\n",
      "3       1        0           1        1  10.66  12.880        56    11.0014\n",
      "4       1        0           1        1  10.66  12.880        56    11.0014\n",
      "Index(['datetime', 'season', 'holiday', 'workingday', 'weather', 'temp',\n",
      "       'atemp', 'humidity', 'windspeed', 'casual', 'registered', 'count'],\n",
      "      dtype='object')\n",
      "Index(['season', 'holiday', 'workingday', 'weather', 'temp', 'atemp',\n",
      "       'humidity', 'windspeed'],\n",
      "      dtype='object')\n"
     ]
    }
   ],
   "source": [
    "print(test.head())\n",
    "print(train_set.columns)\n",
    "print(test.columns)"
   ]
  },
  {
   "cell_type": "code",
   "execution_count": 43,
   "metadata": {
    "collapsed": true
   },
   "outputs": [],
   "source": [
    "features=['season', 'holiday', 'workingday', 'weather', 'temp', 'atemp',\n",
    "       'humidity', 'windspeed']\n"
   ]
  },
  {
   "cell_type": "code",
   "execution_count": 44,
   "metadata": {},
   "outputs": [
    {
     "name": "stdout",
     "output_type": "stream",
     "text": [
      "   season  holiday  workingday  weather  temp   atemp  humidity  windspeed\n",
      "0       1        0           0        1  9.84  14.395        81        0.0\n",
      "1       1        0           0        1  9.02  13.635        80        0.0\n",
      "2       1        0           0        1  9.02  13.635        80        0.0\n",
      "3       1        0           0        1  9.84  14.395        75        0.0\n",
      "4       1        0           0        1  9.84  14.395        75        0.0\n"
     ]
    }
   ],
   "source": [
    "x=train_set[features]\n",
    "print(x.head())"
   ]
  },
  {
   "cell_type": "code",
   "execution_count": 48,
   "metadata": {
    "collapsed": true
   },
   "outputs": [],
   "source": [
    "x_train,x_test,y_train,y_test=train_test_split(x,y,test_size=0.1)"
   ]
  },
  {
   "cell_type": "code",
   "execution_count": 49,
   "metadata": {},
   "outputs": [
    {
     "data": {
      "text/plain": [
       "XGBRegressor(base_score=0.5, colsample_bylevel=1, colsample_bytree=1, gamma=0,\n",
       "       learning_rate=0.1, max_delta_step=0, max_depth=3,\n",
       "       min_child_weight=1, missing=None, n_estimators=100, nthread=-1,\n",
       "       objective='reg:linear', reg_alpha=0, reg_lambda=1,\n",
       "       scale_pos_weight=1, seed=0, silent=True, subsample=1)"
      ]
     },
     "execution_count": 49,
     "metadata": {},
     "output_type": "execute_result"
    }
   ],
   "source": [
    "clf.fit(x_train,y_train)"
   ]
  },
  {
   "cell_type": "code",
   "execution_count": 50,
   "metadata": {},
   "outputs": [
    {
     "data": {
      "text/plain": [
       "0.32371856742403449"
      ]
     },
     "execution_count": 50,
     "metadata": {},
     "output_type": "execute_result"
    }
   ],
   "source": [
    "clf.score(x_test,y_test)"
   ]
  },
  {
   "cell_type": "code",
   "execution_count": 52,
   "metadata": {},
   "outputs": [],
   "source": [
    "from sklearn.ensemble import RandomForestRegressor"
   ]
  },
  {
   "cell_type": "code",
   "execution_count": 53,
   "metadata": {
    "collapsed": true
   },
   "outputs": [],
   "source": [
    "clf=RandomForestRegressor()"
   ]
  },
  {
   "cell_type": "code",
   "execution_count": 54,
   "metadata": {},
   "outputs": [
    {
     "name": "stderr",
     "output_type": "stream",
     "text": [
      "/home/pritam/anaconda3/lib/python3.6/site-packages/ipykernel_launcher.py:1: DataConversionWarning: A column-vector y was passed when a 1d array was expected. Please change the shape of y to (n_samples,), for example using ravel().\n",
      "  \"\"\"Entry point for launching an IPython kernel.\n"
     ]
    },
    {
     "data": {
      "text/plain": [
       "RandomForestRegressor(bootstrap=True, criterion='mse', max_depth=None,\n",
       "           max_features='auto', max_leaf_nodes=None,\n",
       "           min_impurity_decrease=0.0, min_impurity_split=None,\n",
       "           min_samples_leaf=1, min_samples_split=2,\n",
       "           min_weight_fraction_leaf=0.0, n_estimators=10, n_jobs=1,\n",
       "           oob_score=False, random_state=None, verbose=0, warm_start=False)"
      ]
     },
     "execution_count": 54,
     "metadata": {},
     "output_type": "execute_result"
    }
   ],
   "source": [
    "clf.fit(x_train,y_train)"
   ]
  },
  {
   "cell_type": "code",
   "execution_count": 55,
   "metadata": {},
   "outputs": [
    {
     "data": {
      "text/plain": [
       "0.25695768271593133"
      ]
     },
     "execution_count": 55,
     "metadata": {},
     "output_type": "execute_result"
    }
   ],
   "source": [
    "clf.score(x_test,y_test)"
   ]
  },
  {
   "cell_type": "code",
   "execution_count": 56,
   "metadata": {
    "collapsed": true
   },
   "outputs": [],
   "source": [
    "submission=clf.predict(test)"
   ]
  },
  {
   "cell_type": "code",
   "execution_count": 59,
   "metadata": {},
   "outputs": [
    {
     "name": "stdout",
     "output_type": "stream",
     "text": [
      "              datetime  count\n",
      "0  2011-01-20 00:00:00      0\n",
      "1  2011-01-20 01:00:00      0\n",
      "2  2011-01-20 02:00:00      0\n",
      "3  2011-01-20 03:00:00      0\n",
      "4  2011-01-20 04:00:00      0\n",
      "   season  holiday  workingday  weather   temp   atemp  humidity  windspeed\n",
      "0       1        0           1        1  10.66  11.365        56    26.0027\n",
      "1       1        0           1        1  10.66  13.635        56     0.0000\n",
      "2       1        0           1        1  10.66  13.635        56     0.0000\n",
      "3       1        0           1        1  10.66  12.880        56    11.0014\n",
      "4       1        0           1        1  10.66  12.880        56    11.0014\n"
     ]
    }
   ],
   "source": [
    "print(sample_submission.head())\n",
    "print(test_set.head())"
   ]
  },
  {
   "cell_type": "code",
   "execution_count": 61,
   "metadata": {},
   "outputs": [],
   "source": [
    "test_set=pd.read_csv('test _bike_sharing.csv')"
   ]
  },
  {
   "cell_type": "code",
   "execution_count": 62,
   "metadata": {},
   "outputs": [
    {
     "name": "stdout",
     "output_type": "stream",
     "text": [
      "              datetime  season  holiday  workingday  weather   temp   atemp  \\\n",
      "0  2011-01-20 00:00:00       1        0           1        1  10.66  11.365   \n",
      "1  2011-01-20 01:00:00       1        0           1        1  10.66  13.635   \n",
      "2  2011-01-20 02:00:00       1        0           1        1  10.66  13.635   \n",
      "3  2011-01-20 03:00:00       1        0           1        1  10.66  12.880   \n",
      "4  2011-01-20 04:00:00       1        0           1        1  10.66  12.880   \n",
      "\n",
      "   humidity  windspeed  \n",
      "0        56    26.0027  \n",
      "1        56     0.0000  \n",
      "2        56     0.0000  \n",
      "3        56    11.0014  \n",
      "4        56    11.0014  \n"
     ]
    }
   ],
   "source": [
    "print(test_set.head())"
   ]
  },
  {
   "cell_type": "code",
   "execution_count": 63,
   "metadata": {
    "collapsed": true
   },
   "outputs": [],
   "source": [
    "x=test_set['datetime']"
   ]
  },
  {
   "cell_type": "code",
   "execution_count": 71,
   "metadata": {},
   "outputs": [
    {
     "name": "stdout",
     "output_type": "stream",
     "text": [
      "6493\n",
      "6493\n"
     ]
    }
   ],
   "source": [
    "import math\n",
    "submissions=[]\n",
    "print(len(submission))\n",
    "\n",
    "for i in submission:\n",
    "    a=math.floor(i)\n",
    "    submissions.append(a)\n",
    "print(len(submissions))"
   ]
  },
  {
   "cell_type": "code",
   "execution_count": 76,
   "metadata": {
    "collapsed": true
   },
   "outputs": [],
   "source": [
    "submission={\n",
    "           \"count\":submissions,\"datetime\":x}"
   ]
  },
  {
   "cell_type": "code",
   "execution_count": 77,
   "metadata": {
    "collapsed": true
   },
   "outputs": [],
   "source": [
    "submission=pd.DataFrame(submission)"
   ]
  },
  {
   "cell_type": "code",
   "execution_count": 79,
   "metadata": {},
   "outputs": [
    {
     "name": "stdout",
     "output_type": "stream",
     "text": [
      "                 datetime  count\n",
      "0     2011-01-20 00:00:00    217\n",
      "1     2011-01-20 01:00:00     84\n",
      "2     2011-01-20 02:00:00     84\n",
      "3     2011-01-20 03:00:00    101\n",
      "4     2011-01-20 04:00:00    101\n",
      "5     2011-01-20 05:00:00     31\n",
      "6     2011-01-20 06:00:00    137\n",
      "7     2011-01-20 07:00:00    128\n",
      "8     2011-01-20 08:00:00     77\n",
      "9     2011-01-20 09:00:00    117\n",
      "10    2011-01-20 10:00:00    191\n",
      "11    2011-01-20 11:00:00     87\n",
      "12    2011-01-20 12:00:00    103\n",
      "13    2011-01-20 13:00:00    108\n",
      "14    2011-01-20 14:00:00    175\n",
      "15    2011-01-20 15:00:00    148\n",
      "16    2011-01-20 16:00:00    166\n",
      "17    2011-01-20 17:00:00    118\n",
      "18    2011-01-20 18:00:00    167\n",
      "19    2011-01-20 19:00:00    169\n",
      "20    2011-01-20 20:00:00    148\n",
      "21    2011-01-20 21:00:00    129\n",
      "22    2011-01-20 22:00:00    180\n",
      "23    2011-01-20 23:00:00    173\n",
      "24    2011-01-21 00:00:00    232\n",
      "25    2011-01-21 01:00:00    232\n",
      "26    2011-01-21 02:00:00     56\n",
      "27    2011-01-21 03:00:00     66\n",
      "28    2011-01-21 04:00:00     37\n",
      "29    2011-01-21 05:00:00    147\n",
      "...                   ...    ...\n",
      "6463  2012-12-30 18:00:00     62\n",
      "6464  2012-12-30 19:00:00     52\n",
      "6465  2012-12-30 20:00:00     96\n",
      "6466  2012-12-30 21:00:00     35\n",
      "6467  2012-12-30 22:00:00     50\n",
      "6468  2012-12-30 23:00:00     62\n",
      "6469  2012-12-31 00:00:00     46\n",
      "6470  2012-12-31 01:00:00     46\n",
      "6471  2012-12-31 02:00:00    113\n",
      "6472  2012-12-31 03:00:00     27\n",
      "6473  2012-12-31 04:00:00     36\n",
      "6474  2012-12-31 05:00:00     71\n",
      "6475  2012-12-31 06:00:00     95\n",
      "6476  2012-12-31 07:00:00     41\n",
      "6477  2012-12-31 08:00:00     53\n",
      "6478  2012-12-31 09:00:00     64\n",
      "6479  2012-12-31 10:00:00     56\n",
      "6480  2012-12-31 11:00:00    189\n",
      "6481  2012-12-31 12:00:00    182\n",
      "6482  2012-12-31 13:00:00    145\n",
      "6483  2012-12-31 14:00:00     79\n",
      "6484  2012-12-31 15:00:00    139\n",
      "6485  2012-12-31 16:00:00    127\n",
      "6486  2012-12-31 17:00:00    122\n",
      "6487  2012-12-31 18:00:00    110\n",
      "6488  2012-12-31 19:00:00    158\n",
      "6489  2012-12-31 20:00:00    158\n",
      "6490  2012-12-31 21:00:00     77\n",
      "6491  2012-12-31 22:00:00     41\n",
      "6492  2012-12-31 23:00:00     15\n",
      "\n",
      "[6493 rows x 2 columns]\n"
     ]
    }
   ],
   "source": [
    "#print(submission)\n",
    "a=submission['count']\n",
    "del submission['count']\n",
    "submission['count']=a\n",
    "print(submission)"
   ]
  },
  {
   "cell_type": "code",
   "execution_count": 80,
   "metadata": {
    "collapsed": true
   },
   "outputs": [],
   "source": [
    "submission.to_csv('out.csv',index=False\n",
    "                 )"
   ]
  },
  {
   "cell_type": "code",
   "execution_count": 81,
   "metadata": {
    "collapsed": true
   },
   "outputs": [],
   "source": [
    "sample=pd.read_csv('out.csv')"
   ]
  },
  {
   "cell_type": "code",
   "execution_count": 82,
   "metadata": {},
   "outputs": [
    {
     "name": "stdout",
     "output_type": "stream",
     "text": [
      "              datetime  count\n",
      "0  2011-01-20 00:00:00    217\n",
      "1  2011-01-20 01:00:00     84\n",
      "2  2011-01-20 02:00:00     84\n",
      "3  2011-01-20 03:00:00    101\n",
      "4  2011-01-20 04:00:00    101\n"
     ]
    }
   ],
   "source": [
    "print(sample.head())"
   ]
  },
  {
   "cell_type": "code",
   "execution_count": 84,
   "metadata": {},
   "outputs": [
    {
     "name": "stdout",
     "output_type": "stream",
     "text": [
      "              datetime  season  holiday  workingday  weather   temp   atemp  \\\n",
      "0  2011-01-01 00:00:00       1        0           0        1   9.84  14.395   \n",
      "1  2011-01-01 01:00:00       1        0           0        1   9.02  13.635   \n",
      "2  2011-01-01 02:00:00       1        0           0        1   9.02  13.635   \n",
      "3  2011-01-01 03:00:00       1        0           0        1   9.84  14.395   \n",
      "4  2011-01-01 04:00:00       1        0           0        1   9.84  14.395   \n",
      "5  2011-01-01 05:00:00       1        0           0        2   9.84  12.880   \n",
      "6  2011-01-01 06:00:00       1        0           0        1   9.02  13.635   \n",
      "7  2011-01-01 07:00:00       1        0           0        1   8.20  12.880   \n",
      "8  2011-01-01 08:00:00       1        0           0        1   9.84  14.395   \n",
      "9  2011-01-01 09:00:00       1        0           0        1  13.12  17.425   \n",
      "\n",
      "   humidity  windspeed  casual  registered  count  \n",
      "0        81     0.0000       3          13     16  \n",
      "1        80     0.0000       8          32     40  \n",
      "2        80     0.0000       5          27     32  \n",
      "3        75     0.0000       3          10     13  \n",
      "4        75     0.0000       0           1      1  \n",
      "5        75     6.0032       0           1      1  \n",
      "6        80     0.0000       2           0      2  \n",
      "7        86     0.0000       1           2      3  \n",
      "8        75     0.0000       1           7      8  \n",
      "9        76     0.0000       8           6     14  \n"
     ]
    }
   ],
   "source": [
    "print(train_set.head(10))"
   ]
  },
  {
   "cell_type": "code",
   "execution_count": 85,
   "metadata": {},
   "outputs": [
    {
     "name": "stdout",
     "output_type": "stream",
     "text": [
      "              datetime  season  holiday  workingday  weather   temp   atemp  \\\n",
      "0  2011-01-20 00:00:00       1        0           1        1  10.66  11.365   \n",
      "1  2011-01-20 01:00:00       1        0           1        1  10.66  13.635   \n",
      "2  2011-01-20 02:00:00       1        0           1        1  10.66  13.635   \n",
      "3  2011-01-20 03:00:00       1        0           1        1  10.66  12.880   \n",
      "4  2011-01-20 04:00:00       1        0           1        1  10.66  12.880   \n",
      "\n",
      "   humidity  windspeed  \n",
      "0        56    26.0027  \n",
      "1        56     0.0000  \n",
      "2        56     0.0000  \n",
      "3        56    11.0014  \n",
      "4        56    11.0014  \n"
     ]
    }
   ],
   "source": [
    "print(test_set.head())"
   ]
  },
  {
   "cell_type": "code",
   "execution_count": 89,
   "metadata": {},
   "outputs": [
    {
     "name": "stdout",
     "output_type": "stream",
     "text": [
      "[1 2 3 4]\n",
      "[0 1]\n",
      "[1 2 3 4]\n",
      "0         True\n",
      "1         True\n",
      "2         True\n",
      "3         True\n",
      "4         True\n",
      "5        False\n",
      "6         True\n",
      "7         True\n",
      "8         True\n",
      "9         True\n",
      "10        True\n",
      "11        True\n",
      "12        True\n",
      "13       False\n",
      "14       False\n",
      "15       False\n",
      "16       False\n",
      "17       False\n",
      "18       False\n",
      "19       False\n",
      "20       False\n",
      "21       False\n",
      "22       False\n",
      "23       False\n",
      "24       False\n",
      "25       False\n",
      "26       False\n",
      "27       False\n",
      "28       False\n",
      "29       False\n",
      "         ...  \n",
      "10856    False\n",
      "10857    False\n",
      "10858    False\n",
      "10859    False\n",
      "10860    False\n",
      "10861    False\n",
      "10862    False\n",
      "10863    False\n",
      "10864    False\n",
      "10865    False\n",
      "10866    False\n",
      "10867    False\n",
      "10868    False\n",
      "10869    False\n",
      "10870    False\n",
      "10871    False\n",
      "10872    False\n",
      "10873    False\n",
      "10874    False\n",
      "10875    False\n",
      "10876    False\n",
      "10877    False\n",
      "10878    False\n",
      "10879    False\n",
      "10880    False\n",
      "10881    False\n",
      "10882    False\n",
      "10883    False\n",
      "10884    False\n",
      "10885    False\n",
      "Length: 10886, dtype: bool\n"
     ]
    }
   ],
   "source": [
    "print(train_set['season'].unique())\n",
    "print(train_set['holiday'].unique())\n",
    "print(train_set['weather'].unique())\n",
    "#print(train_set['season'] == train_set['weather'])"
   ]
  },
  {
   "cell_type": "code",
   "execution_count": 90,
   "metadata": {
    "collapsed": true
   },
   "outputs": [],
   "source": [
    "from sklearn import preprocessing"
   ]
  },
  {
   "cell_type": "code",
   "execution_count": 93,
   "metadata": {},
   "outputs": [
    {
     "name": "stdout",
     "output_type": "stream",
     "text": [
      "   season  holiday  workingday  weather  temp   atemp  humidity  windspeed  \\\n",
      "0       1        0           0        1  9.84  14.395        81        0.0   \n",
      "1       1        0           0        1  9.02  13.635        80        0.0   \n",
      "2       1        0           0        1  9.02  13.635        80        0.0   \n",
      "3       1        0           0        1  9.84  14.395        75        0.0   \n",
      "4       1        0           0        1  9.84  14.395        75        0.0   \n",
      "\n",
      "   casual  registered  \n",
      "0       3          13  \n",
      "1       8          32  \n",
      "2       5          27  \n",
      "3       3          10  \n",
      "4       0           1  \n"
     ]
    }
   ],
   "source": [
    "print(train.head())"
   ]
  },
  {
   "cell_type": "code",
   "execution_count": 94,
   "metadata": {},
   "outputs": [],
   "source": [
    "train=preprocessing.scale(train)"
   ]
  },
  {
   "cell_type": "code",
   "execution_count": 95,
   "metadata": {
    "collapsed": true
   },
   "outputs": [],
   "source": [
    "test=preprocessing.scale(test)"
   ]
  },
  {
   "cell_type": "code",
   "execution_count": 96,
   "metadata": {
    "collapsed": true
   },
   "outputs": [],
   "source": [
    "x_train,x_test,y_train,y_test=train_test_split(train,y,test_size=0.1)"
   ]
  },
  {
   "cell_type": "code",
   "execution_count": 97,
   "metadata": {
    "collapsed": true
   },
   "outputs": [],
   "source": [
    "clf=XGBRegressor()"
   ]
  },
  {
   "cell_type": "code",
   "execution_count": 98,
   "metadata": {},
   "outputs": [
    {
     "data": {
      "text/plain": [
       "XGBRegressor(base_score=0.5, colsample_bylevel=1, colsample_bytree=1, gamma=0,\n",
       "       learning_rate=0.1, max_delta_step=0, max_depth=3,\n",
       "       min_child_weight=1, missing=None, n_estimators=100, nthread=-1,\n",
       "       objective='reg:linear', reg_alpha=0, reg_lambda=1,\n",
       "       scale_pos_weight=1, seed=0, silent=True, subsample=1)"
      ]
     },
     "execution_count": 98,
     "metadata": {},
     "output_type": "execute_result"
    }
   ],
   "source": [
    "clf.fit(x_train,y_train)"
   ]
  },
  {
   "cell_type": "code",
   "execution_count": 99,
   "metadata": {},
   "outputs": [
    {
     "data": {
      "text/plain": [
       "0.99916515511375925"
      ]
     },
     "execution_count": 99,
     "metadata": {},
     "output_type": "execute_result"
    }
   ],
   "source": [
    "clf.score(x_test,y_test)"
   ]
  },
  {
   "cell_type": "code",
   "execution_count": null,
   "metadata": {
    "collapsed": true
   },
   "outputs": [],
   "source": []
  },
  {
   "cell_type": "code",
   "execution_count": 101,
   "metadata": {},
   "outputs": [
    {
     "name": "stdout",
     "output_type": "stream",
     "text": [
      "Index(['datetime', 'season', 'holiday', 'workingday', 'weather', 'temp',\n",
      "       'atemp', 'humidity', 'windspeed', 'casual', 'registered', 'count'],\n",
      "      dtype='object')\n"
     ]
    }
   ],
   "source": [
    "print(train_set.columns)"
   ]
  },
  {
   "cell_type": "code",
   "execution_count": 102,
   "metadata": {},
   "outputs": [
    {
     "name": "stdout",
     "output_type": "stream",
     "text": [
      "              datetime  season  holiday  workingday  weather  temp   atemp  \\\n",
      "0  2011-01-01 00:00:00       1        0           0        1  9.84  14.395   \n",
      "1  2011-01-01 01:00:00       1        0           0        1  9.02  13.635   \n",
      "2  2011-01-01 02:00:00       1        0           0        1  9.02  13.635   \n",
      "3  2011-01-01 03:00:00       1        0           0        1  9.84  14.395   \n",
      "4  2011-01-01 04:00:00       1        0           0        1  9.84  14.395   \n",
      "\n",
      "   humidity  windspeed  casual  registered  count  \n",
      "0        81        0.0       3          13     16  \n",
      "1        80        0.0       8          32     40  \n",
      "2        80        0.0       5          27     32  \n",
      "3        75        0.0       3          10     13  \n",
      "4        75        0.0       0           1      1  \n"
     ]
    }
   ],
   "source": [
    "print(train_set.head())"
   ]
  },
  {
   "cell_type": "code",
   "execution_count": 103,
   "metadata": {
    "collapsed": true
   },
   "outputs": [],
   "source": [
    "features=['season', 'holiday', 'workingday', 'weather', 'temp',\n",
    "       'atemp', 'humidity', 'windspeed']\n",
    "target=['count']\n",
    "train=train_set[features]\n",
    "y=train_set[target]"
   ]
  },
  {
   "cell_type": "code",
   "execution_count": 110,
   "metadata": {
    "collapsed": true
   },
   "outputs": [],
   "source": [
    "test=test_set"
   ]
  },
  {
   "cell_type": "code",
   "execution_count": 105,
   "metadata": {},
   "outputs": [],
   "source": [
    "df=train_set['casual']+train_set['registered']"
   ]
  },
  {
   "cell_type": "code",
   "execution_count": 107,
   "metadata": {},
   "outputs": [
    {
     "name": "stderr",
     "output_type": "stream",
     "text": [
      "Exception ignored in: <bound method DMatrix.__del__ of <xgboost.core.DMatrix object at 0x7f6158a26cc0>>\n",
      "Traceback (most recent call last):\n",
      "  File \"/home/pritam/anaconda3/lib/python3.6/site-packages/xgboost/core.py\", line 324, in __del__\n",
      "    _check_call(_LIB.XGDMatrixFree(self.handle))\n",
      "AttributeError: 'DMatrix' object has no attribute 'handle'\n",
      "/home/pritam/anaconda3/lib/python3.6/site-packages/ipykernel_launcher.py:1: SettingWithCopyWarning: \n",
      "A value is trying to be set on a copy of a slice from a DataFrame.\n",
      "Try using .loc[row_indexer,col_indexer] = value instead\n",
      "\n",
      "See the caveats in the documentation: http://pandas.pydata.org/pandas-docs/stable/indexing.html#indexing-view-versus-copy\n",
      "  \"\"\"Entry point for launching an IPython kernel.\n"
     ]
    }
   ],
   "source": [
    "train['reg']=df"
   ]
  },
  {
   "cell_type": "code",
   "execution_count": 108,
   "metadata": {},
   "outputs": [
    {
     "name": "stdout",
     "output_type": "stream",
     "text": [
      "   season  holiday  workingday  weather  temp   atemp  humidity  windspeed  \\\n",
      "0       1        0           0        1  9.84  14.395        81        0.0   \n",
      "1       1        0           0        1  9.02  13.635        80        0.0   \n",
      "2       1        0           0        1  9.02  13.635        80        0.0   \n",
      "3       1        0           0        1  9.84  14.395        75        0.0   \n",
      "4       1        0           0        1  9.84  14.395        75        0.0   \n",
      "\n",
      "   reg  \n",
      "0   16  \n",
      "1   40  \n",
      "2   32  \n",
      "3   13  \n",
      "4    1  \n"
     ]
    }
   ],
   "source": [
    "print(train.head())"
   ]
  },
  {
   "cell_type": "code",
   "execution_count": 114,
   "metadata": {},
   "outputs": [
    {
     "data": {
      "text/html": [
       "<div>\n",
       "<style>\n",
       "    .dataframe thead tr:only-child th {\n",
       "        text-align: right;\n",
       "    }\n",
       "\n",
       "    .dataframe thead th {\n",
       "        text-align: left;\n",
       "    }\n",
       "\n",
       "    .dataframe tbody tr th {\n",
       "        vertical-align: top;\n",
       "    }\n",
       "</style>\n",
       "<table border=\"1\" class=\"dataframe\">\n",
       "  <thead>\n",
       "    <tr style=\"text-align: right;\">\n",
       "      <th></th>\n",
       "      <th>season</th>\n",
       "      <th>holiday</th>\n",
       "      <th>workingday</th>\n",
       "      <th>weather</th>\n",
       "      <th>temp</th>\n",
       "      <th>atemp</th>\n",
       "      <th>humidity</th>\n",
       "      <th>windspeed</th>\n",
       "    </tr>\n",
       "  </thead>\n",
       "  <tbody>\n",
       "    <tr>\n",
       "      <th>0</th>\n",
       "      <td>1</td>\n",
       "      <td>0</td>\n",
       "      <td>1</td>\n",
       "      <td>1</td>\n",
       "      <td>10.66</td>\n",
       "      <td>11.365</td>\n",
       "      <td>56</td>\n",
       "      <td>26.0027</td>\n",
       "    </tr>\n",
       "    <tr>\n",
       "      <th>1</th>\n",
       "      <td>1</td>\n",
       "      <td>0</td>\n",
       "      <td>1</td>\n",
       "      <td>1</td>\n",
       "      <td>10.66</td>\n",
       "      <td>13.635</td>\n",
       "      <td>56</td>\n",
       "      <td>0.0000</td>\n",
       "    </tr>\n",
       "    <tr>\n",
       "      <th>2</th>\n",
       "      <td>1</td>\n",
       "      <td>0</td>\n",
       "      <td>1</td>\n",
       "      <td>1</td>\n",
       "      <td>10.66</td>\n",
       "      <td>13.635</td>\n",
       "      <td>56</td>\n",
       "      <td>0.0000</td>\n",
       "    </tr>\n",
       "    <tr>\n",
       "      <th>3</th>\n",
       "      <td>1</td>\n",
       "      <td>0</td>\n",
       "      <td>1</td>\n",
       "      <td>1</td>\n",
       "      <td>10.66</td>\n",
       "      <td>12.880</td>\n",
       "      <td>56</td>\n",
       "      <td>11.0014</td>\n",
       "    </tr>\n",
       "    <tr>\n",
       "      <th>4</th>\n",
       "      <td>1</td>\n",
       "      <td>0</td>\n",
       "      <td>1</td>\n",
       "      <td>1</td>\n",
       "      <td>10.66</td>\n",
       "      <td>12.880</td>\n",
       "      <td>56</td>\n",
       "      <td>11.0014</td>\n",
       "    </tr>\n",
       "  </tbody>\n",
       "</table>\n",
       "</div>"
      ],
      "text/plain": [
       "   season  holiday  workingday  weather   temp   atemp  humidity  windspeed\n",
       "0       1        0           1        1  10.66  11.365        56    26.0027\n",
       "1       1        0           1        1  10.66  13.635        56     0.0000\n",
       "2       1        0           1        1  10.66  13.635        56     0.0000\n",
       "3       1        0           1        1  10.66  12.880        56    11.0014\n",
       "4       1        0           1        1  10.66  12.880        56    11.0014"
      ]
     },
     "execution_count": 114,
     "metadata": {},
     "output_type": "execute_result"
    }
   ],
   "source": [
    "test.head()"
   ]
  },
  {
   "cell_type": "code",
   "execution_count": 115,
   "metadata": {
    "collapsed": true
   },
   "outputs": [],
   "source": [
    "test['reg']=df"
   ]
  },
  {
   "cell_type": "code",
   "execution_count": 116,
   "metadata": {},
   "outputs": [
    {
     "name": "stdout",
     "output_type": "stream",
     "text": [
      "   season  holiday  workingday  weather   temp   atemp  humidity  windspeed  \\\n",
      "0       1        0           1        1  10.66  11.365        56    26.0027   \n",
      "1       1        0           1        1  10.66  13.635        56     0.0000   \n",
      "2       1        0           1        1  10.66  13.635        56     0.0000   \n",
      "3       1        0           1        1  10.66  12.880        56    11.0014   \n",
      "4       1        0           1        1  10.66  12.880        56    11.0014   \n",
      "\n",
      "   reg  \n",
      "0   16  \n",
      "1   40  \n",
      "2   32  \n",
      "3   13  \n",
      "4    1  \n"
     ]
    }
   ],
   "source": [
    "print(test.head())"
   ]
  },
  {
   "cell_type": "code",
   "execution_count": 118,
   "metadata": {},
   "outputs": [
    {
     "name": "stdout",
     "output_type": "stream",
     "text": [
      "   count\n",
      "0     16\n",
      "1     40\n",
      "2     32\n",
      "3     13\n",
      "4      1\n"
     ]
    }
   ],
   "source": [
    "print(y.head())"
   ]
  },
  {
   "cell_type": "code",
   "execution_count": 119,
   "metadata": {},
   "outputs": [
    {
     "name": "stdout",
     "output_type": "stream",
     "text": [
      "   season  holiday  workingday  weather  temp   atemp  humidity  windspeed  \\\n",
      "0       1        0           0        1  9.84  14.395        81        0.0   \n",
      "1       1        0           0        1  9.02  13.635        80        0.0   \n",
      "2       1        0           0        1  9.02  13.635        80        0.0   \n",
      "3       1        0           0        1  9.84  14.395        75        0.0   \n",
      "4       1        0           0        1  9.84  14.395        75        0.0   \n",
      "\n",
      "   reg  \n",
      "0   16  \n",
      "1   40  \n",
      "2   32  \n",
      "3   13  \n",
      "4    1  \n"
     ]
    }
   ],
   "source": [
    "print(train.head())"
   ]
  },
  {
   "cell_type": "code",
   "execution_count": 120,
   "metadata": {
    "collapsed": true
   },
   "outputs": [],
   "source": [
    "a=train['holiday']-train['workingday']"
   ]
  },
  {
   "cell_type": "code",
   "execution_count": 121,
   "metadata": {
    "collapsed": true
   },
   "outputs": [],
   "source": [
    "del train['holiday'],train['workingday']\n",
    "del test['holiday'],test['workingday']"
   ]
  },
  {
   "cell_type": "code",
   "execution_count": 123,
   "metadata": {},
   "outputs": [
    {
     "name": "stdout",
     "output_type": "stream",
     "text": [
      "   season  weather   temp   atemp  humidity  windspeed  reg\n",
      "0       1        1  10.66  11.365        56    26.0027   16\n",
      "1       1        1  10.66  13.635        56     0.0000   40\n",
      "2       1        1  10.66  13.635        56     0.0000   32\n",
      "3       1        1  10.66  12.880        56    11.0014   13\n",
      "4       1        1  10.66  12.880        56    11.0014    1\n"
     ]
    }
   ],
   "source": [
    "#print(train.head())\n",
    "print(test.head())"
   ]
  },
  {
   "cell_type": "code",
   "execution_count": 124,
   "metadata": {},
   "outputs": [
    {
     "name": "stderr",
     "output_type": "stream",
     "text": [
      "/home/pritam/anaconda3/lib/python3.6/site-packages/ipykernel_launcher.py:2: SettingWithCopyWarning: \n",
      "A value is trying to be set on a copy of a slice from a DataFrame.\n",
      "Try using .loc[row_indexer,col_indexer] = value instead\n",
      "\n",
      "See the caveats in the documentation: http://pandas.pydata.org/pandas-docs/stable/indexing.html#indexing-view-versus-copy\n",
      "  \n"
     ]
    }
   ],
   "source": [
    "test['day']=a\n",
    "train['day']=a\n"
   ]
  },
  {
   "cell_type": "code",
   "execution_count": 125,
   "metadata": {},
   "outputs": [
    {
     "name": "stdout",
     "output_type": "stream",
     "text": [
      "   season  weather  temp   atemp  humidity  windspeed  reg  day\n",
      "0       1        1  9.84  14.395        81        0.0   16    0\n",
      "1       1        1  9.02  13.635        80        0.0   40    0\n",
      "2       1        1  9.02  13.635        80        0.0   32    0\n",
      "3       1        1  9.84  14.395        75        0.0   13    0\n",
      "4       1        1  9.84  14.395        75        0.0    1    0\n",
      "   season  weather   temp   atemp  humidity  windspeed  reg  day\n",
      "0       1        1  10.66  11.365        56    26.0027   16    0\n",
      "1       1        1  10.66  13.635        56     0.0000   40    0\n",
      "2       1        1  10.66  13.635        56     0.0000   32    0\n",
      "3       1        1  10.66  12.880        56    11.0014   13    0\n",
      "4       1        1  10.66  12.880        56    11.0014    1    0\n"
     ]
    }
   ],
   "source": [
    "print(train.head())\n",
    "print(test.head())"
   ]
  },
  {
   "cell_type": "code",
   "execution_count": 126,
   "metadata": {
    "collapsed": true
   },
   "outputs": [],
   "source": [
    "train=preprocessing.scale(train)"
   ]
  },
  {
   "cell_type": "code",
   "execution_count": 127,
   "metadata": {
    "collapsed": true
   },
   "outputs": [],
   "source": [
    "test=preprocessing.scale(test)"
   ]
  },
  {
   "cell_type": "code",
   "execution_count": 128,
   "metadata": {
    "collapsed": true
   },
   "outputs": [],
   "source": [
    "x_train,x_test,y_train,y_test=train_test_split(train,y,test_size=0.1)"
   ]
  },
  {
   "cell_type": "code",
   "execution_count": 129,
   "metadata": {},
   "outputs": [
    {
     "data": {
      "text/plain": [
       "XGBRegressor(base_score=0.5, colsample_bylevel=1, colsample_bytree=1, gamma=0,\n",
       "       learning_rate=0.1, max_delta_step=0, max_depth=3,\n",
       "       min_child_weight=1, missing=None, n_estimators=100, nthread=-1,\n",
       "       objective='reg:linear', reg_alpha=0, reg_lambda=1,\n",
       "       scale_pos_weight=1, seed=0, silent=True, subsample=1)"
      ]
     },
     "execution_count": 129,
     "metadata": {},
     "output_type": "execute_result"
    }
   ],
   "source": [
    "clf.fit(x_train,y_train)"
   ]
  },
  {
   "cell_type": "code",
   "execution_count": 130,
   "metadata": {},
   "outputs": [
    {
     "data": {
      "text/plain": [
       "0.99994307203534438"
      ]
     },
     "execution_count": 130,
     "metadata": {},
     "output_type": "execute_result"
    }
   ],
   "source": [
    "clf.score(x_test,y_test)"
   ]
  },
  {
   "cell_type": "code",
   "execution_count": 132,
   "metadata": {},
   "outputs": [
    {
     "name": "stdout",
     "output_type": "stream",
     "text": [
      "[  17.32672119   51.49045181   37.99954224 ...,  386.70986938  831.76489258\n",
      "  740.37060547]\n"
     ]
    }
   ],
   "source": [
    "prediction=clf.predict(test)\n",
    "print(prediction)"
   ]
  },
  {
   "cell_type": "code",
   "execution_count": 148,
   "metadata": {},
   "outputs": [],
   "source": [
    "submission=[]\n",
    "for i in prediction:\n",
    "    a=math.floor(i)\n",
    "    submission.append(a)\n",
    "#print(submission)"
   ]
  },
  {
   "cell_type": "code",
   "execution_count": 149,
   "metadata": {},
   "outputs": [
    {
     "name": "stdout",
     "output_type": "stream",
     "text": [
      "              datetime  season  holiday  workingday  weather   temp   atemp  \\\n",
      "0  2011-01-20 00:00:00       1        0           1        1  10.66  11.365   \n",
      "1  2011-01-20 01:00:00       1        0           1        1  10.66  13.635   \n",
      "2  2011-01-20 02:00:00       1        0           1        1  10.66  13.635   \n",
      "3  2011-01-20 03:00:00       1        0           1        1  10.66  12.880   \n",
      "4  2011-01-20 04:00:00       1        0           1        1  10.66  12.880   \n",
      "\n",
      "   humidity  windspeed  \n",
      "0        56    26.0027  \n",
      "1        56     0.0000  \n",
      "2        56     0.0000  \n",
      "3        56    11.0014  \n",
      "4        56    11.0014  \n"
     ]
    }
   ],
   "source": [
    "print(test_set.head())"
   ]
  },
  {
   "cell_type": "code",
   "execution_count": 150,
   "metadata": {
    "collapsed": true
   },
   "outputs": [],
   "source": [
    "test_set=pd.read_csv('test _bike_sharing.csv')"
   ]
  },
  {
   "cell_type": "code",
   "execution_count": 151,
   "metadata": {
    "collapsed": true
   },
   "outputs": [],
   "source": [
    "a=test_set['datetime']"
   ]
  },
  {
   "cell_type": "code",
   "execution_count": 152,
   "metadata": {
    "collapsed": true
   },
   "outputs": [],
   "source": [
    "submission={\"count\":submission,\"datetime\":a}\n",
    "submission=pd.DataFrame(submission)"
   ]
  },
  {
   "cell_type": "code",
   "execution_count": 153,
   "metadata": {},
   "outputs": [
    {
     "name": "stdout",
     "output_type": "stream",
     "text": [
      "                 datetime  count\n",
      "0     2011-01-20 00:00:00     17\n",
      "1     2011-01-20 01:00:00     51\n",
      "2     2011-01-20 02:00:00     37\n",
      "3     2011-01-20 03:00:00     13\n",
      "4     2011-01-20 04:00:00      1\n",
      "5     2011-01-20 05:00:00      1\n",
      "6     2011-01-20 06:00:00      1\n",
      "7     2011-01-20 07:00:00      1\n",
      "8     2011-01-20 08:00:00      6\n",
      "9     2011-01-20 09:00:00     15\n",
      "10    2011-01-20 10:00:00     45\n",
      "11    2011-01-20 11:00:00     71\n",
      "12    2011-01-20 12:00:00    107\n",
      "13    2011-01-20 13:00:00    123\n",
      "14    2011-01-20 14:00:00    138\n",
      "15    2011-01-20 15:00:00    146\n",
      "16    2011-01-20 16:00:00    123\n",
      "17    2011-01-20 17:00:00     87\n",
      "18    2011-01-20 18:00:00     41\n",
      "19    2011-01-20 19:00:00     45\n",
      "20    2011-01-20 20:00:00     45\n",
      "21    2011-01-20 21:00:00     41\n",
      "22    2011-01-20 22:00:00     33\n",
      "23    2011-01-20 23:00:00     51\n",
      "24    2011-01-21 00:00:00     19\n",
      "25    2011-01-21 01:00:00     19\n",
      "26    2011-01-21 02:00:00      8\n",
      "27    2011-01-21 03:00:00      4\n",
      "28    2011-01-21 04:00:00      1\n",
      "29    2011-01-21 05:00:00      1\n",
      "...                   ...    ...\n",
      "6463  2012-12-30 18:00:00    222\n",
      "6464  2012-12-30 19:00:00    180\n",
      "6465  2012-12-30 20:00:00    222\n",
      "6466  2012-12-30 21:00:00    334\n",
      "6467  2012-12-30 22:00:00    599\n",
      "6468  2012-12-30 23:00:00    613\n",
      "6469  2012-12-31 00:00:00    386\n",
      "6470  2012-12-31 01:00:00    248\n",
      "6471  2012-12-31 02:00:00    196\n",
      "6472  2012-12-31 03:00:00    138\n",
      "6473  2012-12-31 04:00:00     71\n",
      "6474  2012-12-31 05:00:00     15\n",
      "6475  2012-12-31 06:00:00      2\n",
      "6476  2012-12-31 07:00:00      1\n",
      "6477  2012-12-31 08:00:00      1\n",
      "6478  2012-12-31 09:00:00      1\n",
      "6479  2012-12-31 10:00:00     20\n",
      "6480  2012-12-31 11:00:00    143\n",
      "6481  2012-12-31 12:00:00    469\n",
      "6482  2012-12-31 13:00:00    773\n",
      "6483  2012-12-31 14:00:00    357\n",
      "6484  2012-12-31 15:00:00    196\n",
      "6485  2012-12-31 16:00:00    215\n",
      "6486  2012-12-31 17:00:00    286\n",
      "6487  2012-12-31 18:00:00    272\n",
      "6488  2012-12-31 19:00:00    235\n",
      "6489  2012-12-31 20:00:00    281\n",
      "6490  2012-12-31 21:00:00    386\n",
      "6491  2012-12-31 22:00:00    831\n",
      "6492  2012-12-31 23:00:00    740\n",
      "\n",
      "[6493 rows x 2 columns]\n"
     ]
    }
   ],
   "source": [
    "\n",
    "a=submission['count']\n",
    "del submission['count']\n",
    "submission['count']=a\n",
    "print(submission)"
   ]
  },
  {
   "cell_type": "code",
   "execution_count": 154,
   "metadata": {
    "collapsed": true
   },
   "outputs": [],
   "source": [
    "submission.to_csv('out.csv',index=False)"
   ]
  },
  {
   "cell_type": "code",
   "execution_count": null,
   "metadata": {
    "collapsed": true
   },
   "outputs": [],
   "source": []
  }
 ],
 "metadata": {
  "kernelspec": {
   "display_name": "Python 3",
   "language": "python",
   "name": "python3"
  },
  "language_info": {
   "codemirror_mode": {
    "name": "ipython",
    "version": 3
   },
   "file_extension": ".py",
   "mimetype": "text/x-python",
   "name": "python",
   "nbconvert_exporter": "python",
   "pygments_lexer": "ipython3",
   "version": "3.6.3"
  }
 },
 "nbformat": 4,
 "nbformat_minor": 2
}
