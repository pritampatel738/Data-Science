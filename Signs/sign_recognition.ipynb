{
 "cells": [
  {
   "cell_type": "code",
   "execution_count": 1,
   "metadata": {},
   "outputs": [
    {
     "name": "stderr",
     "output_type": "stream",
     "text": [
      "Using TensorFlow backend.\n"
     ]
    }
   ],
   "source": [
    "import pandas as pd\n",
    "import numpy as np\n",
    "import matplotlib.pyplot as plt\n",
    "%matplotlib inline\n",
    "from keras.preprocessing.image import load_img,img_to_array\n",
    "from keras.layers import Conv2D,Dense,Flatten,Activation,MaxPool2D,BatchNormalization\n",
    "from keras.models import Sequential\n",
    "import keras.backend as K"
   ]
  },
  {
   "cell_type": "code",
   "execution_count": 2,
   "metadata": {
    "collapsed": true
   },
   "outputs": [],
   "source": [
    "train = pd.read_csv('sign_mnist_train.csv')"
   ]
  },
  {
   "cell_type": "code",
   "execution_count": 3,
   "metadata": {},
   "outputs": [
    {
     "name": "stdout",
     "output_type": "stream",
     "text": [
      "   label  pixel1  pixel2  pixel3  pixel4  pixel5  pixel6  pixel7  pixel8  \\\n",
      "0      3     107     118     127     134     139     143     146     150   \n",
      "1      6     155     157     156     156     156     157     156     158   \n",
      "2      2     187     188     188     187     187     186     187     188   \n",
      "3      2     211     211     212     212     211     210     211     210   \n",
      "4     13     164     167     170     172     176     179     180     184   \n",
      "\n",
      "   pixel9    ...     pixel775  pixel776  pixel777  pixel778  pixel779  \\\n",
      "0     153    ...          207       207       207       207       206   \n",
      "1     158    ...           69       149       128        87        94   \n",
      "2     187    ...          202       201       200       199       198   \n",
      "3     210    ...          235       234       233       231       230   \n",
      "4     185    ...           92       105       105       108       133   \n",
      "\n",
      "   pixel780  pixel781  pixel782  pixel783  pixel784  \n",
      "0       206       206       204       203       202  \n",
      "1       163       175       103       135       149  \n",
      "2       199       198       195       194       195  \n",
      "3       226       225       222       229       163  \n",
      "4       163       157       163       164       179  \n",
      "\n",
      "[5 rows x 785 columns]\n"
     ]
    }
   ],
   "source": [
    "print(train.head())"
   ]
  },
  {
   "cell_type": "code",
   "execution_count": 4,
   "metadata": {},
   "outputs": [
    {
     "name": "stdout",
     "output_type": "stream",
     "text": [
      "(27455, 785)\n"
     ]
    }
   ],
   "source": [
    "# this is already flattened\n",
    "print(train.shape)"
   ]
  },
  {
   "cell_type": "markdown",
   "metadata": {},
   "source": [
    "# Splitting Data"
   ]
  },
  {
   "cell_type": "code",
   "execution_count": 5,
   "metadata": {
    "collapsed": true
   },
   "outputs": [],
   "source": [
    "y = train['label']\n",
    "x = train.drop(['label'],axis=1)"
   ]
  },
  {
   "cell_type": "code",
   "execution_count": null,
   "metadata": {
    "collapsed": true
   },
   "outputs": [],
   "source": []
  },
  {
   "cell_type": "code",
   "execution_count": 6,
   "metadata": {},
   "outputs": [
    {
     "name": "stdout",
     "output_type": "stream",
     "text": [
      "(27455,)\n",
      "(27455, 784)\n"
     ]
    }
   ],
   "source": [
    "print(y.shape)\n",
    "print(x.shape)"
   ]
  },
  {
   "cell_type": "code",
   "execution_count": 7,
   "metadata": {},
   "outputs": [
    {
     "name": "stderr",
     "output_type": "stream",
     "text": [
      "/home/pritam/anaconda3/lib/python3.6/site-packages/ipykernel_launcher.py:1: FutureWarning: reshape is deprecated and will raise in a subsequent release. Please use .values.reshape(...) instead\n",
      "  \"\"\"Entry point for launching an IPython kernel.\n"
     ]
    }
   ],
   "source": [
    "y = y.reshape(-1,1)"
   ]
  },
  {
   "cell_type": "code",
   "execution_count": 8,
   "metadata": {},
   "outputs": [],
   "source": [
    "from keras.utils.np_utils import to_categorical\n",
    "from sklearn.model_selection import train_test_split"
   ]
  },
  {
   "cell_type": "code",
   "execution_count": 9,
   "metadata": {
    "collapsed": true
   },
   "outputs": [],
   "source": [
    "y_cat = to_categorical(y)"
   ]
  },
  {
   "cell_type": "code",
   "execution_count": 10,
   "metadata": {},
   "outputs": [
    {
     "name": "stdout",
     "output_type": "stream",
     "text": [
      "(27455, 25)\n"
     ]
    }
   ],
   "source": [
    "print(y_cat.shape)"
   ]
  },
  {
   "cell_type": "code",
   "execution_count": 11,
   "metadata": {},
   "outputs": [
    {
     "name": "stdout",
     "output_type": "stream",
     "text": [
      "[ 3  6  2 13 16  8 22 18 10 20 17 19 21 23 24  1 12 11 15  4  0  5  7 14]\n"
     ]
    }
   ],
   "source": [
    "print(train['label'].unique())"
   ]
  },
  {
   "cell_type": "code",
   "execution_count": 12,
   "metadata": {
    "collapsed": true
   },
   "outputs": [],
   "source": [
    "x_train,x_test,y_train,y_test = train_test_split(x,y_cat,test_size=0.3)"
   ]
  },
  {
   "cell_type": "markdown",
   "metadata": {},
   "source": [
    "## Deep Model"
   ]
  },
  {
   "cell_type": "code",
   "execution_count": 13,
   "metadata": {},
   "outputs": [],
   "source": [
    "from keras.optimizers import Adam,RMSprop\n"
   ]
  },
  {
   "cell_type": "code",
   "execution_count": 14,
   "metadata": {},
   "outputs": [],
   "source": [
    "model = Sequential()\n",
    "\n",
    "model.add(Dense(128,input_shape=(784,),activation='relu'))\n",
    "\n",
    "model.add(BatchNormalization())\n",
    "model.add(Dense(100,activation='relu'))\n",
    "model.add(BatchNormalization())\n",
    "\n",
    "\n",
    "model.add(Dense(25,activation='softmax'))"
   ]
  },
  {
   "cell_type": "code",
   "execution_count": 15,
   "metadata": {},
   "outputs": [],
   "source": [
    "opt1 = Adam(lr=0.0001)\n",
    "opt2 = RMSprop(lr=0.0001)"
   ]
  },
  {
   "cell_type": "code",
   "execution_count": 16,
   "metadata": {
    "collapsed": true
   },
   "outputs": [],
   "source": [
    "model.compile(loss='categorical_crossentropy',optimizer=opt2,metrics=['accuracy'])"
   ]
  },
  {
   "cell_type": "code",
   "execution_count": 17,
   "metadata": {},
   "outputs": [
    {
     "name": "stdout",
     "output_type": "stream",
     "text": [
      "Epoch 1/15\n",
      "19218/19218 [==============================] - 5s 246us/step - loss: 2.1525 - acc: 0.3999\n",
      "Epoch 2/15\n",
      "19218/19218 [==============================] - 4s 230us/step - loss: 1.0744 - acc: 0.7377\n",
      "Epoch 3/15\n",
      "19218/19218 [==============================] - 4s 227us/step - loss: 0.6844 - acc: 0.8569\n",
      "Epoch 4/15\n",
      "19218/19218 [==============================] - 4s 234us/step - loss: 0.4567 - acc: 0.9170\n",
      "Epoch 5/15\n",
      "19218/19218 [==============================] - 5s 235us/step - loss: 0.3031 - acc: 0.9569\n",
      "Epoch 6/15\n",
      "19218/19218 [==============================] - 4s 226us/step - loss: 0.1965 - acc: 0.9775\n",
      "Epoch 7/15\n",
      "19218/19218 [==============================] - 5s 237us/step - loss: 0.1333 - acc: 0.9887\n",
      "Epoch 8/15\n",
      "19218/19218 [==============================] - 5s 243us/step - loss: 0.0943 - acc: 0.9938\n",
      "Epoch 9/15\n",
      "19218/19218 [==============================] - 5s 243us/step - loss: 0.0650 - acc: 0.9963\n",
      "Epoch 10/15\n",
      "19218/19218 [==============================] - 4s 234us/step - loss: 0.0485 - acc: 0.9978\n",
      "Epoch 11/15\n",
      "19218/19218 [==============================] - 4s 229us/step - loss: 0.0358 - acc: 0.9978\n",
      "Epoch 12/15\n",
      "19218/19218 [==============================] - 4s 231us/step - loss: 0.0289 - acc: 0.9982\n",
      "Epoch 13/15\n",
      "19218/19218 [==============================] - 5s 236us/step - loss: 0.0291 - acc: 0.9973\n",
      "Epoch 14/15\n",
      "19218/19218 [==============================] - 5s 239us/step - loss: 0.0208 - acc: 0.9985\n",
      "Epoch 15/15\n",
      "19218/19218 [==============================] - 4s 230us/step - loss: 0.0208 - acc: 0.9977\n"
     ]
    },
    {
     "data": {
      "text/plain": [
       "<keras.callbacks.History at 0x7fdf11796400>"
      ]
     },
     "execution_count": 17,
     "metadata": {},
     "output_type": "execute_result"
    }
   ],
   "source": [
    "model.fit(x_train,y_train,epochs=15,verbose=1)"
   ]
  },
  {
   "cell_type": "code",
   "execution_count": 19,
   "metadata": {},
   "outputs": [
    {
     "name": "stdout",
     "output_type": "stream",
     "text": [
      "8237/8237 [==============================] - 1s 91us/step\n"
     ]
    },
    {
     "data": {
      "text/plain": [
       "[0.086474240658140175, 0.97996843510987008]"
      ]
     },
     "execution_count": 19,
     "metadata": {},
     "output_type": "execute_result"
    }
   ],
   "source": [
    "model.evaluate(x_test,y_test)"
   ]
  },
  {
   "cell_type": "code",
   "execution_count": 20,
   "metadata": {
    "collapsed": true
   },
   "outputs": [],
   "source": [
    "pred = model.predict(x_test)"
   ]
  },
  {
   "cell_type": "code",
   "execution_count": 21,
   "metadata": {},
   "outputs": [
    {
     "name": "stdout",
     "output_type": "stream",
     "text": [
      "[[  4.72973802e-08   3.50165144e-02   4.31574290e-06   4.79695591e-04\n",
      "    3.12246702e-05   9.60340500e-01   4.09897446e-04   9.42258396e-08\n",
      "    3.52691102e-04   3.45836634e-05   4.77317553e-06   5.10521990e-04\n",
      "    1.49114089e-06   7.19151603e-06   2.02325646e-05   1.27981097e-04\n",
      "    3.51367163e-07   2.91281395e-07   8.80892730e-06   2.02612486e-04\n",
      "    4.00802004e-04   1.64141932e-06   4.92767754e-07   2.04080506e-03\n",
      "    2.42479655e-06]\n",
      " [  2.57530392e-05   4.94224485e-04   4.94173128e-06   9.61606565e-05\n",
      "    4.00575203e-07   1.38621360e-07   1.02512342e-06   2.16537751e-06\n",
      "    6.64350921e-07   4.41843004e-05   3.32216360e-03   4.51509441e-05\n",
      "    3.47548325e-06   5.52694197e-04   7.77285507e-08   1.24736982e-06\n",
      "    1.14294116e-05   4.04020935e-01   5.73854138e-08   4.25268894e-07\n",
      "    5.89071512e-01   2.11462157e-06   5.72765566e-06   2.26725987e-03\n",
      "    2.61525274e-05]\n",
      " [  1.53248687e-03   1.67959603e-04   4.36166651e-04   9.52243572e-04\n",
      "    7.99697184e-04   2.16377419e-04   2.13259505e-03   8.11252045e-04\n",
      "    1.64665584e-03   1.05167193e-04   9.71533445e-05   2.20024867e-05\n",
      "    1.62482145e-04   1.61301729e-03   1.42682140e-04   7.65247783e-03\n",
      "    2.91915552e-04   2.05464548e-05   9.43683326e-01   2.52711616e-04\n",
      "    1.01839134e-04   8.46230076e-04   3.86662781e-04   2.88490020e-03\n",
      "    3.30414325e-02]\n",
      " [  1.13304145e-06   1.19410593e-04   2.64735700e-05   2.97494398e-06\n",
      "    2.79426246e-07   9.98624921e-01   1.76218640e-09   5.10611429e-08\n",
      "    2.59961070e-07   2.10136272e-06   6.98058924e-04   1.83559285e-04\n",
      "    1.84209181e-08   2.33803507e-06   9.75992225e-05   2.41172552e-06\n",
      "    5.95079257e-08   4.94899468e-05   1.06649321e-04   1.10539679e-06\n",
      "    3.39983416e-07   1.87413916e-05   7.26213969e-08   6.10535062e-05\n",
      "    8.03446653e-07]\n",
      " [  2.45586904e-07   1.09744542e-04   1.18315904e-06   1.74133515e-04\n",
      "    1.82456074e-06   5.28399141e-07   8.84891997e-05   6.75318006e-05\n",
      "    1.02754602e-05   1.06884672e-05   6.60687363e-07   6.63915171e-06\n",
      "    6.69860165e-05   1.37941511e-02   3.96911564e-05   6.55515905e-05\n",
      "    8.07655156e-01   3.76610272e-03   3.22965388e-09   1.48842065e-03\n",
      "    2.04987064e-05   4.51223627e-08   6.14042506e-09   1.72625661e-01\n",
      "    5.65344089e-06]\n",
      " [  4.34262759e-08   1.26865586e-07   5.71437386e-09   4.11550296e-08\n",
      "    7.57635732e-08   2.53237686e-05   4.43846560e-09   4.24041462e-11\n",
      "    8.36900217e-05   8.75104149e-08   8.96349717e-10   1.69298721e-06\n",
      "    2.24170682e-09   3.28043620e-06   6.96346425e-10   3.48071859e-04\n",
      "    5.03205033e-09   3.32536888e-06   1.31363553e-09   4.67703131e-07\n",
      "    6.55138699e-09   4.56720439e-10   1.65262293e-08   9.99533534e-01\n",
      "    1.15999484e-07]\n",
      " [  1.48828476e-04   6.58058212e-04   8.91585478e-06   7.23636616e-03\n",
      "    4.08466913e-05   1.63827838e-06   1.52988941e-05   4.47743730e-07\n",
      "    2.84457533e-03   2.87886942e-05   1.10121687e-06   5.09251724e-04\n",
      "    8.97514565e-06   5.32772020e-03   8.31906618e-07   1.65108184e-04\n",
      "    6.83008329e-05   1.83944628e-02   2.24510186e-05   1.19328387e-02\n",
      "    2.16489434e-06   1.30123965e-06   1.69402301e-05   4.03037033e-04\n",
      "    9.52161789e-01]\n",
      " [  7.14938651e-05   1.25026497e-06   9.32620196e-07   9.40519442e-07\n",
      "    9.29385260e-06   9.29722519e-05   8.87308573e-08   2.50923584e-08\n",
      "    2.35847051e-06   2.08336655e-06   3.60984882e-06   3.63164560e-07\n",
      "    9.04388726e-04   1.25096150e-04   4.49921799e-06   2.78555392e-03\n",
      "    9.94511843e-01   1.57841941e-06   1.44781207e-03   4.69948098e-08\n",
      "    2.76971150e-07   4.36542678e-06   2.76679984e-05   1.31173545e-06\n",
      "    1.33664997e-07]\n",
      " [  6.28473416e-08   4.66232080e-07   3.79038937e-07   7.64507888e-07\n",
      "    7.02515251e-07   9.21795487e-01   1.45604472e-05   2.37759279e-09\n",
      "    9.03921773e-06   3.81822565e-06   2.71701789e-03   5.72506222e-04\n",
      "    8.06766494e-08   7.98102690e-07   1.16484625e-06   4.21166886e-03\n",
      "    2.92508332e-07   6.38164729e-02   7.54120265e-05   2.58623984e-08\n",
      "    5.86890110e-07   8.33631191e-08   5.99375414e-03   7.73199252e-04\n",
      "    1.16398069e-05]\n",
      " [  3.31405516e-08   6.01345391e-07   1.25175788e-07   5.70579232e-06\n",
      "    4.78463456e-08   2.07553281e-08   3.83432251e-07   3.76426283e-06\n",
      "    2.21996979e-05   1.07197411e-06   3.40210633e-08   3.00841066e-06\n",
      "    5.27500488e-09   5.37380451e-09   6.59064403e-09   4.55282352e-05\n",
      "    3.61805792e-06   3.84524377e-08   8.34368685e-11   1.95783970e-04\n",
      "    1.61730256e-08   3.24568589e-07   9.92350369e-11   9.99715149e-01\n",
      "    2.47909179e-06]]\n"
     ]
    }
   ],
   "source": [
    "print(pred[:10])"
   ]
  },
  {
   "cell_type": "code",
   "execution_count": 23,
   "metadata": {},
   "outputs": [],
   "source": [
    "pred_final = np.argmax(pred,axis=1)"
   ]
  },
  {
   "cell_type": "code",
   "execution_count": 26,
   "metadata": {},
   "outputs": [
    {
     "name": "stdout",
     "output_type": "stream",
     "text": [
      "(8237,)\n",
      "8237\n"
     ]
    }
   ],
   "source": [
    "print(pred_final.shape)\n",
    "print(len(x_test))"
   ]
  },
  {
   "cell_type": "code",
   "execution_count": null,
   "metadata": {
    "collapsed": true
   },
   "outputs": [],
   "source": []
  },
  {
   "cell_type": "code",
   "execution_count": null,
   "metadata": {
    "collapsed": true
   },
   "outputs": [],
   "source": []
  },
  {
   "cell_type": "code",
   "execution_count": null,
   "metadata": {
    "collapsed": true
   },
   "outputs": [],
   "source": []
  },
  {
   "cell_type": "markdown",
   "metadata": {},
   "source": [
    "## With normalization of input x "
   ]
  },
  {
   "cell_type": "code",
   "execution_count": 27,
   "metadata": {},
   "outputs": [
    {
     "name": "stderr",
     "output_type": "stream",
     "text": [
      "/home/pritam/anaconda3/lib/python3.6/site-packages/ipykernel_launcher.py:3: FutureWarning: reshape is deprecated and will raise in a subsequent release. Please use .values.reshape(...) instead\n",
      "  This is separate from the ipykernel package so we can avoid doing imports until\n"
     ]
    }
   ],
   "source": [
    "x = train.drop(['label'],axis=1)\n",
    "y = train['label']\n",
    "y = y.reshape(-1,1)\n",
    "y_cat = to_categorical(y)"
   ]
  },
  {
   "cell_type": "code",
   "execution_count": 28,
   "metadata": {},
   "outputs": [
    {
     "name": "stdout",
     "output_type": "stream",
     "text": [
      "(27455, 784)\n",
      "(27455, 1)\n"
     ]
    }
   ],
   "source": [
    "print(x.shape)\n",
    "print(y.shape)"
   ]
  },
  {
   "cell_type": "code",
   "execution_count": 31,
   "metadata": {},
   "outputs": [],
   "source": [
    "x = x/255\n",
    "x_train,x_test , y_train , y_test = train_test_split(x,y_cat,test_size=0.3)"
   ]
  },
  {
   "cell_type": "code",
   "execution_count": 32,
   "metadata": {
    "collapsed": true
   },
   "outputs": [],
   "source": [
    "import time as time"
   ]
  },
  {
   "cell_type": "code",
   "execution_count": 45,
   "metadata": {},
   "outputs": [
    {
     "name": "stdout",
     "output_type": "stream",
     "text": [
      "Epoch 1/20\n",
      "19218/19218 [==============================] - 4s 215us/step - loss: 2.2353 - acc: 0.3318\n",
      "Epoch 2/20\n",
      "19218/19218 [==============================] - 4s 195us/step - loss: 1.3128 - acc: 0.5871\n",
      "Epoch 3/20\n",
      "19218/19218 [==============================] - 4s 195us/step - loss: 1.0303 - acc: 0.6689\n",
      "Epoch 4/20\n",
      "19218/19218 [==============================] - 4s 189us/step - loss: 0.8267 - acc: 0.7362\n",
      "Epoch 5/20\n",
      "19218/19218 [==============================] - 4s 196us/step - loss: 0.6833 - acc: 0.7844\n",
      "Epoch 6/20\n",
      "19218/19218 [==============================] - 4s 197us/step - loss: 0.5601 - acc: 0.8268\n",
      "Epoch 7/20\n",
      "19218/19218 [==============================] - 4s 202us/step - loss: 0.4678 - acc: 0.8531\n",
      "Epoch 8/20\n",
      "19218/19218 [==============================] - 4s 201us/step - loss: 0.3855 - acc: 0.8823\n",
      "Epoch 9/20\n",
      "19218/19218 [==============================] - 4s 192us/step - loss: 0.3260 - acc: 0.8998\n",
      "Epoch 10/20\n",
      "19218/19218 [==============================] - 4s 190us/step - loss: 0.2664 - acc: 0.9223\n",
      "Epoch 11/20\n",
      "19218/19218 [==============================] - 4s 213us/step - loss: 0.2175 - acc: 0.9379\n",
      "Epoch 12/20\n",
      "19218/19218 [==============================] - 4s 205us/step - loss: 0.1899 - acc: 0.9451\n",
      "Epoch 13/20\n",
      "19218/19218 [==============================] - 4s 197us/step - loss: 0.1609 - acc: 0.9545\n",
      "Epoch 14/20\n",
      "19218/19218 [==============================] - 4s 204us/step - loss: 0.1214 - acc: 0.9700\n",
      "Epoch 15/20\n",
      "19218/19218 [==============================] - 4s 197us/step - loss: 0.1046 - acc: 0.9731\n",
      "Epoch 16/20\n",
      "19218/19218 [==============================] - 4s 215us/step - loss: 0.1028 - acc: 0.9708\n",
      "Epoch 17/20\n",
      "19218/19218 [==============================] - 4s 217us/step - loss: 0.1062 - acc: 0.9714\n",
      "Epoch 18/20\n",
      "19218/19218 [==============================] - 4s 206us/step - loss: 0.0677 - acc: 0.9832\n",
      "Epoch 19/20\n",
      "19218/19218 [==============================] - 4s 196us/step - loss: 0.0598 - acc: 0.9855\n",
      "Epoch 20/20\n",
      "19218/19218 [==============================] - 4s 197us/step - loss: 0.0544 - acc: 0.9874\n",
      "The time taken to train this model without batch normalization is :  77.64549660682678\n"
     ]
    }
   ],
   "source": [
    "K.clear_session()\n",
    "start = time.time()\n",
    "\n",
    "model = Sequential()\n",
    "\n",
    "model.add(Dense(128,input_shape=(784,),activation='relu'))\n",
    "model.add(Dense(64,activation='relu'))\n",
    "\n",
    "model.add(Dense(25,activation='softmax'))\n",
    "\n",
    "model.compile(loss='categorical_crossentropy',optimizer='adam',metrics=['accuracy'])\n",
    "model.fit(x_train,y_train,epochs=20,verbose=1)\n",
    "end = time.time()\n",
    "\n",
    "print(\"The time taken to train this model without batch normalization is : \",(end-start))"
   ]
  },
  {
   "cell_type": "code",
   "execution_count": 46,
   "metadata": {},
   "outputs": [
    {
     "name": "stdout",
     "output_type": "stream",
     "text": [
      "8237/8237 [==============================] - 1s 77us/step\n"
     ]
    },
    {
     "data": {
      "text/plain": [
       "[0.0276786457934684, 0.9966007041398568]"
      ]
     },
     "execution_count": 46,
     "metadata": {},
     "output_type": "execute_result"
    }
   ],
   "source": [
    "model.evaluate(x_test,y_test)"
   ]
  },
  {
   "cell_type": "code",
   "execution_count": null,
   "metadata": {
    "collapsed": true
   },
   "outputs": [],
   "source": []
  },
  {
   "cell_type": "code",
   "execution_count": null,
   "metadata": {
    "collapsed": true
   },
   "outputs": [],
   "source": []
  },
  {
   "cell_type": "code",
   "execution_count": 49,
   "metadata": {},
   "outputs": [
    {
     "name": "stdout",
     "output_type": "stream",
     "text": [
      "Epoch 1/20\n",
      "19218/19218 [==============================] - 5s 248us/step - loss: 1.0753 - acc: 0.7112\n",
      "Epoch 2/20\n",
      "19218/19218 [==============================] - 5s 253us/step - loss: 0.3057 - acc: 0.9286\n",
      "Epoch 3/20\n",
      "19218/19218 [==============================] - 5s 238us/step - loss: 0.1243 - acc: 0.9747\n",
      "Epoch 4/20\n",
      "19218/19218 [==============================] - 5s 241us/step - loss: 0.1066 - acc: 0.9759\n",
      "Epoch 5/20\n",
      "19218/19218 [==============================] - 5s 248us/step - loss: 0.0875 - acc: 0.9774\n",
      "Epoch 6/20\n",
      "19218/19218 [==============================] - 5s 263us/step - loss: 0.1495 - acc: 0.9563\n",
      "Epoch 7/20\n",
      "19218/19218 [==============================] - 5s 257us/step - loss: 0.1972 - acc: 0.9388\n",
      "Epoch 8/20\n",
      "19218/19218 [==============================] - 5s 234us/step - loss: 0.1286 - acc: 0.9607\n",
      "Epoch 9/20\n",
      "19218/19218 [==============================] - 4s 233us/step - loss: 0.0774 - acc: 0.9784\n",
      "Epoch 10/20\n",
      "19218/19218 [==============================] - 4s 234us/step - loss: 0.1056 - acc: 0.9656\n",
      "Epoch 11/20\n",
      "19218/19218 [==============================] - 4s 233us/step - loss: 0.1159 - acc: 0.9634\n",
      "Epoch 12/20\n",
      "19218/19218 [==============================] - 5s 235us/step - loss: 0.0745 - acc: 0.9785\n",
      "Epoch 13/20\n",
      "19218/19218 [==============================] - 4s 232us/step - loss: 0.0649 - acc: 0.9802\n",
      "Epoch 14/20\n",
      "19218/19218 [==============================] - 5s 236us/step - loss: 0.0666 - acc: 0.9789\n",
      "Epoch 15/20\n",
      "19218/19218 [==============================] - 4s 233us/step - loss: 0.0608 - acc: 0.9799\n",
      "Epoch 16/20\n",
      "19218/19218 [==============================] - 4s 233us/step - loss: 0.0529 - acc: 0.9842\n",
      "Epoch 17/20\n",
      "19218/19218 [==============================] - 5s 240us/step - loss: 0.0639 - acc: 0.9792\n",
      "Epoch 18/20\n",
      "19218/19218 [==============================] - 5s 240us/step - loss: 0.1042 - acc: 0.9659\n",
      "Epoch 19/20\n",
      "19218/19218 [==============================] - 5s 240us/step - loss: 0.0665 - acc: 0.9790\n",
      "Epoch 20/20\n",
      "19218/19218 [==============================] - 5s 238us/step - loss: 0.0513 - acc: 0.9835\n",
      "The time taken to train this model with batch normalization is :  93.46358370780945\n"
     ]
    }
   ],
   "source": [
    "K.clear_session()\n",
    "start = time.time()\n",
    "\n",
    "model = Sequential()\n",
    "\n",
    "model.add(Dense(128,input_shape=(784,),activation='relu'))\n",
    "model.add(BatchNormalization())\n",
    "model.add(Dense(64,activation='relu'))\n",
    "model.add(BatchNormalization())\n",
    "\n",
    "model.add(Dense(25,activation='softmax'))\n",
    "\n",
    "model.compile(loss='categorical_crossentropy',optimizer='adam',metrics=['accuracy'])\n",
    "model.fit(x_train,y_train,epochs=20,verbose=1)\n",
    "\n",
    "\n",
    "end = time.time()\n",
    "\n",
    "print(\"The time taken to train this model with batch normalization is : \",(end-start))"
   ]
  },
  {
   "cell_type": "code",
   "execution_count": 50,
   "metadata": {},
   "outputs": [
    {
     "name": "stdout",
     "output_type": "stream",
     "text": [
      "8237/8237 [==============================] - 1s 90us/step\n"
     ]
    },
    {
     "data": {
      "text/plain": [
       "[0.33730128642474183, 0.90676217070044973]"
      ]
     },
     "execution_count": 50,
     "metadata": {},
     "output_type": "execute_result"
    }
   ],
   "source": [
    "model.evaluate(x_test,y_test)"
   ]
  },
  {
   "cell_type": "code",
   "execution_count": null,
   "metadata": {
    "collapsed": true
   },
   "outputs": [],
   "source": []
  },
  {
   "cell_type": "code",
   "execution_count": null,
   "metadata": {
    "collapsed": true
   },
   "outputs": [],
   "source": [
    "pred = model.predict()"
   ]
  },
  {
   "cell_type": "code",
   "execution_count": null,
   "metadata": {
    "collapsed": true
   },
   "outputs": [],
   "source": []
  },
  {
   "cell_type": "code",
   "execution_count": null,
   "metadata": {
    "collapsed": true
   },
   "outputs": [],
   "source": []
  }
 ],
 "metadata": {
  "kernelspec": {
   "display_name": "Python 3",
   "language": "python",
   "name": "python3"
  },
  "language_info": {
   "codemirror_mode": {
    "name": "ipython",
    "version": 3
   },
   "file_extension": ".py",
   "mimetype": "text/x-python",
   "name": "python",
   "nbconvert_exporter": "python",
   "pygments_lexer": "ipython3",
   "version": "3.6.3"
  }
 },
 "nbformat": 4,
 "nbformat_minor": 2
}
