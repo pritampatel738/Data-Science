{
 "cells": [
  {
   "cell_type": "code",
   "execution_count": 1,
   "metadata": {
    "collapsed": true
   },
   "outputs": [],
   "source": [
    "import matplotlib.pyplot as plt\n",
    "import pandas as pd\n",
    "import numpy as np\n",
    "import seaborn as sns\n",
    "import tensorflow as tf\n",
    "%matplotlib inline"
   ]
  },
  {
   "cell_type": "markdown",
   "metadata": {},
   "source": [
    "# DATA EXPLORATION"
   ]
  },
  {
   "cell_type": "code",
   "execution_count": null,
   "metadata": {
    "collapsed": true
   },
   "outputs": [],
   "source": []
  },
  {
   "cell_type": "code",
   "execution_count": null,
   "metadata": {
    "collapsed": true
   },
   "outputs": [],
   "source": []
  },
  {
   "cell_type": "code",
   "execution_count": null,
   "metadata": {
    "collapsed": true
   },
   "outputs": [],
   "source": []
  },
  {
   "cell_type": "code",
   "execution_count": null,
   "metadata": {
    "collapsed": true
   },
   "outputs": [],
   "source": []
  },
  {
   "cell_type": "markdown",
   "metadata": {},
   "source": [
    "# DATA CLEANING AND PREPROCESSING"
   ]
  },
  {
   "cell_type": "code",
   "execution_count": 13,
   "metadata": {
    "collapsed": true
   },
   "outputs": [],
   "source": [
    "from sklearn.model_selection import train_test_split\n",
    "from sklearn import preprocessing"
   ]
  },
  {
   "cell_type": "code",
   "execution_count": 3,
   "metadata": {
    "collapsed": true
   },
   "outputs": [],
   "source": [
    "train_set=pd.read_csv('train.csv')"
   ]
  },
  {
   "cell_type": "code",
   "execution_count": 8,
   "metadata": {},
   "outputs": [
    {
     "name": "stdout",
     "output_type": "stream",
     "text": [
      "   Observation         T1    RH_1         T2       RH_2         T3       RH_3  \\\n",
      "0         1111  22.700000  37.200  21.000000  38.000000  23.390000  37.290000   \n",
      "1         1112  21.500000  41.045  20.500000  39.133333  22.926667  39.526667   \n",
      "2         1113  21.666667  38.000  22.600000  35.700000  21.890000  36.590000   \n",
      "3         1114  23.290000  38.530  21.671429  38.000000  24.290000  36.200000   \n",
      "4         1115  24.000000  42.560  26.830000  34.356000  26.530000  40.333333   \n",
      "\n",
      "          T4       RH_4         T5   ...         RH_8     T9       RH_9  \\\n",
      "0  22.832857  34.942857  20.500000   ...    45.360000  20.20  38.663333   \n",
      "1  21.700000  34.126667  18.633333   ...    34.663333  19.73  37.933333   \n",
      "2  22.000000  35.530000  19.000000   ...    38.545000  19.79  39.430000   \n",
      "3  23.100000  35.090000  22.042857   ...    38.600000  22.60  36.194286   \n",
      "4  24.500000  40.900000  21.500000   ...    44.230000  22.60  44.090000   \n",
      "\n",
      "   T_out  Press_mm_hg     RH_out  Windspeed  Visibility  Tdewpoint  Energy  \n",
      "0  12.80   760.050000  62.000000        3.5        28.0       5.65      70  \n",
      "1   8.47   764.166667  48.166667        8.0        26.5      -1.92     210  \n",
      "2  10.60   757.600000  57.000000        2.0        27.0       2.40      50  \n",
      "3  11.60   760.600000  63.000000        1.0        40.0       4.67      50  \n",
      "4  17.70   756.983333  63.000000        1.0        21.5      10.40     250  \n",
      "\n",
      "[5 rows x 26 columns]\n"
     ]
    }
   ],
   "source": [
    "print(train_set.head())"
   ]
  },
  {
   "cell_type": "code",
   "execution_count": 9,
   "metadata": {
    "collapsed": true
   },
   "outputs": [],
   "source": [
    "del train_set['Observation']"
   ]
  },
  {
   "cell_type": "code",
   "execution_count": 10,
   "metadata": {
    "collapsed": true
   },
   "outputs": [],
   "source": [
    "train=train_set.drop(['Energy'],axis=1)\n",
    "y=train_set['Energy']"
   ]
  },
  {
   "cell_type": "code",
   "execution_count": 11,
   "metadata": {},
   "outputs": [
    {
     "name": "stdout",
     "output_type": "stream",
     "text": [
      "          T1    RH_1         T2       RH_2         T3       RH_3         T4  \\\n",
      "0  22.700000  37.200  21.000000  38.000000  23.390000  37.290000  22.832857   \n",
      "1  21.500000  41.045  20.500000  39.133333  22.926667  39.526667  21.700000   \n",
      "2  21.666667  38.000  22.600000  35.700000  21.890000  36.590000  22.000000   \n",
      "3  23.290000  38.530  21.671429  38.000000  24.290000  36.200000  23.100000   \n",
      "4  24.000000  42.560  26.830000  34.356000  26.530000  40.333333  24.500000   \n",
      "\n",
      "        RH_4         T5       RH_5    ...             T8       RH_8     T9  \\\n",
      "0  34.942857  20.500000  42.826667    ...      22.700000  45.360000  20.20   \n",
      "1  34.126667  18.633333  44.663333    ...      22.926667  34.663333  19.73   \n",
      "2  35.530000  19.000000  46.200000    ...      21.890000  38.545000  19.79   \n",
      "3  35.090000  22.042857  43.625714    ...      24.890000  38.600000  22.60   \n",
      "4  40.900000  21.500000  49.090000    ...      23.390000  44.230000  22.60   \n",
      "\n",
      "        RH_9  T_out  Press_mm_hg     RH_out  Windspeed  Visibility  Tdewpoint  \n",
      "0  38.663333  12.80   760.050000  62.000000        3.5        28.0       5.65  \n",
      "1  37.933333   8.47   764.166667  48.166667        8.0        26.5      -1.92  \n",
      "2  39.430000  10.60   757.600000  57.000000        2.0        27.0       2.40  \n",
      "3  36.194286  11.60   760.600000  63.000000        1.0        40.0       4.67  \n",
      "4  44.090000  17.70   756.983333  63.000000        1.0        21.5      10.40  \n",
      "\n",
      "[5 rows x 24 columns]\n"
     ]
    }
   ],
   "source": [
    "print(train.head())"
   ]
  },
  {
   "cell_type": "code",
   "execution_count": 14,
   "metadata": {},
   "outputs": [],
   "source": [
    "x_train,x_test,y_train,y_test=train_test_split(train,y,test_size=0.1)"
   ]
  },
  {
   "cell_type": "code",
   "execution_count": 22,
   "metadata": {},
   "outputs": [
    {
     "name": "stdout",
     "output_type": "stream",
     "text": [
      "              T1       RH_1         T2       RH_2         T3       RH_3  \\\n",
      "7182   19.500000  40.063333  16.600000  43.066667  20.000000  37.060000   \n",
      "15086  24.790000  49.400000  22.730000  50.590000  25.890000  44.590000   \n",
      "12674  21.790000  32.766667  19.856667  31.760000  22.763333  36.500000   \n",
      "3591   22.390000  36.872500  21.000000  37.251429  21.452857  37.551429   \n",
      "8505   22.533333  37.400000  19.600000  40.290000  22.200000  36.626667   \n",
      "\n",
      "              T4     RH_4         T5       RH_5    ...             T8  \\\n",
      "7182   19.200000  34.2300  17.533333  46.156667    ...      19.230000   \n",
      "15086  24.000000  47.0000  23.000000  53.000000    ...      26.251429   \n",
      "12674  20.890000  31.7900  18.100000  44.830000    ...      22.426667   \n",
      "3591   20.185714  34.5000  20.390000  44.642857    ...      21.968571   \n",
      "8505   20.025000  37.1175  20.100000  43.223333    ...      23.790000   \n",
      "\n",
      "            RH_8         T9       RH_9  T_out  Press_mm_hg     RH_out  \\\n",
      "7182   38.156667  17.700000  38.566667   5.90   744.400000  59.000000   \n",
      "15086  49.368571  23.100000  49.077143  12.10   751.400000  94.666667   \n",
      "12674  31.463333  19.600000  37.790000   6.80   767.400000  57.000000   \n",
      "3591   39.290000  18.421429  36.850000   1.37   749.533333  91.666667   \n",
      "8505   39.890000  19.500000  37.656667   5.87   761.466667  90.333333   \n",
      "\n",
      "       Windspeed  Visibility  Tdewpoint  \n",
      "7182   10.000000   40.000000     -1.500  \n",
      "15086   5.666667   49.000000     11.200  \n",
      "12674   5.000000   29.000000     -1.100  \n",
      "3591    2.666667   24.666667      0.133  \n",
      "8505    1.333333   35.000000      4.400  \n",
      "\n",
      "[5 rows x 24 columns]\n"
     ]
    }
   ],
   "source": [
    "print(x_train.head())"
   ]
  },
  {
   "cell_type": "code",
   "execution_count": 23,
   "metadata": {},
   "outputs": [
    {
     "name": "stdout",
     "output_type": "stream",
     "text": [
      "7182      60\n",
      "15086     80\n",
      "12674    240\n",
      "3591      60\n",
      "8505      40\n",
      "Name: Energy, dtype: int64\n"
     ]
    }
   ],
   "source": [
    "print(y_train.head())"
   ]
  },
  {
   "cell_type": "code",
   "execution_count": null,
   "metadata": {
    "collapsed": true
   },
   "outputs": [],
   "source": []
  },
  {
   "cell_type": "code",
   "execution_count": null,
   "metadata": {
    "collapsed": true
   },
   "outputs": [],
   "source": []
  },
  {
   "cell_type": "code",
   "execution_count": null,
   "metadata": {
    "collapsed": true
   },
   "outputs": [],
   "source": []
  },
  {
   "cell_type": "code",
   "execution_count": null,
   "metadata": {
    "collapsed": true
   },
   "outputs": [],
   "source": []
  },
  {
   "cell_type": "code",
   "execution_count": null,
   "metadata": {
    "collapsed": true
   },
   "outputs": [],
   "source": []
  },
  {
   "cell_type": "code",
   "execution_count": null,
   "metadata": {
    "collapsed": true
   },
   "outputs": [],
   "source": []
  },
  {
   "cell_type": "code",
   "execution_count": null,
   "metadata": {
    "collapsed": true
   },
   "outputs": [],
   "source": []
  },
  {
   "cell_type": "code",
   "execution_count": null,
   "metadata": {
    "collapsed": true
   },
   "outputs": [],
   "source": []
  },
  {
   "cell_type": "code",
   "execution_count": null,
   "metadata": {
    "collapsed": true
   },
   "outputs": [],
   "source": []
  },
  {
   "cell_type": "code",
   "execution_count": null,
   "metadata": {
    "collapsed": true
   },
   "outputs": [],
   "source": []
  },
  {
   "cell_type": "code",
   "execution_count": null,
   "metadata": {
    "collapsed": true
   },
   "outputs": [],
   "source": []
  },
  {
   "cell_type": "code",
   "execution_count": null,
   "metadata": {
    "collapsed": true
   },
   "outputs": [],
   "source": []
  },
  {
   "cell_type": "code",
   "execution_count": null,
   "metadata": {
    "collapsed": true
   },
   "outputs": [],
   "source": []
  },
  {
   "cell_type": "code",
   "execution_count": null,
   "metadata": {
    "collapsed": true
   },
   "outputs": [],
   "source": []
  },
  {
   "cell_type": "code",
   "execution_count": null,
   "metadata": {
    "collapsed": true
   },
   "outputs": [],
   "source": []
  },
  {
   "cell_type": "code",
   "execution_count": null,
   "metadata": {
    "collapsed": true
   },
   "outputs": [],
   "source": []
  },
  {
   "cell_type": "code",
   "execution_count": null,
   "metadata": {
    "collapsed": true
   },
   "outputs": [],
   "source": []
  },
  {
   "cell_type": "code",
   "execution_count": null,
   "metadata": {
    "collapsed": true
   },
   "outputs": [],
   "source": []
  },
  {
   "cell_type": "code",
   "execution_count": null,
   "metadata": {
    "collapsed": true
   },
   "outputs": [],
   "source": []
  },
  {
   "cell_type": "code",
   "execution_count": null,
   "metadata": {
    "collapsed": true
   },
   "outputs": [],
   "source": []
  },
  {
   "cell_type": "code",
   "execution_count": null,
   "metadata": {
    "collapsed": true
   },
   "outputs": [],
   "source": []
  },
  {
   "cell_type": "markdown",
   "metadata": {},
   "source": [
    "# DATA TRAINING"
   ]
  },
  {
   "cell_type": "code",
   "execution_count": 4,
   "metadata": {},
   "outputs": [
    {
     "name": "stderr",
     "output_type": "stream",
     "text": [
      "Using TensorFlow backend.\n"
     ]
    }
   ],
   "source": [
    "from keras.layers import Dense\n",
    "from keras.models import Sequential"
   ]
  },
  {
   "cell_type": "code",
   "execution_count": 5,
   "metadata": {
    "collapsed": true
   },
   "outputs": [],
   "source": [
    "model=Sequential()"
   ]
  },
  {
   "cell_type": "code",
   "execution_count": 33,
   "metadata": {},
   "outputs": [
    {
     "name": "stderr",
     "output_type": "stream",
     "text": [
      "/home/pritam/anaconda3/lib/python3.6/site-packages/ipykernel_launcher.py:1: UserWarning: Update your `Dense` call to the Keras 2 API: `Dense(5, activation=\"linear\", input_dim=24, kernel_initializer=\"uniform\")`\n",
      "  \"\"\"Entry point for launching an IPython kernel.\n"
     ]
    }
   ],
   "source": [
    "model.add(Dense(5,activation='linear',init='uniform',input_dim=24))\n",
    "\n",
    "model.add(Dense(5,activation='linear'))\n",
    "model.add(Dense(5,activation='linear'))\n",
    "\n",
    "model.add(Dense(1,activation='linear'))"
   ]
  },
  {
   "cell_type": "code",
   "execution_count": null,
   "metadata": {},
   "outputs": [
    {
     "name": "stdout",
     "output_type": "stream",
     "text": [
      "Epoch 1/20\n",
      "14202/14202 [==============================] - 56s 4ms/step - loss: nan - acc: 0.0000e+00\n",
      "Epoch 2/20\n",
      "14202/14202 [==============================] - 55s 4ms/step - loss: nan - acc: 0.0000e+00\n",
      "Epoch 3/20\n",
      "14202/14202 [==============================] - 55s 4ms/step - loss: nan - acc: 0.0000e+00\n",
      "Epoch 4/20\n",
      "14202/14202 [==============================] - 88523s 6s/step - loss: nan - acc: 0.0000e+00\n",
      "Epoch 5/20\n",
      " 3615/14202 [======>.......................] - ETA: 40s - loss: nan - acc: 0.0000e+00"
     ]
    }
   ],
   "source": [
    "model.compile(loss='mse',optimizer='adam',metrics=['accuracy'])\n",
    "model.fit(x_train,y_train,epochs=20,batch_size=100,verbose=1)"
   ]
  },
  {
   "cell_type": "code",
   "execution_count": null,
   "metadata": {
    "collapsed": true
   },
   "outputs": [],
   "source": []
  },
  {
   "cell_type": "code",
   "execution_count": null,
   "metadata": {
    "collapsed": true
   },
   "outputs": [],
   "source": []
  },
  {
   "cell_type": "code",
   "execution_count": null,
   "metadata": {
    "collapsed": true
   },
   "outputs": [],
   "source": []
  },
  {
   "cell_type": "code",
   "execution_count": null,
   "metadata": {
    "collapsed": true
   },
   "outputs": [],
   "source": []
  },
  {
   "cell_type": "code",
   "execution_count": null,
   "metadata": {
    "collapsed": true
   },
   "outputs": [],
   "source": []
  },
  {
   "cell_type": "code",
   "execution_count": null,
   "metadata": {
    "collapsed": true
   },
   "outputs": [],
   "source": []
  },
  {
   "cell_type": "code",
   "execution_count": null,
   "metadata": {
    "collapsed": true
   },
   "outputs": [],
   "source": []
  },
  {
   "cell_type": "code",
   "execution_count": null,
   "metadata": {
    "collapsed": true
   },
   "outputs": [],
   "source": []
  },
  {
   "cell_type": "code",
   "execution_count": null,
   "metadata": {
    "collapsed": true
   },
   "outputs": [],
   "source": []
  },
  {
   "cell_type": "code",
   "execution_count": null,
   "metadata": {
    "collapsed": true
   },
   "outputs": [],
   "source": []
  },
  {
   "cell_type": "code",
   "execution_count": null,
   "metadata": {
    "collapsed": true
   },
   "outputs": [],
   "source": []
  },
  {
   "cell_type": "code",
   "execution_count": null,
   "metadata": {
    "collapsed": true
   },
   "outputs": [],
   "source": []
  },
  {
   "cell_type": "code",
   "execution_count": null,
   "metadata": {
    "collapsed": true
   },
   "outputs": [],
   "source": []
  },
  {
   "cell_type": "code",
   "execution_count": null,
   "metadata": {
    "collapsed": true
   },
   "outputs": [],
   "source": []
  },
  {
   "cell_type": "code",
   "execution_count": null,
   "metadata": {
    "collapsed": true
   },
   "outputs": [],
   "source": []
  },
  {
   "cell_type": "code",
   "execution_count": null,
   "metadata": {
    "collapsed": true
   },
   "outputs": [],
   "source": []
  },
  {
   "cell_type": "code",
   "execution_count": null,
   "metadata": {
    "collapsed": true
   },
   "outputs": [],
   "source": []
  },
  {
   "cell_type": "code",
   "execution_count": null,
   "metadata": {
    "collapsed": true
   },
   "outputs": [],
   "source": []
  },
  {
   "cell_type": "code",
   "execution_count": null,
   "metadata": {
    "collapsed": true
   },
   "outputs": [],
   "source": []
  },
  {
   "cell_type": "code",
   "execution_count": null,
   "metadata": {
    "collapsed": true
   },
   "outputs": [],
   "source": []
  },
  {
   "cell_type": "code",
   "execution_count": null,
   "metadata": {
    "collapsed": true
   },
   "outputs": [],
   "source": []
  },
  {
   "cell_type": "code",
   "execution_count": null,
   "metadata": {
    "collapsed": true
   },
   "outputs": [],
   "source": []
  },
  {
   "cell_type": "code",
   "execution_count": null,
   "metadata": {
    "collapsed": true
   },
   "outputs": [],
   "source": []
  },
  {
   "cell_type": "code",
   "execution_count": null,
   "metadata": {
    "collapsed": true
   },
   "outputs": [],
   "source": []
  },
  {
   "cell_type": "code",
   "execution_count": null,
   "metadata": {
    "collapsed": true
   },
   "outputs": [],
   "source": []
  },
  {
   "cell_type": "code",
   "execution_count": null,
   "metadata": {
    "collapsed": true
   },
   "outputs": [],
   "source": []
  },
  {
   "cell_type": "code",
   "execution_count": null,
   "metadata": {
    "collapsed": true
   },
   "outputs": [],
   "source": []
  },
  {
   "cell_type": "code",
   "execution_count": null,
   "metadata": {
    "collapsed": true
   },
   "outputs": [],
   "source": []
  },
  {
   "cell_type": "markdown",
   "metadata": {},
   "source": [
    "# PREDICTION AND EVALUATION"
   ]
  },
  {
   "cell_type": "code",
   "execution_count": null,
   "metadata": {
    "collapsed": true
   },
   "outputs": [],
   "source": []
  },
  {
   "cell_type": "code",
   "execution_count": null,
   "metadata": {
    "collapsed": true
   },
   "outputs": [],
   "source": []
  },
  {
   "cell_type": "code",
   "execution_count": null,
   "metadata": {
    "collapsed": true
   },
   "outputs": [],
   "source": []
  },
  {
   "cell_type": "code",
   "execution_count": null,
   "metadata": {
    "collapsed": true
   },
   "outputs": [],
   "source": []
  },
  {
   "cell_type": "code",
   "execution_count": null,
   "metadata": {
    "collapsed": true
   },
   "outputs": [],
   "source": []
  },
  {
   "cell_type": "code",
   "execution_count": null,
   "metadata": {
    "collapsed": true
   },
   "outputs": [],
   "source": []
  }
 ],
 "metadata": {
  "kernelspec": {
   "display_name": "Python 3",
   "language": "python",
   "name": "python3"
  },
  "language_info": {
   "codemirror_mode": {
    "name": "ipython",
    "version": 3
   },
   "file_extension": ".py",
   "mimetype": "text/x-python",
   "name": "python",
   "nbconvert_exporter": "python",
   "pygments_lexer": "ipython3",
   "version": "3.6.3"
  }
 },
 "nbformat": 4,
 "nbformat_minor": 2
}
