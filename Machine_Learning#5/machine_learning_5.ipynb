{
 "cells": [
  {
   "cell_type": "code",
   "execution_count": 1,
   "metadata": {
    "collapsed": true
   },
   "outputs": [],
   "source": [
    "import pandas as pd"
   ]
  },
  {
   "cell_type": "code",
   "execution_count": 2,
   "metadata": {
    "collapsed": true
   },
   "outputs": [],
   "source": [
    "train_set=pd.read_csv('train.csv')"
   ]
  },
  {
   "cell_type": "code",
   "execution_count": 3,
   "metadata": {},
   "outputs": [
    {
     "name": "stdout",
     "output_type": "stream",
     "text": [
      "   Observation         T1    RH_1         T2       RH_2         T3       RH_3  \\\n",
      "0         1111  22.700000  37.200  21.000000  38.000000  23.390000  37.290000   \n",
      "1         1112  21.500000  41.045  20.500000  39.133333  22.926667  39.526667   \n",
      "2         1113  21.666667  38.000  22.600000  35.700000  21.890000  36.590000   \n",
      "3         1114  23.290000  38.530  21.671429  38.000000  24.290000  36.200000   \n",
      "4         1115  24.000000  42.560  26.830000  34.356000  26.530000  40.333333   \n",
      "\n",
      "          T4       RH_4         T5   ...         RH_8     T9       RH_9  \\\n",
      "0  22.832857  34.942857  20.500000   ...    45.360000  20.20  38.663333   \n",
      "1  21.700000  34.126667  18.633333   ...    34.663333  19.73  37.933333   \n",
      "2  22.000000  35.530000  19.000000   ...    38.545000  19.79  39.430000   \n",
      "3  23.100000  35.090000  22.042857   ...    38.600000  22.60  36.194286   \n",
      "4  24.500000  40.900000  21.500000   ...    44.230000  22.60  44.090000   \n",
      "\n",
      "   T_out  Press_mm_hg     RH_out  Windspeed  Visibility  Tdewpoint  Energy  \n",
      "0  12.80   760.050000  62.000000        3.5        28.0       5.65      70  \n",
      "1   8.47   764.166667  48.166667        8.0        26.5      -1.92     210  \n",
      "2  10.60   757.600000  57.000000        2.0        27.0       2.40      50  \n",
      "3  11.60   760.600000  63.000000        1.0        40.0       4.67      50  \n",
      "4  17.70   756.983333  63.000000        1.0        21.5      10.40     250  \n",
      "\n",
      "[5 rows x 26 columns]\n"
     ]
    }
   ],
   "source": [
    "print(train_set.head())"
   ]
  },
  {
   "cell_type": "code",
   "execution_count": 4,
   "metadata": {
    "collapsed": true
   },
   "outputs": [],
   "source": [
    "sample_submission=pd.read_csv('sample_submission.csv')"
   ]
  },
  {
   "cell_type": "code",
   "execution_count": 5,
   "metadata": {},
   "outputs": [
    {
     "name": "stdout",
     "output_type": "stream",
     "text": [
      "   Observation  Energy\n",
      "0        50001      68\n",
      "1        50002     242\n",
      "2        50003     117\n",
      "3        50004     384\n",
      "4        50005     444\n"
     ]
    }
   ],
   "source": [
    "print(sample_submission.head())"
   ]
  },
  {
   "cell_type": "code",
   "execution_count": 6,
   "metadata": {
    "collapsed": true
   },
   "outputs": [],
   "source": [
    "del train_set['Observation']"
   ]
  },
  {
   "cell_type": "code",
   "execution_count": 7,
   "metadata": {},
   "outputs": [
    {
     "name": "stdout",
     "output_type": "stream",
     "text": [
      "   Observation         T1   RH_1         T2       RH_2         T3       RH_3  \\\n",
      "0        50001  21.100000  39.90  19.290000  41.260000  21.500000  40.700000   \n",
      "1        50002  22.600000  39.03  20.790000  40.463333  22.290000  38.290000   \n",
      "2        50003  21.000000  35.59  19.790000  34.900000  21.166667  35.833333   \n",
      "3        50004  20.566667  37.59  20.566667  35.700000  20.166667  37.000000   \n",
      "4        50005  21.500000  38.70  18.566667  42.030000  22.500000  38.900000   \n",
      "\n",
      "      T4       RH_4         T5    ...             T8       RH_8         T9  \\\n",
      "0  18.89  41.200000  18.088889    ...      21.600000  47.090000  18.100000   \n",
      "1  20.29  36.700000  20.760000    ...      23.760000  39.266667  19.390000   \n",
      "2  20.39  33.090000  18.000000    ...      22.600000  34.126667  18.200000   \n",
      "3  22.00  35.326667  17.700000    ...      20.666667  36.966667  18.000000   \n",
      "4  20.00  39.000000  19.633333    ...      23.390000  45.326667  20.133333   \n",
      "\n",
      "    RH_9  T_out  Press_mm_hg     RH_out  Windspeed  Visibility  Tdewpoint  \n",
      "0  44.90   2.70   733.633333  98.166667        2.0   34.833333       2.43  \n",
      "1  37.50   7.27   756.666667  82.000000        2.0   40.000000       4.40  \n",
      "2  39.79   6.05   751.250000  50.000000        6.5   34.500000      -3.70  \n",
      "3  41.29   9.35   758.716667  58.333333        1.0   25.166667       1.48  \n",
      "4  43.20   3.03   758.850000  95.000000        2.0   60.333333       2.25  \n",
      "\n",
      "[5 rows x 25 columns]\n"
     ]
    }
   ],
   "source": [
    "test_set=pd.read_csv('test.csv')\n",
    "print(test_set.head())"
   ]
  },
  {
   "cell_type": "code",
   "execution_count": 8,
   "metadata": {
    "collapsed": true
   },
   "outputs": [],
   "source": [
    "ids=test_set['Observation']\n",
    "del test_set['Observation']"
   ]
  },
  {
   "cell_type": "code",
   "execution_count": 9,
   "metadata": {},
   "outputs": [
    {
     "name": "stdout",
     "output_type": "stream",
     "text": [
      "          T1   RH_1         T2       RH_2         T3       RH_3     T4  \\\n",
      "0  21.100000  39.90  19.290000  41.260000  21.500000  40.700000  18.89   \n",
      "1  22.600000  39.03  20.790000  40.463333  22.290000  38.290000  20.29   \n",
      "2  21.000000  35.59  19.790000  34.900000  21.166667  35.833333  20.39   \n",
      "3  20.566667  37.59  20.566667  35.700000  20.166667  37.000000  22.00   \n",
      "4  21.500000  38.70  18.566667  42.030000  22.500000  38.900000  20.00   \n",
      "\n",
      "        RH_4         T5       RH_5    ...             T8       RH_8  \\\n",
      "0  41.200000  18.088889  52.080000    ...      21.600000  47.090000   \n",
      "1  36.700000  20.760000  43.666667    ...      23.760000  39.266667   \n",
      "2  33.090000  18.000000  45.700000    ...      22.600000  34.126667   \n",
      "3  35.326667  17.700000  45.400000    ...      20.666667  36.966667   \n",
      "4  39.000000  19.633333  48.826667    ...      23.390000  45.326667   \n",
      "\n",
      "          T9   RH_9  T_out  Press_mm_hg     RH_out  Windspeed  Visibility  \\\n",
      "0  18.100000  44.90   2.70   733.633333  98.166667        2.0   34.833333   \n",
      "1  19.390000  37.50   7.27   756.666667  82.000000        2.0   40.000000   \n",
      "2  18.200000  39.79   6.05   751.250000  50.000000        6.5   34.500000   \n",
      "3  18.000000  41.29   9.35   758.716667  58.333333        1.0   25.166667   \n",
      "4  20.133333  43.20   3.03   758.850000  95.000000        2.0   60.333333   \n",
      "\n",
      "   Tdewpoint  \n",
      "0       2.43  \n",
      "1       4.40  \n",
      "2      -3.70  \n",
      "3       1.48  \n",
      "4       2.25  \n",
      "\n",
      "[5 rows x 24 columns]\n"
     ]
    }
   ],
   "source": [
    "print(test_set.head())"
   ]
  },
  {
   "cell_type": "code",
   "execution_count": 10,
   "metadata": {},
   "outputs": [
    {
     "name": "stdout",
     "output_type": "stream",
     "text": [
      "          T1    RH_1         T2       RH_2         T3       RH_3         T4  \\\n",
      "0  22.700000  37.200  21.000000  38.000000  23.390000  37.290000  22.832857   \n",
      "1  21.500000  41.045  20.500000  39.133333  22.926667  39.526667  21.700000   \n",
      "2  21.666667  38.000  22.600000  35.700000  21.890000  36.590000  22.000000   \n",
      "3  23.290000  38.530  21.671429  38.000000  24.290000  36.200000  23.100000   \n",
      "4  24.000000  42.560  26.830000  34.356000  26.530000  40.333333  24.500000   \n",
      "\n",
      "        RH_4         T5       RH_5   ...         RH_8     T9       RH_9  \\\n",
      "0  34.942857  20.500000  42.826667   ...    45.360000  20.20  38.663333   \n",
      "1  34.126667  18.633333  44.663333   ...    34.663333  19.73  37.933333   \n",
      "2  35.530000  19.000000  46.200000   ...    38.545000  19.79  39.430000   \n",
      "3  35.090000  22.042857  43.625714   ...    38.600000  22.60  36.194286   \n",
      "4  40.900000  21.500000  49.090000   ...    44.230000  22.60  44.090000   \n",
      "\n",
      "   T_out  Press_mm_hg     RH_out  Windspeed  Visibility  Tdewpoint  Energy  \n",
      "0  12.80   760.050000  62.000000        3.5        28.0       5.65      70  \n",
      "1   8.47   764.166667  48.166667        8.0        26.5      -1.92     210  \n",
      "2  10.60   757.600000  57.000000        2.0        27.0       2.40      50  \n",
      "3  11.60   760.600000  63.000000        1.0        40.0       4.67      50  \n",
      "4  17.70   756.983333  63.000000        1.0        21.5      10.40     250  \n",
      "\n",
      "[5 rows x 25 columns]\n"
     ]
    }
   ],
   "source": [
    "print(train_set.head())"
   ]
  },
  {
   "cell_type": "code",
   "execution_count": 11,
   "metadata": {
    "collapsed": true
   },
   "outputs": [],
   "source": [
    "train=train_set.drop(['Energy'],axis=1)\n",
    "y=train_set['Energy']"
   ]
  },
  {
   "cell_type": "code",
   "execution_count": 12,
   "metadata": {},
   "outputs": [
    {
     "name": "stdout",
     "output_type": "stream",
     "text": [
      "<class 'pandas.core.frame.DataFrame'>\n",
      "RangeIndex: 15780 entries, 0 to 15779\n",
      "Data columns (total 24 columns):\n",
      "T1             15780 non-null float64\n",
      "RH_1           15780 non-null float64\n",
      "T2             15780 non-null float64\n",
      "RH_2           15780 non-null float64\n",
      "T3             15780 non-null float64\n",
      "RH_3           15780 non-null float64\n",
      "T4             15780 non-null float64\n",
      "RH_4           15780 non-null float64\n",
      "T5             15780 non-null float64\n",
      "RH_5           15780 non-null float64\n",
      "T6             15780 non-null float64\n",
      "RH_6           15780 non-null float64\n",
      "T7             15780 non-null float64\n",
      "RH_7           15780 non-null float64\n",
      "T8             15780 non-null float64\n",
      "RH_8           15780 non-null float64\n",
      "T9             15780 non-null float64\n",
      "RH_9           15780 non-null float64\n",
      "T_out          15780 non-null float64\n",
      "Press_mm_hg    15780 non-null float64\n",
      "RH_out         15780 non-null float64\n",
      "Windspeed      15780 non-null float64\n",
      "Visibility     15780 non-null float64\n",
      "Tdewpoint      15780 non-null float64\n",
      "dtypes: float64(24)\n",
      "memory usage: 2.9 MB\n",
      "None\n"
     ]
    }
   ],
   "source": [
    "print(train.info())"
   ]
  },
  {
   "cell_type": "code",
   "execution_count": 13,
   "metadata": {},
   "outputs": [
    {
     "name": "stdout",
     "output_type": "stream",
     "text": [
      "<class 'pandas.core.frame.DataFrame'>\n",
      "RangeIndex: 3945 entries, 0 to 3944\n",
      "Data columns (total 24 columns):\n",
      "T1             3945 non-null float64\n",
      "RH_1           3945 non-null float64\n",
      "T2             3945 non-null float64\n",
      "RH_2           3945 non-null float64\n",
      "T3             3945 non-null float64\n",
      "RH_3           3945 non-null float64\n",
      "T4             3945 non-null float64\n",
      "RH_4           3945 non-null float64\n",
      "T5             3945 non-null float64\n",
      "RH_5           3945 non-null float64\n",
      "T6             3945 non-null float64\n",
      "RH_6           3945 non-null float64\n",
      "T7             3945 non-null float64\n",
      "RH_7           3945 non-null float64\n",
      "T8             3945 non-null float64\n",
      "RH_8           3945 non-null float64\n",
      "T9             3945 non-null float64\n",
      "RH_9           3945 non-null float64\n",
      "T_out          3945 non-null float64\n",
      "Press_mm_hg    3945 non-null float64\n",
      "RH_out         3945 non-null float64\n",
      "Windspeed      3945 non-null float64\n",
      "Visibility     3945 non-null float64\n",
      "Tdewpoint      3945 non-null float64\n",
      "dtypes: float64(24)\n",
      "memory usage: 739.8 KB\n",
      "None\n"
     ]
    }
   ],
   "source": [
    "print(test_set.info())"
   ]
  },
  {
   "cell_type": "code",
   "execution_count": 14,
   "metadata": {
    "collapsed": true
   },
   "outputs": [],
   "source": [
    "import numpy as np\n",
    "import matplotlib.pyplot as plt\n",
    "import seaborn as sns\n",
    "%matplotlib inline\n",
    "from sklearn.model_selection import train_test_split\n",
    "from sklearn.metrics import roc_auc_score,f1_score"
   ]
  },
  {
   "cell_type": "code",
   "execution_count": 15,
   "metadata": {
    "collapsed": true
   },
   "outputs": [],
   "source": [
    "x_train,x_test,y_train,y_test=train_test_split(train,y,test_size=0.2,random_state=32)"
   ]
  },
  {
   "cell_type": "code",
   "execution_count": 16,
   "metadata": {
    "collapsed": true
   },
   "outputs": [],
   "source": [
    "from sklearn.svm import SVR"
   ]
  },
  {
   "cell_type": "code",
   "execution_count": 20,
   "metadata": {
    "collapsed": true
   },
   "outputs": [],
   "source": [
    "clf=SVR(C=4,tol=0.0001)"
   ]
  },
  {
   "cell_type": "code",
   "execution_count": 21,
   "metadata": {},
   "outputs": [
    {
     "data": {
      "text/plain": [
       "SVR(C=4, cache_size=200, coef0=0.0, degree=3, epsilon=0.1, gamma='auto',\n",
       "  kernel='rbf', max_iter=-1, shrinking=True, tol=0.0001, verbose=False)"
      ]
     },
     "execution_count": 21,
     "metadata": {},
     "output_type": "execute_result"
    }
   ],
   "source": [
    "clf.fit(x_train,y_train)"
   ]
  },
  {
   "cell_type": "code",
   "execution_count": 23,
   "metadata": {},
   "outputs": [
    {
     "data": {
      "text/plain": [
       "-0.0012354076860963126"
      ]
     },
     "execution_count": 23,
     "metadata": {},
     "output_type": "execute_result"
    }
   ],
   "source": [
    "clf.score(x_test,y_test)"
   ]
  },
  {
   "cell_type": "code",
   "execution_count": null,
   "metadata": {
    "collapsed": true
   },
   "outputs": [],
   "source": []
  },
  {
   "cell_type": "code",
   "execution_count": null,
   "metadata": {
    "collapsed": true
   },
   "outputs": [],
   "source": []
  },
  {
   "cell_type": "code",
   "execution_count": null,
   "metadata": {
    "collapsed": true
   },
   "outputs": [],
   "source": []
  },
  {
   "cell_type": "code",
   "execution_count": null,
   "metadata": {
    "collapsed": true
   },
   "outputs": [],
   "source": []
  },
  {
   "cell_type": "code",
   "execution_count": null,
   "metadata": {
    "collapsed": true
   },
   "outputs": [],
   "source": []
  },
  {
   "cell_type": "code",
   "execution_count": null,
   "metadata": {
    "collapsed": true
   },
   "outputs": [],
   "source": []
  },
  {
   "cell_type": "code",
   "execution_count": 22,
   "metadata": {},
   "outputs": [
    {
     "name": "stderr",
     "output_type": "stream",
     "text": [
      "/home/pritam/anaconda3/lib/python3.6/site-packages/sklearn/cross_validation.py:41: DeprecationWarning: This module was deprecated in version 0.18 in favor of the model_selection module into which all the refactored classes and functions are moved. Also note that the interface of the new CV iterators are different from that of this module. This module will be removed in 0.20.\n",
      "  \"This module will be removed in 0.20.\", DeprecationWarning)\n"
     ]
    }
   ],
   "source": [
    "from xgboost import XGBRegressor"
   ]
  },
  {
   "cell_type": "code",
   "execution_count": 24,
   "metadata": {},
   "outputs": [
    {
     "data": {
      "text/plain": [
       "XGBRegressor(base_score=0.5, colsample_bylevel=1, colsample_bytree=1, gamma=0,\n",
       "       learning_rate=0.1, max_delta_step=0, max_depth=3,\n",
       "       min_child_weight=1, missing=None, n_estimators=100, nthread=-1,\n",
       "       objective='reg:linear', reg_alpha=0, reg_lambda=1,\n",
       "       scale_pos_weight=1, seed=0, silent=True, subsample=1)"
      ]
     },
     "execution_count": 24,
     "metadata": {},
     "output_type": "execute_result"
    }
   ],
   "source": [
    "clf1=XGBRegressor()\n",
    "clf1.fit(x_train,y_train)"
   ]
  },
  {
   "cell_type": "code",
   "execution_count": 26,
   "metadata": {},
   "outputs": [
    {
     "data": {
      "text/plain": [
       "0.2270810129047226"
      ]
     },
     "execution_count": 26,
     "metadata": {},
     "output_type": "execute_result"
    }
   ],
   "source": [
    "clf1.score(x_test,y_test)"
   ]
  },
  {
   "cell_type": "code",
   "execution_count": 27,
   "metadata": {
    "collapsed": true
   },
   "outputs": [],
   "source": [
    "pred=clf1.predict(x_test)"
   ]
  },
  {
   "cell_type": "code",
   "execution_count": 30,
   "metadata": {},
   "outputs": [
    {
     "name": "stdout",
     "output_type": "stream",
     "text": [
      "9146      70\n",
      "5956     100\n",
      "13549     60\n",
      "3270      50\n",
      "2388      20\n",
      "4581      60\n",
      "2837      60\n",
      "5695      60\n",
      "3255      50\n",
      "1394      90\n",
      "10367     40\n",
      "504       70\n",
      "11775     50\n",
      "7558      60\n",
      "9426      60\n",
      "1894      60\n",
      "6437     100\n",
      "9722      50\n",
      "4916      40\n",
      "11965    110\n",
      "11603    260\n",
      "2142      50\n",
      "12692     70\n",
      "7108      70\n",
      "3692      20\n",
      "1507     110\n",
      "6805      40\n",
      "2209     120\n",
      "12729    110\n",
      "10684     60\n",
      "        ... \n",
      "14438     70\n",
      "560       50\n",
      "4556      50\n",
      "6531     100\n",
      "4431     390\n",
      "11063     60\n",
      "9063      60\n",
      "1035      50\n",
      "13213    100\n",
      "10500     60\n",
      "1760      60\n",
      "9548      60\n",
      "4101      70\n",
      "7529     170\n",
      "13482     40\n",
      "10903     60\n",
      "11362    110\n",
      "9073     460\n",
      "11390     50\n",
      "15615     30\n",
      "13305     60\n",
      "5984      50\n",
      "5870     310\n",
      "14709     60\n",
      "11528     50\n",
      "11751    370\n",
      "11950    160\n",
      "3403     360\n",
      "963       50\n",
      "14839     40\n",
      "Name: Energy, Length: 3156, dtype: int64\n"
     ]
    }
   ],
   "source": [
    "print(y_test)"
   ]
  },
  {
   "cell_type": "code",
   "execution_count": 39,
   "metadata": {},
   "outputs": [],
   "source": [
    "import math\n",
    "predd=clf.predict(test_set)\n",
    "pred1=[]\n",
    "for i in predd:\n",
    "    pred1.append(round(i))"
   ]
  },
  {
   "cell_type": "code",
   "execution_count": 40,
   "metadata": {},
   "outputs": [],
   "source": [
    "sub=pd.DataFrame({\"Observation\":ids,\"Energy\":pred1})"
   ]
  },
  {
   "cell_type": "code",
   "execution_count": 41,
   "metadata": {},
   "outputs": [
    {
     "name": "stdout",
     "output_type": "stream",
     "text": [
      "   Energy  Observation\n",
      "0    71.0        50001\n",
      "1    84.0        50002\n",
      "2    64.0        50003\n",
      "3    70.0        50004\n",
      "4    58.0        50005\n"
     ]
    }
   ],
   "source": [
    "print(sub.head())"
   ]
  },
  {
   "cell_type": "code",
   "execution_count": 42,
   "metadata": {
    "collapsed": true
   },
   "outputs": [],
   "source": [
    "x=sub['Energy']\n",
    "del sub['Energy']\n",
    "sub['Energy']=x\n",
    "sub.to_csv('out.csv',index=False)"
   ]
  },
  {
   "cell_type": "code",
   "execution_count": null,
   "metadata": {
    "collapsed": true
   },
   "outputs": [],
   "source": []
  },
  {
   "cell_type": "code",
   "execution_count": null,
   "metadata": {
    "collapsed": true
   },
   "outputs": [],
   "source": []
  },
  {
   "cell_type": "code",
   "execution_count": null,
   "metadata": {
    "collapsed": true
   },
   "outputs": [],
   "source": []
  },
  {
   "cell_type": "code",
   "execution_count": null,
   "metadata": {
    "collapsed": true
   },
   "outputs": [],
   "source": []
  },
  {
   "cell_type": "code",
   "execution_count": null,
   "metadata": {
    "collapsed": true
   },
   "outputs": [],
   "source": []
  },
  {
   "cell_type": "code",
   "execution_count": null,
   "metadata": {
    "collapsed": true
   },
   "outputs": [],
   "source": []
  },
  {
   "cell_type": "code",
   "execution_count": null,
   "metadata": {
    "collapsed": true
   },
   "outputs": [],
   "source": []
  },
  {
   "cell_type": "code",
   "execution_count": 43,
   "metadata": {
    "collapsed": true
   },
   "outputs": [],
   "source": [
    "from sklearn.ensemble import RandomForestRegressor"
   ]
  },
  {
   "cell_type": "code",
   "execution_count": 47,
   "metadata": {
    "collapsed": true
   },
   "outputs": [],
   "source": [
    "clf2=RandomForestRegressor(n_jobs=-1,verbose=1)"
   ]
  },
  {
   "cell_type": "code",
   "execution_count": 48,
   "metadata": {},
   "outputs": [
    {
     "name": "stderr",
     "output_type": "stream",
     "text": [
      "[Parallel(n_jobs=-1)]: Done  10 out of  10 | elapsed:    1.5s finished\n"
     ]
    },
    {
     "data": {
      "text/plain": [
       "RandomForestRegressor(bootstrap=True, criterion='mse', max_depth=None,\n",
       "           max_features='auto', max_leaf_nodes=None,\n",
       "           min_impurity_decrease=0.0, min_impurity_split=None,\n",
       "           min_samples_leaf=1, min_samples_split=2,\n",
       "           min_weight_fraction_leaf=0.0, n_estimators=10, n_jobs=-1,\n",
       "           oob_score=False, random_state=None, verbose=1, warm_start=False)"
      ]
     },
     "execution_count": 48,
     "metadata": {},
     "output_type": "execute_result"
    }
   ],
   "source": [
    "clf2.fit(x_train,y_train)"
   ]
  },
  {
   "cell_type": "code",
   "execution_count": 49,
   "metadata": {},
   "outputs": [
    {
     "name": "stderr",
     "output_type": "stream",
     "text": [
      "[Parallel(n_jobs=4)]: Done  10 out of  10 | elapsed:    0.0s finished\n"
     ]
    },
    {
     "data": {
      "text/plain": [
       "0.46662248868012424"
      ]
     },
     "execution_count": 49,
     "metadata": {},
     "output_type": "execute_result"
    }
   ],
   "source": [
    "clf2.score(x_test,y_test)"
   ]
  },
  {
   "cell_type": "code",
   "execution_count": 50,
   "metadata": {},
   "outputs": [
    {
     "name": "stderr",
     "output_type": "stream",
     "text": [
      "[Parallel(n_jobs=4)]: Done  10 out of  10 | elapsed:    0.0s finished\n"
     ]
    }
   ],
   "source": [
    "pred=clf2.predict(test_set)"
   ]
  },
  {
   "cell_type": "code",
   "execution_count": 51,
   "metadata": {
    "collapsed": true
   },
   "outputs": [],
   "source": [
    "pred1=[]\n",
    "for i in pred:\n",
    "    pred1.append(round(i))"
   ]
  },
  {
   "cell_type": "code",
   "execution_count": 52,
   "metadata": {},
   "outputs": [
    {
     "name": "stdout",
     "output_type": "stream",
     "text": [
      "   Observation  Energy\n",
      "0        50001    65.0\n",
      "1        50002    74.0\n",
      "2        50003    50.0\n",
      "3        50004    67.0\n",
      "4        50005    40.0\n"
     ]
    }
   ],
   "source": [
    "sub=pd.DataFrame({\"Observation\":ids,\"Energy\":pred1})\n",
    "a=sub['Energy']\n",
    "del sub['Energy']\n",
    "sub['Energy']=a\n",
    "print(sub.head())"
   ]
  },
  {
   "cell_type": "code",
   "execution_count": 53,
   "metadata": {
    "collapsed": true
   },
   "outputs": [],
   "source": [
    "sub.to_csv('out.csv',index=False)"
   ]
  },
  {
   "cell_type": "code",
   "execution_count": null,
   "metadata": {
    "collapsed": true
   },
   "outputs": [],
   "source": []
  },
  {
   "cell_type": "code",
   "execution_count": null,
   "metadata": {
    "collapsed": true
   },
   "outputs": [],
   "source": []
  },
  {
   "cell_type": "code",
   "execution_count": null,
   "metadata": {
    "collapsed": true
   },
   "outputs": [],
   "source": []
  },
  {
   "cell_type": "code",
   "execution_count": null,
   "metadata": {
    "collapsed": true
   },
   "outputs": [],
   "source": []
  },
  {
   "cell_type": "code",
   "execution_count": null,
   "metadata": {
    "collapsed": true
   },
   "outputs": [],
   "source": []
  },
  {
   "cell_type": "code",
   "execution_count": null,
   "metadata": {},
   "outputs": [],
   "source": []
  },
  {
   "cell_type": "code",
   "execution_count": null,
   "metadata": {
    "collapsed": true
   },
   "outputs": [],
   "source": [
    "Variable name\tDescription\n",
    "Observation\tObservation ID\n",
    "\n",
    "T1\tTemperature in kitchen area in Celsius\n",
    "RH_1\tHumidity in kitchen area in %\n",
    "T2\tTemperature in living room area in Celsius\n",
    "RH_2\tHumidity in living room area in %\n",
    "T3\tTemperature in laundry room area in Celsius\n",
    "RH_3\tHumidity in laundry room area in %\n",
    "T4\tTemperature in office room in Celsius\n",
    "RH_4\tHumidity in office room in %\n",
    "T5\tTemperature in bathroom in Celsius\n",
    "RH_5\tHumidity in bathroom in %\n",
    "T6\tTemperature outside the building (north side) in Celsius\n",
    "RH_6\tHumidity outside the building (north side) in %\n",
    "T7\tTemperature in ironing room in Celsius\n",
    "RH_7\tHumidity in ironing room in %\n",
    "T8\tTemperature in teenager room 2 in Celsius\n",
    "RH_8\tHumidity in teenager room 2 in %\n",
    "T9\tTemperature in parents room in Celsius\n",
    "RH_9\tHumidity in parents room in %\n",
    "To\tTemperature outside in Celsius\n",
    "Pressure\tOutside pressure in mm Hg\n",
    "RH_out\tHumidity outside in %\n",
    "Wind speed\tSpeed of wind outside in m/s\n",
    "Visibility\tVisibility from outside measuring station in km\n",
    "Tdewpoint\tDew point temperature in Â°C\n",
    "Energy\tEnergy used by appliances in Wh"
   ]
  },
  {
   "cell_type": "code",
   "execution_count": 58,
   "metadata": {
    "collapsed": true
   },
   "outputs": [],
   "source": [
    "features=['T2','RH_2','T4','RH_4','T6','RH_6','T8','RH_8','T9','RH_9','To','Pressure','RH_out','Wind speed']\n",
    "target=['Energy']"
   ]
  },
  {
   "cell_type": "code",
   "execution_count": null,
   "metadata": {
    "collapsed": true
   },
   "outputs": [],
   "source": []
  },
  {
   "cell_type": "code",
   "execution_count": null,
   "metadata": {
    "collapsed": true
   },
   "outputs": [],
   "source": []
  },
  {
   "cell_type": "code",
   "execution_count": null,
   "metadata": {
    "collapsed": true
   },
   "outputs": [],
   "source": []
  },
  {
   "cell_type": "code",
   "execution_count": 55,
   "metadata": {
    "collapsed": true
   },
   "outputs": [],
   "source": [
    "train_set=pd.read_csv('train.csv')\n",
    "test_set=pd.read_csv('test.csv')"
   ]
  },
  {
   "cell_type": "code",
   "execution_count": 56,
   "metadata": {},
   "outputs": [
    {
     "name": "stdout",
     "output_type": "stream",
     "text": [
      "   Observation         T1    RH_1         T2       RH_2         T3       RH_3  \\\n",
      "0         1111  22.700000  37.200  21.000000  38.000000  23.390000  37.290000   \n",
      "1         1112  21.500000  41.045  20.500000  39.133333  22.926667  39.526667   \n",
      "2         1113  21.666667  38.000  22.600000  35.700000  21.890000  36.590000   \n",
      "3         1114  23.290000  38.530  21.671429  38.000000  24.290000  36.200000   \n",
      "4         1115  24.000000  42.560  26.830000  34.356000  26.530000  40.333333   \n",
      "\n",
      "          T4       RH_4         T5   ...         RH_8     T9       RH_9  \\\n",
      "0  22.832857  34.942857  20.500000   ...    45.360000  20.20  38.663333   \n",
      "1  21.700000  34.126667  18.633333   ...    34.663333  19.73  37.933333   \n",
      "2  22.000000  35.530000  19.000000   ...    38.545000  19.79  39.430000   \n",
      "3  23.100000  35.090000  22.042857   ...    38.600000  22.60  36.194286   \n",
      "4  24.500000  40.900000  21.500000   ...    44.230000  22.60  44.090000   \n",
      "\n",
      "   T_out  Press_mm_hg     RH_out  Windspeed  Visibility  Tdewpoint  Energy  \n",
      "0  12.80   760.050000  62.000000        3.5        28.0       5.65      70  \n",
      "1   8.47   764.166667  48.166667        8.0        26.5      -1.92     210  \n",
      "2  10.60   757.600000  57.000000        2.0        27.0       2.40      50  \n",
      "3  11.60   760.600000  63.000000        1.0        40.0       4.67      50  \n",
      "4  17.70   756.983333  63.000000        1.0        21.5      10.40     250  \n",
      "\n",
      "[5 rows x 26 columns]\n"
     ]
    }
   ],
   "source": [
    "print(train_set.head())"
   ]
  },
  {
   "cell_type": "code",
   "execution_count": 62,
   "metadata": {},
   "outputs": [
    {
     "name": "stdout",
     "output_type": "stream",
     "text": [
      "Index(['Observation', 'T1', 'RH_1', 'T2', 'RH_2', 'T3', 'RH_3', 'T4', 'RH_4',\n",
      "       'T5', 'RH_5', 'T6', 'RH_6', 'T7', 'RH_7', 'T8', 'RH_8', 'T9', 'RH_9',\n",
      "       'T_out', 'Press_mm_hg', 'RH_out', 'Windspeed', 'Visibility',\n",
      "       'Tdewpoint', 'Energy'],\n",
      "      dtype='object')\n"
     ]
    }
   ],
   "source": [
    "#train=train_set[features]\n",
    "#y=train_set[target]\n",
    "#test=test_set[features]\n",
    "print(train_set.columns)"
   ]
  },
  {
   "cell_type": "code",
   "execution_count": 63,
   "metadata": {},
   "outputs": [
    {
     "name": "stdout",
     "output_type": "stream",
     "text": [
      "Index(['Observation', 'T1', 'RH_1', 'T2', 'RH_2', 'T3', 'RH_3', 'T4', 'RH_4',\n",
      "       'T5', 'RH_5', 'T6', 'RH_6', 'T7', 'RH_7', 'T8', 'RH_8', 'T9', 'RH_9',\n",
      "       'T_out', 'Press_mm_hg', 'RH_out', 'Windspeed', 'Visibility',\n",
      "       'Tdewpoint'],\n",
      "      dtype='object')\n"
     ]
    }
   ],
   "source": [
    "print(test_set.columns)"
   ]
  },
  {
   "cell_type": "code",
   "execution_count": 67,
   "metadata": {
    "collapsed": true
   },
   "outputs": [],
   "source": [
    "features=['T2','RH_2','T4','RH_4','T6','RH_6','T8','RH_8','T9','RH_9','T_out','Press_mm_hg','RH_out','Windspeed']\n",
    "target=['Energy']"
   ]
  },
  {
   "cell_type": "code",
   "execution_count": 69,
   "metadata": {},
   "outputs": [],
   "source": [
    "train=train_set[features]\n",
    "y=train_set[target]\n",
    "test=test_set[features]"
   ]
  },
  {
   "cell_type": "code",
   "execution_count": 81,
   "metadata": {},
   "outputs": [],
   "source": [
    "from xgboost import XGBRegressor\n",
    "from sklearn.model_selection import train_test_split\n",
    "from sklearn.model_selection import cross_val_score"
   ]
  },
  {
   "cell_type": "code",
   "execution_count": 73,
   "metadata": {
    "collapsed": true
   },
   "outputs": [],
   "source": [
    "clf=XGBRegressor()"
   ]
  },
  {
   "cell_type": "code",
   "execution_count": 76,
   "metadata": {
    "collapsed": true
   },
   "outputs": [],
   "source": [
    "x_train,x_test,y_train,y_test=train_test_split(train,y,test_size=0.1)"
   ]
  },
  {
   "cell_type": "code",
   "execution_count": 77,
   "metadata": {},
   "outputs": [
    {
     "data": {
      "text/plain": [
       "XGBRegressor(base_score=0.5, colsample_bylevel=1, colsample_bytree=1, gamma=0,\n",
       "       learning_rate=0.1, max_delta_step=0, max_depth=3,\n",
       "       min_child_weight=1, missing=None, n_estimators=100, nthread=-1,\n",
       "       objective='reg:linear', reg_alpha=0, reg_lambda=1,\n",
       "       scale_pos_weight=1, seed=0, silent=True, subsample=1)"
      ]
     },
     "execution_count": 77,
     "metadata": {},
     "output_type": "execute_result"
    }
   ],
   "source": [
    "clf.fit(x_train,y_train)"
   ]
  },
  {
   "cell_type": "code",
   "execution_count": null,
   "metadata": {
    "collapsed": true
   },
   "outputs": [],
   "source": [
    "pred=clf.predict()"
   ]
  },
  {
   "cell_type": "code",
   "execution_count": 82,
   "metadata": {},
   "outputs": [],
   "source": [
    "scores = cross_val_score(clf, train, y, cv=10)"
   ]
  },
  {
   "cell_type": "code",
   "execution_count": 84,
   "metadata": {},
   "outputs": [
    {
     "name": "stdout",
     "output_type": "stream",
     "text": [
      "0.205654005851\n"
     ]
    }
   ],
   "source": [
    "print(scores.mean())"
   ]
  },
  {
   "cell_type": "code",
   "execution_count": 85,
   "metadata": {
    "collapsed": true
   },
   "outputs": [],
   "source": [
    "clf1=RandomForestRegressor()"
   ]
  },
  {
   "cell_type": "code",
   "execution_count": 86,
   "metadata": {},
   "outputs": [
    {
     "name": "stderr",
     "output_type": "stream",
     "text": [
      "/home/pritam/anaconda3/lib/python3.6/site-packages/ipykernel_launcher.py:1: DataConversionWarning: A column-vector y was passed when a 1d array was expected. Please change the shape of y to (n_samples,), for example using ravel().\n",
      "  \"\"\"Entry point for launching an IPython kernel.\n"
     ]
    },
    {
     "data": {
      "text/plain": [
       "RandomForestRegressor(bootstrap=True, criterion='mse', max_depth=None,\n",
       "           max_features='auto', max_leaf_nodes=None,\n",
       "           min_impurity_decrease=0.0, min_impurity_split=None,\n",
       "           min_samples_leaf=1, min_samples_split=2,\n",
       "           min_weight_fraction_leaf=0.0, n_estimators=10, n_jobs=1,\n",
       "           oob_score=False, random_state=None, verbose=0, warm_start=False)"
      ]
     },
     "execution_count": 86,
     "metadata": {},
     "output_type": "execute_result"
    }
   ],
   "source": [
    "clf1.fit(x_train,y_train)"
   ]
  },
  {
   "cell_type": "code",
   "execution_count": 88,
   "metadata": {},
   "outputs": [
    {
     "name": "stderr",
     "output_type": "stream",
     "text": [
      "/home/pritam/anaconda3/lib/python3.6/site-packages/sklearn/model_selection/_validation.py:458: DataConversionWarning: A column-vector y was passed when a 1d array was expected. Please change the shape of y to (n_samples,), for example using ravel().\n",
      "  estimator.fit(X_train, y_train, **fit_params)\n",
      "/home/pritam/anaconda3/lib/python3.6/site-packages/sklearn/model_selection/_validation.py:458: DataConversionWarning: A column-vector y was passed when a 1d array was expected. Please change the shape of y to (n_samples,), for example using ravel().\n",
      "  estimator.fit(X_train, y_train, **fit_params)\n",
      "/home/pritam/anaconda3/lib/python3.6/site-packages/sklearn/model_selection/_validation.py:458: DataConversionWarning: A column-vector y was passed when a 1d array was expected. Please change the shape of y to (n_samples,), for example using ravel().\n",
      "  estimator.fit(X_train, y_train, **fit_params)\n",
      "/home/pritam/anaconda3/lib/python3.6/site-packages/sklearn/model_selection/_validation.py:458: DataConversionWarning: A column-vector y was passed when a 1d array was expected. Please change the shape of y to (n_samples,), for example using ravel().\n",
      "  estimator.fit(X_train, y_train, **fit_params)\n",
      "/home/pritam/anaconda3/lib/python3.6/site-packages/sklearn/model_selection/_validation.py:458: DataConversionWarning: A column-vector y was passed when a 1d array was expected. Please change the shape of y to (n_samples,), for example using ravel().\n",
      "  estimator.fit(X_train, y_train, **fit_params)\n"
     ]
    }
   ],
   "source": [
    "scores=cross_val_score(clf1,train,y,cv=5)"
   ]
  },
  {
   "cell_type": "code",
   "execution_count": 89,
   "metadata": {},
   "outputs": [
    {
     "name": "stdout",
     "output_type": "stream",
     "text": [
      "0.498827688212\n"
     ]
    }
   ],
   "source": [
    "print(scores.mean())"
   ]
  },
  {
   "cell_type": "code",
   "execution_count": 90,
   "metadata": {
    "collapsed": true
   },
   "outputs": [],
   "source": [
    "from sklearn.linear_model import LinearRegression"
   ]
  },
  {
   "cell_type": "code",
   "execution_count": 91,
   "metadata": {
    "collapsed": true
   },
   "outputs": [],
   "source": [
    "clf2=LinearRegression()"
   ]
  },
  {
   "cell_type": "code",
   "execution_count": 92,
   "metadata": {},
   "outputs": [
    {
     "data": {
      "text/plain": [
       "LinearRegression(copy_X=True, fit_intercept=True, n_jobs=1, normalize=False)"
      ]
     },
     "execution_count": 92,
     "metadata": {},
     "output_type": "execute_result"
    }
   ],
   "source": [
    "clf2.fit(x_train,y_train)"
   ]
  },
  {
   "cell_type": "code",
   "execution_count": 93,
   "metadata": {
    "collapsed": true
   },
   "outputs": [],
   "source": [
    "scores=cross_val_score(clf2,train,y,cv=10)"
   ]
  },
  {
   "cell_type": "code",
   "execution_count": 94,
   "metadata": {},
   "outputs": [
    {
     "name": "stdout",
     "output_type": "stream",
     "text": [
      "[ 0.0659963   0.06874073  0.07755487  0.06496781  0.06647383  0.07443867\n",
      "  0.07681347  0.08570436  0.07518584  0.08250995]\n"
     ]
    }
   ],
   "source": [
    "print(scores)"
   ]
  },
  {
   "cell_type": "code",
   "execution_count": 95,
   "metadata": {},
   "outputs": [
    {
     "name": "stdout",
     "output_type": "stream",
     "text": [
      "0.0738385839057\n"
     ]
    }
   ],
   "source": [
    "print(scores.mean())"
   ]
  },
  {
   "cell_type": "code",
   "execution_count": 96,
   "metadata": {
    "collapsed": true
   },
   "outputs": [],
   "source": [
    "from sklearn.tree import DecisionTreeRegressor"
   ]
  },
  {
   "cell_type": "code",
   "execution_count": 97,
   "metadata": {
    "collapsed": true
   },
   "outputs": [],
   "source": [
    "clf3=DecisionTreeRegressor()"
   ]
  },
  {
   "cell_type": "code",
   "execution_count": 98,
   "metadata": {},
   "outputs": [
    {
     "data": {
      "text/plain": [
       "DecisionTreeRegressor(criterion='mse', max_depth=None, max_features=None,\n",
       "           max_leaf_nodes=None, min_impurity_decrease=0.0,\n",
       "           min_impurity_split=None, min_samples_leaf=1,\n",
       "           min_samples_split=2, min_weight_fraction_leaf=0.0,\n",
       "           presort=False, random_state=None, splitter='best')"
      ]
     },
     "execution_count": 98,
     "metadata": {},
     "output_type": "execute_result"
    }
   ],
   "source": [
    "clf3.fit(x_train,y_train)"
   ]
  },
  {
   "cell_type": "code",
   "execution_count": 99,
   "metadata": {
    "collapsed": true
   },
   "outputs": [],
   "source": [
    "scores=cross_val_score(clf3,train,y,cv=5)"
   ]
  },
  {
   "cell_type": "code",
   "execution_count": 100,
   "metadata": {},
   "outputs": [
    {
     "name": "stdout",
     "output_type": "stream",
     "text": [
      "[ 0.20711274  0.13193805  0.19704905  0.15910925  0.25969104]\n"
     ]
    }
   ],
   "source": [
    "print(scores)"
   ]
  },
  {
   "cell_type": "code",
   "execution_count": 101,
   "metadata": {},
   "outputs": [
    {
     "name": "stdout",
     "output_type": "stream",
     "text": [
      "          T2       RH_2         T4       RH_4         T6       RH_6  \\\n",
      "0  21.000000  38.000000  22.832857  34.942857  12.533333   9.633333   \n",
      "1  20.500000  39.133333  21.700000  34.126667  10.190000  11.926667   \n",
      "2  22.600000  35.700000  22.000000  35.530000  10.360000  21.533333   \n",
      "3  21.671429  38.000000  23.100000  35.090000  10.390000   9.590000   \n",
      "4  26.830000  34.356000  24.500000  40.900000  20.290000   1.000000   \n",
      "\n",
      "          T8       RH_8     T9       RH_9  T_out  Press_mm_hg     RH_out  \\\n",
      "0  22.700000  45.360000  20.20  38.663333  12.80   760.050000  62.000000   \n",
      "1  22.926667  34.663333  19.73  37.933333   8.47   764.166667  48.166667   \n",
      "2  21.890000  38.545000  19.79  39.430000  10.60   757.600000  57.000000   \n",
      "3  24.890000  38.600000  22.60  36.194286  11.60   760.600000  63.000000   \n",
      "4  23.390000  44.230000  22.60  44.090000  17.70   756.983333  63.000000   \n",
      "\n",
      "   Windspeed  \n",
      "0        3.5  \n",
      "1        8.0  \n",
      "2        2.0  \n",
      "3        1.0  \n",
      "4        1.0  \n"
     ]
    }
   ],
   "source": [
    "print(train.head())"
   ]
  },
  {
   "cell_type": "code",
   "execution_count": 102,
   "metadata": {
    "collapsed": true
   },
   "outputs": [],
   "source": [
    "from sklearn import preprocessing"
   ]
  },
  {
   "cell_type": "code",
   "execution_count": 103,
   "metadata": {
    "collapsed": true
   },
   "outputs": [],
   "source": [
    "train=preprocessing.scale(train)"
   ]
  },
  {
   "cell_type": "code",
   "execution_count": 119,
   "metadata": {
    "collapsed": true
   },
   "outputs": [],
   "source": [
    "x_train,x_test,y_train,y_test=train_test_split(train,y,test_size=0.6)"
   ]
  },
  {
   "cell_type": "code",
   "execution_count": 120,
   "metadata": {},
   "outputs": [
    {
     "name": "stderr",
     "output_type": "stream",
     "text": [
      "/home/pritam/anaconda3/lib/python3.6/site-packages/ipykernel_launcher.py:1: DataConversionWarning: A column-vector y was passed when a 1d array was expected. Please change the shape of y to (n_samples,), for example using ravel().\n",
      "  \"\"\"Entry point for launching an IPython kernel.\n"
     ]
    },
    {
     "data": {
      "text/plain": [
       "RandomForestRegressor(bootstrap=True, criterion='mse', max_depth=None,\n",
       "           max_features='auto', max_leaf_nodes=None,\n",
       "           min_impurity_decrease=0.0, min_impurity_split=None,\n",
       "           min_samples_leaf=1, min_samples_split=2,\n",
       "           min_weight_fraction_leaf=0.0, n_estimators=10, n_jobs=1,\n",
       "           oob_score=False, random_state=None, verbose=0, warm_start=False)"
      ]
     },
     "execution_count": 120,
     "metadata": {},
     "output_type": "execute_result"
    }
   ],
   "source": [
    "clf1.fit(x_train,y_train)"
   ]
  },
  {
   "cell_type": "code",
   "execution_count": 121,
   "metadata": {},
   "outputs": [
    {
     "name": "stderr",
     "output_type": "stream",
     "text": [
      "/home/pritam/anaconda3/lib/python3.6/site-packages/sklearn/model_selection/_validation.py:458: DataConversionWarning: A column-vector y was passed when a 1d array was expected. Please change the shape of y to (n_samples,), for example using ravel().\n",
      "  estimator.fit(X_train, y_train, **fit_params)\n",
      "/home/pritam/anaconda3/lib/python3.6/site-packages/sklearn/model_selection/_validation.py:458: DataConversionWarning: A column-vector y was passed when a 1d array was expected. Please change the shape of y to (n_samples,), for example using ravel().\n",
      "  estimator.fit(X_train, y_train, **fit_params)\n",
      "/home/pritam/anaconda3/lib/python3.6/site-packages/sklearn/model_selection/_validation.py:458: DataConversionWarning: A column-vector y was passed when a 1d array was expected. Please change the shape of y to (n_samples,), for example using ravel().\n",
      "  estimator.fit(X_train, y_train, **fit_params)\n",
      "/home/pritam/anaconda3/lib/python3.6/site-packages/sklearn/model_selection/_validation.py:458: DataConversionWarning: A column-vector y was passed when a 1d array was expected. Please change the shape of y to (n_samples,), for example using ravel().\n",
      "  estimator.fit(X_train, y_train, **fit_params)\n",
      "/home/pritam/anaconda3/lib/python3.6/site-packages/sklearn/model_selection/_validation.py:458: DataConversionWarning: A column-vector y was passed when a 1d array was expected. Please change the shape of y to (n_samples,), for example using ravel().\n",
      "  estimator.fit(X_train, y_train, **fit_params)\n"
     ]
    }
   ],
   "source": [
    "scores=cross_val_score(clf1,train,y,cv=5)"
   ]
  },
  {
   "cell_type": "code",
   "execution_count": 122,
   "metadata": {},
   "outputs": [
    {
     "name": "stdout",
     "output_type": "stream",
     "text": [
      "[ 0.50246622  0.48400211  0.49098968  0.50425657  0.50729478]\n"
     ]
    }
   ],
   "source": [
    "print(scores)"
   ]
  },
  {
   "cell_type": "code",
   "execution_count": 123,
   "metadata": {},
   "outputs": [
    {
     "name": "stdout",
     "output_type": "stream",
     "text": [
      "0.497801870795\n"
     ]
    }
   ],
   "source": [
    "print(scores.mean())"
   ]
  },
  {
   "cell_type": "code",
   "execution_count": 124,
   "metadata": {
    "collapsed": true
   },
   "outputs": [],
   "source": [
    "import seaborn as sns"
   ]
  },
  {
   "cell_type": "code",
   "execution_count": 127,
   "metadata": {
    "collapsed": true
   },
   "outputs": [],
   "source": [
    "train=train_set[features]"
   ]
  },
  {
   "cell_type": "code",
   "execution_count": 135,
   "metadata": {},
   "outputs": [
    {
     "name": "stdout",
     "output_type": "stream",
     "text": [
      "Index(['Observation', 'T1', 'RH_1', 'T2', 'RH_2', 'T3', 'RH_3', 'T4', 'RH_4',\n",
      "       'T5', 'RH_5', 'T6', 'RH_6', 'T7', 'RH_7', 'T8', 'RH_8', 'T9', 'RH_9',\n",
      "       'T_out', 'Press_mm_hg', 'RH_out', 'Windspeed', 'Visibility',\n",
      "       'Tdewpoint', 'Energy'],\n",
      "      dtype='object')\n"
     ]
    }
   ],
   "source": [
    "print(train_set.columns)"
   ]
  },
  {
   "cell_type": "code",
   "execution_count": 149,
   "metadata": {},
   "outputs": [
    {
     "name": "stdout",
     "output_type": "stream",
     "text": [
      "Index(['Energy'], dtype='object')\n",
      "Index(['Observation', 'T1', 'RH_1', 'T2', 'RH_2', 'T3', 'RH_3', 'T4', 'RH_4',\n",
      "       'T5', 'RH_5', 'T6', 'RH_6', 'T7', 'RH_7', 'T8', 'RH_8', 'T9', 'RH_9',\n",
      "       'T_out', 'Press_mm_hg', 'RH_out', 'Windspeed', 'Visibility',\n",
      "       'Tdewpoint', 'Energy'],\n",
      "      dtype='object')\n"
     ]
    }
   ],
   "source": [
    "print(y.columns)\n",
    "print(train_set.columns)"
   ]
  },
  {
   "cell_type": "code",
   "execution_count": 164,
   "metadata": {},
   "outputs": [
    {
     "data": {
      "text/plain": [
       "<matplotlib.collections.PathCollection at 0x7fe6ba40d5c0>"
      ]
     },
     "execution_count": 164,
     "metadata": {},
     "output_type": "execute_result"
    },
    {
     "data": {
      "image/png": "[encoded data removed]",
      "text/plain": [
       "<matplotlib.figure.Figure at 0x7fe6ba4a4710>"
      ]
     },
     "metadata": {},
     "output_type": "display_data"
    }
   ],
   "source": [
    "fig=plt.figure(figsize=(5,5))\n",
    "plt.scatter(train_set['Tdewpoint'],y['Energy'])"
   ]
  },
  {
   "cell_type": "code",
   "execution_count": 165,
   "metadata": {
    "collapsed": true
   },
   "outputs": [],
   "source": [
    "useful_feature=['T9','T_out','Windspeed','RH_1','RH_2','RH_3','RH_4','RH_5']\n",
    "train=train_set[useful_feature]\n",
    "y=train_set[target]\n",
    "x_train,x_test,y_train,y_test=train_test_split(train,y,test_size=0.1,random_state=42)"
   ]
  },
  {
   "cell_type": "code",
   "execution_count": 166,
   "metadata": {},
   "outputs": [
    {
     "data": {
      "text/plain": [
       "XGBRegressor(base_score=0.5, colsample_bylevel=1, colsample_bytree=1, gamma=0,\n",
       "       learning_rate=0.1, max_delta_step=0, max_depth=3,\n",
       "       min_child_weight=1, missing=None, n_estimators=100, nthread=-1,\n",
       "       objective='reg:linear', reg_alpha=0, reg_lambda=1,\n",
       "       scale_pos_weight=1, seed=0, silent=True, subsample=1)"
      ]
     },
     "execution_count": 166,
     "metadata": {},
     "output_type": "execute_result"
    }
   ],
   "source": [
    "clf.fit(x_train,y_train)"
   ]
  },
  {
   "cell_type": "code",
   "execution_count": 167,
   "metadata": {},
   "outputs": [
    {
     "name": "stderr",
     "output_type": "stream",
     "text": [
      "/home/pritam/anaconda3/lib/python3.6/site-packages/sklearn/model_selection/_validation.py:458: DataConversionWarning: A column-vector y was passed when a 1d array was expected. Please change the shape of y to (n_samples,), for example using ravel().\n",
      "  estimator.fit(X_train, y_train, **fit_params)\n",
      "/home/pritam/anaconda3/lib/python3.6/site-packages/sklearn/model_selection/_validation.py:458: DataConversionWarning: A column-vector y was passed when a 1d array was expected. Please change the shape of y to (n_samples,), for example using ravel().\n",
      "  estimator.fit(X_train, y_train, **fit_params)\n",
      "/home/pritam/anaconda3/lib/python3.6/site-packages/sklearn/model_selection/_validation.py:458: DataConversionWarning: A column-vector y was passed when a 1d array was expected. Please change the shape of y to (n_samples,), for example using ravel().\n",
      "  estimator.fit(X_train, y_train, **fit_params)\n",
      "/home/pritam/anaconda3/lib/python3.6/site-packages/sklearn/model_selection/_validation.py:458: DataConversionWarning: A column-vector y was passed when a 1d array was expected. Please change the shape of y to (n_samples,), for example using ravel().\n",
      "  estimator.fit(X_train, y_train, **fit_params)\n",
      "/home/pritam/anaconda3/lib/python3.6/site-packages/sklearn/model_selection/_validation.py:458: DataConversionWarning: A column-vector y was passed when a 1d array was expected. Please change the shape of y to (n_samples,), for example using ravel().\n",
      "  estimator.fit(X_train, y_train, **fit_params)\n"
     ]
    }
   ],
   "source": [
    "scores=cross_val_score(clf1,train,y,cv=5)"
   ]
  },
  {
   "cell_type": "code",
   "execution_count": 168,
   "metadata": {},
   "outputs": [
    {
     "name": "stdout",
     "output_type": "stream",
     "text": [
      "[ 0.42386634  0.43051303  0.41942247  0.46612264  0.43397847]\n"
     ]
    }
   ],
   "source": [
    "print(scores)"
   ]
  },
  {
   "cell_type": "code",
   "execution_count": 169,
   "metadata": {},
   "outputs": [
    {
     "name": "stdout",
     "output_type": "stream",
     "text": [
      "0.434780590568\n"
     ]
    }
   ],
   "source": [
    "print(scores.mean())"
   ]
  },
  {
   "cell_type": "code",
   "execution_count": 170,
   "metadata": {},
   "outputs": [
    {
     "name": "stdout",
     "output_type": "stream",
     "text": [
      "<class 'pandas.core.frame.DataFrame'>\n",
      "RangeIndex: 15780 entries, 0 to 15779\n",
      "Data columns (total 26 columns):\n",
      "Observation    15780 non-null int64\n",
      "T1             15780 non-null float64\n",
      "RH_1           15780 non-null float64\n",
      "T2             15780 non-null float64\n",
      "RH_2           15780 non-null float64\n",
      "T3             15780 non-null float64\n",
      "RH_3           15780 non-null float64\n",
      "T4             15780 non-null float64\n",
      "RH_4           15780 non-null float64\n",
      "T5             15780 non-null float64\n",
      "RH_5           15780 non-null float64\n",
      "T6             15780 non-null float64\n",
      "RH_6           15780 non-null float64\n",
      "T7             15780 non-null float64\n",
      "RH_7           15780 non-null float64\n",
      "T8             15780 non-null float64\n",
      "RH_8           15780 non-null float64\n",
      "T9             15780 non-null float64\n",
      "RH_9           15780 non-null float64\n",
      "T_out          15780 non-null float64\n",
      "Press_mm_hg    15780 non-null float64\n",
      "RH_out         15780 non-null float64\n",
      "Windspeed      15780 non-null float64\n",
      "Visibility     15780 non-null float64\n",
      "Tdewpoint      15780 non-null float64\n",
      "Energy         15780 non-null int64\n",
      "dtypes: float64(24), int64(2)\n",
      "memory usage: 3.1 MB\n",
      "None\n"
     ]
    }
   ],
   "source": [
    "print(train_set.info())"
   ]
  },
  {
   "cell_type": "code",
   "execution_count": 172,
   "metadata": {},
   "outputs": [],
   "source": [
    "x_train,x_test,y_train,y_test=train_test_split(train_set.drop(['Energy'],axis=1),train_set['Energy'],test_size=0.1)"
   ]
  },
  {
   "cell_type": "code",
   "execution_count": 173,
   "metadata": {
    "collapsed": true
   },
   "outputs": [],
   "source": [
    "from xgboost import XGBClassifier"
   ]
  },
  {
   "cell_type": "code",
   "execution_count": 174,
   "metadata": {
    "collapsed": true
   },
   "outputs": [],
   "source": [
    "clf=XGBClassifier()"
   ]
  },
  {
   "cell_type": "code",
   "execution_count": 175,
   "metadata": {},
   "outputs": [
    {
     "data": {
      "text/plain": [
       "XGBClassifier(base_score=0.5, colsample_bylevel=1, colsample_bytree=1,\n",
       "       gamma=0, learning_rate=0.1, max_delta_step=0, max_depth=3,\n",
       "       min_child_weight=1, missing=None, n_estimators=100, nthread=-1,\n",
       "       objective='multi:softprob', reg_alpha=0, reg_lambda=1,\n",
       "       scale_pos_weight=1, seed=0, silent=True, subsample=1)"
      ]
     },
     "execution_count": 175,
     "metadata": {},
     "output_type": "execute_result"
    }
   ],
   "source": [
    "clf.fit(x_train,y_train)"
   ]
  },
  {
   "cell_type": "code",
   "execution_count": null,
   "metadata": {},
   "outputs": [
    {
     "name": "stderr",
     "output_type": "stream",
     "text": [
      "/home/pritam/anaconda3/lib/python3.6/site-packages/sklearn/model_selection/_split.py:605: Warning: The least populated class in y has only 2 members, which is too few. The minimum number of members in any class cannot be less than n_splits=5.\n",
      "  % (min_groups, self.n_splits)), Warning)\n"
     ]
    }
   ],
   "source": [
    "scores=cross_val_score(clf,train_set.drop(['Energy'],axis=1),train_set['Energy'],cv=5)"
   ]
  },
  {
   "cell_type": "code",
   "execution_count": null,
   "metadata": {
    "collapsed": true
   },
   "outputs": [],
   "source": [
    "print(scores)"
   ]
  }
 ],
 "metadata": {
  "kernelspec": {
   "display_name": "Python 3",
   "language": "python",
   "name": "python3"
  },
  "language_info": {
   "codemirror_mode": {
    "name": "ipython",
    "version": 3
   },
   "file_extension": ".py",
   "mimetype": "text/x-python",
   "name": "python",
   "nbconvert_exporter": "python",
   "pygments_lexer": "ipython3",
   "version": "3.6.3"
  }
 },
 "nbformat": 4,
 "nbformat_minor": 2
}
