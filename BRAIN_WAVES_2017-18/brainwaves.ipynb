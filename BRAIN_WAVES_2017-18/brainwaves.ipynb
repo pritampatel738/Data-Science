{
 "cells": [
  {
   "cell_type": "code",
   "execution_count": 1,
   "metadata": {
    "collapsed": true
   },
   "outputs": [],
   "source": [
    "import pandas as pd\n",
    "import numpy as np\n",
    "import matplotlib.pyplot as plt\n",
    "%matplotlib inline\n",
    "from sklearn.model_selection import train_test_split\n",
    "from sklearn.svm import SVC\n",
    "from sklearn.linear_model import LogisticRegression\n"
   ]
  },
  {
   "cell_type": "code",
   "execution_count": 83,
   "metadata": {},
   "outputs": [
    {
     "name": "stdout",
     "output_type": "stream",
     "text": [
      "  portfolio_id      desk_id    office_id pf_category  start_date         sold  \\\n",
      "0   PF00001002  DSK00001001  OFF00001002           B    20040720  110000000.0   \n",
      "1   PF00001003  DSK00001002  OFF00001001           A    20040709  176671000.0   \n",
      "2   PF00001005  DSK00001004  OFF00001001           A    20040723   56474000.0   \n",
      "3   PF00001006  DSK00001005  OFF00001001           A    20040609  164813000.0   \n",
      "4   PF00001007  DSK00001005  OFF00001002           B    20040609  140800000.0   \n",
      "\n",
      "  country_code  euribor_rate currency  libor_rate        bought  \\\n",
      "0            T       0.02074      USD    2.332216  1.098097e+08   \n",
      "1            N       0.02074      GBP    5.269617  1.760084e+08   \n",
      "2            T       0.02074      USD    2.332216  5.637953e+07   \n",
      "3            T       0.02074      USD    2.332216  1.645088e+08   \n",
      "4            T       0.02074      USD    2.332216  1.405402e+08   \n",
      "\n",
      "   creation_date indicator_code  sell_date type hedge_value status   return  \n",
      "0       20040720            NaN   20040812    B         NaN    NaN  0.02496  \n",
      "1       20040723            NaN   20040812    C         NaN    NaN  0.05496  \n",
      "2       20040723            NaN   20040817    A         NaN    NaN  0.02496  \n",
      "3       20040723            NaN   20040713    A         NaN    NaN  0.02496  \n",
      "4       20040723            NaN   20040713    B         NaN    NaN  0.02496  \n"
     ]
    }
   ],
   "source": [
    "train_set=pd.read_csv('./train.csv')\n",
    "test_set=pd.read_csv('./test.csv')\n",
    "print(train_set.head())\n",
    "#print(test_set.head())"
   ]
  },
  {
   "cell_type": "code",
   "execution_count": 6,
   "metadata": {},
   "outputs": [
    {
     "name": "stdout",
     "output_type": "stream",
     "text": [
      "count    9.364000e+03\n",
      "mean     1.019740e+08\n",
      "std      1.928066e+08\n",
      "min      1.100000e+00\n",
      "25%      2.763200e+07\n",
      "50%      5.517050e+07\n",
      "75%      1.144632e+08\n",
      "max      1.320000e+10\n",
      "Name: sold, dtype: float64\n",
      "9366\n"
     ]
    }
   ],
   "source": [
    "print(train_set['sold'].describe())\n",
    "print(len(train_set['sold']))"
   ]
  },
  {
   "cell_type": "code",
   "execution_count": 8,
   "metadata": {},
   "outputs": [
    {
     "name": "stdout",
     "output_type": "stream",
     "text": [
      "0       PF00001001\n",
      "1       PF00001004\n",
      "2       PF00001009\n",
      "3       PF00001013\n",
      "4       PF00001014\n",
      "5       PF00001015\n",
      "6       PF00001017\n",
      "7       PF00001023\n",
      "8       PF00001024\n",
      "9       PF00001025\n",
      "10      PF00001028\n",
      "11      PF00001032\n",
      "12      PF00001036\n",
      "13      PF00001041\n",
      "14      PF00001045\n",
      "15      PF00001047\n",
      "16      PF00001049\n",
      "17      PF00001053\n",
      "18      PF00001060\n",
      "19      PF00001067\n",
      "20      PF00001068\n",
      "21      PF00001069\n",
      "22      PF00001077\n",
      "23      PF00001078\n",
      "24      PF00001085\n",
      "25      PF00001086\n",
      "26      PF00001087\n",
      "27      PF00001088\n",
      "28      PF00001092\n",
      "29      PF00001095\n",
      "           ...    \n",
      "4771    PF00014432\n",
      "4772    PF00014465\n",
      "4773    PF00014643\n",
      "4774    PF00014644\n",
      "4775    PF00014645\n",
      "4776    PF00014717\n",
      "4777    PF00014757\n",
      "4778    PF00014750\n",
      "4779    PF00014751\n",
      "4780    PF00014752\n",
      "4781    PF00014754\n",
      "4782    PF00014756\n",
      "4783    PF00014769\n",
      "4784    PF00014772\n",
      "4785    PF00014774\n",
      "4786    PF00014777\n",
      "4787    PF00014826\n",
      "4788    PF00015291\n",
      "4789    PF00013540\n",
      "4790    PF00013541\n",
      "4791    PF00013543\n",
      "4792    PF00013544\n",
      "4793    PF00013742\n",
      "4794    PF00014031\n",
      "4795    PF00014093\n",
      "4796    PF00014118\n",
      "4797    PF00014120\n",
      "4798    PF00014123\n",
      "4799    PF00014127\n",
      "4800    PF00014147\n",
      "Name: portfolio_id, Length: 4801, dtype: object\n"
     ]
    }
   ],
   "source": [
    "port_id=test_set['portfolio_id']\n",
    "print(port_id)"
   ]
  },
  {
   "cell_type": "code",
   "execution_count": 10,
   "metadata": {
    "collapsed": true
   },
   "outputs": [],
   "source": [
    "def handle_non_numerical_data(df):\n",
    "    columns = df.columns.values\n",
    "    for column in columns:\n",
    "        text_digit_vals = {}\n",
    "        def convert_to_int(val):\n",
    "            return text_digit_vals[val]\n",
    "\n",
    "        if df[column].dtype != np.int64 and df[column].dtype != np.float64:\n",
    "            column_contents = df[column].values.tolist()\n",
    "            unique_elements = set(column_contents)\n",
    "            x = 0\n",
    "            for unique in unique_elements:\n",
    "                if unique not in text_digit_vals:\n",
    "                    text_digit_vals[unique] = x\n",
    "                    x+=1\n",
    "\n",
    "            df[column] = list(map(convert_to_int, df[column]))\n",
    "\n",
    "    return df\n",
    "\n",
    "#df = handle_non_numerical_data(df)\n",
    "#print(df.head())\n",
    "train_set=handle_non_numerical_data(train_set)\n",
    "test_set=handle_non_numerical_data(test_set)"
   ]
  },
  {
   "cell_type": "code",
   "execution_count": 11,
   "metadata": {},
   "outputs": [
    {
     "name": "stdout",
     "output_type": "stream",
     "text": [
      "   portfolio_id  desk_id  office_id  pf_category  start_date         sold  \\\n",
      "0          7241     3479          1            4    20040720  110000000.0   \n",
      "1          2914      526          0            3    20040709  176671000.0   \n",
      "2          8126     2538          0            3    20040723   56474000.0   \n",
      "3          1477     2645          0            3    20040609  164813000.0   \n",
      "4          4834     2645          1            4    20040609  140800000.0   \n",
      "\n",
      "   country_code  euribor_rate  currency  libor_rate        bought  \\\n",
      "0             1       0.02074         0    2.332216  1.098097e+08   \n",
      "1             3       0.02074         4    5.269617  1.760084e+08   \n",
      "2             1       0.02074         0    2.332216  5.637953e+07   \n",
      "3             1       0.02074         0    2.332216  1.645088e+08   \n",
      "4             1       0.02074         0    2.332216  1.405402e+08   \n",
      "\n",
      "   creation_date  indicator_code  sell_date  type  hedge_value  status  \\\n",
      "0       20040720               0   20040812     6            0       0   \n",
      "1       20040723               0   20040812     0            0       0   \n",
      "2       20040723               0   20040817     5            0       0   \n",
      "3       20040723               0   20040713     5            0       0   \n",
      "4       20040723               0   20040713     6            0       0   \n",
      "\n",
      "    return  \n",
      "0  0.02496  \n",
      "1  0.05496  \n",
      "2  0.02496  \n",
      "3  0.02496  \n",
      "4  0.02496  \n",
      "   portfolio_id  desk_id  office_id  pf_category  start_date         sold  \\\n",
      "0          2471     1921          0            0    20040720  171831000.0   \n",
      "1          4381      409          1            1    20040723   56485000.0   \n",
      "2           132     1775          0            0    20040607   41734000.0   \n",
      "3          4547      828          0            0    20040716   82951000.0   \n",
      "4          1292     1623          0            0    20040713   73293000.0   \n",
      "\n",
      "   country_code  euribor_rate  currency  libor_rate        bought  \\\n",
      "0             1       0.02074         0    2.332216  1.715337e+08   \n",
      "1             1       0.02074         0    2.332216  5.638038e+07   \n",
      "2             1       0.02074         0    2.332216  4.166179e+07   \n",
      "3             1       0.02074         0    2.332216  8.250936e+07   \n",
      "4             1       0.02074         0    2.332216  7.317055e+07   \n",
      "\n",
      "   creation_date  indicator_code  sell_date  type  hedge_value  status  \n",
      "0       20040720               0   20040812     4            0       0  \n",
      "1       20040723               0   20040719     5            0       0  \n",
      "2       20040726               0   20040709     4            0       0  \n",
      "3       20040726               0   20041019     4            0       0  \n",
      "4       20040726               0   20040813     4            0       0  \n"
     ]
    }
   ],
   "source": [
    "print(train_set.head())\n",
    "print(test_set.head())"
   ]
  },
  {
   "cell_type": "code",
   "execution_count": 12,
   "metadata": {},
   "outputs": [
    {
     "name": "stdout",
     "output_type": "stream",
     "text": [
      "Index(['portfolio_id', 'desk_id', 'office_id', 'pf_category', 'start_date',\n",
      "       'sold', 'country_code', 'euribor_rate', 'currency', 'libor_rate',\n",
      "       'bought', 'creation_date', 'indicator_code', 'sell_date', 'type',\n",
      "       'hedge_value', 'status', 'return'],\n",
      "      dtype='object')\n"
     ]
    }
   ],
   "source": [
    "print(train_set.columns)"
   ]
  },
  {
   "cell_type": "code",
   "execution_count": 16,
   "metadata": {
    "collapsed": true
   },
   "outputs": [],
   "source": [
    "feature=['portfolio_id', 'desk_id', 'office_id', 'pf_category', 'start_date',\n",
    "       'sold', 'country_code', 'euribor_rate', 'currency', 'libor_rate',\n",
    "       'bought', 'creation_date', 'indicator_code', 'sell_date', 'type',\n",
    "       'hedge_value', 'status']\n",
    "target=['return']"
   ]
  },
  {
   "cell_type": "code",
   "execution_count": 17,
   "metadata": {
    "collapsed": true
   },
   "outputs": [],
   "source": [
    "train=train_set[feature]\n",
    "test=test_set[feature]\n"
   ]
  },
  {
   "cell_type": "code",
   "execution_count": 52,
   "metadata": {},
   "outputs": [
    {
     "name": "stdout",
     "output_type": "stream",
     "text": [
      "   portfolio_id  desk_id  office_id  pf_category  start_date         sold  \\\n",
      "0          2471     1921          0            0    20040720  171831000.0   \n",
      "1          4381      409          1            1    20040723   56485000.0   \n",
      "2           132     1775          0            0    20040607   41734000.0   \n",
      "3          4547      828          0            0    20040716   82951000.0   \n",
      "4          1292     1623          0            0    20040713   73293000.0   \n",
      "\n",
      "   country_code  euribor_rate  currency  libor_rate        bought  \\\n",
      "0             1       0.02074         0    2.332216  1.715337e+08   \n",
      "1             1       0.02074         0    2.332216  5.638038e+07   \n",
      "2             1       0.02074         0    2.332216  4.166179e+07   \n",
      "3             1       0.02074         0    2.332216  8.250936e+07   \n",
      "4             1       0.02074         0    2.332216  7.317055e+07   \n",
      "\n",
      "   creation_date  indicator_code  sell_date  type  hedge_value  status  \n",
      "0       20040720               0   20040812     4            0       0  \n",
      "1       20040723               0   20040719     5            0       0  \n",
      "2       20040726               0   20040709     4            0       0  \n",
      "3       20040726               0   20041019     4            0       0  \n",
      "4       20040726               0   20040813     4            0       0  \n",
      "   desk_id  office_id  pf_category  start_date         sold  country_code  \\\n",
      "0     1921          0            0    20040720  171831000.0             1   \n",
      "1      409          1            1    20040723   56485000.0             1   \n",
      "2     1775          0            0    20040607   41734000.0             1   \n",
      "3      828          0            0    20040716   82951000.0             1   \n",
      "4     1623          0            0    20040713   73293000.0             1   \n",
      "\n",
      "   euribor_rate  currency  libor_rate        bought  creation_date  \\\n",
      "0       0.02074         0    2.332216  1.715337e+08       20040720   \n",
      "1       0.02074         0    2.332216  5.638038e+07       20040723   \n",
      "2       0.02074         0    2.332216  4.166179e+07       20040726   \n",
      "3       0.02074         0    2.332216  8.250936e+07       20040726   \n",
      "4       0.02074         0    2.332216  7.317055e+07       20040726   \n",
      "\n",
      "   indicator_code  sell_date  type  hedge_value  status  \n",
      "0               0   20040812     4            0       0  \n",
      "1               0   20040719     5            0       0  \n",
      "2               0   20040709     4            0       0  \n",
      "3               0   20041019     4            0       0  \n",
      "4               0   20040813     4            0       0  \n"
     ]
    }
   ],
   "source": [
    "print(test.head())\n",
    "rn=test\n",
    "del rn['portfolio_id']\n",
    "print(rn.head())"
   ]
  },
  {
   "cell_type": "code",
   "execution_count": 18,
   "metadata": {
    "collapsed": true
   },
   "outputs": [],
   "source": [
    "y=train_set[target]"
   ]
  },
  {
   "cell_type": "code",
   "execution_count": 19,
   "metadata": {},
   "outputs": [
    {
     "name": "stdout",
     "output_type": "stream",
     "text": [
      "   portfolio_id  desk_id  office_id  pf_category  start_date         sold  \\\n",
      "0          7241     3479          1            4    20040720  110000000.0   \n",
      "1          2914      526          0            3    20040709  176671000.0   \n",
      "2          8126     2538          0            3    20040723   56474000.0   \n",
      "3          1477     2645          0            3    20040609  164813000.0   \n",
      "4          4834     2645          1            4    20040609  140800000.0   \n",
      "\n",
      "   country_code  euribor_rate  currency  libor_rate        bought  \\\n",
      "0             1       0.02074         0    2.332216  1.098097e+08   \n",
      "1             3       0.02074         4    5.269617  1.760084e+08   \n",
      "2             1       0.02074         0    2.332216  5.637953e+07   \n",
      "3             1       0.02074         0    2.332216  1.645088e+08   \n",
      "4             1       0.02074         0    2.332216  1.405402e+08   \n",
      "\n",
      "   creation_date  indicator_code  sell_date  type  hedge_value  status  \n",
      "0       20040720               0   20040812     6            0       0  \n",
      "1       20040723               0   20040812     0            0       0  \n",
      "2       20040723               0   20040817     5            0       0  \n",
      "3       20040723               0   20040713     5            0       0  \n",
      "4       20040723               0   20040713     6            0       0  \n",
      "    return\n",
      "0  0.02496\n",
      "1  0.05496\n",
      "2  0.02496\n",
      "3  0.02496\n",
      "4  0.02496\n"
     ]
    }
   ],
   "source": [
    "print(train.head())\n",
    "print(y.head())"
   ]
  },
  {
   "cell_type": "code",
   "execution_count": 26,
   "metadata": {},
   "outputs": [
    {
     "name": "stdout",
     "output_type": "stream",
     "text": [
      "   portfolio_id  desk_id  office_id  pf_category  start_date         sold  \\\n",
      "0          7241     3479          1            4    20040720  110000000.0   \n",
      "1          2914      526          0            3    20040709  176671000.0   \n",
      "2          8126     2538          0            3    20040723   56474000.0   \n",
      "3          1477     2645          0            3    20040609  164813000.0   \n",
      "4          4834     2645          1            4    20040609  140800000.0   \n",
      "\n",
      "   country_code  euribor_rate  currency  libor_rate        bought  \\\n",
      "0             1       0.02074         0    2.332216  1.098097e+08   \n",
      "1             3       0.02074         4    5.269617  1.760084e+08   \n",
      "2             1       0.02074         0    2.332216  5.637953e+07   \n",
      "3             1       0.02074         0    2.332216  1.645088e+08   \n",
      "4             1       0.02074         0    2.332216  1.405402e+08   \n",
      "\n",
      "   creation_date  indicator_code  sell_date  type  hedge_value  status  \\\n",
      "0       20040720               0   20040812     6            0       0   \n",
      "1       20040723               0   20040812     0            0       0   \n",
      "2       20040723               0   20040817     5            0       0   \n",
      "3       20040723               0   20040713     5            0       0   \n",
      "4       20040723               0   20040713     6            0       0   \n",
      "\n",
      "    return  \n",
      "0  0.02496  \n",
      "1  0.05496  \n",
      "2  0.02496  \n",
      "3  0.02496  \n",
      "4  0.02496  \n",
      "\n"
     ]
    }
   ],
   "source": [
    "print(train_set.head())\n",
    "#print()\n",
    "print()\n",
    "#print(train_set['currency'].value_counts())"
   ]
  },
  {
   "cell_type": "code",
   "execution_count": 27,
   "metadata": {
    "collapsed": true
   },
   "outputs": [],
   "source": [
    "del train['portfolio_id']"
   ]
  },
  {
   "cell_type": "code",
   "execution_count": 28,
   "metadata": {},
   "outputs": [
    {
     "name": "stdout",
     "output_type": "stream",
     "text": [
      "   desk_id  office_id  pf_category  start_date         sold  country_code  \\\n",
      "0     3479          1            4    20040720  110000000.0             1   \n",
      "1      526          0            3    20040709  176671000.0             3   \n",
      "2     2538          0            3    20040723   56474000.0             1   \n",
      "3     2645          0            3    20040609  164813000.0             1   \n",
      "4     2645          1            4    20040609  140800000.0             1   \n",
      "\n",
      "   euribor_rate  currency  libor_rate        bought  creation_date  \\\n",
      "0       0.02074         0    2.332216  1.098097e+08       20040720   \n",
      "1       0.02074         4    5.269617  1.760084e+08       20040723   \n",
      "2       0.02074         0    2.332216  5.637953e+07       20040723   \n",
      "3       0.02074         0    2.332216  1.645088e+08       20040723   \n",
      "4       0.02074         0    2.332216  1.405402e+08       20040723   \n",
      "\n",
      "   indicator_code  sell_date  type  hedge_value  status  \n",
      "0               0   20040812     6            0       0  \n",
      "1               0   20040812     0            0       0  \n",
      "2               0   20040817     5            0       0  \n",
      "3               0   20040713     5            0       0  \n",
      "4               0   20040713     6            0       0  \n"
     ]
    }
   ],
   "source": [
    "print(train.head())"
   ]
  },
  {
   "cell_type": "code",
   "execution_count": 31,
   "metadata": {
    "collapsed": true
   },
   "outputs": [],
   "source": [
    "from sklearn import preprocessing"
   ]
  },
  {
   "cell_type": "code",
   "execution_count": 33,
   "metadata": {},
   "outputs": [
    {
     "name": "stderr",
     "output_type": "stream",
     "text": [
      "/home/pritam/anaconda3/lib/python3.6/site-packages/pandas/core/frame.py:2754: SettingWithCopyWarning: \n",
      "A value is trying to be set on a copy of a slice from a DataFrame\n",
      "\n",
      "See the caveats in the documentation: http://pandas.pydata.org/pandas-docs/stable/indexing.html#indexing-view-versus-copy\n",
      "  downcast=downcast, **kwargs)\n"
     ]
    }
   ],
   "source": [
    "train.fillna(method='ffill',inplace=True)\n",
    "test.fillna(method='ffill',inplace=True)"
   ]
  },
  {
   "cell_type": "code",
   "execution_count": 34,
   "metadata": {},
   "outputs": [
    {
     "name": "stderr",
     "output_type": "stream",
     "text": [
      "/home/pritam/anaconda3/lib/python3.6/site-packages/sklearn/preprocessing/data.py:164: UserWarning: Numerical issues were encountered when centering the data and might not be solved. Dataset may contain too large values. You may need to prescale your features.\n",
      "  warnings.warn(\"Numerical issues were encountered \"\n"
     ]
    }
   ],
   "source": [
    "train_scaled=preprocessing.scale(train)\n",
    "test_scaled=preprocessing.scale(test)"
   ]
  },
  {
   "cell_type": "code",
   "execution_count": 36,
   "metadata": {
    "collapsed": true
   },
   "outputs": [],
   "source": [
    "x_train,x_test,y_train,y_test=train_test_split(train_scaled,y,test_size=0.1)"
   ]
  },
  {
   "cell_type": "code",
   "execution_count": 37,
   "metadata": {
    "collapsed": true
   },
   "outputs": [],
   "source": [
    "clf=LogisticRegression()"
   ]
  },
  {
   "cell_type": "code",
   "execution_count": 38,
   "metadata": {},
   "outputs": [
    {
     "name": "stdout",
     "output_type": "stream",
     "text": [
      "    return\n",
      "0  0.02496\n",
      "1  0.05496\n",
      "2  0.02496\n",
      "3  0.02496\n",
      "4  0.02496\n"
     ]
    }
   ],
   "source": [
    "print(y.head())"
   ]
  },
  {
   "cell_type": "code",
   "execution_count": 69,
   "metadata": {
    "collapsed": true
   },
   "outputs": [],
   "source": [
    "from sklearn.linear_model import LinearRegression"
   ]
  },
  {
   "cell_type": "code",
   "execution_count": 70,
   "metadata": {
    "collapsed": true
   },
   "outputs": [],
   "source": [
    "clf=LinearRegression()"
   ]
  },
  {
   "cell_type": "code",
   "execution_count": 71,
   "metadata": {},
   "outputs": [
    {
     "data": {
      "text/plain": [
       "LinearRegression(copy_X=True, fit_intercept=True, n_jobs=1, normalize=False)"
      ]
     },
     "execution_count": 71,
     "metadata": {},
     "output_type": "execute_result"
    }
   ],
   "source": [
    "clf.fit(x_train,y_train)"
   ]
  },
  {
   "cell_type": "code",
   "execution_count": 72,
   "metadata": {
    "collapsed": true
   },
   "outputs": [],
   "source": [
    "predictions=clf.predict(x_test)"
   ]
  },
  {
   "cell_type": "code",
   "execution_count": 73,
   "metadata": {},
   "outputs": [
    {
     "name": "stdout",
     "output_type": "stream",
     "text": [
      "[[ 0.00449568]\n",
      " [ 0.01136218]\n",
      " [ 0.00356718]\n",
      " [ 0.00610895]\n",
      " [ 0.01020586]\n",
      " [ 0.00431624]\n",
      " [ 0.0115459 ]\n",
      " [ 0.00866116]\n",
      " [ 0.00490948]\n",
      " [ 0.05571484]]\n"
     ]
    }
   ],
   "source": [
    "print(predictions[:10])"
   ]
  },
  {
   "cell_type": "code",
   "execution_count": 74,
   "metadata": {},
   "outputs": [
    {
     "name": "stdout",
     "output_type": "stream",
     "text": [
      "        return\n",
      "7624  0.016200\n",
      "7181  0.009360\n",
      "5255  0.001800\n",
      "2264  0.002760\n",
      "4622  0.009240\n",
      "6143  0.002640\n",
      "1669  0.009048\n",
      "3615  0.002520\n",
      "4902  0.002280\n",
      "1196  0.061800\n"
     ]
    }
   ],
   "source": [
    "print(y_test.head(10))"
   ]
  },
  {
   "cell_type": "code",
   "execution_count": 75,
   "metadata": {},
   "outputs": [
    {
     "data": {
      "text/plain": [
       "0.89450598104554147"
      ]
     },
     "execution_count": 75,
     "metadata": {},
     "output_type": "execute_result"
    }
   ],
   "source": [
    "clf.score(x_test,y_test)"
   ]
  },
  {
   "cell_type": "code",
   "execution_count": 76,
   "metadata": {
    "collapsed": true
   },
   "outputs": [],
   "source": [
    "sub1=clf.predict(rn)"
   ]
  },
  {
   "cell_type": "code",
   "execution_count": 77,
   "metadata": {},
   "outputs": [
    {
     "name": "stdout",
     "output_type": "stream",
     "text": [
      "[[ 504140.13277956]\n",
      " [ 200078.56777082]\n",
      " [ 149668.61420307]\n",
      " ..., \n",
      " [  44615.43333379]\n",
      " [  45956.15677952]\n",
      " [  52216.64789853]]\n"
     ]
    }
   ],
   "source": [
    "print(sub1)"
   ]
  },
  {
   "cell_type": "code",
   "execution_count": 84,
   "metadata": {},
   "outputs": [
    {
     "name": "stdout",
     "output_type": "stream",
     "text": [
      "0    PF00001001\n",
      "1    PF00001004\n",
      "2    PF00001009\n",
      "3    PF00001013\n",
      "4    PF00001014\n",
      "Name: portfolio_id, dtype: object\n"
     ]
    }
   ],
   "source": [
    "port_id=test_set['portfolio_id']\n",
    "print(port_id.head())"
   ]
  },
  {
   "cell_type": "code",
   "execution_count": 96,
   "metadata": {
    "collapsed": true
   },
   "outputs": [],
   "source": [
    "#print(type(sub1))\n",
    "#print(sub1[:10])\n",
    "arr=[]\n",
    "for i in sub1:\n",
    "    for j in i:\n",
    "        arr.append(j)\n",
    "    "
   ]
  },
  {
   "cell_type": "code",
   "execution_count": 98,
   "metadata": {},
   "outputs": [
    {
     "name": "stdout",
     "output_type": "stream",
     "text": [
      "[ 504140.13277956  200078.56777082  149668.61420307 ...,   44615.43333379\n",
      "   45956.15677952   52216.64789853]\n"
     ]
    }
   ],
   "source": [
    "#print(arr)\n",
    "arr=np.array(arr)\n",
    "print(arr)"
   ]
  },
  {
   "cell_type": "code",
   "execution_count": null,
   "metadata": {
    "collapsed": true
   },
   "outputs": [],
   "source": [
    "#submission={\"PassengerId\":holdout_ids,\"Survived\":submission}"
   ]
  },
  {
   "cell_type": "code",
   "execution_count": 105,
   "metadata": {
    "collapsed": true
   },
   "outputs": [],
   "source": [
    "submission={\"portfolio_id\":port_id,\n",
    "     \"return\":arr}"
   ]
  },
  {
   "cell_type": "code",
   "execution_count": 106,
   "metadata": {},
   "outputs": [
    {
     "name": "stdout",
     "output_type": "stream",
     "text": [
      "{'portfolio_id': 0       PF00001001\n",
      "1       PF00001004\n",
      "2       PF00001009\n",
      "3       PF00001013\n",
      "4       PF00001014\n",
      "5       PF00001015\n",
      "6       PF00001017\n",
      "7       PF00001023\n",
      "8       PF00001024\n",
      "9       PF00001025\n",
      "10      PF00001028\n",
      "11      PF00001032\n",
      "12      PF00001036\n",
      "13      PF00001041\n",
      "14      PF00001045\n",
      "15      PF00001047\n",
      "16      PF00001049\n",
      "17      PF00001053\n",
      "18      PF00001060\n",
      "19      PF00001067\n",
      "20      PF00001068\n",
      "21      PF00001069\n",
      "22      PF00001077\n",
      "23      PF00001078\n",
      "24      PF00001085\n",
      "25      PF00001086\n",
      "26      PF00001087\n",
      "27      PF00001088\n",
      "28      PF00001092\n",
      "29      PF00001095\n",
      "           ...    \n",
      "4771    PF00014432\n",
      "4772    PF00014465\n",
      "4773    PF00014643\n",
      "4774    PF00014644\n",
      "4775    PF00014645\n",
      "4776    PF00014717\n",
      "4777    PF00014757\n",
      "4778    PF00014750\n",
      "4779    PF00014751\n",
      "4780    PF00014752\n",
      "4781    PF00014754\n",
      "4782    PF00014756\n",
      "4783    PF00014769\n",
      "4784    PF00014772\n",
      "4785    PF00014774\n",
      "4786    PF00014777\n",
      "4787    PF00014826\n",
      "4788    PF00015291\n",
      "4789    PF00013540\n",
      "4790    PF00013541\n",
      "4791    PF00013543\n",
      "4792    PF00013544\n",
      "4793    PF00013742\n",
      "4794    PF00014031\n",
      "4795    PF00014093\n",
      "4796    PF00014118\n",
      "4797    PF00014120\n",
      "4798    PF00014123\n",
      "4799    PF00014127\n",
      "4800    PF00014147\n",
      "Name: portfolio_id, Length: 4801, dtype: object, 'return': array([ 504140.13277956,  200078.56777082,  149668.61420307, ...,\n",
      "         44615.43333379,   45956.15677952,   52216.64789853])}\n"
     ]
    }
   ],
   "source": [
    "print(submission)"
   ]
  },
  {
   "cell_type": "code",
   "execution_count": 107,
   "metadata": {
    "collapsed": true
   },
   "outputs": [],
   "source": [
    "submission=pd.DataFrame(submission)"
   ]
  },
  {
   "cell_type": "code",
   "execution_count": 108,
   "metadata": {},
   "outputs": [
    {
     "name": "stdout",
     "output_type": "stream",
     "text": [
      "     portfolio_id        return\n",
      "0      PF00001001  5.041401e+05\n",
      "1      PF00001004  2.000786e+05\n",
      "2      PF00001009  1.496686e+05\n",
      "3      PF00001013  7.048001e+05\n",
      "4      PF00001014  2.291688e+05\n",
      "5      PF00001015  1.766173e+06\n",
      "6      PF00001017  2.401625e+05\n",
      "7      PF00001023  1.634786e+05\n",
      "8      PF00001024  7.167773e+05\n",
      "9      PF00001025  1.168056e+06\n",
      "10     PF00001028  6.689340e+05\n",
      "11     PF00001032  1.415992e+05\n",
      "12     PF00001036  1.763732e+05\n",
      "13     PF00001041  9.461882e+05\n",
      "14     PF00001045  1.560530e+05\n",
      "15     PF00001047  1.438264e+05\n",
      "16     PF00001049  2.008794e+05\n",
      "17     PF00001053  1.200224e+06\n",
      "18     PF00001060  2.648006e+05\n",
      "19     PF00001067  3.446627e+05\n",
      "20     PF00001068  4.926652e+05\n",
      "21     PF00001069  8.352042e+05\n",
      "22     PF00001077  2.640241e+05\n",
      "23     PF00001078  4.757182e+05\n",
      "24     PF00001085  2.005668e+05\n",
      "25     PF00001086  1.027968e+06\n",
      "26     PF00001087  3.787429e+05\n",
      "27     PF00001088  1.925328e+05\n",
      "28     PF00001092  3.159568e+05\n",
      "29     PF00001095  1.241906e+05\n",
      "...           ...           ...\n",
      "4771   PF00014432  3.383444e+04\n",
      "4772   PF00014465  6.320496e+04\n",
      "4773   PF00014643  1.699536e+05\n",
      "4774   PF00014644  8.213297e+04\n",
      "4775   PF00014645  3.097654e+04\n",
      "4776   PF00014717  1.380916e+04\n",
      "4777   PF00014757 -2.773661e+03\n",
      "4778   PF00014750  5.890461e+04\n",
      "4779   PF00014751  5.185808e+04\n",
      "4780   PF00014752  5.465395e+04\n",
      "4781   PF00014754  4.022366e+04\n",
      "4782   PF00014756  2.001937e+04\n",
      "4783   PF00014769  5.768572e+04\n",
      "4784   PF00014772  5.230934e+04\n",
      "4785   PF00014774  2.679059e+04\n",
      "4786   PF00014777  2.918761e+04\n",
      "4787   PF00014826  1.849845e+04\n",
      "4788   PF00015291  1.476586e+05\n",
      "4789   PF00013540  2.319443e+05\n",
      "4790   PF00013541  4.435994e+04\n",
      "4791   PF00013543  2.096306e+05\n",
      "4792   PF00013544  5.874929e+04\n",
      "4793   PF00013742  3.874885e+04\n",
      "4794   PF00014031  8.307300e+04\n",
      "4795   PF00014093  3.424474e+04\n",
      "4796   PF00014118  5.180668e+04\n",
      "4797   PF00014120  7.563094e+04\n",
      "4798   PF00014123  4.461543e+04\n",
      "4799   PF00014127  4.595616e+04\n",
      "4800   PF00014147  5.221665e+04\n",
      "\n",
      "[4801 rows x 2 columns]\n"
     ]
    }
   ],
   "source": [
    "print(submission)"
   ]
  },
  {
   "cell_type": "code",
   "execution_count": 81,
   "metadata": {
    "collapsed": true
   },
   "outputs": [],
   "source": [
    "samp=pd.read_csv('./sample_submission.csv')"
   ]
  },
  {
   "cell_type": "code",
   "execution_count": 82,
   "metadata": {},
   "outputs": [
    {
     "name": "stdout",
     "output_type": "stream",
     "text": [
      "  portfolio_id    return\n",
      "0   PF00001001  0.079456\n",
      "1   PF00001004  0.076026\n",
      "2   PF00001009  0.058746\n",
      "3   PF00001013  0.022700\n",
      "4   PF00001014  0.036714\n"
     ]
    }
   ],
   "source": [
    "print(samp.head())"
   ]
  },
  {
   "cell_type": "code",
   "execution_count": 109,
   "metadata": {
    "collapsed": true
   },
   "outputs": [],
   "source": [
    "submission.to_csv('submission.csv',index=False)"
   ]
  },
  {
   "cell_type": "code",
   "execution_count": 110,
   "metadata": {
    "collapsed": true
   },
   "outputs": [],
   "source": [
    "sub=pd.read_csv('./submission.csv')"
   ]
  },
  {
   "cell_type": "code",
   "execution_count": 111,
   "metadata": {},
   "outputs": [
    {
     "name": "stdout",
     "output_type": "stream",
     "text": [
      "  portfolio_id         return\n",
      "0   PF00001001  504140.132780\n",
      "1   PF00001004  200078.567771\n",
      "2   PF00001009  149668.614203\n",
      "3   PF00001013  704800.086767\n",
      "4   PF00001014  229168.770793\n"
     ]
    }
   ],
   "source": [
    "print(sub.head())"
   ]
  },
  {
   "cell_type": "code",
   "execution_count": 113,
   "metadata": {},
   "outputs": [
    {
     "name": "stdout",
     "output_type": "stream",
     "text": [
      "  portfolio_id      desk_id    office_id pf_category  start_date         sold  \\\n",
      "0   PF00001002  DSK00001001  OFF00001002           B    20040720  110000000.0   \n",
      "1   PF00001003  DSK00001002  OFF00001001           A    20040709  176671000.0   \n",
      "2   PF00001005  DSK00001004  OFF00001001           A    20040723   56474000.0   \n",
      "3   PF00001006  DSK00001005  OFF00001001           A    20040609  164813000.0   \n",
      "4   PF00001007  DSK00001005  OFF00001002           B    20040609  140800000.0   \n",
      "\n",
      "  country_code  euribor_rate currency  libor_rate        bought  \\\n",
      "0            T       0.02074      USD    2.332216  1.098097e+08   \n",
      "1            N       0.02074      GBP    5.269617  1.760084e+08   \n",
      "2            T       0.02074      USD    2.332216  5.637953e+07   \n",
      "3            T       0.02074      USD    2.332216  1.645088e+08   \n",
      "4            T       0.02074      USD    2.332216  1.405402e+08   \n",
      "\n",
      "   creation_date indicator_code  sell_date type hedge_value status   return  \n",
      "0       20040720            NaN   20040812    B         NaN    NaN  0.02496  \n",
      "1       20040723            NaN   20040812    C         NaN    NaN  0.05496  \n",
      "2       20040723            NaN   20040817    A         NaN    NaN  0.02496  \n",
      "3       20040723            NaN   20040713    A         NaN    NaN  0.02496  \n",
      "4       20040723            NaN   20040713    B         NaN    NaN  0.02496  \n"
     ]
    }
   ],
   "source": [
    "print(train_set.head())\n",
    "#print(test_set.head())"
   ]
  },
  {
   "cell_type": "code",
   "execution_count": 114,
   "metadata": {
    "collapsed": true
   },
   "outputs": [],
   "source": [
    "train=train_set"
   ]
  },
  {
   "cell_type": "code",
   "execution_count": 115,
   "metadata": {
    "collapsed": true
   },
   "outputs": [],
   "source": [
    "del train['sell_date']"
   ]
  },
  {
   "cell_type": "code",
   "execution_count": 116,
   "metadata": {},
   "outputs": [
    {
     "name": "stdout",
     "output_type": "stream",
     "text": [
      "  portfolio_id      desk_id    office_id pf_category  start_date         sold  \\\n",
      "0   PF00001002  DSK00001001  OFF00001002           B    20040720  110000000.0   \n",
      "1   PF00001003  DSK00001002  OFF00001001           A    20040709  176671000.0   \n",
      "2   PF00001005  DSK00001004  OFF00001001           A    20040723   56474000.0   \n",
      "3   PF00001006  DSK00001005  OFF00001001           A    20040609  164813000.0   \n",
      "4   PF00001007  DSK00001005  OFF00001002           B    20040609  140800000.0   \n",
      "\n",
      "  country_code  euribor_rate currency  libor_rate        bought  \\\n",
      "0            T       0.02074      USD    2.332216  1.098097e+08   \n",
      "1            N       0.02074      GBP    5.269617  1.760084e+08   \n",
      "2            T       0.02074      USD    2.332216  5.637953e+07   \n",
      "3            T       0.02074      USD    2.332216  1.645088e+08   \n",
      "4            T       0.02074      USD    2.332216  1.405402e+08   \n",
      "\n",
      "   creation_date indicator_code type hedge_value status   return  \n",
      "0       20040720            NaN    B         NaN    NaN  0.02496  \n",
      "1       20040723            NaN    C         NaN    NaN  0.05496  \n",
      "2       20040723            NaN    A         NaN    NaN  0.02496  \n",
      "3       20040723            NaN    A         NaN    NaN  0.02496  \n",
      "4       20040723            NaN    B         NaN    NaN  0.02496  \n"
     ]
    }
   ],
   "source": [
    "print(train_set.head())"
   ]
  },
  {
   "cell_type": "code",
   "execution_count": null,
   "metadata": {
    "collapsed": true
   },
   "outputs": [],
   "source": []
  },
  {
   "cell_type": "code",
   "execution_count": null,
   "metadata": {
    "collapsed": true
   },
   "outputs": [],
   "source": []
  },
  {
   "cell_type": "code",
   "execution_count": 117,
   "metadata": {},
   "outputs": [
    {
     "name": "stdout",
     "output_type": "stream",
     "text": [
      "  portfolio_id      desk_id    office_id pf_category  start_date         sold  \\\n",
      "0   PF00001002  DSK00001001  OFF00001002           B    20040720  110000000.0   \n",
      "1   PF00001003  DSK00001002  OFF00001001           A    20040709  176671000.0   \n",
      "2   PF00001005  DSK00001004  OFF00001001           A    20040723   56474000.0   \n",
      "3   PF00001006  DSK00001005  OFF00001001           A    20040609  164813000.0   \n",
      "4   PF00001007  DSK00001005  OFF00001002           B    20040609  140800000.0   \n",
      "\n",
      "  country_code  euribor_rate currency  libor_rate        bought  \\\n",
      "0            T       0.02074      USD    2.332216  1.098097e+08   \n",
      "1            N       0.02074      GBP    5.269617  1.760084e+08   \n",
      "2            T       0.02074      USD    2.332216  5.637953e+07   \n",
      "3            T       0.02074      USD    2.332216  1.645088e+08   \n",
      "4            T       0.02074      USD    2.332216  1.405402e+08   \n",
      "\n",
      "   creation_date indicator_code  sell_date type hedge_value status   return  \n",
      "0       20040720            NaN   20040812    B         NaN    NaN  0.02496  \n",
      "1       20040723            NaN   20040812    C         NaN    NaN  0.05496  \n",
      "2       20040723            NaN   20040817    A         NaN    NaN  0.02496  \n",
      "3       20040723            NaN   20040713    A         NaN    NaN  0.02496  \n",
      "4       20040723            NaN   20040713    B         NaN    NaN  0.02496  \n"
     ]
    }
   ],
   "source": [
    "train_set=pd.read_csv('./train.csv')\n",
    "test_set=pd.read_csv('./test.csv')\n",
    "print(train_set.head())\n",
    "#print(test_set.head())"
   ]
  },
  {
   "cell_type": "code",
   "execution_count": 118,
   "metadata": {},
   "outputs": [
    {
     "name": "stdout",
     "output_type": "stream",
     "text": [
      "Index(['portfolio_id', 'desk_id', 'office_id', 'pf_category', 'start_date',\n",
      "       'sold', 'country_code', 'euribor_rate', 'currency', 'libor_rate',\n",
      "       'bought', 'creation_date', 'indicator_code', 'sell_date', 'type',\n",
      "       'hedge_value', 'status', 'return'],\n",
      "      dtype='object')\n"
     ]
    }
   ],
   "source": [
    "print(train_set.columns)"
   ]
  },
  {
   "cell_type": "code",
   "execution_count": 119,
   "metadata": {
    "collapsed": true
   },
   "outputs": [],
   "source": [
    "feature=['desk_id', 'office_id', 'pf_category', 'start_date',\n",
    "       'sold', 'country_code', 'euribor_rate', 'currency', 'libor_rate',\n",
    "       'bought', 'sell_date', 'type']"
   ]
  },
  {
   "cell_type": "code",
   "execution_count": 120,
   "metadata": {
    "collapsed": true
   },
   "outputs": [],
   "source": [
    "target=['return']"
   ]
  },
  {
   "cell_type": "code",
   "execution_count": 121,
   "metadata": {
    "collapsed": true
   },
   "outputs": [],
   "source": [
    "train=train_set[feature]\n",
    "test=test_set[feature]"
   ]
  },
  {
   "cell_type": "code",
   "execution_count": 122,
   "metadata": {},
   "outputs": [
    {
     "name": "stderr",
     "output_type": "stream",
     "text": [
      "/home/pritam/anaconda3/lib/python3.6/site-packages/ipykernel_launcher.py:17: SettingWithCopyWarning: \n",
      "A value is trying to be set on a copy of a slice from a DataFrame.\n",
      "Try using .loc[row_indexer,col_indexer] = value instead\n",
      "\n",
      "See the caveats in the documentation: http://pandas.pydata.org/pandas-docs/stable/indexing.html#indexing-view-versus-copy\n"
     ]
    },
    {
     "name": "stdout",
     "output_type": "stream",
     "text": [
      "   desk_id  office_id  pf_category  start_date         sold  country_code  \\\n",
      "0     3479          1            4    20040720  110000000.0             1   \n",
      "1      526          0            3    20040709  176671000.0             3   \n",
      "2     2538          0            3    20040723   56474000.0             1   \n",
      "3     2645          0            3    20040609  164813000.0             1   \n",
      "4     2645          1            4    20040609  140800000.0             1   \n",
      "\n",
      "   euribor_rate  currency  libor_rate        bought  sell_date  type  \n",
      "0       0.02074         0    2.332216  1.098097e+08   20040812     6  \n",
      "1       0.02074         4    5.269617  1.760084e+08   20040812     0  \n",
      "2       0.02074         0    2.332216  5.637953e+07   20040817     5  \n",
      "3       0.02074         0    2.332216  1.645088e+08   20040713     5  \n",
      "4       0.02074         0    2.332216  1.405402e+08   20040713     6  \n"
     ]
    }
   ],
   "source": [
    "def handle_strings(df):\n",
    "    columns = df.columns.values\n",
    "    for column in columns:\n",
    "        text_digit_vals = {}\n",
    "        def convert_to_int(val):\n",
    "            return text_digit_vals[val]\n",
    "\n",
    "        if df[column].dtype != np.int64 and df[column].dtype != np.float64:\n",
    "            column_contents = df[column].values.tolist()\n",
    "            unique_elements = set(column_contents)\n",
    "            x = 0\n",
    "            for unique in unique_elements:\n",
    "                if unique not in text_digit_vals:\n",
    "                    text_digit_vals[unique] = x\n",
    "                    x+=1\n",
    "\n",
    "            df[column] = list(map(convert_to_int, df[column]))\n",
    "\n",
    "    return df\n",
    "\n",
    "train=handle_strings(train)\n",
    "test=handle_strings(test)\n",
    "print(train.head())"
   ]
  },
  {
   "cell_type": "code",
   "execution_count": 123,
   "metadata": {
    "collapsed": true
   },
   "outputs": [],
   "source": [
    "y=train_set[target]"
   ]
  },
  {
   "cell_type": "code",
   "execution_count": 124,
   "metadata": {},
   "outputs": [
    {
     "name": "stdout",
     "output_type": "stream",
     "text": [
      "    return\n",
      "0  0.02496\n",
      "1  0.05496\n",
      "2  0.02496\n",
      "3  0.02496\n",
      "4  0.02496\n"
     ]
    }
   ],
   "source": [
    "print(y.head())"
   ]
  },
  {
   "cell_type": "code",
   "execution_count": 134,
   "metadata": {},
   "outputs": [
    {
     "name": "stderr",
     "output_type": "stream",
     "text": [
      "/home/pritam/anaconda3/lib/python3.6/site-packages/pandas/core/generic.py:3660: SettingWithCopyWarning: \n",
      "A value is trying to be set on a copy of a slice from a DataFrame\n",
      "\n",
      "See the caveats in the documentation: http://pandas.pydata.org/pandas-docs/stable/indexing.html#indexing-view-versus-copy\n",
      "  self._update_inplace(new_data)\n"
     ]
    },
    {
     "data": {
      "text/html": [
       "<div>\n",
       "<style>\n",
       "    .dataframe thead tr:only-child th {\n",
       "        text-align: right;\n",
       "    }\n",
       "\n",
       "    .dataframe thead th {\n",
       "        text-align: left;\n",
       "    }\n",
       "\n",
       "    .dataframe tbody tr th {\n",
       "        vertical-align: top;\n",
       "    }\n",
       "</style>\n",
       "<table border=\"1\" class=\"dataframe\">\n",
       "  <thead>\n",
       "    <tr style=\"text-align: right;\">\n",
       "      <th></th>\n",
       "      <th>desk_id</th>\n",
       "      <th>office_id</th>\n",
       "      <th>pf_category</th>\n",
       "      <th>start_date</th>\n",
       "      <th>sold</th>\n",
       "      <th>country_code</th>\n",
       "      <th>euribor_rate</th>\n",
       "      <th>currency</th>\n",
       "      <th>libor_rate</th>\n",
       "      <th>bought</th>\n",
       "      <th>sell_date</th>\n",
       "      <th>type</th>\n",
       "    </tr>\n",
       "  </thead>\n",
       "  <tbody>\n",
       "    <tr>\n",
       "      <th>0</th>\n",
       "      <td>3479</td>\n",
       "      <td>1</td>\n",
       "      <td>4</td>\n",
       "      <td>20040720</td>\n",
       "      <td>110000000.0</td>\n",
       "      <td>1</td>\n",
       "      <td>0.02074</td>\n",
       "      <td>0</td>\n",
       "      <td>2.332216</td>\n",
       "      <td>1.098097e+08</td>\n",
       "      <td>20040812</td>\n",
       "      <td>6</td>\n",
       "    </tr>\n",
       "    <tr>\n",
       "      <th>1</th>\n",
       "      <td>526</td>\n",
       "      <td>0</td>\n",
       "      <td>3</td>\n",
       "      <td>20040709</td>\n",
       "      <td>176671000.0</td>\n",
       "      <td>3</td>\n",
       "      <td>0.02074</td>\n",
       "      <td>4</td>\n",
       "      <td>5.269617</td>\n",
       "      <td>1.760084e+08</td>\n",
       "      <td>20040812</td>\n",
       "      <td>0</td>\n",
       "    </tr>\n",
       "    <tr>\n",
       "      <th>2</th>\n",
       "      <td>2538</td>\n",
       "      <td>0</td>\n",
       "      <td>3</td>\n",
       "      <td>20040723</td>\n",
       "      <td>56474000.0</td>\n",
       "      <td>1</td>\n",
       "      <td>0.02074</td>\n",
       "      <td>0</td>\n",
       "      <td>2.332216</td>\n",
       "      <td>5.637953e+07</td>\n",
       "      <td>20040817</td>\n",
       "      <td>5</td>\n",
       "    </tr>\n",
       "    <tr>\n",
       "      <th>3</th>\n",
       "      <td>2645</td>\n",
       "      <td>0</td>\n",
       "      <td>3</td>\n",
       "      <td>20040609</td>\n",
       "      <td>164813000.0</td>\n",
       "      <td>1</td>\n",
       "      <td>0.02074</td>\n",
       "      <td>0</td>\n",
       "      <td>2.332216</td>\n",
       "      <td>1.645088e+08</td>\n",
       "      <td>20040713</td>\n",
       "      <td>5</td>\n",
       "    </tr>\n",
       "    <tr>\n",
       "      <th>4</th>\n",
       "      <td>2645</td>\n",
       "      <td>1</td>\n",
       "      <td>4</td>\n",
       "      <td>20040609</td>\n",
       "      <td>140800000.0</td>\n",
       "      <td>1</td>\n",
       "      <td>0.02074</td>\n",
       "      <td>0</td>\n",
       "      <td>2.332216</td>\n",
       "      <td>1.405402e+08</td>\n",
       "      <td>20040713</td>\n",
       "      <td>6</td>\n",
       "    </tr>\n",
       "    <tr>\n",
       "      <th>5</th>\n",
       "      <td>2544</td>\n",
       "      <td>0</td>\n",
       "      <td>3</td>\n",
       "      <td>20040707</td>\n",
       "      <td>48741000.0</td>\n",
       "      <td>1</td>\n",
       "      <td>0.02074</td>\n",
       "      <td>0</td>\n",
       "      <td>2.332216</td>\n",
       "      <td>4.865127e+07</td>\n",
       "      <td>20040810</td>\n",
       "      <td>5</td>\n",
       "    </tr>\n",
       "    <tr>\n",
       "      <th>6</th>\n",
       "      <td>929</td>\n",
       "      <td>0</td>\n",
       "      <td>3</td>\n",
       "      <td>20040706</td>\n",
       "      <td>60593500.0</td>\n",
       "      <td>1</td>\n",
       "      <td>0.02074</td>\n",
       "      <td>0</td>\n",
       "      <td>2.332216</td>\n",
       "      <td>6.048181e+07</td>\n",
       "      <td>20040809</td>\n",
       "      <td>5</td>\n",
       "    </tr>\n",
       "    <tr>\n",
       "      <th>7</th>\n",
       "      <td>929</td>\n",
       "      <td>1</td>\n",
       "      <td>4</td>\n",
       "      <td>20040706</td>\n",
       "      <td>134200000.0</td>\n",
       "      <td>1</td>\n",
       "      <td>0.02074</td>\n",
       "      <td>0</td>\n",
       "      <td>2.332216</td>\n",
       "      <td>1.339526e+08</td>\n",
       "      <td>20040809</td>\n",
       "      <td>6</td>\n",
       "    </tr>\n",
       "    <tr>\n",
       "      <th>8</th>\n",
       "      <td>1599</td>\n",
       "      <td>0</td>\n",
       "      <td>3</td>\n",
       "      <td>20040419</td>\n",
       "      <td>82929000.0</td>\n",
       "      <td>1</td>\n",
       "      <td>0.02074</td>\n",
       "      <td>0</td>\n",
       "      <td>2.332216</td>\n",
       "      <td>8.250616e+07</td>\n",
       "      <td>20040720</td>\n",
       "      <td>5</td>\n",
       "    </tr>\n",
       "    <tr>\n",
       "      <th>9</th>\n",
       "      <td>1459</td>\n",
       "      <td>0</td>\n",
       "      <td>3</td>\n",
       "      <td>20040414</td>\n",
       "      <td>212476000.0</td>\n",
       "      <td>1</td>\n",
       "      <td>0.02074</td>\n",
       "      <td>0</td>\n",
       "      <td>2.332216</td>\n",
       "      <td>2.114140e+08</td>\n",
       "      <td>20040713</td>\n",
       "      <td>5</td>\n",
       "    </tr>\n",
       "    <tr>\n",
       "      <th>10</th>\n",
       "      <td>1356</td>\n",
       "      <td>0</td>\n",
       "      <td>3</td>\n",
       "      <td>20040611</td>\n",
       "      <td>77099000.0</td>\n",
       "      <td>1</td>\n",
       "      <td>0.02075</td>\n",
       "      <td>0</td>\n",
       "      <td>2.181960</td>\n",
       "      <td>7.696082e+07</td>\n",
       "      <td>20040716</td>\n",
       "      <td>5</td>\n",
       "    </tr>\n",
       "    <tr>\n",
       "      <th>11</th>\n",
       "      <td>2504</td>\n",
       "      <td>1</td>\n",
       "      <td>4</td>\n",
       "      <td>20040805</td>\n",
       "      <td>134200000.0</td>\n",
       "      <td>1</td>\n",
       "      <td>0.02075</td>\n",
       "      <td>0</td>\n",
       "      <td>2.181960</td>\n",
       "      <td>1.339678e+08</td>\n",
       "      <td>20040908</td>\n",
       "      <td>6</td>\n",
       "    </tr>\n",
       "    <tr>\n",
       "      <th>12</th>\n",
       "      <td>2504</td>\n",
       "      <td>0</td>\n",
       "      <td>3</td>\n",
       "      <td>20040805</td>\n",
       "      <td>54989000.0</td>\n",
       "      <td>1</td>\n",
       "      <td>0.02075</td>\n",
       "      <td>0</td>\n",
       "      <td>2.181960</td>\n",
       "      <td>5.489385e+07</td>\n",
       "      <td>20040908</td>\n",
       "      <td>5</td>\n",
       "    </tr>\n",
       "    <tr>\n",
       "      <th>13</th>\n",
       "      <td>1482</td>\n",
       "      <td>0</td>\n",
       "      <td>3</td>\n",
       "      <td>20040809</td>\n",
       "      <td>61567000.0</td>\n",
       "      <td>1</td>\n",
       "      <td>0.02075</td>\n",
       "      <td>0</td>\n",
       "      <td>2.181960</td>\n",
       "      <td>6.146098e+07</td>\n",
       "      <td>20040909</td>\n",
       "      <td>5</td>\n",
       "    </tr>\n",
       "    <tr>\n",
       "      <th>14</th>\n",
       "      <td>3916</td>\n",
       "      <td>0</td>\n",
       "      <td>3</td>\n",
       "      <td>20040511</td>\n",
       "      <td>80201000.0</td>\n",
       "      <td>1</td>\n",
       "      <td>0.02075</td>\n",
       "      <td>0</td>\n",
       "      <td>2.181960</td>\n",
       "      <td>7.977902e+07</td>\n",
       "      <td>20040812</td>\n",
       "      <td>5</td>\n",
       "    </tr>\n",
       "    <tr>\n",
       "      <th>15</th>\n",
       "      <td>2225</td>\n",
       "      <td>0</td>\n",
       "      <td>3</td>\n",
       "      <td>20040810</td>\n",
       "      <td>204941000.0</td>\n",
       "      <td>1</td>\n",
       "      <td>0.02075</td>\n",
       "      <td>0</td>\n",
       "      <td>2.181960</td>\n",
       "      <td>2.038207e+08</td>\n",
       "      <td>20040913</td>\n",
       "      <td>5</td>\n",
       "    </tr>\n",
       "    <tr>\n",
       "      <th>16</th>\n",
       "      <td>2617</td>\n",
       "      <td>1</td>\n",
       "      <td>4</td>\n",
       "      <td>20040810</td>\n",
       "      <td>88000000.0</td>\n",
       "      <td>1</td>\n",
       "      <td>0.02075</td>\n",
       "      <td>0</td>\n",
       "      <td>2.181960</td>\n",
       "      <td>8.783779e+07</td>\n",
       "      <td>20040913</td>\n",
       "      <td>6</td>\n",
       "    </tr>\n",
       "    <tr>\n",
       "      <th>17</th>\n",
       "      <td>2576</td>\n",
       "      <td>0</td>\n",
       "      <td>3</td>\n",
       "      <td>20040811</td>\n",
       "      <td>120296000.0</td>\n",
       "      <td>1</td>\n",
       "      <td>0.02075</td>\n",
       "      <td>0</td>\n",
       "      <td>2.181960</td>\n",
       "      <td>1.200740e+08</td>\n",
       "      <td>20040914</td>\n",
       "      <td>5</td>\n",
       "    </tr>\n",
       "    <tr>\n",
       "      <th>18</th>\n",
       "      <td>3025</td>\n",
       "      <td>0</td>\n",
       "      <td>3</td>\n",
       "      <td>20040720</td>\n",
       "      <td>59037000.0</td>\n",
       "      <td>1</td>\n",
       "      <td>0.02075</td>\n",
       "      <td>0</td>\n",
       "      <td>2.181960</td>\n",
       "      <td>5.893813e+07</td>\n",
       "      <td>20040827</td>\n",
       "      <td>5</td>\n",
       "    </tr>\n",
       "    <tr>\n",
       "      <th>19</th>\n",
       "      <td>2235</td>\n",
       "      <td>1</td>\n",
       "      <td>4</td>\n",
       "      <td>20040812</td>\n",
       "      <td>44077000.0</td>\n",
       "      <td>1</td>\n",
       "      <td>0.02075</td>\n",
       "      <td>0</td>\n",
       "      <td>2.181960</td>\n",
       "      <td>4.400073e+07</td>\n",
       "      <td>20040915</td>\n",
       "      <td>6</td>\n",
       "    </tr>\n",
       "    <tr>\n",
       "      <th>20</th>\n",
       "      <td>2249</td>\n",
       "      <td>0</td>\n",
       "      <td>3</td>\n",
       "      <td>20040812</td>\n",
       "      <td>71885000.0</td>\n",
       "      <td>1</td>\n",
       "      <td>0.02075</td>\n",
       "      <td>0</td>\n",
       "      <td>2.181960</td>\n",
       "      <td>7.176091e+07</td>\n",
       "      <td>20040915</td>\n",
       "      <td>5</td>\n",
       "    </tr>\n",
       "    <tr>\n",
       "      <th>21</th>\n",
       "      <td>3245</td>\n",
       "      <td>0</td>\n",
       "      <td>3</td>\n",
       "      <td>20040825</td>\n",
       "      <td>44726000.0</td>\n",
       "      <td>1</td>\n",
       "      <td>0.02075</td>\n",
       "      <td>0</td>\n",
       "      <td>2.181960</td>\n",
       "      <td>4.464088e+07</td>\n",
       "      <td>20040929</td>\n",
       "      <td>5</td>\n",
       "    </tr>\n",
       "    <tr>\n",
       "      <th>22</th>\n",
       "      <td>299</td>\n",
       "      <td>1</td>\n",
       "      <td>4</td>\n",
       "      <td>20040906</td>\n",
       "      <td>134200000.0</td>\n",
       "      <td>1</td>\n",
       "      <td>0.02076</td>\n",
       "      <td>0</td>\n",
       "      <td>2.367102</td>\n",
       "      <td>1.339678e+08</td>\n",
       "      <td>20041008</td>\n",
       "      <td>6</td>\n",
       "    </tr>\n",
       "    <tr>\n",
       "      <th>23</th>\n",
       "      <td>3223</td>\n",
       "      <td>0</td>\n",
       "      <td>3</td>\n",
       "      <td>20040907</td>\n",
       "      <td>89100000.0</td>\n",
       "      <td>1</td>\n",
       "      <td>0.02076</td>\n",
       "      <td>0</td>\n",
       "      <td>2.367102</td>\n",
       "      <td>8.893557e+07</td>\n",
       "      <td>20041011</td>\n",
       "      <td>5</td>\n",
       "    </tr>\n",
       "    <tr>\n",
       "      <th>24</th>\n",
       "      <td>2104</td>\n",
       "      <td>0</td>\n",
       "      <td>3</td>\n",
       "      <td>20040909</td>\n",
       "      <td>159995000.0</td>\n",
       "      <td>1</td>\n",
       "      <td>0.02076</td>\n",
       "      <td>0</td>\n",
       "      <td>2.367102</td>\n",
       "      <td>1.591349e+08</td>\n",
       "      <td>20041214</td>\n",
       "      <td>5</td>\n",
       "    </tr>\n",
       "    <tr>\n",
       "      <th>25</th>\n",
       "      <td>2849</td>\n",
       "      <td>0</td>\n",
       "      <td>3</td>\n",
       "      <td>20040909</td>\n",
       "      <td>176704000.0</td>\n",
       "      <td>3</td>\n",
       "      <td>0.02076</td>\n",
       "      <td>4</td>\n",
       "      <td>5.176733</td>\n",
       "      <td>1.760067e+08</td>\n",
       "      <td>20041013</td>\n",
       "      <td>0</td>\n",
       "    </tr>\n",
       "    <tr>\n",
       "      <th>26</th>\n",
       "      <td>1906</td>\n",
       "      <td>1</td>\n",
       "      <td>4</td>\n",
       "      <td>20040909</td>\n",
       "      <td>88000000.0</td>\n",
       "      <td>1</td>\n",
       "      <td>0.02076</td>\n",
       "      <td>0</td>\n",
       "      <td>2.367102</td>\n",
       "      <td>8.784773e+07</td>\n",
       "      <td>20041013</td>\n",
       "      <td>6</td>\n",
       "    </tr>\n",
       "    <tr>\n",
       "      <th>27</th>\n",
       "      <td>3369</td>\n",
       "      <td>0</td>\n",
       "      <td>3</td>\n",
       "      <td>20040910</td>\n",
       "      <td>38819000.0</td>\n",
       "      <td>1</td>\n",
       "      <td>0.02076</td>\n",
       "      <td>0</td>\n",
       "      <td>2.367102</td>\n",
       "      <td>3.875183e+07</td>\n",
       "      <td>20041014</td>\n",
       "      <td>5</td>\n",
       "    </tr>\n",
       "    <tr>\n",
       "      <th>28</th>\n",
       "      <td>2105</td>\n",
       "      <td>0</td>\n",
       "      <td>3</td>\n",
       "      <td>20040910</td>\n",
       "      <td>73557000.0</td>\n",
       "      <td>1</td>\n",
       "      <td>0.02076</td>\n",
       "      <td>0</td>\n",
       "      <td>2.367102</td>\n",
       "      <td>7.342972e+07</td>\n",
       "      <td>20041014</td>\n",
       "      <td>5</td>\n",
       "    </tr>\n",
       "    <tr>\n",
       "      <th>29</th>\n",
       "      <td>88</td>\n",
       "      <td>0</td>\n",
       "      <td>3</td>\n",
       "      <td>20040913</td>\n",
       "      <td>68343000.0</td>\n",
       "      <td>1</td>\n",
       "      <td>0.02076</td>\n",
       "      <td>0</td>\n",
       "      <td>2.367102</td>\n",
       "      <td>6.822489e+07</td>\n",
       "      <td>20041015</td>\n",
       "      <td>5</td>\n",
       "    </tr>\n",
       "    <tr>\n",
       "      <th>...</th>\n",
       "      <td>...</td>\n",
       "      <td>...</td>\n",
       "      <td>...</td>\n",
       "      <td>...</td>\n",
       "      <td>...</td>\n",
       "      <td>...</td>\n",
       "      <td>...</td>\n",
       "      <td>...</td>\n",
       "      <td>...</td>\n",
       "      <td>...</td>\n",
       "      <td>...</td>\n",
       "      <td>...</td>\n",
       "    </tr>\n",
       "    <tr>\n",
       "      <th>9336</th>\n",
       "      <td>0</td>\n",
       "      <td>1</td>\n",
       "      <td>4</td>\n",
       "      <td>20151026</td>\n",
       "      <td>22000000.0</td>\n",
       "      <td>1</td>\n",
       "      <td>-0.00113</td>\n",
       "      <td>0</td>\n",
       "      <td>0.837866</td>\n",
       "      <td>2.199934e+07</td>\n",
       "      <td>20151126</td>\n",
       "      <td>6</td>\n",
       "    </tr>\n",
       "    <tr>\n",
       "      <th>9337</th>\n",
       "      <td>0</td>\n",
       "      <td>0</td>\n",
       "      <td>3</td>\n",
       "      <td>20151211</td>\n",
       "      <td>150700000.0</td>\n",
       "      <td>1</td>\n",
       "      <td>-0.00161</td>\n",
       "      <td>0</td>\n",
       "      <td>0.989865</td>\n",
       "      <td>1.506848e+08</td>\n",
       "      <td>20160314</td>\n",
       "      <td>5</td>\n",
       "    </tr>\n",
       "    <tr>\n",
       "      <th>9338</th>\n",
       "      <td>0</td>\n",
       "      <td>1</td>\n",
       "      <td>4</td>\n",
       "      <td>20151211</td>\n",
       "      <td>44000000.0</td>\n",
       "      <td>1</td>\n",
       "      <td>-0.00161</td>\n",
       "      <td>0</td>\n",
       "      <td>0.989865</td>\n",
       "      <td>4.399905e+07</td>\n",
       "      <td>20160114</td>\n",
       "      <td>6</td>\n",
       "    </tr>\n",
       "    <tr>\n",
       "      <th>9339</th>\n",
       "      <td>0</td>\n",
       "      <td>1</td>\n",
       "      <td>0</td>\n",
       "      <td>20160526</td>\n",
       "      <td>66000000.0</td>\n",
       "      <td>2</td>\n",
       "      <td>-0.00343</td>\n",
       "      <td>2</td>\n",
       "      <td>-0.451273</td>\n",
       "      <td>6.588252e+07</td>\n",
       "      <td>20160824</td>\n",
       "      <td>2</td>\n",
       "    </tr>\n",
       "    <tr>\n",
       "      <th>9340</th>\n",
       "      <td>0</td>\n",
       "      <td>1</td>\n",
       "      <td>4</td>\n",
       "      <td>20160601</td>\n",
       "      <td>143000000.0</td>\n",
       "      <td>3</td>\n",
       "      <td>-0.00343</td>\n",
       "      <td>4</td>\n",
       "      <td>0.863342</td>\n",
       "      <td>1.429866e+08</td>\n",
       "      <td>20160608</td>\n",
       "      <td>0</td>\n",
       "    </tr>\n",
       "    <tr>\n",
       "      <th>9341</th>\n",
       "      <td>0</td>\n",
       "      <td>1</td>\n",
       "      <td>0</td>\n",
       "      <td>20160527</td>\n",
       "      <td>44000000.0</td>\n",
       "      <td>2</td>\n",
       "      <td>-0.00343</td>\n",
       "      <td>2</td>\n",
       "      <td>-0.451273</td>\n",
       "      <td>4.398106e+07</td>\n",
       "      <td>20160627</td>\n",
       "      <td>2</td>\n",
       "    </tr>\n",
       "    <tr>\n",
       "      <th>9342</th>\n",
       "      <td>0</td>\n",
       "      <td>1</td>\n",
       "      <td>0</td>\n",
       "      <td>20160527</td>\n",
       "      <td>138039000.0</td>\n",
       "      <td>2</td>\n",
       "      <td>-0.00343</td>\n",
       "      <td>2</td>\n",
       "      <td>-0.451273</td>\n",
       "      <td>1.380269e+08</td>\n",
       "      <td>20160603</td>\n",
       "      <td>2</td>\n",
       "    </tr>\n",
       "    <tr>\n",
       "      <th>9343</th>\n",
       "      <td>0</td>\n",
       "      <td>1</td>\n",
       "      <td>0</td>\n",
       "      <td>20160614</td>\n",
       "      <td>114785000.0</td>\n",
       "      <td>2</td>\n",
       "      <td>-0.00349</td>\n",
       "      <td>2</td>\n",
       "      <td>-0.556873</td>\n",
       "      <td>1.147750e+08</td>\n",
       "      <td>20160621</td>\n",
       "      <td>2</td>\n",
       "    </tr>\n",
       "    <tr>\n",
       "      <th>9344</th>\n",
       "      <td>0</td>\n",
       "      <td>1</td>\n",
       "      <td>4</td>\n",
       "      <td>20160616</td>\n",
       "      <td>82500000.0</td>\n",
       "      <td>3</td>\n",
       "      <td>-0.00349</td>\n",
       "      <td>4</td>\n",
       "      <td>0.960652</td>\n",
       "      <td>8.246168e+07</td>\n",
       "      <td>20160718</td>\n",
       "      <td>0</td>\n",
       "    </tr>\n",
       "    <tr>\n",
       "      <th>9345</th>\n",
       "      <td>0</td>\n",
       "      <td>1</td>\n",
       "      <td>4</td>\n",
       "      <td>20160622</td>\n",
       "      <td>125268000.0</td>\n",
       "      <td>3</td>\n",
       "      <td>-0.00349</td>\n",
       "      <td>4</td>\n",
       "      <td>0.960652</td>\n",
       "      <td>1.252562e+08</td>\n",
       "      <td>20160629</td>\n",
       "      <td>0</td>\n",
       "    </tr>\n",
       "    <tr>\n",
       "      <th>9346</th>\n",
       "      <td>0</td>\n",
       "      <td>1</td>\n",
       "      <td>4</td>\n",
       "      <td>20160622</td>\n",
       "      <td>55000000.0</td>\n",
       "      <td>1</td>\n",
       "      <td>-0.00349</td>\n",
       "      <td>0</td>\n",
       "      <td>1.259223</td>\n",
       "      <td>5.501305e+07</td>\n",
       "      <td>20160822</td>\n",
       "      <td>6</td>\n",
       "    </tr>\n",
       "    <tr>\n",
       "      <th>9347</th>\n",
       "      <td>0</td>\n",
       "      <td>1</td>\n",
       "      <td>0</td>\n",
       "      <td>20160620</td>\n",
       "      <td>110000000.0</td>\n",
       "      <td>2</td>\n",
       "      <td>-0.00349</td>\n",
       "      <td>2</td>\n",
       "      <td>-0.556873</td>\n",
       "      <td>1.098900e+08</td>\n",
       "      <td>20160819</td>\n",
       "      <td>2</td>\n",
       "    </tr>\n",
       "    <tr>\n",
       "      <th>9348</th>\n",
       "      <td>0</td>\n",
       "      <td>1</td>\n",
       "      <td>0</td>\n",
       "      <td>20160620</td>\n",
       "      <td>15741000.0</td>\n",
       "      <td>2</td>\n",
       "      <td>-0.00349</td>\n",
       "      <td>2</td>\n",
       "      <td>-0.556873</td>\n",
       "      <td>1.573962e+07</td>\n",
       "      <td>20160627</td>\n",
       "      <td>2</td>\n",
       "    </tr>\n",
       "    <tr>\n",
       "      <th>9349</th>\n",
       "      <td>0</td>\n",
       "      <td>1</td>\n",
       "      <td>0</td>\n",
       "      <td>20160620</td>\n",
       "      <td>53636000.0</td>\n",
       "      <td>2</td>\n",
       "      <td>-0.00349</td>\n",
       "      <td>2</td>\n",
       "      <td>-0.556873</td>\n",
       "      <td>5.363131e+07</td>\n",
       "      <td>20160627</td>\n",
       "      <td>2</td>\n",
       "    </tr>\n",
       "    <tr>\n",
       "      <th>9350</th>\n",
       "      <td>0</td>\n",
       "      <td>0</td>\n",
       "      <td>3</td>\n",
       "      <td>20160621</td>\n",
       "      <td>62293000.0</td>\n",
       "      <td>1</td>\n",
       "      <td>-0.00349</td>\n",
       "      <td>0</td>\n",
       "      <td>1.259223</td>\n",
       "      <td>6.231370e+07</td>\n",
       "      <td>20160921</td>\n",
       "      <td>5</td>\n",
       "    </tr>\n",
       "    <tr>\n",
       "      <th>9351</th>\n",
       "      <td>0</td>\n",
       "      <td>1</td>\n",
       "      <td>0</td>\n",
       "      <td>20160621</td>\n",
       "      <td>114400000.0</td>\n",
       "      <td>2</td>\n",
       "      <td>-0.00349</td>\n",
       "      <td>2</td>\n",
       "      <td>-0.556873</td>\n",
       "      <td>1.143900e+08</td>\n",
       "      <td>20160628</td>\n",
       "      <td>2</td>\n",
       "    </tr>\n",
       "    <tr>\n",
       "      <th>9352</th>\n",
       "      <td>0</td>\n",
       "      <td>1</td>\n",
       "      <td>0</td>\n",
       "      <td>20160621</td>\n",
       "      <td>98637000.0</td>\n",
       "      <td>2</td>\n",
       "      <td>-0.00349</td>\n",
       "      <td>2</td>\n",
       "      <td>-0.556873</td>\n",
       "      <td>9.862837e+07</td>\n",
       "      <td>20160628</td>\n",
       "      <td>2</td>\n",
       "    </tr>\n",
       "    <tr>\n",
       "      <th>9353</th>\n",
       "      <td>0</td>\n",
       "      <td>1</td>\n",
       "      <td>0</td>\n",
       "      <td>20160621</td>\n",
       "      <td>71445000.0</td>\n",
       "      <td>2</td>\n",
       "      <td>-0.00349</td>\n",
       "      <td>2</td>\n",
       "      <td>-0.556873</td>\n",
       "      <td>7.143875e+07</td>\n",
       "      <td>20160628</td>\n",
       "      <td>2</td>\n",
       "    </tr>\n",
       "    <tr>\n",
       "      <th>9354</th>\n",
       "      <td>0</td>\n",
       "      <td>0</td>\n",
       "      <td>3</td>\n",
       "      <td>20160623</td>\n",
       "      <td>84150000.0</td>\n",
       "      <td>1</td>\n",
       "      <td>-0.00349</td>\n",
       "      <td>0</td>\n",
       "      <td>1.259223</td>\n",
       "      <td>8.417797e+07</td>\n",
       "      <td>20160923</td>\n",
       "      <td>5</td>\n",
       "    </tr>\n",
       "    <tr>\n",
       "      <th>9355</th>\n",
       "      <td>0</td>\n",
       "      <td>1</td>\n",
       "      <td>4</td>\n",
       "      <td>20160623</td>\n",
       "      <td>34100000.0</td>\n",
       "      <td>1</td>\n",
       "      <td>-0.00349</td>\n",
       "      <td>0</td>\n",
       "      <td>1.259223</td>\n",
       "      <td>3.410455e+07</td>\n",
       "      <td>20160725</td>\n",
       "      <td>6</td>\n",
       "    </tr>\n",
       "    <tr>\n",
       "      <th>9356</th>\n",
       "      <td>0</td>\n",
       "      <td>1</td>\n",
       "      <td>0</td>\n",
       "      <td>20160623</td>\n",
       "      <td>66099000.0</td>\n",
       "      <td>2</td>\n",
       "      <td>-0.00349</td>\n",
       "      <td>2</td>\n",
       "      <td>-0.556873</td>\n",
       "      <td>6.609322e+07</td>\n",
       "      <td>20160630</td>\n",
       "      <td>2</td>\n",
       "    </tr>\n",
       "    <tr>\n",
       "      <th>9357</th>\n",
       "      <td>0</td>\n",
       "      <td>1</td>\n",
       "      <td>0</td>\n",
       "      <td>20160623</td>\n",
       "      <td>77704000.0</td>\n",
       "      <td>2</td>\n",
       "      <td>-0.00349</td>\n",
       "      <td>2</td>\n",
       "      <td>-0.556873</td>\n",
       "      <td>7.769720e+07</td>\n",
       "      <td>20160630</td>\n",
       "      <td>2</td>\n",
       "    </tr>\n",
       "    <tr>\n",
       "      <th>9358</th>\n",
       "      <td>0</td>\n",
       "      <td>1</td>\n",
       "      <td>0</td>\n",
       "      <td>20160623</td>\n",
       "      <td>18381000.0</td>\n",
       "      <td>2</td>\n",
       "      <td>-0.00349</td>\n",
       "      <td>2</td>\n",
       "      <td>-0.556873</td>\n",
       "      <td>1.837939e+07</td>\n",
       "      <td>20160630</td>\n",
       "      <td>2</td>\n",
       "    </tr>\n",
       "    <tr>\n",
       "      <th>9359</th>\n",
       "      <td>0</td>\n",
       "      <td>1</td>\n",
       "      <td>0</td>\n",
       "      <td>20160623</td>\n",
       "      <td>32978000.0</td>\n",
       "      <td>2</td>\n",
       "      <td>-0.00349</td>\n",
       "      <td>2</td>\n",
       "      <td>-0.556873</td>\n",
       "      <td>3.297762e+07</td>\n",
       "      <td>20160624</td>\n",
       "      <td>2</td>\n",
       "    </tr>\n",
       "    <tr>\n",
       "      <th>9360</th>\n",
       "      <td>0</td>\n",
       "      <td>1</td>\n",
       "      <td>0</td>\n",
       "      <td>20160624</td>\n",
       "      <td>127952000.0</td>\n",
       "      <td>2</td>\n",
       "      <td>-0.00349</td>\n",
       "      <td>2</td>\n",
       "      <td>-0.556873</td>\n",
       "      <td>1.279472e+08</td>\n",
       "      <td>20160627</td>\n",
       "      <td>2</td>\n",
       "    </tr>\n",
       "    <tr>\n",
       "      <th>9361</th>\n",
       "      <td>0</td>\n",
       "      <td>1</td>\n",
       "      <td>0</td>\n",
       "      <td>20160624</td>\n",
       "      <td>17864000.0</td>\n",
       "      <td>2</td>\n",
       "      <td>-0.00349</td>\n",
       "      <td>2</td>\n",
       "      <td>-0.556873</td>\n",
       "      <td>1.786333e+07</td>\n",
       "      <td>20160627</td>\n",
       "      <td>2</td>\n",
       "    </tr>\n",
       "    <tr>\n",
       "      <th>9362</th>\n",
       "      <td>0</td>\n",
       "      <td>1</td>\n",
       "      <td>0</td>\n",
       "      <td>20160624</td>\n",
       "      <td>82500000.0</td>\n",
       "      <td>2</td>\n",
       "      <td>-0.00349</td>\n",
       "      <td>2</td>\n",
       "      <td>-0.556873</td>\n",
       "      <td>8.249198e+07</td>\n",
       "      <td>20160701</td>\n",
       "      <td>2</td>\n",
       "    </tr>\n",
       "    <tr>\n",
       "      <th>9363</th>\n",
       "      <td>0</td>\n",
       "      <td>1</td>\n",
       "      <td>0</td>\n",
       "      <td>20160628</td>\n",
       "      <td>110000000.0</td>\n",
       "      <td>2</td>\n",
       "      <td>-0.00349</td>\n",
       "      <td>2</td>\n",
       "      <td>-0.556873</td>\n",
       "      <td>1.099893e+08</td>\n",
       "      <td>20160705</td>\n",
       "      <td>2</td>\n",
       "    </tr>\n",
       "    <tr>\n",
       "      <th>9364</th>\n",
       "      <td>0</td>\n",
       "      <td>1</td>\n",
       "      <td>0</td>\n",
       "      <td>20160628</td>\n",
       "      <td>33000000.0</td>\n",
       "      <td>2</td>\n",
       "      <td>-0.00349</td>\n",
       "      <td>2</td>\n",
       "      <td>-0.556873</td>\n",
       "      <td>3.299679e+07</td>\n",
       "      <td>20160705</td>\n",
       "      <td>2</td>\n",
       "    </tr>\n",
       "    <tr>\n",
       "      <th>9365</th>\n",
       "      <td>0</td>\n",
       "      <td>1</td>\n",
       "      <td>0</td>\n",
       "      <td>20160628</td>\n",
       "      <td>89562000.0</td>\n",
       "      <td>2</td>\n",
       "      <td>-0.00349</td>\n",
       "      <td>2</td>\n",
       "      <td>-0.556873</td>\n",
       "      <td>8.955329e+07</td>\n",
       "      <td>20160705</td>\n",
       "      <td>2</td>\n",
       "    </tr>\n",
       "  </tbody>\n",
       "</table>\n",
       "<p>9366 rows × 12 columns</p>\n",
       "</div>"
      ],
      "text/plain": [
       "      desk_id  office_id  pf_category  start_date         sold  country_code  \\\n",
       "0        3479          1            4    20040720  110000000.0             1   \n",
       "1         526          0            3    20040709  176671000.0             3   \n",
       "2        2538          0            3    20040723   56474000.0             1   \n",
       "3        2645          0            3    20040609  164813000.0             1   \n",
       "4        2645          1            4    20040609  140800000.0             1   \n",
       "5        2544          0            3    20040707   48741000.0             1   \n",
       "6         929          0            3    20040706   60593500.0             1   \n",
       "7         929          1            4    20040706  134200000.0             1   \n",
       "8        1599          0            3    20040419   82929000.0             1   \n",
       "9        1459          0            3    20040414  212476000.0             1   \n",
       "10       1356          0            3    20040611   77099000.0             1   \n",
       "11       2504          1            4    20040805  134200000.0             1   \n",
       "12       2504          0            3    20040805   54989000.0             1   \n",
       "13       1482          0            3    20040809   61567000.0             1   \n",
       "14       3916          0            3    20040511   80201000.0             1   \n",
       "15       2225          0            3    20040810  204941000.0             1   \n",
       "16       2617          1            4    20040810   88000000.0             1   \n",
       "17       2576          0            3    20040811  120296000.0             1   \n",
       "18       3025          0            3    20040720   59037000.0             1   \n",
       "19       2235          1            4    20040812   44077000.0             1   \n",
       "20       2249          0            3    20040812   71885000.0             1   \n",
       "21       3245          0            3    20040825   44726000.0             1   \n",
       "22        299          1            4    20040906  134200000.0             1   \n",
       "23       3223          0            3    20040907   89100000.0             1   \n",
       "24       2104          0            3    20040909  159995000.0             1   \n",
       "25       2849          0            3    20040909  176704000.0             3   \n",
       "26       1906          1            4    20040909   88000000.0             1   \n",
       "27       3369          0            3    20040910   38819000.0             1   \n",
       "28       2105          0            3    20040910   73557000.0             1   \n",
       "29         88          0            3    20040913   68343000.0             1   \n",
       "...       ...        ...          ...         ...          ...           ...   \n",
       "9336        0          1            4    20151026   22000000.0             1   \n",
       "9337        0          0            3    20151211  150700000.0             1   \n",
       "9338        0          1            4    20151211   44000000.0             1   \n",
       "9339        0          1            0    20160526   66000000.0             2   \n",
       "9340        0          1            4    20160601  143000000.0             3   \n",
       "9341        0          1            0    20160527   44000000.0             2   \n",
       "9342        0          1            0    20160527  138039000.0             2   \n",
       "9343        0          1            0    20160614  114785000.0             2   \n",
       "9344        0          1            4    20160616   82500000.0             3   \n",
       "9345        0          1            4    20160622  125268000.0             3   \n",
       "9346        0          1            4    20160622   55000000.0             1   \n",
       "9347        0          1            0    20160620  110000000.0             2   \n",
       "9348        0          1            0    20160620   15741000.0             2   \n",
       "9349        0          1            0    20160620   53636000.0             2   \n",
       "9350        0          0            3    20160621   62293000.0             1   \n",
       "9351        0          1            0    20160621  114400000.0             2   \n",
       "9352        0          1            0    20160621   98637000.0             2   \n",
       "9353        0          1            0    20160621   71445000.0             2   \n",
       "9354        0          0            3    20160623   84150000.0             1   \n",
       "9355        0          1            4    20160623   34100000.0             1   \n",
       "9356        0          1            0    20160623   66099000.0             2   \n",
       "9357        0          1            0    20160623   77704000.0             2   \n",
       "9358        0          1            0    20160623   18381000.0             2   \n",
       "9359        0          1            0    20160623   32978000.0             2   \n",
       "9360        0          1            0    20160624  127952000.0             2   \n",
       "9361        0          1            0    20160624   17864000.0             2   \n",
       "9362        0          1            0    20160624   82500000.0             2   \n",
       "9363        0          1            0    20160628  110000000.0             2   \n",
       "9364        0          1            0    20160628   33000000.0             2   \n",
       "9365        0          1            0    20160628   89562000.0             2   \n",
       "\n",
       "      euribor_rate  currency  libor_rate        bought  sell_date  type  \n",
       "0          0.02074         0    2.332216  1.098097e+08   20040812     6  \n",
       "1          0.02074         4    5.269617  1.760084e+08   20040812     0  \n",
       "2          0.02074         0    2.332216  5.637953e+07   20040817     5  \n",
       "3          0.02074         0    2.332216  1.645088e+08   20040713     5  \n",
       "4          0.02074         0    2.332216  1.405402e+08   20040713     6  \n",
       "5          0.02074         0    2.332216  4.865127e+07   20040810     5  \n",
       "6          0.02074         0    2.332216  6.048181e+07   20040809     5  \n",
       "7          0.02074         0    2.332216  1.339526e+08   20040809     6  \n",
       "8          0.02074         0    2.332216  8.250616e+07   20040720     5  \n",
       "9          0.02074         0    2.332216  2.114140e+08   20040713     5  \n",
       "10         0.02075         0    2.181960  7.696082e+07   20040716     5  \n",
       "11         0.02075         0    2.181960  1.339678e+08   20040908     6  \n",
       "12         0.02075         0    2.181960  5.489385e+07   20040908     5  \n",
       "13         0.02075         0    2.181960  6.146098e+07   20040909     5  \n",
       "14         0.02075         0    2.181960  7.977902e+07   20040812     5  \n",
       "15         0.02075         0    2.181960  2.038207e+08   20040913     5  \n",
       "16         0.02075         0    2.181960  8.783779e+07   20040913     6  \n",
       "17         0.02075         0    2.181960  1.200740e+08   20040914     5  \n",
       "18         0.02075         0    2.181960  5.893813e+07   20040827     5  \n",
       "19         0.02075         0    2.181960  4.400073e+07   20040915     6  \n",
       "20         0.02075         0    2.181960  7.176091e+07   20040915     5  \n",
       "21         0.02075         0    2.181960  4.464088e+07   20040929     5  \n",
       "22         0.02076         0    2.367102  1.339678e+08   20041008     6  \n",
       "23         0.02076         0    2.367102  8.893557e+07   20041011     5  \n",
       "24         0.02076         0    2.367102  1.591349e+08   20041214     5  \n",
       "25         0.02076         4    5.176733  1.760067e+08   20041013     0  \n",
       "26         0.02076         0    2.367102  8.784773e+07   20041013     6  \n",
       "27         0.02076         0    2.367102  3.875183e+07   20041014     5  \n",
       "28         0.02076         0    2.367102  7.342972e+07   20041014     5  \n",
       "29         0.02076         0    2.367102  6.822489e+07   20041015     5  \n",
       "...            ...       ...         ...           ...        ...   ...  \n",
       "9336      -0.00113         0    0.837866  2.199934e+07   20151126     6  \n",
       "9337      -0.00161         0    0.989865  1.506848e+08   20160314     5  \n",
       "9338      -0.00161         0    0.989865  4.399905e+07   20160114     6  \n",
       "9339      -0.00343         2   -0.451273  6.588252e+07   20160824     2  \n",
       "9340      -0.00343         4    0.863342  1.429866e+08   20160608     0  \n",
       "9341      -0.00343         2   -0.451273  4.398106e+07   20160627     2  \n",
       "9342      -0.00343         2   -0.451273  1.380269e+08   20160603     2  \n",
       "9343      -0.00349         2   -0.556873  1.147750e+08   20160621     2  \n",
       "9344      -0.00349         4    0.960652  8.246168e+07   20160718     0  \n",
       "9345      -0.00349         4    0.960652  1.252562e+08   20160629     0  \n",
       "9346      -0.00349         0    1.259223  5.501305e+07   20160822     6  \n",
       "9347      -0.00349         2   -0.556873  1.098900e+08   20160819     2  \n",
       "9348      -0.00349         2   -0.556873  1.573962e+07   20160627     2  \n",
       "9349      -0.00349         2   -0.556873  5.363131e+07   20160627     2  \n",
       "9350      -0.00349         0    1.259223  6.231370e+07   20160921     5  \n",
       "9351      -0.00349         2   -0.556873  1.143900e+08   20160628     2  \n",
       "9352      -0.00349         2   -0.556873  9.862837e+07   20160628     2  \n",
       "9353      -0.00349         2   -0.556873  7.143875e+07   20160628     2  \n",
       "9354      -0.00349         0    1.259223  8.417797e+07   20160923     5  \n",
       "9355      -0.00349         0    1.259223  3.410455e+07   20160725     6  \n",
       "9356      -0.00349         2   -0.556873  6.609322e+07   20160630     2  \n",
       "9357      -0.00349         2   -0.556873  7.769720e+07   20160630     2  \n",
       "9358      -0.00349         2   -0.556873  1.837939e+07   20160630     2  \n",
       "9359      -0.00349         2   -0.556873  3.297762e+07   20160624     2  \n",
       "9360      -0.00349         2   -0.556873  1.279472e+08   20160627     2  \n",
       "9361      -0.00349         2   -0.556873  1.786333e+07   20160627     2  \n",
       "9362      -0.00349         2   -0.556873  8.249198e+07   20160701     2  \n",
       "9363      -0.00349         2   -0.556873  1.099893e+08   20160705     2  \n",
       "9364      -0.00349         2   -0.556873  3.299679e+07   20160705     2  \n",
       "9365      -0.00349         2   -0.556873  8.955329e+07   20160705     2  \n",
       "\n",
       "[9366 rows x 12 columns]"
      ]
     },
     "execution_count": 134,
     "metadata": {},
     "output_type": "execute_result"
    }
   ],
   "source": [
    "train.fillna(train.mean(),inplace=True)"
   ]
  },
  {
   "cell_type": "code",
   "execution_count": 155,
   "metadata": {},
   "outputs": [
    {
     "name": "stdout",
     "output_type": "stream",
     "text": [
      "   office_id  pf_category  start_date      sold  country_code  euribor_rate  \\\n",
      "0          1            4    0.993540  0.008333             1       0.02074   \n",
      "1          0            3    0.993539  0.013384             3       0.02074   \n",
      "2          0            3    0.993540  0.004278             1       0.02074   \n",
      "3          0            3    0.993534  0.012486             1       0.02074   \n",
      "4          1            4    0.993534  0.010667             1       0.02074   \n",
      "\n",
      "   currency  libor_rate    bought  sell_date  type  \n",
      "0         0    2.332216  0.008319   0.993544     6  \n",
      "1         4    5.269617  0.013334   0.993544     0  \n",
      "2         0    2.332216  0.004271   0.993545     5  \n",
      "3         0    2.332216  0.012463   0.993539     5  \n",
      "4         0    2.332216  0.010647   0.993539     6  \n"
     ]
    },
    {
     "name": "stderr",
     "output_type": "stream",
     "text": [
      "/home/pritam/anaconda3/lib/python3.6/site-packages/ipykernel_launcher.py:1: SettingWithCopyWarning: \n",
      "A value is trying to be set on a copy of a slice from a DataFrame.\n",
      "Try using .loc[row_indexer,col_indexer] = value instead\n",
      "\n",
      "See the caveats in the documentation: http://pandas.pydata.org/pandas-docs/stable/indexing.html#indexing-view-versus-copy\n",
      "  \"\"\"Entry point for launching an IPython kernel.\n",
      "/home/pritam/anaconda3/lib/python3.6/site-packages/ipykernel_launcher.py:2: SettingWithCopyWarning: \n",
      "A value is trying to be set on a copy of a slice from a DataFrame.\n",
      "Try using .loc[row_indexer,col_indexer] = value instead\n",
      "\n",
      "See the caveats in the documentation: http://pandas.pydata.org/pandas-docs/stable/indexing.html#indexing-view-versus-copy\n",
      "  \n",
      "/home/pritam/anaconda3/lib/python3.6/site-packages/ipykernel_launcher.py:3: SettingWithCopyWarning: \n",
      "A value is trying to be set on a copy of a slice from a DataFrame.\n",
      "Try using .loc[row_indexer,col_indexer] = value instead\n",
      "\n",
      "See the caveats in the documentation: http://pandas.pydata.org/pandas-docs/stable/indexing.html#indexing-view-versus-copy\n",
      "  This is separate from the ipykernel package so we can avoid doing imports until\n",
      "/home/pritam/anaconda3/lib/python3.6/site-packages/ipykernel_launcher.py:4: SettingWithCopyWarning: \n",
      "A value is trying to be set on a copy of a slice from a DataFrame.\n",
      "Try using .loc[row_indexer,col_indexer] = value instead\n",
      "\n",
      "See the caveats in the documentation: http://pandas.pydata.org/pandas-docs/stable/indexing.html#indexing-view-versus-copy\n",
      "  after removing the cwd from sys.path.\n"
     ]
    }
   ],
   "source": [
    "train['sold']/=train['sold'].max()\n",
    "train['start_date']/=train['start_date'].max()\n",
    "train['bought']/=train['bought'].max()\n",
    "train['sell_date']/=train['sell_date'].max()\n",
    "del train['desk_id']\n",
    "print(train.head())\n"
   ]
  },
  {
   "cell_type": "code",
   "execution_count": 156,
   "metadata": {},
   "outputs": [
    {
     "name": "stdout",
     "output_type": "stream",
     "text": [
      "   office_id  pf_category  start_date      sold  country_code  euribor_rate  \\\n",
      "0          1            4    0.993540  0.008333             1       0.02074   \n",
      "1          0            3    0.993539  0.013384             3       0.02074   \n",
      "2          0            3    0.993540  0.004278             1       0.02074   \n",
      "3          0            3    0.993534  0.012486             1       0.02074   \n",
      "4          1            4    0.993534  0.010667             1       0.02074   \n",
      "\n",
      "   currency  libor_rate    bought  sell_date  type  \n",
      "0         0    2.332216  0.008319   0.993544     6  \n",
      "1         4    5.269617  0.013334   0.993544     0  \n",
      "2         0    2.332216  0.004271   0.993545     5  \n",
      "3         0    2.332216  0.012463   0.993539     5  \n",
      "4         0    2.332216  0.010647   0.993539     6  \n"
     ]
    }
   ],
   "source": [
    "print(train.head())"
   ]
  },
  {
   "cell_type": "code",
   "execution_count": null,
   "metadata": {
    "collapsed": true
   },
   "outputs": [],
   "source": []
  },
  {
   "cell_type": "code",
   "execution_count": null,
   "metadata": {
    "collapsed": true
   },
   "outputs": [],
   "source": []
  },
  {
   "cell_type": "code",
   "execution_count": null,
   "metadata": {
    "collapsed": true
   },
   "outputs": [],
   "source": []
  },
  {
   "cell_type": "code",
   "execution_count": 157,
   "metadata": {
    "collapsed": true
   },
   "outputs": [],
   "source": [
    "train_scaled=preprocessing.scale(train)"
   ]
  },
  {
   "cell_type": "code",
   "execution_count": 158,
   "metadata": {},
   "outputs": [
    {
     "name": "stdout",
     "output_type": "stream",
     "text": [
      "[[ 0.67103965  1.5992461  -2.50066009 ...,  0.04108764 -2.51196994\n",
      "   1.85426182]\n",
      " [-1.49022491  0.98557276 -2.50102041 ...,  0.3845913  -2.51196994\n",
      "  -1.75321947]\n",
      " [-1.49022491  0.98557276 -2.50056182 ..., -0.23615988 -2.51180658\n",
      "   1.25301493]\n",
      " ..., \n",
      " [ 0.67103965 -0.85544728  1.42710181 ...,  0.0420198   1.4051594\n",
      "  -0.55072571]\n",
      " [ 0.67103965 -0.85544728  1.42710181 ..., -0.35749229  1.4051594\n",
      "  -0.55072571]\n",
      " [ 0.67103965 -0.85544728  1.42710181 ..., -0.06402212  1.4051594\n",
      "  -0.55072571]]\n"
     ]
    }
   ],
   "source": [
    "print(train_scaled)"
   ]
  },
  {
   "cell_type": "code",
   "execution_count": 168,
   "metadata": {},
   "outputs": [
    {
     "name": "stdout",
     "output_type": "stream",
     "text": [
      "Index(['portfolio_id', 'desk_id', 'office_id', 'pf_category', 'start_date',\n",
      "       'sold', 'country_code', 'euribor_rate', 'currency', 'libor_rate',\n",
      "       'bought', 'creation_date', 'indicator_code', 'sell_date', 'type',\n",
      "       'hedge_value', 'status', 'return'],\n",
      "      dtype='object')\n"
     ]
    }
   ],
   "source": [
    "print(train_set.columns)"
   ]
  },
  {
   "cell_type": "code",
   "execution_count": 173,
   "metadata": {
    "collapsed": true
   },
   "outputs": [],
   "source": [
    "feature=['desk_id', 'office_id', 'pf_category', 'start_date',\n",
    "       'sold', 'country_code', 'euribor_rate', 'currency', 'libor_rate',\n",
    "       'bought', 'creation_date', 'indicator_code', 'sell_date', 'type',\n",
    "       'hedge_value', 'status']\n",
    "target=['return']"
   ]
  },
  {
   "cell_type": "code",
   "execution_count": 177,
   "metadata": {},
   "outputs": [
    {
     "name": "stderr",
     "output_type": "stream",
     "text": [
      "/home/pritam/anaconda3/lib/python3.6/site-packages/ipykernel_launcher.py:2: SettingWithCopyWarning: \n",
      "A value is trying to be set on a copy of a slice from a DataFrame.\n",
      "Try using .loc[row_indexer,col_indexer] = value instead\n",
      "\n",
      "See the caveats in the documentation: http://pandas.pydata.org/pandas-docs/stable/indexing.html#indexing-view-versus-copy\n",
      "  \n"
     ]
    }
   ],
   "source": [
    "train1=train_set[feature]\n",
    "train1['desk_id']=train_set['desk_id']\n",
    "test1=test_set[feature]"
   ]
  },
  {
   "cell_type": "code",
   "execution_count": 179,
   "metadata": {},
   "outputs": [
    {
     "name": "stdout",
     "output_type": "stream",
     "text": [
      "   desk_id  office_id  pf_category  start_date         sold  country_code  \\\n",
      "0     3479          1            4    20040720  110000000.0             1   \n",
      "1      526          0            3    20040709  176671000.0             3   \n",
      "2     2538          0            3    20040723   56474000.0             1   \n",
      "3     2645          0            3    20040609  164813000.0             1   \n",
      "4     2645          1            4    20040609  140800000.0             1   \n",
      "\n",
      "   euribor_rate  currency  libor_rate        bought  creation_date  \\\n",
      "0       0.02074         0    2.332216  1.098097e+08       20040720   \n",
      "1       0.02074         4    5.269617  1.760084e+08       20040723   \n",
      "2       0.02074         0    2.332216  5.637953e+07       20040723   \n",
      "3       0.02074         0    2.332216  1.645088e+08       20040723   \n",
      "4       0.02074         0    2.332216  1.405402e+08       20040723   \n",
      "\n",
      "   indicator_code  sell_date  type  hedge_value  status  \n",
      "0               0   20040812     6            0       0  \n",
      "1               0   20040812     0            0       0  \n",
      "2               0   20040817     5            0       0  \n",
      "3               0   20040713     5            0       0  \n",
      "4               0   20040713     6            0       0  \n"
     ]
    }
   ],
   "source": [
    "def handle_strings(df):\n",
    "    columns = df.columns.values\n",
    "    for column in columns:\n",
    "        text_digit_vals = {}\n",
    "        def convert_to_int(val):\n",
    "            return text_digit_vals[val]\n",
    "\n",
    "        if df[column].dtype != np.int64 and df[column].dtype != np.float64:\n",
    "            column_contents = df[column].values.tolist()\n",
    "            unique_elements = set(column_contents)\n",
    "            x = 0\n",
    "            for unique in unique_elements:\n",
    "                if unique not in text_digit_vals:\n",
    "                    text_digit_vals[unique] = x\n",
    "                    x+=1\n",
    "\n",
    "            df[column] = list(map(convert_to_int, df[column]))\n",
    "\n",
    "    return df\n",
    "\n",
    "train1=handle_strings(train1)\n",
    "test1=handle_strings(test1)\n",
    "print(train1.head())"
   ]
  },
  {
   "cell_type": "code",
   "execution_count": 180,
   "metadata": {
    "collapsed": true
   },
   "outputs": [],
   "source": [
    "y=train_set[target]"
   ]
  },
  {
   "cell_type": "code",
   "execution_count": 190,
   "metadata": {},
   "outputs": [
    {
     "name": "stderr",
     "output_type": "stream",
     "text": [
      "/home/pritam/anaconda3/lib/python3.6/site-packages/pandas/core/frame.py:2754: SettingWithCopyWarning: \n",
      "A value is trying to be set on a copy of a slice from a DataFrame\n",
      "\n",
      "See the caveats in the documentation: http://pandas.pydata.org/pandas-docs/stable/indexing.html#indexing-view-versus-copy\n",
      "  downcast=downcast, **kwargs)\n"
     ]
    }
   ],
   "source": [
    "train1.fillna(method='ffill',inplace=True)\n",
    "test1.fillna(method='ffill',inplace=True)"
   ]
  },
  {
   "cell_type": "code",
   "execution_count": 191,
   "metadata": {},
   "outputs": [
    {
     "name": "stderr",
     "output_type": "stream",
     "text": [
      "/home/pritam/anaconda3/lib/python3.6/site-packages/sklearn/preprocessing/data.py:164: UserWarning: Numerical issues were encountered when centering the data and might not be solved. Dataset may contain too large values. You may need to prescale your features.\n",
      "  warnings.warn(\"Numerical issues were encountered \"\n"
     ]
    }
   ],
   "source": [
    "train_scaled=preprocessing.scale(train1)\n",
    "holdout=preprocessing.scale(test1)"
   ]
  },
  {
   "cell_type": "code",
   "execution_count": null,
   "metadata": {
    "collapsed": true
   },
   "outputs": [],
   "source": []
  },
  {
   "cell_type": "code",
   "execution_count": 192,
   "metadata": {
    "collapsed": true
   },
   "outputs": [],
   "source": [
    "x_train,x_test,y_train,y_test=train_test_split(train1,y,test_size=0.1,random_state=42)"
   ]
  },
  {
   "cell_type": "code",
   "execution_count": 204,
   "metadata": {
    "collapsed": true
   },
   "outputs": [],
   "source": [
    "from sklearn import svm\n",
    "from sklearn.tree import DecisionTreeRegressor"
   ]
  },
  {
   "cell_type": "code",
   "execution_count": 207,
   "metadata": {
    "collapsed": true
   },
   "outputs": [],
   "source": [
    "clf=DecisionTreeRegressor()"
   ]
  },
  {
   "cell_type": "code",
   "execution_count": null,
   "metadata": {
    "collapsed": true
   },
   "outputs": [],
   "source": []
  },
  {
   "cell_type": "code",
   "execution_count": 208,
   "metadata": {},
   "outputs": [
    {
     "data": {
      "text/plain": [
       "DecisionTreeRegressor(criterion='mse', max_depth=None, max_features=None,\n",
       "           max_leaf_nodes=None, min_impurity_decrease=0.0,\n",
       "           min_impurity_split=None, min_samples_leaf=1,\n",
       "           min_samples_split=2, min_weight_fraction_leaf=0.0,\n",
       "           presort=False, random_state=None, splitter='best')"
      ]
     },
     "execution_count": 208,
     "metadata": {},
     "output_type": "execute_result"
    }
   ],
   "source": [
    "clf.fit(x_train,y_train)"
   ]
  },
  {
   "cell_type": "code",
   "execution_count": 209,
   "metadata": {},
   "outputs": [
    {
     "data": {
      "text/plain": [
       "0.29888820448854558"
      ]
     },
     "execution_count": 209,
     "metadata": {},
     "output_type": "execute_result"
    }
   ],
   "source": [
    "clf.score(x_test,y_test)"
   ]
  },
  {
   "cell_type": "code",
   "execution_count": 212,
   "metadata": {},
   "outputs": [
    {
     "name": "stdout",
     "output_type": "stream",
     "text": [
      "  portfolio_id      desk_id    office_id pf_category  start_date         sold  \\\n",
      "0   PF00001002  DSK00001001  OFF00001002           B    20040720  110000000.0   \n",
      "1   PF00001003  DSK00001002  OFF00001001           A    20040709  176671000.0   \n",
      "2   PF00001005  DSK00001004  OFF00001001           A    20040723   56474000.0   \n",
      "3   PF00001006  DSK00001005  OFF00001001           A    20040609  164813000.0   \n",
      "4   PF00001007  DSK00001005  OFF00001002           B    20040609  140800000.0   \n",
      "\n",
      "  country_code  euribor_rate currency  libor_rate        bought  \\\n",
      "0            T       0.02074      USD    2.332216  1.098097e+08   \n",
      "1            N       0.02074      GBP    5.269617  1.760084e+08   \n",
      "2            T       0.02074      USD    2.332216  5.637953e+07   \n",
      "3            T       0.02074      USD    2.332216  1.645088e+08   \n",
      "4            T       0.02074      USD    2.332216  1.405402e+08   \n",
      "\n",
      "   creation_date indicator_code  sell_date type hedge_value status   return  \n",
      "0       20040720            NaN   20040812    B         NaN    NaN  0.02496  \n",
      "1       20040723            NaN   20040812    C         NaN    NaN  0.05496  \n",
      "2       20040723            NaN   20040817    A         NaN    NaN  0.02496  \n",
      "3       20040723            NaN   20040713    A         NaN    NaN  0.02496  \n",
      "4       20040723            NaN   20040713    B         NaN    NaN  0.02496  \n",
      "Index(['portfolio_id', 'desk_id', 'office_id', 'pf_category', 'start_date',\n",
      "       'sold', 'country_code', 'euribor_rate', 'currency', 'libor_rate',\n",
      "       'bought', 'creation_date', 'indicator_code', 'sell_date', 'type',\n",
      "       'hedge_value', 'status', 'return'],\n",
      "      dtype='object')\n"
     ]
    }
   ],
   "source": [
    "print(train_set.head())\n",
    "print(train_set.columns)"
   ]
  },
  {
   "cell_type": "code",
   "execution_count": 217,
   "metadata": {
    "collapsed": true
   },
   "outputs": [],
   "source": [
    "feature=['desk_id', 'office_id', 'pf_category', 'start_date',\n",
    "       'sold', 'country_code', 'euribor_rate', 'currency', 'libor_rate',\n",
    "       'bought', 'creation_date', 'indicator_code', 'sell_date', 'type',\n",
    "       'hedge_value', 'status']\n",
    "target=['return']"
   ]
  },
  {
   "cell_type": "code",
   "execution_count": 219,
   "metadata": {
    "collapsed": true
   },
   "outputs": [],
   "source": [
    "train1=train_set[feature]\n",
    "test1=test_set[feature]"
   ]
  },
  {
   "cell_type": "code",
   "execution_count": 220,
   "metadata": {
    "collapsed": true
   },
   "outputs": [],
   "source": [
    "y=train_set[target]"
   ]
  },
  {
   "cell_type": "code",
   "execution_count": 221,
   "metadata": {},
   "outputs": [
    {
     "name": "stderr",
     "output_type": "stream",
     "text": [
      "/home/pritam/anaconda3/lib/python3.6/site-packages/ipykernel_launcher.py:17: SettingWithCopyWarning: \n",
      "A value is trying to be set on a copy of a slice from a DataFrame.\n",
      "Try using .loc[row_indexer,col_indexer] = value instead\n",
      "\n",
      "See the caveats in the documentation: http://pandas.pydata.org/pandas-docs/stable/indexing.html#indexing-view-versus-copy\n"
     ]
    },
    {
     "name": "stdout",
     "output_type": "stream",
     "text": [
      "   desk_id  office_id  pf_category  start_date         sold  country_code  \\\n",
      "0     3479          1            4    20040720  110000000.0             1   \n",
      "1      526          0            3    20040709  176671000.0             3   \n",
      "2     2538          0            3    20040723   56474000.0             1   \n",
      "3     2645          0            3    20040609  164813000.0             1   \n",
      "4     2645          1            4    20040609  140800000.0             1   \n",
      "\n",
      "   euribor_rate  currency  libor_rate        bought  creation_date  \\\n",
      "0       0.02074         0    2.332216  1.098097e+08       20040720   \n",
      "1       0.02074         4    5.269617  1.760084e+08       20040723   \n",
      "2       0.02074         0    2.332216  5.637953e+07       20040723   \n",
      "3       0.02074         0    2.332216  1.645088e+08       20040723   \n",
      "4       0.02074         0    2.332216  1.405402e+08       20040723   \n",
      "\n",
      "   indicator_code  sell_date  type  hedge_value  status  \n",
      "0               0   20040812     6            0       0  \n",
      "1               0   20040812     0            0       0  \n",
      "2               0   20040817     5            0       0  \n",
      "3               0   20040713     5            0       0  \n",
      "4               0   20040713     6            0       0  \n"
     ]
    }
   ],
   "source": [
    "def handle_strings(df):\n",
    "    columns = df.columns.values\n",
    "    for column in columns:\n",
    "        text_digit_vals = {}\n",
    "        def convert_to_int(val):\n",
    "            return text_digit_vals[val]\n",
    "\n",
    "        if df[column].dtype != np.int64 and df[column].dtype != np.float64:\n",
    "            column_contents = df[column].values.tolist()\n",
    "            unique_elements = set(column_contents)\n",
    "            x = 0\n",
    "            for unique in unique_elements:\n",
    "                if unique not in text_digit_vals:\n",
    "                    text_digit_vals[unique] = x\n",
    "                    x+=1\n",
    "\n",
    "            df[column] = list(map(convert_to_int, df[column]))\n",
    "\n",
    "    return df\n",
    "\n",
    "train1=handle_strings(train1)\n",
    "test1=handle_strings(test1)\n",
    "print(train1.head())"
   ]
  },
  {
   "cell_type": "code",
   "execution_count": 222,
   "metadata": {},
   "outputs": [
    {
     "name": "stderr",
     "output_type": "stream",
     "text": [
      "/home/pritam/anaconda3/lib/python3.6/site-packages/pandas/core/generic.py:3660: SettingWithCopyWarning: \n",
      "A value is trying to be set on a copy of a slice from a DataFrame\n",
      "\n",
      "See the caveats in the documentation: http://pandas.pydata.org/pandas-docs/stable/indexing.html#indexing-view-versus-copy\n",
      "  self._update_inplace(new_data)\n"
     ]
    },
    {
     "data": {
      "text/html": [
       "<div>\n",
       "<style>\n",
       "    .dataframe thead tr:only-child th {\n",
       "        text-align: right;\n",
       "    }\n",
       "\n",
       "    .dataframe thead th {\n",
       "        text-align: left;\n",
       "    }\n",
       "\n",
       "    .dataframe tbody tr th {\n",
       "        vertical-align: top;\n",
       "    }\n",
       "</style>\n",
       "<table border=\"1\" class=\"dataframe\">\n",
       "  <thead>\n",
       "    <tr style=\"text-align: right;\">\n",
       "      <th></th>\n",
       "      <th>desk_id</th>\n",
       "      <th>office_id</th>\n",
       "      <th>pf_category</th>\n",
       "      <th>start_date</th>\n",
       "      <th>sold</th>\n",
       "      <th>country_code</th>\n",
       "      <th>euribor_rate</th>\n",
       "      <th>currency</th>\n",
       "      <th>libor_rate</th>\n",
       "      <th>bought</th>\n",
       "      <th>creation_date</th>\n",
       "      <th>indicator_code</th>\n",
       "      <th>sell_date</th>\n",
       "      <th>type</th>\n",
       "      <th>hedge_value</th>\n",
       "      <th>status</th>\n",
       "    </tr>\n",
       "  </thead>\n",
       "  <tbody>\n",
       "    <tr>\n",
       "      <th>0</th>\n",
       "      <td>1921</td>\n",
       "      <td>0</td>\n",
       "      <td>0</td>\n",
       "      <td>20040720</td>\n",
       "      <td>171831000.0</td>\n",
       "      <td>1</td>\n",
       "      <td>0.02074</td>\n",
       "      <td>0</td>\n",
       "      <td>2.332216</td>\n",
       "      <td>1.715337e+08</td>\n",
       "      <td>20040720</td>\n",
       "      <td>0</td>\n",
       "      <td>20040812</td>\n",
       "      <td>4</td>\n",
       "      <td>0</td>\n",
       "      <td>0</td>\n",
       "    </tr>\n",
       "    <tr>\n",
       "      <th>1</th>\n",
       "      <td>409</td>\n",
       "      <td>1</td>\n",
       "      <td>1</td>\n",
       "      <td>20040723</td>\n",
       "      <td>56485000.0</td>\n",
       "      <td>1</td>\n",
       "      <td>0.02074</td>\n",
       "      <td>0</td>\n",
       "      <td>2.332216</td>\n",
       "      <td>5.638038e+07</td>\n",
       "      <td>20040723</td>\n",
       "      <td>0</td>\n",
       "      <td>20040719</td>\n",
       "      <td>5</td>\n",
       "      <td>0</td>\n",
       "      <td>0</td>\n",
       "    </tr>\n",
       "    <tr>\n",
       "      <th>2</th>\n",
       "      <td>1775</td>\n",
       "      <td>0</td>\n",
       "      <td>0</td>\n",
       "      <td>20040607</td>\n",
       "      <td>41734000.0</td>\n",
       "      <td>1</td>\n",
       "      <td>0.02074</td>\n",
       "      <td>0</td>\n",
       "      <td>2.332216</td>\n",
       "      <td>4.166179e+07</td>\n",
       "      <td>20040726</td>\n",
       "      <td>0</td>\n",
       "      <td>20040709</td>\n",
       "      <td>4</td>\n",
       "      <td>0</td>\n",
       "      <td>0</td>\n",
       "    </tr>\n",
       "    <tr>\n",
       "      <th>3</th>\n",
       "      <td>828</td>\n",
       "      <td>0</td>\n",
       "      <td>0</td>\n",
       "      <td>20040716</td>\n",
       "      <td>82951000.0</td>\n",
       "      <td>1</td>\n",
       "      <td>0.02074</td>\n",
       "      <td>0</td>\n",
       "      <td>2.332216</td>\n",
       "      <td>8.250936e+07</td>\n",
       "      <td>20040726</td>\n",
       "      <td>0</td>\n",
       "      <td>20041019</td>\n",
       "      <td>4</td>\n",
       "      <td>0</td>\n",
       "      <td>0</td>\n",
       "    </tr>\n",
       "    <tr>\n",
       "      <th>4</th>\n",
       "      <td>1623</td>\n",
       "      <td>0</td>\n",
       "      <td>0</td>\n",
       "      <td>20040713</td>\n",
       "      <td>73293000.0</td>\n",
       "      <td>1</td>\n",
       "      <td>0.02074</td>\n",
       "      <td>0</td>\n",
       "      <td>2.332216</td>\n",
       "      <td>7.317055e+07</td>\n",
       "      <td>20040726</td>\n",
       "      <td>0</td>\n",
       "      <td>20040813</td>\n",
       "      <td>4</td>\n",
       "      <td>0</td>\n",
       "      <td>0</td>\n",
       "    </tr>\n",
       "    <tr>\n",
       "      <th>5</th>\n",
       "      <td>1714</td>\n",
       "      <td>0</td>\n",
       "      <td>0</td>\n",
       "      <td>20040710</td>\n",
       "      <td>212553000.0</td>\n",
       "      <td>1</td>\n",
       "      <td>0.02074</td>\n",
       "      <td>0</td>\n",
       "      <td>2.332216</td>\n",
       "      <td>2.114103e+08</td>\n",
       "      <td>20040727</td>\n",
       "      <td>0</td>\n",
       "      <td>20041013</td>\n",
       "      <td>4</td>\n",
       "      <td>0</td>\n",
       "      <td>0</td>\n",
       "    </tr>\n",
       "    <tr>\n",
       "      <th>6</th>\n",
       "      <td>1456</td>\n",
       "      <td>0</td>\n",
       "      <td>0</td>\n",
       "      <td>20040804</td>\n",
       "      <td>72831000.0</td>\n",
       "      <td>1</td>\n",
       "      <td>0.02075</td>\n",
       "      <td>0</td>\n",
       "      <td>2.181960</td>\n",
       "      <td>7.270110e+07</td>\n",
       "      <td>20040804</td>\n",
       "      <td>0</td>\n",
       "      <td>20040816</td>\n",
       "      <td>4</td>\n",
       "      <td>0</td>\n",
       "      <td>0</td>\n",
       "    </tr>\n",
       "    <tr>\n",
       "      <th>7</th>\n",
       "      <td>1782</td>\n",
       "      <td>0</td>\n",
       "      <td>0</td>\n",
       "      <td>20040712</td>\n",
       "      <td>44088000.0</td>\n",
       "      <td>1</td>\n",
       "      <td>0.02075</td>\n",
       "      <td>0</td>\n",
       "      <td>2.181960</td>\n",
       "      <td>4.400673e+07</td>\n",
       "      <td>20040809</td>\n",
       "      <td>0</td>\n",
       "      <td>20040816</td>\n",
       "      <td>4</td>\n",
       "      <td>0</td>\n",
       "      <td>0</td>\n",
       "    </tr>\n",
       "    <tr>\n",
       "      <th>8</th>\n",
       "      <td>1995</td>\n",
       "      <td>0</td>\n",
       "      <td>0</td>\n",
       "      <td>20040810</td>\n",
       "      <td>80234000.0</td>\n",
       "      <td>1</td>\n",
       "      <td>0.02075</td>\n",
       "      <td>0</td>\n",
       "      <td>2.181960</td>\n",
       "      <td>7.978402e+07</td>\n",
       "      <td>20040810</td>\n",
       "      <td>0</td>\n",
       "      <td>20041116</td>\n",
       "      <td>4</td>\n",
       "      <td>0</td>\n",
       "      <td>0</td>\n",
       "    </tr>\n",
       "    <tr>\n",
       "      <th>9</th>\n",
       "      <td>352</td>\n",
       "      <td>0</td>\n",
       "      <td>0</td>\n",
       "      <td>20040810</td>\n",
       "      <td>176748000.0</td>\n",
       "      <td>3</td>\n",
       "      <td>0.02075</td>\n",
       "      <td>4</td>\n",
       "      <td>5.024006</td>\n",
       "      <td>1.760042e+08</td>\n",
       "      <td>20040810</td>\n",
       "      <td>0</td>\n",
       "      <td>20040913</td>\n",
       "      <td>0</td>\n",
       "      <td>0</td>\n",
       "      <td>0</td>\n",
       "    </tr>\n",
       "    <tr>\n",
       "      <th>10</th>\n",
       "      <td>1476</td>\n",
       "      <td>0</td>\n",
       "      <td>0</td>\n",
       "      <td>20040810</td>\n",
       "      <td>218839500.0</td>\n",
       "      <td>1</td>\n",
       "      <td>0.02075</td>\n",
       "      <td>0</td>\n",
       "      <td>2.181960</td>\n",
       "      <td>2.184361e+08</td>\n",
       "      <td>20040810</td>\n",
       "      <td>0</td>\n",
       "      <td>20040913</td>\n",
       "      <td>4</td>\n",
       "      <td>0</td>\n",
       "      <td>0</td>\n",
       "    </tr>\n",
       "    <tr>\n",
       "      <th>11</th>\n",
       "      <td>1528</td>\n",
       "      <td>0</td>\n",
       "      <td>0</td>\n",
       "      <td>20040707</td>\n",
       "      <td>40029000.0</td>\n",
       "      <td>1</td>\n",
       "      <td>0.02075</td>\n",
       "      <td>0</td>\n",
       "      <td>2.181960</td>\n",
       "      <td>3.996204e+07</td>\n",
       "      <td>20040811</td>\n",
       "      <td>0</td>\n",
       "      <td>20040813</td>\n",
       "      <td>4</td>\n",
       "      <td>0</td>\n",
       "      <td>0</td>\n",
       "    </tr>\n",
       "    <tr>\n",
       "      <th>12</th>\n",
       "      <td>158</td>\n",
       "      <td>0</td>\n",
       "      <td>0</td>\n",
       "      <td>20040906</td>\n",
       "      <td>51535000.0</td>\n",
       "      <td>1</td>\n",
       "      <td>0.02076</td>\n",
       "      <td>0</td>\n",
       "      <td>2.367102</td>\n",
       "      <td>5.144583e+07</td>\n",
       "      <td>20040906</td>\n",
       "      <td>0</td>\n",
       "      <td>20041008</td>\n",
       "      <td>4</td>\n",
       "      <td>0</td>\n",
       "      <td>0</td>\n",
       "    </tr>\n",
       "    <tr>\n",
       "      <th>13</th>\n",
       "      <td>1078</td>\n",
       "      <td>0</td>\n",
       "      <td>0</td>\n",
       "      <td>20040909</td>\n",
       "      <td>334070000.0</td>\n",
       "      <td>1</td>\n",
       "      <td>0.02076</td>\n",
       "      <td>0</td>\n",
       "      <td>2.367102</td>\n",
       "      <td>3.334919e+08</td>\n",
       "      <td>20040909</td>\n",
       "      <td>0</td>\n",
       "      <td>20041013</td>\n",
       "      <td>4</td>\n",
       "      <td>0</td>\n",
       "      <td>0</td>\n",
       "    </tr>\n",
       "    <tr>\n",
       "      <th>14</th>\n",
       "      <td>2084</td>\n",
       "      <td>1</td>\n",
       "      <td>1</td>\n",
       "      <td>20040913</td>\n",
       "      <td>44077000.0</td>\n",
       "      <td>1</td>\n",
       "      <td>0.02076</td>\n",
       "      <td>0</td>\n",
       "      <td>2.367102</td>\n",
       "      <td>4.400073e+07</td>\n",
       "      <td>20040913</td>\n",
       "      <td>0</td>\n",
       "      <td>20041015</td>\n",
       "      <td>5</td>\n",
       "      <td>0</td>\n",
       "      <td>0</td>\n",
       "    </tr>\n",
       "    <tr>\n",
       "      <th>15</th>\n",
       "      <td>236</td>\n",
       "      <td>0</td>\n",
       "      <td>0</td>\n",
       "      <td>20040927</td>\n",
       "      <td>39545000.0</td>\n",
       "      <td>1</td>\n",
       "      <td>0.02076</td>\n",
       "      <td>0</td>\n",
       "      <td>2.367102</td>\n",
       "      <td>3.947649e+07</td>\n",
       "      <td>20040927</td>\n",
       "      <td>0</td>\n",
       "      <td>20041029</td>\n",
       "      <td>4</td>\n",
       "      <td>0</td>\n",
       "      <td>0</td>\n",
       "    </tr>\n",
       "    <tr>\n",
       "      <th>16</th>\n",
       "      <td>189</td>\n",
       "      <td>0</td>\n",
       "      <td>0</td>\n",
       "      <td>20041006</td>\n",
       "      <td>56441000.0</td>\n",
       "      <td>1</td>\n",
       "      <td>0.02079</td>\n",
       "      <td>0</td>\n",
       "      <td>2.469197</td>\n",
       "      <td>5.633584e+07</td>\n",
       "      <td>20041006</td>\n",
       "      <td>0</td>\n",
       "      <td>20041109</td>\n",
       "      <td>4</td>\n",
       "      <td>0</td>\n",
       "      <td>0</td>\n",
       "    </tr>\n",
       "    <tr>\n",
       "      <th>17</th>\n",
       "      <td>338</td>\n",
       "      <td>0</td>\n",
       "      <td>0</td>\n",
       "      <td>20041011</td>\n",
       "      <td>176770000.0</td>\n",
       "      <td>3</td>\n",
       "      <td>0.02079</td>\n",
       "      <td>4</td>\n",
       "      <td>5.043244</td>\n",
       "      <td>1.760046e+08</td>\n",
       "      <td>20041011</td>\n",
       "      <td>0</td>\n",
       "      <td>20041115</td>\n",
       "      <td>0</td>\n",
       "      <td>0</td>\n",
       "      <td>0</td>\n",
       "    </tr>\n",
       "    <tr>\n",
       "      <th>18</th>\n",
       "      <td>1396</td>\n",
       "      <td>0</td>\n",
       "      <td>0</td>\n",
       "      <td>20041013</td>\n",
       "      <td>74283000.0</td>\n",
       "      <td>1</td>\n",
       "      <td>0.02079</td>\n",
       "      <td>0</td>\n",
       "      <td>2.469197</td>\n",
       "      <td>7.413666e+07</td>\n",
       "      <td>20041013</td>\n",
       "      <td>0</td>\n",
       "      <td>20041117</td>\n",
       "      <td>4</td>\n",
       "      <td>0</td>\n",
       "      <td>0</td>\n",
       "    </tr>\n",
       "    <tr>\n",
       "      <th>19</th>\n",
       "      <td>1712</td>\n",
       "      <td>0</td>\n",
       "      <td>0</td>\n",
       "      <td>20041028</td>\n",
       "      <td>105886000.0</td>\n",
       "      <td>1</td>\n",
       "      <td>0.02079</td>\n",
       "      <td>0</td>\n",
       "      <td>2.469197</td>\n",
       "      <td>1.056892e+08</td>\n",
       "      <td>20041028</td>\n",
       "      <td>0</td>\n",
       "      <td>20041130</td>\n",
       "      <td>4</td>\n",
       "      <td>0</td>\n",
       "      <td>0</td>\n",
       "    </tr>\n",
       "    <tr>\n",
       "      <th>20</th>\n",
       "      <td>1230</td>\n",
       "      <td>0</td>\n",
       "      <td>0</td>\n",
       "      <td>20040915</td>\n",
       "      <td>173052000.0</td>\n",
       "      <td>1</td>\n",
       "      <td>0.02079</td>\n",
       "      <td>0</td>\n",
       "      <td>2.469197</td>\n",
       "      <td>1.727625e+08</td>\n",
       "      <td>20041028</td>\n",
       "      <td>0</td>\n",
       "      <td>20041015</td>\n",
       "      <td>4</td>\n",
       "      <td>0</td>\n",
       "      <td>0</td>\n",
       "    </tr>\n",
       "    <tr>\n",
       "      <th>21</th>\n",
       "      <td>551</td>\n",
       "      <td>0</td>\n",
       "      <td>0</td>\n",
       "      <td>20040816</td>\n",
       "      <td>293337000.0</td>\n",
       "      <td>1</td>\n",
       "      <td>0.02079</td>\n",
       "      <td>0</td>\n",
       "      <td>2.469197</td>\n",
       "      <td>2.928294e+08</td>\n",
       "      <td>20041028</td>\n",
       "      <td>0</td>\n",
       "      <td>20040916</td>\n",
       "      <td>4</td>\n",
       "      <td>0</td>\n",
       "      <td>0</td>\n",
       "    </tr>\n",
       "    <tr>\n",
       "      <th>22</th>\n",
       "      <td>1061</td>\n",
       "      <td>0</td>\n",
       "      <td>0</td>\n",
       "      <td>20040909</td>\n",
       "      <td>78760000.0</td>\n",
       "      <td>1</td>\n",
       "      <td>0.02093</td>\n",
       "      <td>0</td>\n",
       "      <td>2.803864</td>\n",
       "      <td>7.861465e+07</td>\n",
       "      <td>20041105</td>\n",
       "      <td>0</td>\n",
       "      <td>20041012</td>\n",
       "      <td>4</td>\n",
       "      <td>0</td>\n",
       "      <td>0</td>\n",
       "    </tr>\n",
       "    <tr>\n",
       "      <th>23</th>\n",
       "      <td>1857</td>\n",
       "      <td>0</td>\n",
       "      <td>0</td>\n",
       "      <td>20041108</td>\n",
       "      <td>165286000.0</td>\n",
       "      <td>1</td>\n",
       "      <td>0.02093</td>\n",
       "      <td>0</td>\n",
       "      <td>2.803864</td>\n",
       "      <td>1.650071e+08</td>\n",
       "      <td>20041108</td>\n",
       "      <td>0</td>\n",
       "      <td>20041209</td>\n",
       "      <td>4</td>\n",
       "      <td>0</td>\n",
       "      <td>0</td>\n",
       "    </tr>\n",
       "    <tr>\n",
       "      <th>24</th>\n",
       "      <td>2071</td>\n",
       "      <td>1</td>\n",
       "      <td>1</td>\n",
       "      <td>20041110</td>\n",
       "      <td>63800000.0</td>\n",
       "      <td>1</td>\n",
       "      <td>0.02093</td>\n",
       "      <td>0</td>\n",
       "      <td>2.803864</td>\n",
       "      <td>6.369581e+07</td>\n",
       "      <td>20041110</td>\n",
       "      <td>0</td>\n",
       "      <td>20041213</td>\n",
       "      <td>5</td>\n",
       "      <td>0</td>\n",
       "      <td>0</td>\n",
       "    </tr>\n",
       "    <tr>\n",
       "      <th>25</th>\n",
       "      <td>79</td>\n",
       "      <td>0</td>\n",
       "      <td>0</td>\n",
       "      <td>20041110</td>\n",
       "      <td>176660000.0</td>\n",
       "      <td>3</td>\n",
       "      <td>0.02093</td>\n",
       "      <td>4</td>\n",
       "      <td>5.001250</td>\n",
       "      <td>1.760105e+08</td>\n",
       "      <td>20041110</td>\n",
       "      <td>0</td>\n",
       "      <td>20041213</td>\n",
       "      <td>0</td>\n",
       "      <td>0</td>\n",
       "      <td>0</td>\n",
       "    </tr>\n",
       "    <tr>\n",
       "      <th>26</th>\n",
       "      <td>1758</td>\n",
       "      <td>0</td>\n",
       "      <td>0</td>\n",
       "      <td>20041110</td>\n",
       "      <td>128722000.0</td>\n",
       "      <td>1</td>\n",
       "      <td>0.02093</td>\n",
       "      <td>0</td>\n",
       "      <td>2.803864</td>\n",
       "      <td>1.285046e+08</td>\n",
       "      <td>20041110</td>\n",
       "      <td>0</td>\n",
       "      <td>20041214</td>\n",
       "      <td>4</td>\n",
       "      <td>0</td>\n",
       "      <td>0</td>\n",
       "    </tr>\n",
       "    <tr>\n",
       "      <th>27</th>\n",
       "      <td>1806</td>\n",
       "      <td>0</td>\n",
       "      <td>0</td>\n",
       "      <td>20041112</td>\n",
       "      <td>60632000.0</td>\n",
       "      <td>1</td>\n",
       "      <td>0.02093</td>\n",
       "      <td>0</td>\n",
       "      <td>2.803864</td>\n",
       "      <td>6.053289e+07</td>\n",
       "      <td>20041112</td>\n",
       "      <td>0</td>\n",
       "      <td>20041214</td>\n",
       "      <td>4</td>\n",
       "      <td>0</td>\n",
       "      <td>0</td>\n",
       "    </tr>\n",
       "    <tr>\n",
       "      <th>28</th>\n",
       "      <td>406</td>\n",
       "      <td>0</td>\n",
       "      <td>0</td>\n",
       "      <td>20041112</td>\n",
       "      <td>99187000.0</td>\n",
       "      <td>1</td>\n",
       "      <td>0.02093</td>\n",
       "      <td>0</td>\n",
       "      <td>2.803864</td>\n",
       "      <td>9.900881e+07</td>\n",
       "      <td>20041112</td>\n",
       "      <td>0</td>\n",
       "      <td>20041115</td>\n",
       "      <td>4</td>\n",
       "      <td>0</td>\n",
       "      <td>0</td>\n",
       "    </tr>\n",
       "    <tr>\n",
       "      <th>29</th>\n",
       "      <td>909</td>\n",
       "      <td>1</td>\n",
       "      <td>1</td>\n",
       "      <td>20041115</td>\n",
       "      <td>33000000.0</td>\n",
       "      <td>1</td>\n",
       "      <td>0.02093</td>\n",
       "      <td>0</td>\n",
       "      <td>2.803864</td>\n",
       "      <td>3.294403e+07</td>\n",
       "      <td>20041115</td>\n",
       "      <td>0</td>\n",
       "      <td>20041216</td>\n",
       "      <td>5</td>\n",
       "      <td>0</td>\n",
       "      <td>0</td>\n",
       "    </tr>\n",
       "    <tr>\n",
       "      <th>...</th>\n",
       "      <td>...</td>\n",
       "      <td>...</td>\n",
       "      <td>...</td>\n",
       "      <td>...</td>\n",
       "      <td>...</td>\n",
       "      <td>...</td>\n",
       "      <td>...</td>\n",
       "      <td>...</td>\n",
       "      <td>...</td>\n",
       "      <td>...</td>\n",
       "      <td>...</td>\n",
       "      <td>...</td>\n",
       "      <td>...</td>\n",
       "      <td>...</td>\n",
       "      <td>...</td>\n",
       "      <td>...</td>\n",
       "    </tr>\n",
       "    <tr>\n",
       "      <th>4771</th>\n",
       "      <td>0</td>\n",
       "      <td>1</td>\n",
       "      <td>1</td>\n",
       "      <td>20160926</td>\n",
       "      <td>34100000.0</td>\n",
       "      <td>1</td>\n",
       "      <td>-0.00372</td>\n",
       "      <td>0</td>\n",
       "      <td>1.556031</td>\n",
       "      <td>3.410512e+07</td>\n",
       "      <td>20160922</td>\n",
       "      <td>1</td>\n",
       "      <td>20161026</td>\n",
       "      <td>5</td>\n",
       "      <td>2</td>\n",
       "      <td>1</td>\n",
       "    </tr>\n",
       "    <tr>\n",
       "      <th>4772</th>\n",
       "      <td>0</td>\n",
       "      <td>1</td>\n",
       "      <td>2</td>\n",
       "      <td>20160929</td>\n",
       "      <td>90497000.0</td>\n",
       "      <td>2</td>\n",
       "      <td>-0.00372</td>\n",
       "      <td>2</td>\n",
       "      <td>-0.484520</td>\n",
       "      <td>9.048820e+07</td>\n",
       "      <td>20160929</td>\n",
       "      <td>1</td>\n",
       "      <td>20161006</td>\n",
       "      <td>1</td>\n",
       "      <td>2</td>\n",
       "      <td>1</td>\n",
       "    </tr>\n",
       "    <tr>\n",
       "      <th>4773</th>\n",
       "      <td>0</td>\n",
       "      <td>1</td>\n",
       "      <td>2</td>\n",
       "      <td>20161118</td>\n",
       "      <td>33000000.0</td>\n",
       "      <td>2</td>\n",
       "      <td>-0.00374</td>\n",
       "      <td>2</td>\n",
       "      <td>-0.494991</td>\n",
       "      <td>3.291338e+07</td>\n",
       "      <td>20161117</td>\n",
       "      <td>1</td>\n",
       "      <td>20170216</td>\n",
       "      <td>1</td>\n",
       "      <td>2</td>\n",
       "      <td>1</td>\n",
       "    </tr>\n",
       "    <tr>\n",
       "      <th>4774</th>\n",
       "      <td>0</td>\n",
       "      <td>1</td>\n",
       "      <td>1</td>\n",
       "      <td>20161121</td>\n",
       "      <td>82500000.0</td>\n",
       "      <td>3</td>\n",
       "      <td>-0.00374</td>\n",
       "      <td>4</td>\n",
       "      <td>0.805149</td>\n",
       "      <td>8.247763e+07</td>\n",
       "      <td>20161117</td>\n",
       "      <td>1</td>\n",
       "      <td>20161221</td>\n",
       "      <td>0</td>\n",
       "      <td>2</td>\n",
       "      <td>1</td>\n",
       "    </tr>\n",
       "    <tr>\n",
       "      <th>4775</th>\n",
       "      <td>0</td>\n",
       "      <td>1</td>\n",
       "      <td>1</td>\n",
       "      <td>20161121</td>\n",
       "      <td>44000000.0</td>\n",
       "      <td>1</td>\n",
       "      <td>-0.00374</td>\n",
       "      <td>0</td>\n",
       "      <td>1.602965</td>\n",
       "      <td>4.400807e+07</td>\n",
       "      <td>20161117</td>\n",
       "      <td>1</td>\n",
       "      <td>20161221</td>\n",
       "      <td>5</td>\n",
       "      <td>2</td>\n",
       "      <td>1</td>\n",
       "    </tr>\n",
       "    <tr>\n",
       "      <th>4776</th>\n",
       "      <td>0</td>\n",
       "      <td>0</td>\n",
       "      <td>0</td>\n",
       "      <td>20161207</td>\n",
       "      <td>63976000.0</td>\n",
       "      <td>1</td>\n",
       "      <td>-0.00372</td>\n",
       "      <td>0</td>\n",
       "      <td>1.517476</td>\n",
       "      <td>6.399771e+07</td>\n",
       "      <td>20161207</td>\n",
       "      <td>1</td>\n",
       "      <td>20170109</td>\n",
       "      <td>4</td>\n",
       "      <td>2</td>\n",
       "      <td>1</td>\n",
       "    </tr>\n",
       "    <tr>\n",
       "      <th>4777</th>\n",
       "      <td>0</td>\n",
       "      <td>1</td>\n",
       "      <td>1</td>\n",
       "      <td>20161219</td>\n",
       "      <td>278300000.0</td>\n",
       "      <td>1</td>\n",
       "      <td>-0.00372</td>\n",
       "      <td>0</td>\n",
       "      <td>1.517476</td>\n",
       "      <td>2.783551e+08</td>\n",
       "      <td>20161215</td>\n",
       "      <td>1</td>\n",
       "      <td>20170119</td>\n",
       "      <td>5</td>\n",
       "      <td>2</td>\n",
       "      <td>1</td>\n",
       "    </tr>\n",
       "    <tr>\n",
       "      <th>4778</th>\n",
       "      <td>0</td>\n",
       "      <td>1</td>\n",
       "      <td>2</td>\n",
       "      <td>20161214</td>\n",
       "      <td>63767000.0</td>\n",
       "      <td>2</td>\n",
       "      <td>-0.00372</td>\n",
       "      <td>2</td>\n",
       "      <td>-0.456118</td>\n",
       "      <td>6.375832e+07</td>\n",
       "      <td>20161214</td>\n",
       "      <td>1</td>\n",
       "      <td>20161221</td>\n",
       "      <td>1</td>\n",
       "      <td>2</td>\n",
       "      <td>1</td>\n",
       "    </tr>\n",
       "    <tr>\n",
       "      <th>4779</th>\n",
       "      <td>0</td>\n",
       "      <td>1</td>\n",
       "      <td>2</td>\n",
       "      <td>20161214</td>\n",
       "      <td>44000000.0</td>\n",
       "      <td>2</td>\n",
       "      <td>-0.00372</td>\n",
       "      <td>2</td>\n",
       "      <td>-0.456118</td>\n",
       "      <td>4.399401e+07</td>\n",
       "      <td>20161214</td>\n",
       "      <td>1</td>\n",
       "      <td>20161221</td>\n",
       "      <td>1</td>\n",
       "      <td>2</td>\n",
       "      <td>1</td>\n",
       "    </tr>\n",
       "    <tr>\n",
       "      <th>4780</th>\n",
       "      <td>0</td>\n",
       "      <td>1</td>\n",
       "      <td>2</td>\n",
       "      <td>20161214</td>\n",
       "      <td>51843000.0</td>\n",
       "      <td>2</td>\n",
       "      <td>-0.00372</td>\n",
       "      <td>2</td>\n",
       "      <td>-0.456118</td>\n",
       "      <td>5.183594e+07</td>\n",
       "      <td>20161214</td>\n",
       "      <td>1</td>\n",
       "      <td>20161221</td>\n",
       "      <td>1</td>\n",
       "      <td>2</td>\n",
       "      <td>1</td>\n",
       "    </tr>\n",
       "    <tr>\n",
       "      <th>4781</th>\n",
       "      <td>0</td>\n",
       "      <td>1</td>\n",
       "      <td>2</td>\n",
       "      <td>20161214</td>\n",
       "      <td>11363000.0</td>\n",
       "      <td>2</td>\n",
       "      <td>-0.00372</td>\n",
       "      <td>2</td>\n",
       "      <td>-0.456118</td>\n",
       "      <td>1.136145e+07</td>\n",
       "      <td>20161214</td>\n",
       "      <td>1</td>\n",
       "      <td>20161221</td>\n",
       "      <td>1</td>\n",
       "      <td>2</td>\n",
       "      <td>1</td>\n",
       "    </tr>\n",
       "    <tr>\n",
       "      <th>4782</th>\n",
       "      <td>0</td>\n",
       "      <td>1</td>\n",
       "      <td>1</td>\n",
       "      <td>20161219</td>\n",
       "      <td>41250000.0</td>\n",
       "      <td>1</td>\n",
       "      <td>-0.00372</td>\n",
       "      <td>0</td>\n",
       "      <td>1.517476</td>\n",
       "      <td>4.126516e+07</td>\n",
       "      <td>20161215</td>\n",
       "      <td>1</td>\n",
       "      <td>20170220</td>\n",
       "      <td>5</td>\n",
       "      <td>2</td>\n",
       "      <td>1</td>\n",
       "    </tr>\n",
       "    <tr>\n",
       "      <th>4783</th>\n",
       "      <td>0</td>\n",
       "      <td>1</td>\n",
       "      <td>2</td>\n",
       "      <td>20161216</td>\n",
       "      <td>55000000.0</td>\n",
       "      <td>2</td>\n",
       "      <td>-0.00372</td>\n",
       "      <td>2</td>\n",
       "      <td>-0.456118</td>\n",
       "      <td>5.499123e+07</td>\n",
       "      <td>20161216</td>\n",
       "      <td>1</td>\n",
       "      <td>20161223</td>\n",
       "      <td>1</td>\n",
       "      <td>2</td>\n",
       "      <td>1</td>\n",
       "    </tr>\n",
       "    <tr>\n",
       "      <th>4784</th>\n",
       "      <td>0</td>\n",
       "      <td>1</td>\n",
       "      <td>2</td>\n",
       "      <td>20161216</td>\n",
       "      <td>64647000.0</td>\n",
       "      <td>2</td>\n",
       "      <td>-0.00372</td>\n",
       "      <td>2</td>\n",
       "      <td>-0.456118</td>\n",
       "      <td>6.464285e+07</td>\n",
       "      <td>20161216</td>\n",
       "      <td>1</td>\n",
       "      <td>20161219</td>\n",
       "      <td>1</td>\n",
       "      <td>2</td>\n",
       "      <td>1</td>\n",
       "    </tr>\n",
       "    <tr>\n",
       "      <th>4785</th>\n",
       "      <td>0</td>\n",
       "      <td>0</td>\n",
       "      <td>0</td>\n",
       "      <td>20161221</td>\n",
       "      <td>15950000.0</td>\n",
       "      <td>1</td>\n",
       "      <td>-0.00372</td>\n",
       "      <td>0</td>\n",
       "      <td>1.517476</td>\n",
       "      <td>1.595798e+07</td>\n",
       "      <td>20161219</td>\n",
       "      <td>1</td>\n",
       "      <td>20170321</td>\n",
       "      <td>4</td>\n",
       "      <td>2</td>\n",
       "      <td>1</td>\n",
       "    </tr>\n",
       "    <tr>\n",
       "      <th>4786</th>\n",
       "      <td>0</td>\n",
       "      <td>1</td>\n",
       "      <td>1</td>\n",
       "      <td>20161221</td>\n",
       "      <td>44000000.0</td>\n",
       "      <td>1</td>\n",
       "      <td>-0.00372</td>\n",
       "      <td>0</td>\n",
       "      <td>1.517476</td>\n",
       "      <td>4.400928e+07</td>\n",
       "      <td>20161219</td>\n",
       "      <td>1</td>\n",
       "      <td>20170123</td>\n",
       "      <td>5</td>\n",
       "      <td>2</td>\n",
       "      <td>1</td>\n",
       "    </tr>\n",
       "    <tr>\n",
       "      <th>4787</th>\n",
       "      <td>0</td>\n",
       "      <td>0</td>\n",
       "      <td>0</td>\n",
       "      <td>20161229</td>\n",
       "      <td>52877000.0</td>\n",
       "      <td>1</td>\n",
       "      <td>-0.00372</td>\n",
       "      <td>0</td>\n",
       "      <td>1.517476</td>\n",
       "      <td>5.289440e+07</td>\n",
       "      <td>20161229</td>\n",
       "      <td>1</td>\n",
       "      <td>20170130</td>\n",
       "      <td>4</td>\n",
       "      <td>2</td>\n",
       "      <td>1</td>\n",
       "    </tr>\n",
       "    <tr>\n",
       "      <th>4788</th>\n",
       "      <td>0</td>\n",
       "      <td>1</td>\n",
       "      <td>2</td>\n",
       "      <td>20170512</td>\n",
       "      <td>253198000.0</td>\n",
       "      <td>2</td>\n",
       "      <td>-0.00157</td>\n",
       "      <td>2</td>\n",
       "      <td>-0.445557</td>\n",
       "      <td>2.531493e+08</td>\n",
       "      <td>20170512</td>\n",
       "      <td>1</td>\n",
       "      <td>20170519</td>\n",
       "      <td>1</td>\n",
       "      <td>2</td>\n",
       "      <td>1</td>\n",
       "    </tr>\n",
       "    <tr>\n",
       "      <th>4789</th>\n",
       "      <td>0</td>\n",
       "      <td>1</td>\n",
       "      <td>1</td>\n",
       "      <td>20151214</td>\n",
       "      <td>82500000.0</td>\n",
       "      <td>3</td>\n",
       "      <td>-0.00161</td>\n",
       "      <td>4</td>\n",
       "      <td>0.960371</td>\n",
       "      <td>8.237677e+07</td>\n",
       "      <td>20151210</td>\n",
       "      <td>1</td>\n",
       "      <td>20160314</td>\n",
       "      <td>0</td>\n",
       "      <td>2</td>\n",
       "      <td>1</td>\n",
       "    </tr>\n",
       "    <tr>\n",
       "      <th>4790</th>\n",
       "      <td>0</td>\n",
       "      <td>1</td>\n",
       "      <td>1</td>\n",
       "      <td>20151211</td>\n",
       "      <td>44000000.0</td>\n",
       "      <td>1</td>\n",
       "      <td>-0.00161</td>\n",
       "      <td>0</td>\n",
       "      <td>0.989865</td>\n",
       "      <td>4.399905e+07</td>\n",
       "      <td>20151210</td>\n",
       "      <td>1</td>\n",
       "      <td>20160114</td>\n",
       "      <td>5</td>\n",
       "      <td>2</td>\n",
       "      <td>1</td>\n",
       "    </tr>\n",
       "    <tr>\n",
       "      <th>4791</th>\n",
       "      <td>0</td>\n",
       "      <td>1</td>\n",
       "      <td>2</td>\n",
       "      <td>20151210</td>\n",
       "      <td>68838000.0</td>\n",
       "      <td>2</td>\n",
       "      <td>-0.00161</td>\n",
       "      <td>2</td>\n",
       "      <td>-0.589765</td>\n",
       "      <td>6.872838e+07</td>\n",
       "      <td>20151210</td>\n",
       "      <td>1</td>\n",
       "      <td>20160310</td>\n",
       "      <td>1</td>\n",
       "      <td>2</td>\n",
       "      <td>1</td>\n",
       "    </tr>\n",
       "    <tr>\n",
       "      <th>4792</th>\n",
       "      <td>0</td>\n",
       "      <td>1</td>\n",
       "      <td>2</td>\n",
       "      <td>20151210</td>\n",
       "      <td>105116000.0</td>\n",
       "      <td>2</td>\n",
       "      <td>-0.00161</td>\n",
       "      <td>2</td>\n",
       "      <td>-0.589765</td>\n",
       "      <td>1.051117e+08</td>\n",
       "      <td>20151210</td>\n",
       "      <td>1</td>\n",
       "      <td>20151217</td>\n",
       "      <td>1</td>\n",
       "      <td>2</td>\n",
       "      <td>1</td>\n",
       "    </tr>\n",
       "    <tr>\n",
       "      <th>4793</th>\n",
       "      <td>0</td>\n",
       "      <td>1</td>\n",
       "      <td>1</td>\n",
       "      <td>20160225</td>\n",
       "      <td>22000000.0</td>\n",
       "      <td>1</td>\n",
       "      <td>-0.00232</td>\n",
       "      <td>0</td>\n",
       "      <td>1.140769</td>\n",
       "      <td>2.200055e+07</td>\n",
       "      <td>20160224</td>\n",
       "      <td>1</td>\n",
       "      <td>20160526</td>\n",
       "      <td>5</td>\n",
       "      <td>2</td>\n",
       "      <td>1</td>\n",
       "    </tr>\n",
       "    <tr>\n",
       "      <th>4794</th>\n",
       "      <td>0</td>\n",
       "      <td>1</td>\n",
       "      <td>2</td>\n",
       "      <td>20160527</td>\n",
       "      <td>164989000.0</td>\n",
       "      <td>2</td>\n",
       "      <td>-0.00343</td>\n",
       "      <td>2</td>\n",
       "      <td>-0.451273</td>\n",
       "      <td>1.649746e+08</td>\n",
       "      <td>20160527</td>\n",
       "      <td>1</td>\n",
       "      <td>20160603</td>\n",
       "      <td>1</td>\n",
       "      <td>2</td>\n",
       "      <td>1</td>\n",
       "    </tr>\n",
       "    <tr>\n",
       "      <th>4795</th>\n",
       "      <td>0</td>\n",
       "      <td>1</td>\n",
       "      <td>1</td>\n",
       "      <td>20160616</td>\n",
       "      <td>44000000.0</td>\n",
       "      <td>1</td>\n",
       "      <td>-0.00349</td>\n",
       "      <td>0</td>\n",
       "      <td>1.259223</td>\n",
       "      <td>4.400587e+07</td>\n",
       "      <td>20160614</td>\n",
       "      <td>1</td>\n",
       "      <td>20160718</td>\n",
       "      <td>5</td>\n",
       "      <td>2</td>\n",
       "      <td>1</td>\n",
       "    </tr>\n",
       "    <tr>\n",
       "      <th>4796</th>\n",
       "      <td>0</td>\n",
       "      <td>1</td>\n",
       "      <td>2</td>\n",
       "      <td>20160621</td>\n",
       "      <td>55000000.0</td>\n",
       "      <td>2</td>\n",
       "      <td>-0.00349</td>\n",
       "      <td>2</td>\n",
       "      <td>-0.556873</td>\n",
       "      <td>5.499519e+07</td>\n",
       "      <td>20160621</td>\n",
       "      <td>1</td>\n",
       "      <td>20160628</td>\n",
       "      <td>1</td>\n",
       "      <td>2</td>\n",
       "      <td>1</td>\n",
       "    </tr>\n",
       "    <tr>\n",
       "      <th>4797</th>\n",
       "      <td>0</td>\n",
       "      <td>1</td>\n",
       "      <td>2</td>\n",
       "      <td>20160621</td>\n",
       "      <td>138809000.0</td>\n",
       "      <td>2</td>\n",
       "      <td>-0.00349</td>\n",
       "      <td>2</td>\n",
       "      <td>-0.556873</td>\n",
       "      <td>1.387969e+08</td>\n",
       "      <td>20160621</td>\n",
       "      <td>1</td>\n",
       "      <td>20160628</td>\n",
       "      <td>1</td>\n",
       "      <td>2</td>\n",
       "      <td>1</td>\n",
       "    </tr>\n",
       "    <tr>\n",
       "      <th>4798</th>\n",
       "      <td>0</td>\n",
       "      <td>1</td>\n",
       "      <td>1</td>\n",
       "      <td>20160622</td>\n",
       "      <td>28732000.0</td>\n",
       "      <td>3</td>\n",
       "      <td>-0.00349</td>\n",
       "      <td>4</td>\n",
       "      <td>0.960652</td>\n",
       "      <td>2.872930e+07</td>\n",
       "      <td>20160622</td>\n",
       "      <td>1</td>\n",
       "      <td>20160629</td>\n",
       "      <td>0</td>\n",
       "      <td>2</td>\n",
       "      <td>1</td>\n",
       "    </tr>\n",
       "    <tr>\n",
       "      <th>4799</th>\n",
       "      <td>0</td>\n",
       "      <td>1</td>\n",
       "      <td>2</td>\n",
       "      <td>20160623</td>\n",
       "      <td>34419000.0</td>\n",
       "      <td>2</td>\n",
       "      <td>-0.00349</td>\n",
       "      <td>2</td>\n",
       "      <td>-0.556873</td>\n",
       "      <td>3.441599e+07</td>\n",
       "      <td>20160623</td>\n",
       "      <td>1</td>\n",
       "      <td>20160630</td>\n",
       "      <td>1</td>\n",
       "      <td>2</td>\n",
       "      <td>1</td>\n",
       "    </tr>\n",
       "    <tr>\n",
       "      <th>4800</th>\n",
       "      <td>0</td>\n",
       "      <td>1</td>\n",
       "      <td>2</td>\n",
       "      <td>20160628</td>\n",
       "      <td>53713000.0</td>\n",
       "      <td>2</td>\n",
       "      <td>-0.00349</td>\n",
       "      <td>2</td>\n",
       "      <td>-0.556873</td>\n",
       "      <td>5.370778e+07</td>\n",
       "      <td>20160628</td>\n",
       "      <td>1</td>\n",
       "      <td>20160705</td>\n",
       "      <td>1</td>\n",
       "      <td>2</td>\n",
       "      <td>1</td>\n",
       "    </tr>\n",
       "  </tbody>\n",
       "</table>\n",
       "<p>4801 rows × 16 columns</p>\n",
       "</div>"
      ],
      "text/plain": [
       "      desk_id  office_id  pf_category  start_date         sold  country_code  \\\n",
       "0        1921          0            0    20040720  171831000.0             1   \n",
       "1         409          1            1    20040723   56485000.0             1   \n",
       "2        1775          0            0    20040607   41734000.0             1   \n",
       "3         828          0            0    20040716   82951000.0             1   \n",
       "4        1623          0            0    20040713   73293000.0             1   \n",
       "5        1714          0            0    20040710  212553000.0             1   \n",
       "6        1456          0            0    20040804   72831000.0             1   \n",
       "7        1782          0            0    20040712   44088000.0             1   \n",
       "8        1995          0            0    20040810   80234000.0             1   \n",
       "9         352          0            0    20040810  176748000.0             3   \n",
       "10       1476          0            0    20040810  218839500.0             1   \n",
       "11       1528          0            0    20040707   40029000.0             1   \n",
       "12        158          0            0    20040906   51535000.0             1   \n",
       "13       1078          0            0    20040909  334070000.0             1   \n",
       "14       2084          1            1    20040913   44077000.0             1   \n",
       "15        236          0            0    20040927   39545000.0             1   \n",
       "16        189          0            0    20041006   56441000.0             1   \n",
       "17        338          0            0    20041011  176770000.0             3   \n",
       "18       1396          0            0    20041013   74283000.0             1   \n",
       "19       1712          0            0    20041028  105886000.0             1   \n",
       "20       1230          0            0    20040915  173052000.0             1   \n",
       "21        551          0            0    20040816  293337000.0             1   \n",
       "22       1061          0            0    20040909   78760000.0             1   \n",
       "23       1857          0            0    20041108  165286000.0             1   \n",
       "24       2071          1            1    20041110   63800000.0             1   \n",
       "25         79          0            0    20041110  176660000.0             3   \n",
       "26       1758          0            0    20041110  128722000.0             1   \n",
       "27       1806          0            0    20041112   60632000.0             1   \n",
       "28        406          0            0    20041112   99187000.0             1   \n",
       "29        909          1            1    20041115   33000000.0             1   \n",
       "...       ...        ...          ...         ...          ...           ...   \n",
       "4771        0          1            1    20160926   34100000.0             1   \n",
       "4772        0          1            2    20160929   90497000.0             2   \n",
       "4773        0          1            2    20161118   33000000.0             2   \n",
       "4774        0          1            1    20161121   82500000.0             3   \n",
       "4775        0          1            1    20161121   44000000.0             1   \n",
       "4776        0          0            0    20161207   63976000.0             1   \n",
       "4777        0          1            1    20161219  278300000.0             1   \n",
       "4778        0          1            2    20161214   63767000.0             2   \n",
       "4779        0          1            2    20161214   44000000.0             2   \n",
       "4780        0          1            2    20161214   51843000.0             2   \n",
       "4781        0          1            2    20161214   11363000.0             2   \n",
       "4782        0          1            1    20161219   41250000.0             1   \n",
       "4783        0          1            2    20161216   55000000.0             2   \n",
       "4784        0          1            2    20161216   64647000.0             2   \n",
       "4785        0          0            0    20161221   15950000.0             1   \n",
       "4786        0          1            1    20161221   44000000.0             1   \n",
       "4787        0          0            0    20161229   52877000.0             1   \n",
       "4788        0          1            2    20170512  253198000.0             2   \n",
       "4789        0          1            1    20151214   82500000.0             3   \n",
       "4790        0          1            1    20151211   44000000.0             1   \n",
       "4791        0          1            2    20151210   68838000.0             2   \n",
       "4792        0          1            2    20151210  105116000.0             2   \n",
       "4793        0          1            1    20160225   22000000.0             1   \n",
       "4794        0          1            2    20160527  164989000.0             2   \n",
       "4795        0          1            1    20160616   44000000.0             1   \n",
       "4796        0          1            2    20160621   55000000.0             2   \n",
       "4797        0          1            2    20160621  138809000.0             2   \n",
       "4798        0          1            1    20160622   28732000.0             3   \n",
       "4799        0          1            2    20160623   34419000.0             2   \n",
       "4800        0          1            2    20160628   53713000.0             2   \n",
       "\n",
       "      euribor_rate  currency  libor_rate        bought  creation_date  \\\n",
       "0          0.02074         0    2.332216  1.715337e+08       20040720   \n",
       "1          0.02074         0    2.332216  5.638038e+07       20040723   \n",
       "2          0.02074         0    2.332216  4.166179e+07       20040726   \n",
       "3          0.02074         0    2.332216  8.250936e+07       20040726   \n",
       "4          0.02074         0    2.332216  7.317055e+07       20040726   \n",
       "5          0.02074         0    2.332216  2.114103e+08       20040727   \n",
       "6          0.02075         0    2.181960  7.270110e+07       20040804   \n",
       "7          0.02075         0    2.181960  4.400673e+07       20040809   \n",
       "8          0.02075         0    2.181960  7.978402e+07       20040810   \n",
       "9          0.02075         4    5.024006  1.760042e+08       20040810   \n",
       "10         0.02075         0    2.181960  2.184361e+08       20040810   \n",
       "11         0.02075         0    2.181960  3.996204e+07       20040811   \n",
       "12         0.02076         0    2.367102  5.144583e+07       20040906   \n",
       "13         0.02076         0    2.367102  3.334919e+08       20040909   \n",
       "14         0.02076         0    2.367102  4.400073e+07       20040913   \n",
       "15         0.02076         0    2.367102  3.947649e+07       20040927   \n",
       "16         0.02079         0    2.469197  5.633584e+07       20041006   \n",
       "17         0.02079         4    5.043244  1.760046e+08       20041011   \n",
       "18         0.02079         0    2.469197  7.413666e+07       20041013   \n",
       "19         0.02079         0    2.469197  1.056892e+08       20041028   \n",
       "20         0.02079         0    2.469197  1.727625e+08       20041028   \n",
       "21         0.02079         0    2.469197  2.928294e+08       20041028   \n",
       "22         0.02093         0    2.803864  7.861465e+07       20041105   \n",
       "23         0.02093         0    2.803864  1.650071e+08       20041108   \n",
       "24         0.02093         0    2.803864  6.369581e+07       20041110   \n",
       "25         0.02093         4    5.001250  1.760105e+08       20041110   \n",
       "26         0.02093         0    2.803864  1.285046e+08       20041110   \n",
       "27         0.02093         0    2.803864  6.053289e+07       20041112   \n",
       "28         0.02093         0    2.803864  9.900881e+07       20041112   \n",
       "29         0.02093         0    2.803864  3.294403e+07       20041115   \n",
       "...            ...       ...         ...           ...            ...   \n",
       "4771      -0.00372         0    1.556031  3.410512e+07       20160922   \n",
       "4772      -0.00372         2   -0.484520  9.048820e+07       20160929   \n",
       "4773      -0.00374         2   -0.494991  3.291338e+07       20161117   \n",
       "4774      -0.00374         4    0.805149  8.247763e+07       20161117   \n",
       "4775      -0.00374         0    1.602965  4.400807e+07       20161117   \n",
       "4776      -0.00372         0    1.517476  6.399771e+07       20161207   \n",
       "4777      -0.00372         0    1.517476  2.783551e+08       20161215   \n",
       "4778      -0.00372         2   -0.456118  6.375832e+07       20161214   \n",
       "4779      -0.00372         2   -0.456118  4.399401e+07       20161214   \n",
       "4780      -0.00372         2   -0.456118  5.183594e+07       20161214   \n",
       "4781      -0.00372         2   -0.456118  1.136145e+07       20161214   \n",
       "4782      -0.00372         0    1.517476  4.126516e+07       20161215   \n",
       "4783      -0.00372         2   -0.456118  5.499123e+07       20161216   \n",
       "4784      -0.00372         2   -0.456118  6.464285e+07       20161216   \n",
       "4785      -0.00372         0    1.517476  1.595798e+07       20161219   \n",
       "4786      -0.00372         0    1.517476  4.400928e+07       20161219   \n",
       "4787      -0.00372         0    1.517476  5.289440e+07       20161229   \n",
       "4788      -0.00157         2   -0.445557  2.531493e+08       20170512   \n",
       "4789      -0.00161         4    0.960371  8.237677e+07       20151210   \n",
       "4790      -0.00161         0    0.989865  4.399905e+07       20151210   \n",
       "4791      -0.00161         2   -0.589765  6.872838e+07       20151210   \n",
       "4792      -0.00161         2   -0.589765  1.051117e+08       20151210   \n",
       "4793      -0.00232         0    1.140769  2.200055e+07       20160224   \n",
       "4794      -0.00343         2   -0.451273  1.649746e+08       20160527   \n",
       "4795      -0.00349         0    1.259223  4.400587e+07       20160614   \n",
       "4796      -0.00349         2   -0.556873  5.499519e+07       20160621   \n",
       "4797      -0.00349         2   -0.556873  1.387969e+08       20160621   \n",
       "4798      -0.00349         4    0.960652  2.872930e+07       20160622   \n",
       "4799      -0.00349         2   -0.556873  3.441599e+07       20160623   \n",
       "4800      -0.00349         2   -0.556873  5.370778e+07       20160628   \n",
       "\n",
       "      indicator_code  sell_date  type  hedge_value  status  \n",
       "0                  0   20040812     4            0       0  \n",
       "1                  0   20040719     5            0       0  \n",
       "2                  0   20040709     4            0       0  \n",
       "3                  0   20041019     4            0       0  \n",
       "4                  0   20040813     4            0       0  \n",
       "5                  0   20041013     4            0       0  \n",
       "6                  0   20040816     4            0       0  \n",
       "7                  0   20040816     4            0       0  \n",
       "8                  0   20041116     4            0       0  \n",
       "9                  0   20040913     0            0       0  \n",
       "10                 0   20040913     4            0       0  \n",
       "11                 0   20040813     4            0       0  \n",
       "12                 0   20041008     4            0       0  \n",
       "13                 0   20041013     4            0       0  \n",
       "14                 0   20041015     5            0       0  \n",
       "15                 0   20041029     4            0       0  \n",
       "16                 0   20041109     4            0       0  \n",
       "17                 0   20041115     0            0       0  \n",
       "18                 0   20041117     4            0       0  \n",
       "19                 0   20041130     4            0       0  \n",
       "20                 0   20041015     4            0       0  \n",
       "21                 0   20040916     4            0       0  \n",
       "22                 0   20041012     4            0       0  \n",
       "23                 0   20041209     4            0       0  \n",
       "24                 0   20041213     5            0       0  \n",
       "25                 0   20041213     0            0       0  \n",
       "26                 0   20041214     4            0       0  \n",
       "27                 0   20041214     4            0       0  \n",
       "28                 0   20041115     4            0       0  \n",
       "29                 0   20041216     5            0       0  \n",
       "...              ...        ...   ...          ...     ...  \n",
       "4771               1   20161026     5            2       1  \n",
       "4772               1   20161006     1            2       1  \n",
       "4773               1   20170216     1            2       1  \n",
       "4774               1   20161221     0            2       1  \n",
       "4775               1   20161221     5            2       1  \n",
       "4776               1   20170109     4            2       1  \n",
       "4777               1   20170119     5            2       1  \n",
       "4778               1   20161221     1            2       1  \n",
       "4779               1   20161221     1            2       1  \n",
       "4780               1   20161221     1            2       1  \n",
       "4781               1   20161221     1            2       1  \n",
       "4782               1   20170220     5            2       1  \n",
       "4783               1   20161223     1            2       1  \n",
       "4784               1   20161219     1            2       1  \n",
       "4785               1   20170321     4            2       1  \n",
       "4786               1   20170123     5            2       1  \n",
       "4787               1   20170130     4            2       1  \n",
       "4788               1   20170519     1            2       1  \n",
       "4789               1   20160314     0            2       1  \n",
       "4790               1   20160114     5            2       1  \n",
       "4791               1   20160310     1            2       1  \n",
       "4792               1   20151217     1            2       1  \n",
       "4793               1   20160526     5            2       1  \n",
       "4794               1   20160603     1            2       1  \n",
       "4795               1   20160718     5            2       1  \n",
       "4796               1   20160628     1            2       1  \n",
       "4797               1   20160628     1            2       1  \n",
       "4798               1   20160629     0            2       1  \n",
       "4799               1   20160630     1            2       1  \n",
       "4800               1   20160705     1            2       1  \n",
       "\n",
       "[4801 rows x 16 columns]"
      ]
     },
     "execution_count": 222,
     "metadata": {},
     "output_type": "execute_result"
    }
   ],
   "source": [
    "train1.fillna(train1.mean(),inplace=True)\n",
    "test1.fillna(test1.mean(),inplace=True)"
   ]
  },
  {
   "cell_type": "code",
   "execution_count": 223,
   "metadata": {},
   "outputs": [
    {
     "name": "stderr",
     "output_type": "stream",
     "text": [
      "/home/pritam/anaconda3/lib/python3.6/site-packages/sklearn/preprocessing/data.py:164: UserWarning: Numerical issues were encountered when centering the data and might not be solved. Dataset may contain too large values. You may need to prescale your features.\n",
      "  warnings.warn(\"Numerical issues were encountered \"\n"
     ]
    }
   ],
   "source": [
    "train1=preprocessing.scale(train1)\n",
    "test1=preprocessing.scale(test1)"
   ]
  },
  {
   "cell_type": "code",
   "execution_count": null,
   "metadata": {
    "collapsed": true
   },
   "outputs": [],
   "source": []
  },
  {
   "cell_type": "code",
   "execution_count": null,
   "metadata": {
    "collapsed": true
   },
   "outputs": [],
   "source": []
  },
  {
   "cell_type": "code",
   "execution_count": 224,
   "metadata": {
    "collapsed": true
   },
   "outputs": [],
   "source": [
    "x_train,x_test,y_train,y_test=train_test_split(train1,y,test_size=0.1,random_state=42)"
   ]
  },
  {
   "cell_type": "code",
   "execution_count": 225,
   "metadata": {
    "collapsed": true
   },
   "outputs": [],
   "source": [
    "clf1=LinearRegression()\n",
    "clf2=svm.SVR()\n",
    "clf3=DecisionTreeRegressor()"
   ]
  },
  {
   "cell_type": "code",
   "execution_count": 226,
   "metadata": {},
   "outputs": [
    {
     "name": "stderr",
     "output_type": "stream",
     "text": [
      "/home/pritam/anaconda3/lib/python3.6/site-packages/sklearn/utils/validation.py:578: DataConversionWarning: A column-vector y was passed when a 1d array was expected. Please change the shape of y to (n_samples, ), for example using ravel().\n",
      "  y = column_or_1d(y, warn=True)\n"
     ]
    },
    {
     "data": {
      "text/plain": [
       "DecisionTreeRegressor(criterion='mse', max_depth=None, max_features=None,\n",
       "           max_leaf_nodes=None, min_impurity_decrease=0.0,\n",
       "           min_impurity_split=None, min_samples_leaf=1,\n",
       "           min_samples_split=2, min_weight_fraction_leaf=0.0,\n",
       "           presort=False, random_state=None, splitter='best')"
      ]
     },
     "execution_count": 226,
     "metadata": {},
     "output_type": "execute_result"
    }
   ],
   "source": [
    "clf1.fit(x_train,y_train)\n",
    "clf2.fit(x_train,y_train)\n",
    "clf3.fit(x_train,y_train)"
   ]
  },
  {
   "cell_type": "code",
   "execution_count": 227,
   "metadata": {},
   "outputs": [
    {
     "name": "stdout",
     "output_type": "stream",
     "text": [
      "0.28785441352\n",
      "-6.58642019825\n",
      "0.291137016925\n"
     ]
    }
   ],
   "source": [
    "print(clf1.score(x_test,y_test))\n",
    "print(clf2.score(x_test,y_test))\n",
    "print(clf3.score(x_test,y_test))"
   ]
  },
  {
   "cell_type": "code",
   "execution_count": 228,
   "metadata": {},
   "outputs": [
    {
     "name": "stdout",
     "output_type": "stream",
     "text": [
      "SVR(C=1.0, cache_size=200, coef0=0.0, degree=3, epsilon=0.1, gamma='auto',\n",
      "  kernel='rbf', max_iter=-1, shrinking=True, tol=0.001, verbose=False)\n"
     ]
    }
   ],
   "source": [
    "print(clf2)"
   ]
  },
  {
   "cell_type": "code",
   "execution_count": 230,
   "metadata": {},
   "outputs": [
    {
     "name": "stdout",
     "output_type": "stream",
     "text": [
      "SVR(C=1.0, cache_size=200, coef0=0.0, degree=3, epsilon=0.1, gamma='auto',\n",
      "  kernel='linear', max_iter=-1, shrinking=True, tol=0.001, verbose=False)\n"
     ]
    }
   ],
   "source": [
    "clf2=svm.SVR(kernel='linear')\n",
    "print(clf2)"
   ]
  },
  {
   "cell_type": "code",
   "execution_count": 231,
   "metadata": {},
   "outputs": [
    {
     "name": "stderr",
     "output_type": "stream",
     "text": [
      "/home/pritam/anaconda3/lib/python3.6/site-packages/sklearn/utils/validation.py:578: DataConversionWarning: A column-vector y was passed when a 1d array was expected. Please change the shape of y to (n_samples, ), for example using ravel().\n",
      "  y = column_or_1d(y, warn=True)\n"
     ]
    },
    {
     "data": {
      "text/plain": [
       "SVR(C=1.0, cache_size=200, coef0=0.0, degree=3, epsilon=0.1, gamma='auto',\n",
       "  kernel='linear', max_iter=-1, shrinking=True, tol=0.001, verbose=False)"
      ]
     },
     "execution_count": 231,
     "metadata": {},
     "output_type": "execute_result"
    }
   ],
   "source": [
    "clf2.fit(x_train,y_train)"
   ]
  },
  {
   "cell_type": "code",
   "execution_count": 232,
   "metadata": {
    "collapsed": true
   },
   "outputs": [],
   "source": [
    "predictions=clf2.predict(x_test)"
   ]
  },
  {
   "cell_type": "code",
   "execution_count": 233,
   "metadata": {
    "collapsed": true
   },
   "outputs": [],
   "source": [
    "from sklearn.metrics import roc_auc_score"
   ]
  },
  {
   "cell_type": "code",
   "execution_count": 237,
   "metadata": {},
   "outputs": [
    {
     "data": {
      "text/plain": [
       "-5.9618102838741214"
      ]
     },
     "execution_count": 237,
     "metadata": {},
     "output_type": "execute_result"
    }
   ],
   "source": [
    "clf2.score(x_test,y_test)"
   ]
  },
  {
   "cell_type": "code",
   "execution_count": null,
   "metadata": {
    "collapsed": true
   },
   "outputs": [],
   "source": []
  },
  {
   "cell_type": "code",
   "execution_count": null,
   "metadata": {
    "collapsed": true
   },
   "outputs": [],
   "source": []
  },
  {
   "cell_type": "code",
   "execution_count": null,
   "metadata": {
    "collapsed": true
   },
   "outputs": [],
   "source": []
  },
  {
   "cell_type": "code",
   "execution_count": null,
   "metadata": {
    "collapsed": true
   },
   "outputs": [],
   "source": []
  },
  {
   "cell_type": "code",
   "execution_count": null,
   "metadata": {
    "collapsed": true
   },
   "outputs": [],
   "source": []
  },
  {
   "cell_type": "code",
   "execution_count": null,
   "metadata": {
    "collapsed": true
   },
   "outputs": [],
   "source": []
  },
  {
   "cell_type": "code",
   "execution_count": null,
   "metadata": {
    "collapsed": true
   },
   "outputs": [],
   "source": []
  },
  {
   "cell_type": "code",
   "execution_count": null,
   "metadata": {
    "collapsed": true
   },
   "outputs": [],
   "source": []
  },
  {
   "cell_type": "code",
   "execution_count": null,
   "metadata": {
    "collapsed": true
   },
   "outputs": [],
   "source": []
  },
  {
   "cell_type": "code",
   "execution_count": null,
   "metadata": {
    "collapsed": true
   },
   "outputs": [],
   "source": []
  },
  {
   "cell_type": "code",
   "execution_count": null,
   "metadata": {
    "collapsed": true
   },
   "outputs": [],
   "source": []
  },
  {
   "cell_type": "code",
   "execution_count": null,
   "metadata": {
    "collapsed": true
   },
   "outputs": [],
   "source": []
  },
  {
   "cell_type": "code",
   "execution_count": null,
   "metadata": {
    "collapsed": true
   },
   "outputs": [],
   "source": []
  },
  {
   "cell_type": "code",
   "execution_count": null,
   "metadata": {
    "collapsed": true
   },
   "outputs": [],
   "source": []
  },
  {
   "cell_type": "code",
   "execution_count": null,
   "metadata": {
    "collapsed": true
   },
   "outputs": [],
   "source": []
  },
  {
   "cell_type": "code",
   "execution_count": null,
   "metadata": {
    "collapsed": true
   },
   "outputs": [],
   "source": []
  },
  {
   "cell_type": "code",
   "execution_count": null,
   "metadata": {
    "collapsed": true
   },
   "outputs": [],
   "source": []
  },
  {
   "cell_type": "code",
   "execution_count": null,
   "metadata": {
    "collapsed": true
   },
   "outputs": [],
   "source": []
  },
  {
   "cell_type": "code",
   "execution_count": null,
   "metadata": {
    "collapsed": true
   },
   "outputs": [],
   "source": []
  },
  {
   "cell_type": "code",
   "execution_count": null,
   "metadata": {
    "collapsed": true
   },
   "outputs": [],
   "source": []
  },
  {
   "cell_type": "code",
   "execution_count": null,
   "metadata": {
    "collapsed": true
   },
   "outputs": [],
   "source": []
  },
  {
   "cell_type": "code",
   "execution_count": null,
   "metadata": {
    "collapsed": true
   },
   "outputs": [],
   "source": []
  },
  {
   "cell_type": "code",
   "execution_count": null,
   "metadata": {
    "collapsed": true
   },
   "outputs": [],
   "source": []
  },
  {
   "cell_type": "code",
   "execution_count": null,
   "metadata": {
    "collapsed": true
   },
   "outputs": [],
   "source": []
  },
  {
   "cell_type": "code",
   "execution_count": null,
   "metadata": {
    "collapsed": true
   },
   "outputs": [],
   "source": []
  },
  {
   "cell_type": "code",
   "execution_count": 239,
   "metadata": {},
   "outputs": [
    {
     "name": "stdout",
     "output_type": "stream",
     "text": [
      "  portfolio_id      desk_id    office_id pf_category  start_date         sold  \\\n",
      "0   PF00001002  DSK00001001  OFF00001002           B    20040720  110000000.0   \n",
      "1   PF00001003  DSK00001002  OFF00001001           A    20040709  176671000.0   \n",
      "2   PF00001005  DSK00001004  OFF00001001           A    20040723   56474000.0   \n",
      "3   PF00001006  DSK00001005  OFF00001001           A    20040609  164813000.0   \n",
      "4   PF00001007  DSK00001005  OFF00001002           B    20040609  140800000.0   \n",
      "\n",
      "  country_code  euribor_rate currency  libor_rate        bought  \\\n",
      "0            T       0.02074      USD    2.332216  1.098097e+08   \n",
      "1            N       0.02074      GBP    5.269617  1.760084e+08   \n",
      "2            T       0.02074      USD    2.332216  5.637953e+07   \n",
      "3            T       0.02074      USD    2.332216  1.645088e+08   \n",
      "4            T       0.02074      USD    2.332216  1.405402e+08   \n",
      "\n",
      "   creation_date indicator_code  sell_date type hedge_value status   return  \n",
      "0       20040720            NaN   20040812    B         NaN    NaN  0.02496  \n",
      "1       20040723            NaN   20040812    C         NaN    NaN  0.05496  \n",
      "2       20040723            NaN   20040817    A         NaN    NaN  0.02496  \n",
      "3       20040723            NaN   20040713    A         NaN    NaN  0.02496  \n",
      "4       20040723            NaN   20040713    B         NaN    NaN  0.02496  \n",
      "Index(['portfolio_id', 'desk_id', 'office_id', 'pf_category', 'start_date',\n",
      "       'sold', 'country_code', 'euribor_rate', 'currency', 'libor_rate',\n",
      "       'bought', 'creation_date', 'indicator_code', 'sell_date', 'type',\n",
      "       'hedge_value', 'status', 'return'],\n",
      "      dtype='object')\n"
     ]
    }
   ],
   "source": [
    "print(train_set.head())\n",
    "print(train_set.columns)"
   ]
  },
  {
   "cell_type": "code",
   "execution_count": 250,
   "metadata": {},
   "outputs": [
    {
     "name": "stdout",
     "output_type": "stream",
     "text": [
      "['USD' 'GBP' 'CHF' 'EUR' 'JPY']\n",
      "['T' 'N' 'M' 'Z' 'U']\n",
      "['B' 'A' 'C' 'D' 'E']\n",
      "['OFF00001002' 'OFF00001001']\n"
     ]
    }
   ],
   "source": [
    "print(train_set['currency'].unique())\n",
    "print(train_set['country_code'].unique())\n",
    "print(train_set['pf_category'].unique())\n",
    "print(train_set['office_id'].unique())\n"
   ]
  },
  {
   "cell_type": "code",
   "execution_count": 258,
   "metadata": {},
   "outputs": [
    {
     "data": {
      "text/plain": [
       "count    9366.000000\n",
       "mean        0.009383\n",
       "std         0.013298\n",
       "min        -0.003740\n",
       "25%         0.000980\n",
       "50%         0.004390\n",
       "75%         0.013510\n",
       "max         0.050880\n",
       "Name: euribor_rate, dtype: float64"
      ]
     },
     "execution_count": 258,
     "metadata": {},
     "output_type": "execute_result"
    }
   ],
   "source": [
    "train_set['euribor_rate'].describe()"
   ]
  },
  {
   "cell_type": "code",
   "execution_count": 260,
   "metadata": {
    "collapsed": true
   },
   "outputs": [],
   "source": [
    "feature=['office_id', 'pf_category',\n",
    "       'sold', 'country_code', 'euribor_rate', 'currency', 'libor_rate',\n",
    "       'bought','type']\n",
    "target=['return']"
   ]
  },
  {
   "cell_type": "code",
   "execution_count": 261,
   "metadata": {
    "collapsed": true
   },
   "outputs": [],
   "source": [
    "train_new=train_set[feature]\n",
    "test_new=test_set[feature]"
   ]
  },
  {
   "cell_type": "code",
   "execution_count": 263,
   "metadata": {},
   "outputs": [
    {
     "name": "stderr",
     "output_type": "stream",
     "text": [
      "/home/pritam/anaconda3/lib/python3.6/site-packages/ipykernel_launcher.py:17: SettingWithCopyWarning: \n",
      "A value is trying to be set on a copy of a slice from a DataFrame.\n",
      "Try using .loc[row_indexer,col_indexer] = value instead\n",
      "\n",
      "See the caveats in the documentation: http://pandas.pydata.org/pandas-docs/stable/indexing.html#indexing-view-versus-copy\n"
     ]
    }
   ],
   "source": [
    "def handle_strings(df):\n",
    "    columns = df.columns.values\n",
    "    for column in columns:\n",
    "        text_digit_vals = {}\n",
    "        def convert_to_int(val):\n",
    "            return text_digit_vals[val]\n",
    "\n",
    "        if df[column].dtype != np.int64 and df[column].dtype != np.float64:\n",
    "            column_contents = df[column].values.tolist()\n",
    "            unique_elements = set(column_contents)\n",
    "            x = 0\n",
    "            for unique in unique_elements:\n",
    "                if unique not in text_digit_vals:\n",
    "                    text_digit_vals[unique] = x\n",
    "                    x+=1\n",
    "\n",
    "            df[column] = list(map(convert_to_int, df[column]))\n",
    "\n",
    "    return df\n",
    "\n",
    "train_new=handle_strings(train_new)\n",
    "test_new=handle_strings(test_new)\n"
   ]
  },
  {
   "cell_type": "code",
   "execution_count": 264,
   "metadata": {},
   "outputs": [
    {
     "name": "stdout",
     "output_type": "stream",
     "text": [
      "   office_id  pf_category         sold  country_code  euribor_rate  currency  \\\n",
      "0          0            0  171831000.0             1       0.02074         0   \n",
      "1          1            1   56485000.0             1       0.02074         0   \n",
      "2          0            0   41734000.0             1       0.02074         0   \n",
      "3          0            0   82951000.0             1       0.02074         0   \n",
      "4          0            0   73293000.0             1       0.02074         0   \n",
      "\n",
      "   libor_rate        bought  type  \n",
      "0    2.332216  1.715337e+08     4  \n",
      "1    2.332216  5.638038e+07     5  \n",
      "2    2.332216  4.166179e+07     4  \n",
      "3    2.332216  8.250936e+07     4  \n",
      "4    2.332216  7.317055e+07     4  \n"
     ]
    }
   ],
   "source": [
    "print(test_new.head())"
   ]
  },
  {
   "cell_type": "code",
   "execution_count": 266,
   "metadata": {},
   "outputs": [
    {
     "name": "stdout",
     "output_type": "stream",
     "text": [
      "   office_id  pf_category         sold  country_code  euribor_rate  currency  \\\n",
      "0          1            4  110000000.0             1       0.02074         0   \n",
      "1          0            3  176671000.0             3       0.02074         4   \n",
      "2          0            3   56474000.0             1       0.02074         0   \n",
      "3          0            3  164813000.0             1       0.02074         0   \n",
      "4          1            4  140800000.0             1       0.02074         0   \n",
      "\n",
      "   libor_rate        bought  type         profit  \n",
      "0    2.332216  1.098097e+08     6  190336.749636  \n",
      "1    5.269617  1.760084e+08     0  662563.265958  \n",
      "2    2.332216  5.637953e+07     5   94467.039667  \n",
      "3    2.332216  1.645088e+08     5  304158.569044  \n",
      "4    2.332216  1.405402e+08     6  259843.134474  \n"
     ]
    },
    {
     "name": "stderr",
     "output_type": "stream",
     "text": [
      "/home/pritam/anaconda3/lib/python3.6/site-packages/ipykernel_launcher.py:1: SettingWithCopyWarning: \n",
      "A value is trying to be set on a copy of a slice from a DataFrame.\n",
      "Try using .loc[row_indexer,col_indexer] = value instead\n",
      "\n",
      "See the caveats in the documentation: http://pandas.pydata.org/pandas-docs/stable/indexing.html#indexing-view-versus-copy\n",
      "  \"\"\"Entry point for launching an IPython kernel.\n"
     ]
    }
   ],
   "source": [
    "train_new['profit']=train_set['sold']-train_set['bought']\n",
    "print(train_new.head())"
   ]
  },
  {
   "cell_type": "code",
   "execution_count": 269,
   "metadata": {},
   "outputs": [
    {
     "name": "stdout",
     "output_type": "stream",
     "text": [
      "Index(['office_id', 'pf_category', 'sold', 'country_code', 'euribor_rate',\n",
      "       'currency', 'libor_rate', 'bought', 'type', 'profit'],\n",
      "      dtype='object')\n"
     ]
    },
    {
     "name": "stderr",
     "output_type": "stream",
     "text": [
      "/home/pritam/anaconda3/lib/python3.6/site-packages/ipykernel_launcher.py:2: SettingWithCopyWarning: \n",
      "A value is trying to be set on a copy of a slice from a DataFrame.\n",
      "Try using .loc[row_indexer,col_indexer] = value instead\n",
      "\n",
      "See the caveats in the documentation: http://pandas.pydata.org/pandas-docs/stable/indexing.html#indexing-view-versus-copy\n",
      "  \n"
     ]
    }
   ],
   "source": [
    "print(train_new.columns)\n",
    "test_new['profit']=test_new['sold']-test_new['bought']"
   ]
  },
  {
   "cell_type": "code",
   "execution_count": 270,
   "metadata": {
    "collapsed": true
   },
   "outputs": [],
   "source": [
    "features=['office_id', 'pf_category', 'country_code', 'euribor_rate',\n",
    "       'currency', 'libor_rate','type', 'profit']\n",
    "test_new=test_new[features]\n",
    "train_new=train_new[features]"
   ]
  },
  {
   "cell_type": "code",
   "execution_count": 273,
   "metadata": {},
   "outputs": [
    {
     "name": "stdout",
     "output_type": "stream",
     "text": [
      "   office_id  pf_category  country_code  euribor_rate  currency  libor_rate  \\\n",
      "0          0            0             1       0.02074         0    2.332216   \n",
      "1          1            1             1       0.02074         0    2.332216   \n",
      "2          0            0             1       0.02074         0    2.332216   \n",
      "3          0            0             1       0.02074         0    2.332216   \n",
      "4          0            0             1       0.02074         0    2.332216   \n",
      "\n",
      "   type         profit  \n",
      "0     4  297325.036602  \n",
      "1     5  104616.933025  \n",
      "2     4   72213.762808  \n",
      "3     4  441637.094767  \n",
      "4     4  122453.957571  \n"
     ]
    }
   ],
   "source": [
    "#print(train_new.head())\n",
    "print(test_new.head())"
   ]
  },
  {
   "cell_type": "code",
   "execution_count": 291,
   "metadata": {},
   "outputs": [
    {
     "name": "stdout",
     "output_type": "stream",
     "text": [
      "False\n"
     ]
    }
   ],
   "source": [
    "train_new['profit'].fillna(train_new['profit'].mean(),inplace=True)\n",
    "print(train_new['profit'].isnull().any())"
   ]
  },
  {
   "cell_type": "code",
   "execution_count": 293,
   "metadata": {
    "collapsed": true
   },
   "outputs": [],
   "source": [
    "test_new['profit'].fillna(test_new['profit'].mean(),inplace=True)"
   ]
  },
  {
   "cell_type": "code",
   "execution_count": 294,
   "metadata": {
    "collapsed": true
   },
   "outputs": [],
   "source": [
    "test_new['libor_rate'].fillna(test_new['libor_rate'].mean(),inplace=True)"
   ]
  },
  {
   "cell_type": "code",
   "execution_count": null,
   "metadata": {
    "collapsed": true
   },
   "outputs": [],
   "source": []
  },
  {
   "cell_type": "code",
   "execution_count": 295,
   "metadata": {
    "collapsed": true
   },
   "outputs": [],
   "source": [
    "train_new=preprocessing.scale(train_new)\n",
    "test_new=preprocessing.scale(test_new)\n"
   ]
  },
  {
   "cell_type": "code",
   "execution_count": 447,
   "metadata": {
    "collapsed": true
   },
   "outputs": [],
   "source": []
  },
  {
   "cell_type": "code",
   "execution_count": 448,
   "metadata": {},
   "outputs": [
    {
     "name": "stdout",
     "output_type": "stream",
     "text": [
      "DecisionTreeRegressor(criterion='mse', max_depth=10, max_features=None,\n",
      "           max_leaf_nodes=None, min_impurity_decrease=0.0,\n",
      "           min_impurity_split=None, min_samples_leaf=1,\n",
      "           min_samples_split=2, min_weight_fraction_leaf=0.0,\n",
      "           presort=False, random_state=None, splitter='best')\n"
     ]
    }
   ],
   "source": [
    "clf=DecisionTreeRegressor(max_depth=10,min_samples_leaf=1)\n",
    "print(clf)"
   ]
  },
  {
   "cell_type": "code",
   "execution_count": 449,
   "metadata": {},
   "outputs": [
    {
     "data": {
      "text/plain": [
       "DecisionTreeRegressor(criterion='mse', max_depth=10, max_features=None,\n",
       "           max_leaf_nodes=None, min_impurity_decrease=0.0,\n",
       "           min_impurity_split=None, min_samples_leaf=1,\n",
       "           min_samples_split=2, min_weight_fraction_leaf=0.0,\n",
       "           presort=False, random_state=None, splitter='best')"
      ]
     },
     "execution_count": 449,
     "metadata": {},
     "output_type": "execute_result"
    }
   ],
   "source": [
    "clf.fit(x_train,y_train)"
   ]
  },
  {
   "cell_type": "code",
   "execution_count": 450,
   "metadata": {},
   "outputs": [
    {
     "data": {
      "text/plain": [
       "0.94904511804485503"
      ]
     },
     "execution_count": 450,
     "metadata": {},
     "output_type": "execute_result"
    }
   ],
   "source": [
    "clf.score(x_test,y_test)"
   ]
  },
  {
   "cell_type": "code",
   "execution_count": 301,
   "metadata": {
    "collapsed": true
   },
   "outputs": [],
   "source": [
    "predictions=clf.predict(test_new)"
   ]
  },
  {
   "cell_type": "code",
   "execution_count": 302,
   "metadata": {},
   "outputs": [
    {
     "name": "stdout",
     "output_type": "stream",
     "text": [
      "[ 0.02662733  0.02662733  0.02662733 ...,  0.00666056  0.00578373\n",
      "  0.00578373]\n"
     ]
    }
   ],
   "source": [
    "print(predictions)"
   ]
  },
  {
   "cell_type": "code",
   "execution_count": 305,
   "metadata": {
    "collapsed": true
   },
   "outputs": [],
   "source": [
    "port_id=test_set['portfolio_id']\n",
    "#print(port_id)"
   ]
  },
  {
   "cell_type": "code",
   "execution_count": 306,
   "metadata": {
    "collapsed": true
   },
   "outputs": [],
   "source": [
    "submission={\"portfolio_id\":port_id,\"return\":predictions}"
   ]
  },
  {
   "cell_type": "code",
   "execution_count": 307,
   "metadata": {
    "collapsed": true
   },
   "outputs": [],
   "source": [
    "submission=pd.DataFrame(submission)"
   ]
  },
  {
   "cell_type": "code",
   "execution_count": 308,
   "metadata": {},
   "outputs": [
    {
     "name": "stdout",
     "output_type": "stream",
     "text": [
      "     portfolio_id    return\n",
      "0      PF00001001  0.026627\n",
      "1      PF00001004  0.026627\n",
      "2      PF00001009  0.026627\n",
      "3      PF00001013  0.026627\n",
      "4      PF00001014  0.026627\n",
      "5      PF00001015  0.026627\n",
      "6      PF00001017  0.047580\n",
      "7      PF00001023  0.047580\n",
      "8      PF00001024  0.048880\n",
      "9      PF00001025  0.056560\n",
      "10     PF00001028  0.048880\n",
      "11     PF00001032  0.047580\n",
      "12     PF00001036  0.026627\n",
      "13     PF00001041  0.026627\n",
      "14     PF00001045  0.026627\n",
      "15     PF00001047  0.026627\n",
      "16     PF00001049  0.026627\n",
      "17     PF00001053  0.056560\n",
      "18     PF00001060  0.026627\n",
      "19     PF00001067  0.026627\n",
      "20     PF00001068  0.026627\n",
      "21     PF00001069  0.026627\n",
      "22     PF00001077  0.026627\n",
      "23     PF00001078  0.026627\n",
      "24     PF00001085  0.026627\n",
      "25     PF00001086  0.056560\n",
      "26     PF00001087  0.026627\n",
      "27     PF00001088  0.026627\n",
      "28     PF00001092  0.026627\n",
      "29     PF00001095  0.026627\n",
      "...           ...       ...\n",
      "4771   PF00014432 -0.002285\n",
      "4772   PF00014465  0.006661\n",
      "4773   PF00014643  0.028200\n",
      "4774   PF00014644  0.006661\n",
      "4775   PF00014645 -0.002285\n",
      "4776   PF00014717 -0.002285\n",
      "4777   PF00014757 -0.002285\n",
      "4778   PF00014750  0.006661\n",
      "4779   PF00014751  0.006661\n",
      "4780   PF00014752  0.006661\n",
      "4781   PF00014754  0.006661\n",
      "4782   PF00014756 -0.002285\n",
      "4783   PF00014769  0.006661\n",
      "4784   PF00014772  0.006661\n",
      "4785   PF00014774 -0.002285\n",
      "4786   PF00014777 -0.002285\n",
      "4787   PF00014826 -0.002285\n",
      "4788   PF00015291  0.028200\n",
      "4789   PF00013540  0.007344\n",
      "4790   PF00013541  0.012394\n",
      "4791   PF00013543  0.028200\n",
      "4792   PF00013544  0.015181\n",
      "4793   PF00013742 -0.000337\n",
      "4794   PF00014031  0.006661\n",
      "4795   PF00014093 -0.001753\n",
      "4796   PF00014118  0.005784\n",
      "4797   PF00014120  0.005784\n",
      "4798   PF00014123  0.006661\n",
      "4799   PF00014127  0.005784\n",
      "4800   PF00014147  0.005784\n",
      "\n",
      "[4801 rows x 2 columns]\n"
     ]
    }
   ],
   "source": [
    "print(submission)"
   ]
  },
  {
   "cell_type": "code",
   "execution_count": 309,
   "metadata": {
    "collapsed": true
   },
   "outputs": [],
   "source": [
    "submission.to_csv('submission2.csv',index=False)"
   ]
  },
  {
   "cell_type": "code",
   "execution_count": 310,
   "metadata": {
    "collapsed": true
   },
   "outputs": [],
   "source": [
    "samp=pd.read_csv('./submission2.csv')"
   ]
  },
  {
   "cell_type": "code",
   "execution_count": 311,
   "metadata": {},
   "outputs": [
    {
     "name": "stdout",
     "output_type": "stream",
     "text": [
      "  portfolio_id    return\n",
      "0   PF00001001  0.026627\n",
      "1   PF00001004  0.026627\n",
      "2   PF00001009  0.026627\n",
      "3   PF00001013  0.026627\n",
      "4   PF00001014  0.026627\n"
     ]
    }
   ],
   "source": [
    "print(samp.head())"
   ]
  },
  {
   "cell_type": "code",
   "execution_count": 317,
   "metadata": {
    "collapsed": true
   },
   "outputs": [],
   "source": [
    "clf=LinearRegression()"
   ]
  },
  {
   "cell_type": "code",
   "execution_count": 318,
   "metadata": {},
   "outputs": [
    {
     "data": {
      "text/plain": [
       "LinearRegression(copy_X=True, fit_intercept=True, n_jobs=1, normalize=False)"
      ]
     },
     "execution_count": 318,
     "metadata": {},
     "output_type": "execute_result"
    }
   ],
   "source": [
    "clf.fit(x_train,y_train)"
   ]
  },
  {
   "cell_type": "code",
   "execution_count": 319,
   "metadata": {},
   "outputs": [
    {
     "data": {
      "text/plain": [
       "0.88773043315967104"
      ]
     },
     "execution_count": 319,
     "metadata": {},
     "output_type": "execute_result"
    }
   ],
   "source": [
    "clf.score(x_test,y_test)"
   ]
  },
  {
   "cell_type": "code",
   "execution_count": 488,
   "metadata": {
    "collapsed": true
   },
   "outputs": [],
   "source": [
    "x_train,x_test,y_train,y_test = train_test_split(train_new,y,test_size=0.1)"
   ]
  },
  {
   "cell_type": "code",
   "execution_count": 489,
   "metadata": {
    "collapsed": true
   },
   "outputs": [],
   "source": [
    "from sklearn.ensemble import RandomForestRegressor"
   ]
  },
  {
   "cell_type": "code",
   "execution_count": 490,
   "metadata": {},
   "outputs": [
    {
     "data": {
      "text/plain": [
       "DecisionTreeRegressor(criterion='mse', max_depth=10, max_features=None,\n",
       "           max_leaf_nodes=None, min_impurity_decrease=0.0,\n",
       "           min_impurity_split=None, min_samples_leaf=1,\n",
       "           min_samples_split=2, min_weight_fraction_leaf=0.0,\n",
       "           presort=False, random_state=None, splitter='best')"
      ]
     },
     "execution_count": 490,
     "metadata": {},
     "output_type": "execute_result"
    }
   ],
   "source": [
    "clf=DecisionTreeRegressor(max_depth=10)\n",
    "clf.fit(x_train,y_train)\n",
    "#clf.score(x_test,y_test)"
   ]
  },
  {
   "cell_type": "code",
   "execution_count": 491,
   "metadata": {},
   "outputs": [
    {
     "data": {
      "text/plain": [
       "LinearRegression(copy_X=True, fit_intercept=True, n_jobs=1, normalize=False)"
      ]
     },
     "execution_count": 491,
     "metadata": {},
     "output_type": "execute_result"
    }
   ],
   "source": [
    "clf1=RandomForestRegressor(max_depth=7,n_jobs=-1)\n",
    "clf2=LinearRegression()\n",
    "clf2.fit(x_train,y_train)"
   ]
  },
  {
   "cell_type": "code",
   "execution_count": 492,
   "metadata": {},
   "outputs": [
    {
     "name": "stderr",
     "output_type": "stream",
     "text": [
      "/home/pritam/anaconda3/lib/python3.6/site-packages/ipykernel_launcher.py:1: DataConversionWarning: A column-vector y was passed when a 1d array was expected. Please change the shape of y to (n_samples,), for example using ravel().\n",
      "  \"\"\"Entry point for launching an IPython kernel.\n"
     ]
    },
    {
     "data": {
      "text/plain": [
       "RandomForestRegressor(bootstrap=True, criterion='mse', max_depth=7,\n",
       "           max_features='auto', max_leaf_nodes=None,\n",
       "           min_impurity_decrease=0.0, min_impurity_split=None,\n",
       "           min_samples_leaf=1, min_samples_split=2,\n",
       "           min_weight_fraction_leaf=0.0, n_estimators=10, n_jobs=-1,\n",
       "           oob_score=False, random_state=None, verbose=0, warm_start=False)"
      ]
     },
     "execution_count": 492,
     "metadata": {},
     "output_type": "execute_result"
    }
   ],
   "source": [
    "clf1.fit(x_train,y_train)"
   ]
  },
  {
   "cell_type": "code",
   "execution_count": 493,
   "metadata": {},
   "outputs": [
    {
     "name": "stdout",
     "output_type": "stream",
     "text": [
      "0.323287659283\n",
      "0.315159361786\n",
      "0.280844427233\n"
     ]
    }
   ],
   "source": [
    "print(clf1.score(x_test,y_test))\n",
    "print(clf.score(x_test,y_test))\n",
    "print(clf2.score(x_test,y_test))"
   ]
  },
  {
   "cell_type": "code",
   "execution_count": 496,
   "metadata": {
    "collapsed": true
   },
   "outputs": [],
   "source": [
    "predictions=clf.predict(test_new)\n",
    "port_id=test_set['portfolio_id']\n",
    "submission={\"portfolio_id\":port_id,\"return\":predictions}\n",
    "submission=pd.DataFrame(submission)\n",
    "submission.to_csv('submission3.csv',index=False)"
   ]
  },
  {
   "cell_type": "code",
   "execution_count": null,
   "metadata": {
    "collapsed": true
   },
   "outputs": [],
   "source": []
  }
 ],
 "metadata": {
  "kernelspec": {
   "display_name": "Python 3",
   "language": "python",
   "name": "python3"
  },
  "language_info": {
   "codemirror_mode": {
    "name": "ipython",
    "version": 3
   },
   "file_extension": ".py",
   "mimetype": "text/x-python",
   "name": "python",
   "nbconvert_exporter": "python",
   "pygments_lexer": "ipython3",
   "version": "3.6.3"
  }
 },
 "nbformat": 4,
 "nbformat_minor": 2
}
