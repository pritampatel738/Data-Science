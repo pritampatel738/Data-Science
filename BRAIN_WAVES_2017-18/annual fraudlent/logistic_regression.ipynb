{
 "cells": [
  {
   "cell_type": "code",
   "execution_count": 1,
   "metadata": {
    "collapsed": true
   },
   "outputs": [],
   "source": [
    "import pandas as pd\n",
    "import numpy as np\n",
    "import matplotlib.pyplot as plt\n",
    "%matplotlib inline\n",
    "from sklearn.model_selection import train_test_split\n",
    "from sklearn.svm import SVC\n",
    "from sklearn.linear_model import LogisticRegression"
   ]
  },
  {
   "cell_type": "code",
   "execution_count": 2,
   "metadata": {
    "collapsed": true
   },
   "outputs": [],
   "source": [
    "train_set=pd.read_csv('./train.csv')\n",
    "test_set=pd.read_csv('./test.csv')"
   ]
  },
  {
   "cell_type": "code",
   "execution_count": 3,
   "metadata": {},
   "outputs": [
    {
     "name": "stdout",
     "output_type": "stream",
     "text": [
      "  transaction_id     num_var_1  num_var_2  num_var_3     num_var_4  \\\n",
      "0          id_11  2.302632e-08   0.040182        0.0  1.800000e-07   \n",
      "1          id_33  7.965789e-06   0.157872        0.0  2.105000e-06   \n",
      "2          id_51  7.828947e-08   0.089140        0.0  3.550000e-07   \n",
      "3          id_54  7.894737e-08   0.227239        0.0  1.050000e-06   \n",
      "4          id_62  3.321053e-06   0.160410        0.0  2.105000e-06   \n",
      "\n",
      "      num_var_5     num_var_6     num_var_7 cat_var_1 cat_var_2  ...    \\\n",
      "0  2.302632e-08  2.368421e-08  1.115205e-08       NaN        ce  ...     \n",
      "1  2.769737e-07  7.965789e-06  2.433058e-06        da        tn  ...     \n",
      "2  4.671053e-08  1.052632e-07  4.276014e-07        gf        ce  ...     \n",
      "3  1.381579e-07  2.190789e-07  1.848054e-08       NaN        ce  ...     \n",
      "4  2.769737e-07  3.340789e-06  2.152983e-06        da        tn  ...     \n",
      "\n",
      "  cat_var_34 cat_var_35 cat_var_36 cat_var_37 cat_var_38 cat_var_39  \\\n",
      "0          0          0          0          0          0          0   \n",
      "1          0          0          0          0          0          0   \n",
      "2          0          0          0          0          0          0   \n",
      "3          0          0          0          0          0          0   \n",
      "4          0          0          0          0          0          0   \n",
      "\n",
      "  cat_var_40 cat_var_41 cat_var_42 target  \n",
      "0          0          0          0      0  \n",
      "1          0          0          0      0  \n",
      "2          0          0          0      0  \n",
      "3          0          0          0      0  \n",
      "4          0          0          0      0  \n",
      "\n",
      "[5 rows x 51 columns]\n"
     ]
    }
   ],
   "source": [
    "print(train_set.head())\n",
    "#print(test_set.head())"
   ]
  },
  {
   "cell_type": "code",
   "execution_count": 4,
   "metadata": {},
   "outputs": [
    {
     "name": "stdout",
     "output_type": "stream",
     "text": [
      "Index(['transaction_id', 'num_var_1', 'num_var_2', 'num_var_3', 'num_var_4',\n",
      "       'num_var_5', 'num_var_6', 'num_var_7', 'cat_var_1', 'cat_var_2',\n",
      "       'cat_var_3', 'cat_var_4', 'cat_var_5', 'cat_var_6', 'cat_var_7',\n",
      "       'cat_var_8', 'cat_var_9', 'cat_var_10', 'cat_var_11', 'cat_var_12',\n",
      "       'cat_var_13', 'cat_var_14', 'cat_var_15', 'cat_var_16', 'cat_var_17',\n",
      "       'cat_var_18', 'cat_var_19', 'cat_var_20', 'cat_var_21', 'cat_var_22',\n",
      "       'cat_var_23', 'cat_var_24', 'cat_var_25', 'cat_var_26', 'cat_var_27',\n",
      "       'cat_var_28', 'cat_var_29', 'cat_var_30', 'cat_var_31', 'cat_var_32',\n",
      "       'cat_var_33', 'cat_var_34', 'cat_var_35', 'cat_var_36', 'cat_var_37',\n",
      "       'cat_var_38', 'cat_var_39', 'cat_var_40', 'cat_var_41', 'cat_var_42',\n",
      "       'target'],\n",
      "      dtype='object')\n"
     ]
    }
   ],
   "source": [
    "print(train_set.columns)"
   ]
  },
  {
   "cell_type": "code",
   "execution_count": 28,
   "metadata": {
    "collapsed": true
   },
   "outputs": [],
   "source": [
    "features=['num_var_1', 'num_var_2', 'num_var_3', 'num_var_4',\n",
    "       'num_var_5', 'num_var_6', 'num_var_7', 'cat_var_1', 'cat_var_2',\n",
    "       'cat_var_3', 'cat_var_4', 'cat_var_5', 'cat_var_6', 'cat_var_7',\n",
    "       'cat_var_8', 'cat_var_9', 'cat_var_10', 'cat_var_11', 'cat_var_12',\n",
    "       'cat_var_13', 'cat_var_14', 'cat_var_15', 'cat_var_16', 'cat_var_17',\n",
    "       'cat_var_18', 'cat_var_19', 'cat_var_20']\n",
    "target=['target']\n",
    "train=train_set[features]\n",
    "test=test_set[features]\n",
    "y=train_set[target]"
   ]
  },
  {
   "cell_type": "code",
   "execution_count": 29,
   "metadata": {},
   "outputs": [
    {
     "name": "stderr",
     "output_type": "stream",
     "text": [
      "/home/pritam/anaconda3/lib/python3.6/site-packages/ipykernel_launcher.py:17: SettingWithCopyWarning: \n",
      "A value is trying to be set on a copy of a slice from a DataFrame.\n",
      "Try using .loc[row_indexer,col_indexer] = value instead\n",
      "\n",
      "See the caveats in the documentation: http://pandas.pydata.org/pandas-docs/stable/indexing.html#indexing-view-versus-copy\n"
     ]
    }
   ],
   "source": [
    "def handle_strings(df):\n",
    "    columns = df.columns.values\n",
    "    for column in columns:\n",
    "        text_digit_vals = {}\n",
    "        def convert_to_int(val):\n",
    "            return text_digit_vals[val]\n",
    "\n",
    "        if df[column].dtype != np.int64 and df[column].dtype != np.float64:\n",
    "            column_contents = df[column].values.tolist()\n",
    "            unique_elements = set(column_contents)\n",
    "            x = 0\n",
    "            for unique in unique_elements:\n",
    "                if unique not in text_digit_vals:\n",
    "                    text_digit_vals[unique] = x\n",
    "                    x+=1\n",
    "\n",
    "            df[column] = list(map(convert_to_int, df[column]))\n",
    "\n",
    "    return df\n",
    "\n",
    "#df = handle_non_numerical_data(df)\n",
    "#print(df.head())\n",
    "train=handle_strings(train)\n",
    "test=handle_strings(test)"
   ]
  },
  {
   "cell_type": "code",
   "execution_count": 30,
   "metadata": {
    "collapsed": true
   },
   "outputs": [],
   "source": [
    "from sklearn import preprocessing\n",
    "from sklearn.metrics import roc_auc_score"
   ]
  },
  {
   "cell_type": "code",
   "execution_count": 31,
   "metadata": {
    "collapsed": true
   },
   "outputs": [],
   "source": [
    "train=preprocessing.scale(train)\n",
    "test=preprocessing.scale(test)"
   ]
  },
  {
   "cell_type": "code",
   "execution_count": 32,
   "metadata": {},
   "outputs": [],
   "source": [
    "x_train,x_test,y_train,y_test=train_test_split(train,y,test_size=0.1)"
   ]
  },
  {
   "cell_type": "code",
   "execution_count": 33,
   "metadata": {
    "collapsed": true
   },
   "outputs": [],
   "source": [
    "clf=LogisticRegression()"
   ]
  },
  {
   "cell_type": "code",
   "execution_count": 34,
   "metadata": {},
   "outputs": [
    {
     "name": "stderr",
     "output_type": "stream",
     "text": [
      "/home/pritam/anaconda3/lib/python3.6/site-packages/sklearn/utils/validation.py:578: DataConversionWarning: A column-vector y was passed when a 1d array was expected. Please change the shape of y to (n_samples, ), for example using ravel().\n",
      "  y = column_or_1d(y, warn=True)\n"
     ]
    },
    {
     "data": {
      "text/plain": [
       "LogisticRegression(C=1.0, class_weight=None, dual=False, fit_intercept=True,\n",
       "          intercept_scaling=1, max_iter=100, multi_class='ovr', n_jobs=1,\n",
       "          penalty='l2', random_state=None, solver='liblinear', tol=0.0001,\n",
       "          verbose=0, warm_start=False)"
      ]
     },
     "execution_count": 34,
     "metadata": {},
     "output_type": "execute_result"
    }
   ],
   "source": [
    "clf.fit(x_train,y_train)"
   ]
  },
  {
   "cell_type": "code",
   "execution_count": 35,
   "metadata": {},
   "outputs": [
    {
     "data": {
      "text/plain": [
       "0.90965098286434753"
      ]
     },
     "execution_count": 35,
     "metadata": {},
     "output_type": "execute_result"
    }
   ],
   "source": [
    "clf.score(x_test,y_test)"
   ]
  },
  {
   "cell_type": "code",
   "execution_count": 36,
   "metadata": {
    "collapsed": true
   },
   "outputs": [],
   "source": [
    "predictions=clf.predict(x_test)"
   ]
  },
  {
   "cell_type": "code",
   "execution_count": 37,
   "metadata": {},
   "outputs": [
    {
     "name": "stdout",
     "output_type": "stream",
     "text": [
      "0.903423299768\n"
     ]
    }
   ],
   "source": [
    "print(roc_auc_score(predictions,y_test))"
   ]
  },
  {
   "cell_type": "code",
   "execution_count": 38,
   "metadata": {
    "collapsed": true
   },
   "outputs": [],
   "source": [
    "prediction=clf.predict(test)"
   ]
  },
  {
   "cell_type": "code",
   "execution_count": 39,
   "metadata": {
    "collapsed": true
   },
   "outputs": [],
   "source": [
    "ids=test_set['transaction_id']\n",
    "submission={\"target\":prediction,\"transaction_id\":ids}"
   ]
  },
  {
   "cell_type": "code",
   "execution_count": 40,
   "metadata": {
    "collapsed": true
   },
   "outputs": [],
   "source": [
    "submission=pd.DataFrame(submission)"
   ]
  },
  {
   "cell_type": "code",
   "execution_count": 41,
   "metadata": {},
   "outputs": [
    {
     "name": "stdout",
     "output_type": "stream",
     "text": [
      "       transaction_id  target\n",
      "0                id_1       0\n",
      "1                id_6       0\n",
      "2                id_9       0\n",
      "3               id_14       0\n",
      "4               id_15       0\n",
      "5               id_19       0\n",
      "6               id_20       0\n",
      "7               id_24       0\n",
      "8               id_25       0\n",
      "9               id_28       0\n",
      "10              id_31       0\n",
      "11              id_32       0\n",
      "12              id_37       0\n",
      "13              id_41       0\n",
      "14              id_49       0\n",
      "15              id_50       0\n",
      "16              id_52       0\n",
      "17              id_55       0\n",
      "18              id_56       0\n",
      "19              id_57       0\n",
      "20              id_59       0\n",
      "21              id_60       0\n",
      "22              id_61       0\n",
      "23              id_63       0\n",
      "24              id_70       0\n",
      "25              id_74       0\n",
      "26              id_75       0\n",
      "27              id_77       0\n",
      "28              id_81       0\n",
      "29              id_82       0\n",
      "...               ...     ...\n",
      "523436      id_872340       0\n",
      "523437      id_872343       0\n",
      "523438      id_872348       0\n",
      "523439      id_872354       0\n",
      "523440      id_872357       0\n",
      "523441      id_872365       0\n",
      "523442      id_872370       0\n",
      "523443      id_872373       0\n",
      "523444      id_872383       0\n",
      "523445      id_872384       0\n",
      "523446      id_872387       0\n",
      "523447      id_872388       0\n",
      "523448      id_872392       0\n",
      "523449      id_872394       0\n",
      "523450      id_872398       0\n",
      "523451      id_872400       0\n",
      "523452      id_872406       0\n",
      "523453      id_872408       0\n",
      "523454      id_872414       0\n",
      "523455      id_872421       0\n",
      "523456      id_872423       0\n",
      "523457      id_872425       0\n",
      "523458      id_872427       0\n",
      "523459      id_872429       0\n",
      "523460      id_872430       0\n",
      "523461      id_872433       0\n",
      "523462      id_872434       0\n",
      "523463      id_872438       0\n",
      "523464      id_872439       0\n",
      "523465      id_872442       0\n",
      "\n",
      "[523466 rows x 2 columns]\n"
     ]
    }
   ],
   "source": [
    "x=submission['target']\n",
    "del submission['target']\n",
    "submission['target']=x\n",
    "print(submission)"
   ]
  },
  {
   "cell_type": "code",
   "execution_count": 42,
   "metadata": {
    "collapsed": true
   },
   "outputs": [],
   "source": [
    "submission.to_csv('logistic_reg.csv',index=False)"
   ]
  },
  {
   "cell_type": "code",
   "execution_count": 43,
   "metadata": {},
   "outputs": [
    {
     "name": "stdout",
     "output_type": "stream",
     "text": [
      "523466\n",
      "  transaction_id  target\n",
      "0           id_1       0\n",
      "1           id_6       0\n",
      "2           id_9       0\n",
      "3          id_14       0\n",
      "4          id_15       0\n"
     ]
    }
   ],
   "source": [
    "a=pd.read_csv('./logistic_reg.csv')\n",
    "print(len(a['target']))\n",
    "print(a.head())"
   ]
  },
  {
   "cell_type": "code",
   "execution_count": 44,
   "metadata": {
    "collapsed": true
   },
   "outputs": [],
   "source": [
    "from sklearn.neighbors import KNeighborsClassifier\n",
    "from sklearn.ensemble import RandomForestClassifier"
   ]
  },
  {
   "cell_type": "code",
   "execution_count": 45,
   "metadata": {
    "collapsed": true
   },
   "outputs": [],
   "source": [
    "clf=KNeighborsClassifier()"
   ]
  },
  {
   "cell_type": "code",
   "execution_count": 46,
   "metadata": {},
   "outputs": [
    {
     "name": "stderr",
     "output_type": "stream",
     "text": [
      "/home/pritam/anaconda3/lib/python3.6/site-packages/ipykernel_launcher.py:1: DataConversionWarning: A column-vector y was passed when a 1d array was expected. Please change the shape of y to (n_samples, ), for example using ravel().\n",
      "  \"\"\"Entry point for launching an IPython kernel.\n"
     ]
    },
    {
     "data": {
      "text/plain": [
       "KNeighborsClassifier(algorithm='auto', leaf_size=30, metric='minkowski',\n",
       "           metric_params=None, n_jobs=1, n_neighbors=5, p=2,\n",
       "           weights='uniform')"
      ]
     },
     "execution_count": 46,
     "metadata": {},
     "output_type": "execute_result"
    }
   ],
   "source": [
    "clf.fit(x_train,y_train)"
   ]
  },
  {
   "cell_type": "code",
   "execution_count": 47,
   "metadata": {
    "collapsed": true
   },
   "outputs": [],
   "source": [
    "predictions=clf.predict(x_test)"
   ]
  },
  {
   "cell_type": "code",
   "execution_count": 48,
   "metadata": {},
   "outputs": [
    {
     "data": {
      "text/plain": [
       "0.91443635738437734"
      ]
     },
     "execution_count": 48,
     "metadata": {},
     "output_type": "execute_result"
    }
   ],
   "source": [
    "clf.score(x_test,y_test)"
   ]
  },
  {
   "cell_type": "code",
   "execution_count": 49,
   "metadata": {
    "collapsed": true
   },
   "outputs": [],
   "source": [
    "predictions=clf.predict(x_test)"
   ]
  },
  {
   "cell_type": "code",
   "execution_count": 50,
   "metadata": {},
   "outputs": [
    {
     "name": "stdout",
     "output_type": "stream",
     "text": [
      "   target transaction_id\n",
      "0       0           id_1\n",
      "1       0           id_6\n",
      "2       0           id_9\n",
      "3       0          id_14\n",
      "4       0          id_15\n",
      "  transaction_id\n",
      "0           id_1\n",
      "1           id_6\n",
      "2           id_9\n",
      "3          id_14\n",
      "4          id_15\n"
     ]
    }
   ],
   "source": [
    "holdout_ids = test_set[\"transaction_id\"]\n",
    "submission_df = {\"transaction_id\": holdout_ids,\n",
    "                 \"target\": prediction}\n",
    "submission = pd.DataFrame(submission_df)\n",
    "submission.to_csv(\"submission1.csv\",index=False)\n",
    "s=pd.read_csv('submission1.csv')\n",
    "print(s.head())\n",
    "x=s['target']\n",
    "del s['target']\n",
    "print(s.head())\n",
    "s['target']=x\n",
    "s.to_csv('submission1.csv',index=False)"
   ]
  },
  {
   "cell_type": "code",
   "execution_count": null,
   "metadata": {
    "collapsed": true
   },
   "outputs": [],
   "source": [
    "a=pd.read_csv('submission1.csv')"
   ]
  },
  {
   "cell_type": "code",
   "execution_count": null,
   "metadata": {
    "collapsed": true
   },
   "outputs": [],
   "source": [
    "print(a.head())"
   ]
  },
  {
   "cell_type": "code",
   "execution_count": null,
   "metadata": {
    "collapsed": true
   },
   "outputs": [],
   "source": []
  }
 ],
 "metadata": {
  "kernelspec": {
   "display_name": "Python 3",
   "language": "python",
   "name": "python3"
  },
  "language_info": {
   "codemirror_mode": {
    "name": "ipython",
    "version": 3
   },
   "file_extension": ".py",
   "mimetype": "text/x-python",
   "name": "python",
   "nbconvert_exporter": "python",
   "pygments_lexer": "ipython3",
   "version": "3.6.3"
  }
 },
 "nbformat": 4,
 "nbformat_minor": 2
}
