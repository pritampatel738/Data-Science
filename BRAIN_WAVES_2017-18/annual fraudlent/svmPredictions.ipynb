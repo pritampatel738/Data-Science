{
 "cells": [
  {
   "cell_type": "code",
   "execution_count": 1,
   "metadata": {
    "collapsed": true
   },
   "outputs": [],
   "source": [
    "import pandas as pd\n",
    "import numpy as np\n",
    "import matplotlib.pyplot as plt\n",
    "%matplotlib inline\n",
    "from sklearn.model_selection import train_test_split\n",
    "from sklearn.svm import SVC\n",
    "from sklearn.linear_model import LogisticRegression\n"
   ]
  },
  {
   "cell_type": "code",
   "execution_count": 5,
   "metadata": {
    "collapsed": true
   },
   "outputs": [],
   "source": [
    "train_set=pd.read_csv('train.csv')\n",
    "test_set=pd.read_csv('test.csv')\n"
   ]
  },
  {
   "cell_type": "code",
   "execution_count": 6,
   "metadata": {},
   "outputs": [
    {
     "name": "stdout",
     "output_type": "stream",
     "text": [
      "  transaction_id     num_var_1  num_var_2  num_var_3     num_var_4  \\\n",
      "0           id_1  4.736842e-07   0.162737        0.0  2.105000e-06   \n",
      "1           id_6  6.578947e-08   0.086391        0.0  7.500000e-07   \n",
      "2           id_9  1.585526e-07   0.159987        0.0  2.105000e-06   \n",
      "3          id_14  8.552632e-08   0.088083        0.0  7.500000e-07   \n",
      "4          id_15  1.144737e-07   0.089563        0.0  3.550000e-07   \n",
      "\n",
      "      num_var_5     num_var_6     num_var_7 cat_var_1 cat_var_2    ...      \\\n",
      "0  2.769737e-07  4.828947e-07  1.300010e-07        da        tn    ...       \n",
      "1  1.315789e-07  9.868421e-08  3.186300e-08        pu        ce    ...       \n",
      "2  2.769737e-07  1.585526e-07  4.715724e-08        da        tn    ...       \n",
      "3  8.552632e-08  9.868421e-08  4.142190e-08        pu        ce    ...       \n",
      "4  4.671053e-08  4.407895e-08  1.452953e-07        gf        ce    ...       \n",
      "\n",
      "  cat_var_33 cat_var_34 cat_var_35 cat_var_36 cat_var_37 cat_var_38  \\\n",
      "0          0          0          0          0          0          0   \n",
      "1          0          0          0          0          0          0   \n",
      "2          0          0          0          0          0          0   \n",
      "3          0          0          0          0          0          0   \n",
      "4          0          0          0          0          0          0   \n",
      "\n",
      "  cat_var_39 cat_var_40 cat_var_41 cat_var_42  \n",
      "0          0          0          0          0  \n",
      "1          0          0          0          0  \n",
      "2          0          0          0          0  \n",
      "3          0          0          0          0  \n",
      "4          0          0          0          0  \n",
      "\n",
      "[5 rows x 50 columns]\n"
     ]
    }
   ],
   "source": [
    "#print(train_set.head())\n",
    "print(test_set.head())"
   ]
  },
  {
   "cell_type": "code",
   "execution_count": 7,
   "metadata": {},
   "outputs": [
    {
     "name": "stdout",
     "output_type": "stream",
     "text": [
      "Index(['transaction_id', 'num_var_1', 'num_var_2', 'num_var_3', 'num_var_4',\n",
      "       'num_var_5', 'num_var_6', 'num_var_7', 'cat_var_1', 'cat_var_2',\n",
      "       'cat_var_3', 'cat_var_4', 'cat_var_5', 'cat_var_6', 'cat_var_7',\n",
      "       'cat_var_8', 'cat_var_9', 'cat_var_10', 'cat_var_11', 'cat_var_12',\n",
      "       'cat_var_13', 'cat_var_14', 'cat_var_15', 'cat_var_16', 'cat_var_17',\n",
      "       'cat_var_18', 'cat_var_19', 'cat_var_20', 'cat_var_21', 'cat_var_22',\n",
      "       'cat_var_23', 'cat_var_24', 'cat_var_25', 'cat_var_26', 'cat_var_27',\n",
      "       'cat_var_28', 'cat_var_29', 'cat_var_30', 'cat_var_31', 'cat_var_32',\n",
      "       'cat_var_33', 'cat_var_34', 'cat_var_35', 'cat_var_36', 'cat_var_37',\n",
      "       'cat_var_38', 'cat_var_39', 'cat_var_40', 'cat_var_41', 'cat_var_42',\n",
      "       'target'],\n",
      "      dtype='object')\n"
     ]
    }
   ],
   "source": [
    "print(train_set.columns)"
   ]
  },
  {
   "cell_type": "code",
   "execution_count": 8,
   "metadata": {
    "collapsed": true
   },
   "outputs": [],
   "source": [
    "features=['num_var_1', 'num_var_2', 'num_var_3', 'num_var_4',\n",
    "       'num_var_5', 'num_var_6', 'num_var_7', 'cat_var_1', 'cat_var_2',\n",
    "       'cat_var_3', 'cat_var_4', 'cat_var_5', 'cat_var_6', 'cat_var_7',\n",
    "       'cat_var_8', 'cat_var_9', 'cat_var_10']\n",
    "target=['target']\n",
    "train=train_set[features]\n",
    "test=test_set[features]\n",
    "y=train_set[target]"
   ]
  },
  {
   "cell_type": "code",
   "execution_count": 9,
   "metadata": {},
   "outputs": [
    {
     "name": "stdout",
     "output_type": "stream",
     "text": [
      "      num_var_1  num_var_2  num_var_3     num_var_4     num_var_5  \\\n",
      "0  2.302632e-08   0.040182        0.0  1.800000e-07  2.302632e-08   \n",
      "1  7.965789e-06   0.157872        0.0  2.105000e-06  2.769737e-07   \n",
      "2  7.828947e-08   0.089140        0.0  3.550000e-07  4.671053e-08   \n",
      "3  7.894737e-08   0.227239        0.0  1.050000e-06  1.381579e-07   \n",
      "4  3.321053e-06   0.160410        0.0  2.105000e-06  2.769737e-07   \n",
      "\n",
      "      num_var_6     num_var_7 cat_var_1 cat_var_2 cat_var_3 cat_var_4  \\\n",
      "0  2.368421e-08  1.115205e-08       NaN        ce        db        ep   \n",
      "1  7.965789e-06  2.433058e-06        da        tn        zl        tn   \n",
      "2  1.052632e-07  4.276014e-07        gf        ce        gs        tn   \n",
      "3  2.190789e-07  1.848054e-08       NaN        ce        fy        ep   \n",
      "4  3.340789e-06  2.152983e-06        da        tn        zn        tn   \n",
      "\n",
      "  cat_var_5 cat_var_6 cat_var_7 cat_var_8 cat_var_9 cat_var_10  \n",
      "0        tn        mm        ep       NaN        tn         db  \n",
      "1        ep        hm        ep       NaN        hr         qt  \n",
      "2        ep        zs        ep        dn        hr         mm  \n",
      "3        ep        qw        ep        tk        ep         es  \n",
      "4        ep        hm        ep       NaN        ep         xy  \n"
     ]
    }
   ],
   "source": [
    "print(train.head())"
   ]
  },
  {
   "cell_type": "code",
   "execution_count": 10,
   "metadata": {},
   "outputs": [
    {
     "name": "stdout",
     "output_type": "stream",
     "text": [
      "      num_var_1  num_var_2  num_var_3     num_var_4     num_var_5  \\\n",
      "0  4.736842e-07   0.162737        0.0  2.105000e-06  2.769737e-07   \n",
      "1  6.578947e-08   0.086391        0.0  7.500000e-07  1.315789e-07   \n",
      "2  1.585526e-07   0.159987        0.0  2.105000e-06  2.769737e-07   \n",
      "3  8.552632e-08   0.088083        0.0  7.500000e-07  8.552632e-08   \n",
      "4  1.144737e-07   0.089563        0.0  3.550000e-07  4.671053e-08   \n",
      "\n",
      "      num_var_6     num_var_7 cat_var_1 cat_var_2 cat_var_3 cat_var_4  \\\n",
      "0  4.828947e-07  1.300010e-07        da        tn        gt        tn   \n",
      "1  9.868421e-08  3.186300e-08        pu        ce       NaN        ep   \n",
      "2  1.585526e-07  4.715724e-08        da        tn        qz        tn   \n",
      "3  9.868421e-08  4.142190e-08        pu        ce        ex        ep   \n",
      "4  4.407895e-08  1.452953e-07        gf        ce       NaN        tn   \n",
      "\n",
      "  cat_var_5 cat_var_6 cat_var_7 cat_var_8 cat_var_9 cat_var_10  \n",
      "0        ep        hm        ep        da        iq         mp  \n",
      "1        tn        oi        ep        jo        tn         ep  \n",
      "2        ep        hm        ep        da        ce         ye  \n",
      "3        tn        no        ep        jo        hr         ip  \n",
      "4        tn        zs        ep        dn        iq         mm  \n"
     ]
    }
   ],
   "source": [
    "print(test.head())"
   ]
  },
  {
   "cell_type": "code",
   "execution_count": 11,
   "metadata": {
    "collapsed": true
   },
   "outputs": [],
   "source": [
    "from sklearn.metrics import roc_auc_score\n",
    "from sklearn import preprocessing"
   ]
  },
  {
   "cell_type": "code",
   "execution_count": 13,
   "metadata": {},
   "outputs": [
    {
     "name": "stderr",
     "output_type": "stream",
     "text": [
      "/home/pritam/anaconda3/lib/python3.6/site-packages/ipykernel_launcher.py:17: SettingWithCopyWarning: \n",
      "A value is trying to be set on a copy of a slice from a DataFrame.\n",
      "Try using .loc[row_indexer,col_indexer] = value instead\n",
      "\n",
      "See the caveats in the documentation: http://pandas.pydata.org/pandas-docs/stable/indexing.html#indexing-view-versus-copy\n"
     ]
    }
   ],
   "source": [
    "def handle_strings(df):\n",
    "    columns = df.columns.values\n",
    "    for column in columns:\n",
    "        text_digit_vals = {}\n",
    "        def convert_to_int(val):\n",
    "            return text_digit_vals[val]\n",
    "\n",
    "        if df[column].dtype != np.int64 and df[column].dtype != np.float64:\n",
    "            column_contents = df[column].values.tolist()\n",
    "            unique_elements = set(column_contents)\n",
    "            x = 0\n",
    "            for unique in unique_elements:\n",
    "                if unique not in text_digit_vals:\n",
    "                    text_digit_vals[unique] = x\n",
    "                    x+=1\n",
    "\n",
    "            df[column] = list(map(convert_to_int, df[column]))\n",
    "\n",
    "    return df\n",
    "\n",
    "train=handle_strings(train)\n",
    "test=handle_strings(test)"
   ]
  },
  {
   "cell_type": "code",
   "execution_count": null,
   "metadata": {
    "collapsed": true
   },
   "outputs": [],
   "source": []
  },
  {
   "cell_type": "code",
   "execution_count": null,
   "metadata": {
    "collapsed": true
   },
   "outputs": [],
   "source": []
  },
  {
   "cell_type": "code",
   "execution_count": null,
   "metadata": {
    "collapsed": true
   },
   "outputs": [],
   "source": []
  },
  {
   "cell_type": "code",
   "execution_count": 14,
   "metadata": {},
   "outputs": [],
   "source": [
    "train=preprocessing.scale(train)\n",
    "test=preprocessing.scale(test)"
   ]
  },
  {
   "cell_type": "code",
   "execution_count": 15,
   "metadata": {
    "collapsed": true
   },
   "outputs": [],
   "source": [
    "x_train,x_test,y_train,y_test=train_test_split(train,y,test_size=0.1)"
   ]
  },
  {
   "cell_type": "code",
   "execution_count": 18,
   "metadata": {},
   "outputs": [],
   "source": [
    "clf=SVC()"
   ]
  },
  {
   "cell_type": "code",
   "execution_count": null,
   "metadata": {},
   "outputs": [
    {
     "name": "stderr",
     "output_type": "stream",
     "text": [
      "/home/pritam/anaconda3/lib/python3.6/site-packages/sklearn/utils/validation.py:578: DataConversionWarning: A column-vector y was passed when a 1d array was expected. Please change the shape of y to (n_samples, ), for example using ravel().\n",
      "  y = column_or_1d(y, warn=True)\n"
     ]
    }
   ],
   "source": [
    "clf.fit(x_train,y_train)"
   ]
  },
  {
   "cell_type": "code",
   "execution_count": null,
   "metadata": {
    "collapsed": true
   },
   "outputs": [],
   "source": []
  }
 ],
 "metadata": {
  "kernelspec": {
   "display_name": "Python 3",
   "language": "python",
   "name": "python3"
  },
  "language_info": {
   "codemirror_mode": {
    "name": "ipython",
    "version": 3
   },
   "file_extension": ".py",
   "mimetype": "text/x-python",
   "name": "python",
   "nbconvert_exporter": "python",
   "pygments_lexer": "ipython3",
   "version": "3.6.3"
  }
 },
 "nbformat": 4,
 "nbformat_minor": 2
}
