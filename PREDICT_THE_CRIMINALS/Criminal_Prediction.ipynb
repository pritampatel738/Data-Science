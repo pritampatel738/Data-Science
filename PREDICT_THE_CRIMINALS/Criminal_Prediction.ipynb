{
 "cells": [
  {
   "cell_type": "code",
   "execution_count": 1,
   "metadata": {},
   "outputs": [
    {
     "name": "stderr",
     "output_type": "stream",
     "text": [
      "/home/pritam/anaconda3/lib/python3.6/site-packages/sklearn/cross_validation.py:41: DeprecationWarning: This module was deprecated in version 0.18 in favor of the model_selection module into which all the refactored classes and functions are moved. Also note that the interface of the new CV iterators are different from that of this module. This module will be removed in 0.20.\n",
      "  \"This module will be removed in 0.20.\", DeprecationWarning)\n"
     ]
    }
   ],
   "source": [
    "import pandas as pd\n",
    "import numpy as np\n",
    "import matplotlib.pyplot as plt\n",
    "from xgboost import XGBClassifier\n",
    "from sklearn.svm import SVC\n",
    "from sklearn.ensemble import RandomForestClassifier\n",
    "from sklearn.tree import DecisionTreeClassifier\n",
    "from sklearn.linear_model import LogisticRegression"
   ]
  },
  {
   "cell_type": "code",
   "execution_count": 2,
   "metadata": {
    "collapsed": true
   },
   "outputs": [],
   "source": [
    "train_set=pd.read_csv('criminal_train.csv')\n",
    "test_set=pd.read_csv('criminal_test.csv')"
   ]
  },
  {
   "cell_type": "code",
   "execution_count": 3,
   "metadata": {},
   "outputs": [
    {
     "name": "stdout",
     "output_type": "stream",
     "text": [
      "      PERID  IFATHER  NRCH17_2  IRHHSIZ2  IIHHSIZ2  IRKI17_2  IIKI17_2  \\\n",
      "0  25095143        4         2         4         1         3         1   \n",
      "1  13005143        4         1         3         1         2         1   \n",
      "2  67415143        4         1         2         1         2         1   \n",
      "3  70925143        4         0         2         1         1         1   \n",
      "4  75235143        1         0         6         1         4         1   \n",
      "\n",
      "   IRHH65_2  IIHH65_2  PRXRETRY    ...     TOOLONG  TROUBUND  PDEN10  COUTYP2  \\\n",
      "0         1         1        99    ...           1         2       1        1   \n",
      "1         1         1        99    ...           2         2       2        3   \n",
      "2         1         1        99    ...           2         2       2        3   \n",
      "3         1         1        99    ...           2         2       1        1   \n",
      "4         1         1        99    ...           2         2       2        2   \n",
      "\n",
      "   MAIIN102  AIIND102     ANALWT_C  VESTR  VEREP  Criminal  \n",
      "0         2         2  3884.805998  40026      1         0  \n",
      "1         2         2  1627.108106  40015      2         1  \n",
      "2         2         2  4344.957980  40024      1         0  \n",
      "3         2         2   792.521931  40027      1         0  \n",
      "4         2         2  1518.118526  40001      2         0  \n",
      "\n",
      "[5 rows x 72 columns]\n"
     ]
    }
   ],
   "source": [
    "print(train_set.head())\n",
    "#print(test_set.head())"
   ]
  },
  {
   "cell_type": "code",
   "execution_count": 20,
   "metadata": {
    "collapsed": true
   },
   "outputs": [],
   "source": [
    "sample_submission=pd.read_csv('sample_submission.csv')"
   ]
  },
  {
   "cell_type": "code",
   "execution_count": 21,
   "metadata": {},
   "outputs": [
    {
     "name": "stdout",
     "output_type": "stream",
     "text": [
      "Index(['PERID', 'IFATHER', 'NRCH17_2', 'IRHHSIZ2', 'IIHHSIZ2', 'IRKI17_2',\n",
      "       'IIKI17_2', 'IRHH65_2', 'IIHH65_2', 'PRXRETRY', 'PRXYDATA', 'MEDICARE',\n",
      "       'CAIDCHIP', 'CHAMPUS', 'PRVHLTIN', 'GRPHLTIN', 'HLTINNOS', 'HLCNOTYR',\n",
      "       'HLCNOTMO', 'HLCLAST', 'HLLOSRSN', 'HLNVCOST', 'HLNVOFFR', 'HLNVREF',\n",
      "       'HLNVNEED', 'HLNVSOR', 'IRMCDCHP', 'IIMCDCHP', 'IRMEDICR', 'IIMEDICR',\n",
      "       'IRCHMPUS', 'IICHMPUS', 'IRPRVHLT', 'IIPRVHLT', 'IROTHHLT', 'IIOTHHLT',\n",
      "       'HLCALLFG', 'HLCALL99', 'ANYHLTI2', 'IRINSUR4', 'IIINSUR4', 'OTHINS',\n",
      "       'CELLNOTCL', 'CELLWRKNG', 'IRFAMSOC', 'IIFAMSOC', 'IRFAMSSI',\n",
      "       'IIFAMSSI', 'IRFSTAMP', 'IIFSTAMP', 'IRFAMPMT', 'IIFAMPMT', 'IRFAMSVC',\n",
      "       'IIFAMSVC', 'IRWELMOS', 'IIWELMOS', 'IRPINC3', 'IRFAMIN3', 'IIPINC3',\n",
      "       'IIFAMIN3', 'GOVTPROG', 'POVERTY3', 'TOOLONG', 'TROUBUND', 'PDEN10',\n",
      "       'COUTYP2', 'MAIIN102', 'AIIND102', 'ANALWT_C', 'VESTR', 'VEREP',\n",
      "       'Criminal'],\n",
      "      dtype='object')\n"
     ]
    }
   ],
   "source": [
    "perid='PERID'\n",
    "print(train_set.columns)"
   ]
  },
  {
   "cell_type": "code",
   "execution_count": 22,
   "metadata": {
    "collapsed": true
   },
   "outputs": [],
   "source": [
    "features=['IFATHER', 'NRCH17_2', 'IRHHSIZ2', 'IIHHSIZ2', 'IRKI17_2',\n",
    "       'IIKI17_2', 'IRHH65_2', 'IIHH65_2', 'PRXRETRY', 'PRXYDATA', 'MEDICARE',\n",
    "       'CAIDCHIP', 'CHAMPUS', 'PRVHLTIN', 'GRPHLTIN', 'HLTINNOS', 'HLCNOTYR',\n",
    "       'HLCNOTMO', 'HLCLAST', 'HLLOSRSN', 'HLNVCOST', 'HLNVOFFR', 'HLNVREF',\n",
    "       'HLNVNEED', 'HLNVSOR', 'IRMCDCHP', 'IIMCDCHP', 'IRMEDICR', 'IIMEDICR',\n",
    "       'IRCHMPUS', 'IICHMPUS', 'IRPRVHLT', 'IIPRVHLT', 'IROTHHLT', 'IIOTHHLT',\n",
    "       'HLCALLFG', 'HLCALL99', 'ANYHLTI2', 'IRINSUR4', 'IIINSUR4', 'OTHINS',\n",
    "       'CELLNOTCL', 'CELLWRKNG', 'IRFAMSOC', 'IIFAMSOC', 'IRFAMSSI',\n",
    "       'IIFAMSSI', 'IRFSTAMP', 'IIFSTAMP', 'IRFAMPMT', 'IIFAMPMT', 'IRFAMSVC',\n",
    "       'IIFAMSVC', 'IRWELMOS', 'IIWELMOS', 'IRPINC3', 'IRFAMIN3', 'IIPINC3',\n",
    "       'IIFAMIN3', 'GOVTPROG', 'POVERTY3', 'TOOLONG', 'TROUBUND', 'PDEN10',\n",
    "       'COUTYP2', 'MAIIN102', 'AIIND102', 'ANALWT_C', 'VESTR', 'VEREP']"
   ]
  },
  {
   "cell_type": "code",
   "execution_count": 23,
   "metadata": {
    "collapsed": true
   },
   "outputs": [],
   "source": [
    "target=['Criminal']"
   ]
  },
  {
   "cell_type": "code",
   "execution_count": 24,
   "metadata": {
    "collapsed": true
   },
   "outputs": [],
   "source": [
    "train=train_set[features]\n",
    "test=test_set[features]"
   ]
  },
  {
   "cell_type": "code",
   "execution_count": 25,
   "metadata": {
    "collapsed": true
   },
   "outputs": [],
   "source": [
    "y=train_set[target]"
   ]
  },
  {
   "cell_type": "code",
   "execution_count": 26,
   "metadata": {
    "collapsed": true
   },
   "outputs": [],
   "source": [
    "clf=XGBClassifier()"
   ]
  },
  {
   "cell_type": "code",
   "execution_count": 27,
   "metadata": {
    "collapsed": true
   },
   "outputs": [],
   "source": [
    "x_train,x_test,y_train,y_test=train_test_split(train,y,test_size=0.1)"
   ]
  },
  {
   "cell_type": "code",
   "execution_count": 28,
   "metadata": {},
   "outputs": [
    {
     "name": "stderr",
     "output_type": "stream",
     "text": [
      "/home/pritam/anaconda3/lib/python3.6/site-packages/sklearn/preprocessing/label.py:95: DataConversionWarning: A column-vector y was passed when a 1d array was expected. Please change the shape of y to (n_samples, ), for example using ravel().\n",
      "  y = column_or_1d(y, warn=True)\n",
      "/home/pritam/anaconda3/lib/python3.6/site-packages/sklearn/preprocessing/label.py:128: DataConversionWarning: A column-vector y was passed when a 1d array was expected. Please change the shape of y to (n_samples, ), for example using ravel().\n",
      "  y = column_or_1d(y, warn=True)\n"
     ]
    },
    {
     "data": {
      "text/plain": [
       "XGBClassifier(base_score=0.5, colsample_bylevel=1, colsample_bytree=1,\n",
       "       gamma=0, learning_rate=0.1, max_delta_step=0, max_depth=3,\n",
       "       min_child_weight=1, missing=None, n_estimators=100, nthread=-1,\n",
       "       objective='binary:logistic', reg_alpha=0, reg_lambda=1,\n",
       "       scale_pos_weight=1, seed=0, silent=True, subsample=1)"
      ]
     },
     "execution_count": 28,
     "metadata": {},
     "output_type": "execute_result"
    }
   ],
   "source": [
    "clf.fit(x_train,y_train)"
   ]
  },
  {
   "cell_type": "code",
   "execution_count": 29,
   "metadata": {},
   "outputs": [
    {
     "data": {
      "text/plain": [
       "0.95406824146981628"
      ]
     },
     "execution_count": 29,
     "metadata": {},
     "output_type": "execute_result"
    }
   ],
   "source": [
    "clf.score(x_test,y_test)"
   ]
  },
  {
   "cell_type": "code",
   "execution_count": 30,
   "metadata": {
    "collapsed": true
   },
   "outputs": [],
   "source": [
    "predictions=clf.predict(test)"
   ]
  },
  {
   "cell_type": "code",
   "execution_count": 32,
   "metadata": {},
   "outputs": [
    {
     "name": "stdout",
     "output_type": "stream",
     "text": [
      "0        66583679\n",
      "1        35494679\n",
      "2        79424679\n",
      "3        11744679\n",
      "4        31554679\n",
      "5        83164679\n",
      "6        58474679\n",
      "7        40695779\n",
      "8        39315779\n",
      "9        58415779\n",
      "10       23535779\n",
      "11       67275779\n",
      "12       93485779\n",
      "13       29546779\n",
      "14       97556779\n",
      "15       37797779\n",
      "16       36607779\n",
      "17       61727779\n",
      "18       20827779\n",
      "19       52437779\n",
      "20       87267779\n",
      "21       33287779\n",
      "22       30398779\n",
      "23       98598779\n",
      "24       41818779\n",
      "25       69638779\n",
      "26       25748779\n",
      "27       75368779\n",
      "28       99968779\n",
      "29       91578779\n",
      "           ...   \n",
      "11400    43750730\n",
      "11401    35360730\n",
      "11402    51380730\n",
      "11403    50480730\n",
      "11404    71901730\n",
      "11405    96021730\n",
      "11406    71331730\n",
      "11407    66541730\n",
      "11408    29861730\n",
      "11409    95071730\n",
      "11410    61281730\n",
      "11411    57202730\n",
      "11412    45402730\n",
      "11413    45022730\n",
      "11414    99432730\n",
      "11415    26732730\n",
      "11416    85832730\n",
      "11417    45782730\n",
      "11418    26493730\n",
      "11419    54693730\n",
      "11420    97103730\n",
      "11421    99713730\n",
      "11422    74543730\n",
      "11423    57863730\n",
      "11424    97294730\n",
      "11425    31894730\n",
      "11426    98524730\n",
      "11427    80134730\n",
      "11428    65323398\n",
      "11429    90906563\n",
      "Name: PERID, Length: 11430, dtype: int64\n"
     ]
    }
   ],
   "source": [
    "\n",
    "perid=test_set[perid]\n",
    "print(perid)"
   ]
  },
  {
   "cell_type": "code",
   "execution_count": 34,
   "metadata": {},
   "outputs": [],
   "source": [
    "submission={'PERID':perid,'Criminal':predictions}"
   ]
  },
  {
   "cell_type": "code",
   "execution_count": 35,
   "metadata": {},
   "outputs": [
    {
     "name": "stdout",
     "output_type": "stream",
     "text": [
      "[0 0 0 ..., 0 0 0]\n"
     ]
    }
   ],
   "source": [
    "print(predictions)"
   ]
  },
  {
   "cell_type": "code",
   "execution_count": 37,
   "metadata": {},
   "outputs": [],
   "source": [
    "submission=pd.DataFrame(submission)\n"
   ]
  },
  {
   "cell_type": "code",
   "execution_count": 38,
   "metadata": {},
   "outputs": [
    {
     "name": "stdout",
     "output_type": "stream",
     "text": [
      "       Criminal     PERID\n",
      "0             0  66583679\n",
      "1             0  35494679\n",
      "2             0  79424679\n",
      "3             0  11744679\n",
      "4             0  31554679\n",
      "5             0  83164679\n",
      "6             0  58474679\n",
      "7             0  40695779\n",
      "8             0  39315779\n",
      "9             0  58415779\n",
      "10            0  23535779\n",
      "11            0  67275779\n",
      "12            0  93485779\n",
      "13            0  29546779\n",
      "14            0  97556779\n",
      "15            0  37797779\n",
      "16            0  36607779\n",
      "17            0  61727779\n",
      "18            0  20827779\n",
      "19            0  52437779\n",
      "20            0  87267779\n",
      "21            0  33287779\n",
      "22            0  30398779\n",
      "23            0  98598779\n",
      "24            1  41818779\n",
      "25            0  69638779\n",
      "26            0  25748779\n",
      "27            0  75368779\n",
      "28            0  99968779\n",
      "29            1  91578779\n",
      "...         ...       ...\n",
      "11400         1  43750730\n",
      "11401         0  35360730\n",
      "11402         0  51380730\n",
      "11403         0  50480730\n",
      "11404         0  71901730\n",
      "11405         0  96021730\n",
      "11406         0  71331730\n",
      "11407         0  66541730\n",
      "11408         0  29861730\n",
      "11409         0  95071730\n",
      "11410         0  61281730\n",
      "11411         0  57202730\n",
      "11412         0  45402730\n",
      "11413         0  45022730\n",
      "11414         0  99432730\n",
      "11415         0  26732730\n",
      "11416         0  85832730\n",
      "11417         0  45782730\n",
      "11418         0  26493730\n",
      "11419         0  54693730\n",
      "11420         0  97103730\n",
      "11421         0  99713730\n",
      "11422         0  74543730\n",
      "11423         0  57863730\n",
      "11424         0  97294730\n",
      "11425         0  31894730\n",
      "11426         0  98524730\n",
      "11427         0  80134730\n",
      "11428         0  65323398\n",
      "11429         0  90906563\n",
      "\n",
      "[11430 rows x 2 columns]\n"
     ]
    }
   ],
   "source": [
    "print(submission)"
   ]
  },
  {
   "cell_type": "code",
   "execution_count": 39,
   "metadata": {},
   "outputs": [
    {
     "name": "stdout",
     "output_type": "stream",
     "text": [
      "          PERID  Criminal\n",
      "0      66583679         0\n",
      "1      35494679         0\n",
      "2      79424679         0\n",
      "3      11744679         0\n",
      "4      31554679         0\n",
      "5      83164679         0\n",
      "6      58474679         0\n",
      "7      40695779         0\n",
      "8      39315779         0\n",
      "9      58415779         0\n",
      "10     23535779         0\n",
      "11     67275779         0\n",
      "12     93485779         0\n",
      "13     29546779         0\n",
      "14     97556779         0\n",
      "15     37797779         0\n",
      "16     36607779         0\n",
      "17     61727779         0\n",
      "18     20827779         0\n",
      "19     52437779         0\n",
      "20     87267779         0\n",
      "21     33287779         0\n",
      "22     30398779         0\n",
      "23     98598779         0\n",
      "24     41818779         1\n",
      "25     69638779         0\n",
      "26     25748779         0\n",
      "27     75368779         0\n",
      "28     99968779         0\n",
      "29     91578779         1\n",
      "...         ...       ...\n",
      "11400  43750730         1\n",
      "11401  35360730         0\n",
      "11402  51380730         0\n",
      "11403  50480730         0\n",
      "11404  71901730         0\n",
      "11405  96021730         0\n",
      "11406  71331730         0\n",
      "11407  66541730         0\n",
      "11408  29861730         0\n",
      "11409  95071730         0\n",
      "11410  61281730         0\n",
      "11411  57202730         0\n",
      "11412  45402730         0\n",
      "11413  45022730         0\n",
      "11414  99432730         0\n",
      "11415  26732730         0\n",
      "11416  85832730         0\n",
      "11417  45782730         0\n",
      "11418  26493730         0\n",
      "11419  54693730         0\n",
      "11420  97103730         0\n",
      "11421  99713730         0\n",
      "11422  74543730         0\n",
      "11423  57863730         0\n",
      "11424  97294730         0\n",
      "11425  31894730         0\n",
      "11426  98524730         0\n",
      "11427  80134730         0\n",
      "11428  65323398         0\n",
      "11429  90906563         0\n",
      "\n",
      "[11430 rows x 2 columns]\n"
     ]
    }
   ],
   "source": [
    "a=submission['Criminal']\n",
    "del submission['Criminal']\n",
    "submission['Criminal']=a\n",
    "print(submission)"
   ]
  },
  {
   "cell_type": "code",
   "execution_count": 40,
   "metadata": {
    "collapsed": true
   },
   "outputs": [],
   "source": [
    "submission.to_csv('sub1.csv',index=False)"
   ]
  },
  {
   "cell_type": "code",
   "execution_count": 41,
   "metadata": {
    "collapsed": true
   },
   "outputs": [],
   "source": [
    "a=pd.read_csv('sub1.csv')"
   ]
  },
  {
   "cell_type": "code",
   "execution_count": 42,
   "metadata": {},
   "outputs": [
    {
     "name": "stdout",
     "output_type": "stream",
     "text": [
      "      PERID  Criminal\n",
      "0  66583679         0\n",
      "1  35494679         0\n",
      "2  79424679         0\n",
      "3  11744679         0\n",
      "4  31554679         0\n"
     ]
    }
   ],
   "source": [
    "print(a.head())"
   ]
  },
  {
   "cell_type": "code",
   "execution_count": null,
   "metadata": {
    "collapsed": true
   },
   "outputs": [],
   "source": []
  },
  {
   "cell_type": "code",
   "execution_count": null,
   "metadata": {
    "collapsed": true
   },
   "outputs": [],
   "source": []
  },
  {
   "cell_type": "code",
   "execution_count": null,
   "metadata": {
    "collapsed": true
   },
   "outputs": [],
   "source": []
  },
  {
   "cell_type": "code",
   "execution_count": null,
   "metadata": {
    "collapsed": true
   },
   "outputs": [],
   "source": []
  },
  {
   "cell_type": "code",
   "execution_count": null,
   "metadata": {
    "collapsed": true
   },
   "outputs": [],
   "source": []
  },
  {
   "cell_type": "code",
   "execution_count": null,
   "metadata": {
    "collapsed": true
   },
   "outputs": [],
   "source": []
  },
  {
   "cell_type": "code",
   "execution_count": null,
   "metadata": {
    "collapsed": true
   },
   "outputs": [],
   "source": []
  },
  {
   "cell_type": "code",
   "execution_count": null,
   "metadata": {
    "collapsed": true
   },
   "outputs": [],
   "source": []
  },
  {
   "cell_type": "code",
   "execution_count": null,
   "metadata": {
    "collapsed": true
   },
   "outputs": [],
   "source": []
  },
  {
   "cell_type": "code",
   "execution_count": null,
   "metadata": {
    "collapsed": true
   },
   "outputs": [],
   "source": []
  },
  {
   "cell_type": "code",
   "execution_count": 44,
   "metadata": {},
   "outputs": [],
   "source": [
    "clf1=RandomForestClassifier()"
   ]
  },
  {
   "cell_type": "code",
   "execution_count": 45,
   "metadata": {},
   "outputs": [
    {
     "name": "stderr",
     "output_type": "stream",
     "text": [
      "/home/pritam/anaconda3/lib/python3.6/site-packages/sklearn/preprocessing/label.py:95: DataConversionWarning: A column-vector y was passed when a 1d array was expected. Please change the shape of y to (n_samples, ), for example using ravel().\n",
      "  y = column_or_1d(y, warn=True)\n",
      "/home/pritam/anaconda3/lib/python3.6/site-packages/sklearn/preprocessing/label.py:128: DataConversionWarning: A column-vector y was passed when a 1d array was expected. Please change the shape of y to (n_samples, ), for example using ravel().\n",
      "  y = column_or_1d(y, warn=True)\n"
     ]
    },
    {
     "data": {
      "text/plain": [
       "XGBClassifier(base_score=0.5, colsample_bylevel=1, colsample_bytree=1,\n",
       "       gamma=0, learning_rate=0.1, max_delta_step=0, max_depth=3,\n",
       "       min_child_weight=1, missing=None, n_estimators=100, nthread=-1,\n",
       "       objective='binary:logistic', reg_alpha=0, reg_lambda=1,\n",
       "       scale_pos_weight=1, seed=0, silent=True, subsample=1)"
      ]
     },
     "execution_count": 45,
     "metadata": {},
     "output_type": "execute_result"
    }
   ],
   "source": []
  },
  {
   "cell_type": "code",
   "execution_count": 47,
   "metadata": {},
   "outputs": [
    {
     "name": "stderr",
     "output_type": "stream",
     "text": [
      "/home/pritam/anaconda3/lib/python3.6/site-packages/ipykernel_launcher.py:1: DataConversionWarning: A column-vector y was passed when a 1d array was expected. Please change the shape of y to (n_samples,), for example using ravel().\n",
      "  \"\"\"Entry point for launching an IPython kernel.\n"
     ]
    },
    {
     "data": {
      "text/plain": [
       "RandomForestClassifier(bootstrap=True, class_weight=None, criterion='gini',\n",
       "            max_depth=None, max_features='auto', max_leaf_nodes=None,\n",
       "            min_impurity_decrease=0.0, min_impurity_split=None,\n",
       "            min_samples_leaf=1, min_samples_split=2,\n",
       "            min_weight_fraction_leaf=0.0, n_estimators=10, n_jobs=1,\n",
       "            oob_score=False, random_state=None, verbose=0,\n",
       "            warm_start=False)"
      ]
     },
     "execution_count": 47,
     "metadata": {},
     "output_type": "execute_result"
    }
   ],
   "source": [
    "clf1.fit(x_train,y_train)"
   ]
  },
  {
   "cell_type": "code",
   "execution_count": 48,
   "metadata": {},
   "outputs": [
    {
     "data": {
      "text/plain": [
       "0.94838145231846016"
      ]
     },
     "execution_count": 48,
     "metadata": {},
     "output_type": "execute_result"
    }
   ],
   "source": [
    "clf1.score(x_test,y_test)"
   ]
  },
  {
   "cell_type": "code",
   "execution_count": 50,
   "metadata": {
    "collapsed": true
   },
   "outputs": [],
   "source": [
    "from sklearn.neighbors import KNeighborsClassifier"
   ]
  },
  {
   "cell_type": "code",
   "execution_count": 51,
   "metadata": {},
   "outputs": [],
   "source": [
    "clf2=KNeighborsClassifier()"
   ]
  },
  {
   "cell_type": "code",
   "execution_count": 53,
   "metadata": {},
   "outputs": [
    {
     "name": "stderr",
     "output_type": "stream",
     "text": [
      "/home/pritam/anaconda3/lib/python3.6/site-packages/ipykernel_launcher.py:1: DataConversionWarning: A column-vector y was passed when a 1d array was expected. Please change the shape of y to (n_samples, ), for example using ravel().\n",
      "  \"\"\"Entry point for launching an IPython kernel.\n"
     ]
    },
    {
     "data": {
      "text/plain": [
       "KNeighborsClassifier(algorithm='auto', leaf_size=30, metric='minkowski',\n",
       "           metric_params=None, n_jobs=1, n_neighbors=5, p=2,\n",
       "           weights='uniform')"
      ]
     },
     "execution_count": 53,
     "metadata": {},
     "output_type": "execute_result"
    }
   ],
   "source": [
    "clf2.fit(x_train,y_train)"
   ]
  },
  {
   "cell_type": "code",
   "execution_count": 54,
   "metadata": {},
   "outputs": [
    {
     "data": {
      "text/plain": [
       "0.93197725284339461"
      ]
     },
     "execution_count": 54,
     "metadata": {},
     "output_type": "execute_result"
    }
   ],
   "source": [
    "clf2.score(x_test,y_test)"
   ]
  },
  {
   "cell_type": "code",
   "execution_count": 55,
   "metadata": {
    "collapsed": true
   },
   "outputs": [],
   "source": [
    "predictions=clf2.predict(test)"
   ]
  },
  {
   "cell_type": "code",
   "execution_count": 56,
   "metadata": {
    "collapsed": true
   },
   "outputs": [],
   "source": [
    "submission={'PERID':perid,'Criminal':predictions}\n",
    "submission=pd.DataFrame(submission)"
   ]
  },
  {
   "cell_type": "code",
   "execution_count": 57,
   "metadata": {},
   "outputs": [
    {
     "name": "stdout",
     "output_type": "stream",
     "text": [
      "          PERID  Criminal\n",
      "0      66583679         0\n",
      "1      35494679         0\n",
      "2      79424679         0\n",
      "3      11744679         0\n",
      "4      31554679         0\n",
      "5      83164679         0\n",
      "6      58474679         0\n",
      "7      40695779         0\n",
      "8      39315779         0\n",
      "9      58415779         0\n",
      "10     23535779         0\n",
      "11     67275779         0\n",
      "12     93485779         0\n",
      "13     29546779         0\n",
      "14     97556779         0\n",
      "15     37797779         0\n",
      "16     36607779         0\n",
      "17     61727779         0\n",
      "18     20827779         0\n",
      "19     52437779         0\n",
      "20     87267779         0\n",
      "21     33287779         0\n",
      "22     30398779         0\n",
      "23     98598779         0\n",
      "24     41818779         0\n",
      "25     69638779         0\n",
      "26     25748779         0\n",
      "27     75368779         0\n",
      "28     99968779         0\n",
      "29     91578779         0\n",
      "...         ...       ...\n",
      "11400  43750730         0\n",
      "11401  35360730         0\n",
      "11402  51380730         0\n",
      "11403  50480730         0\n",
      "11404  71901730         0\n",
      "11405  96021730         0\n",
      "11406  71331730         0\n",
      "11407  66541730         0\n",
      "11408  29861730         0\n",
      "11409  95071730         1\n",
      "11410  61281730         0\n",
      "11411  57202730         0\n",
      "11412  45402730         0\n",
      "11413  45022730         0\n",
      "11414  99432730         0\n",
      "11415  26732730         0\n",
      "11416  85832730         0\n",
      "11417  45782730         0\n",
      "11418  26493730         0\n",
      "11419  54693730         0\n",
      "11420  97103730         0\n",
      "11421  99713730         0\n",
      "11422  74543730         0\n",
      "11423  57863730         0\n",
      "11424  97294730         0\n",
      "11425  31894730         0\n",
      "11426  98524730         0\n",
      "11427  80134730         0\n",
      "11428  65323398         0\n",
      "11429  90906563         0\n",
      "\n",
      "[11430 rows x 2 columns]\n"
     ]
    }
   ],
   "source": [
    "a=submission['Criminal']\n",
    "del submission['Criminal']\n",
    "submission['Criminal']=a\n",
    "print(submission)"
   ]
  },
  {
   "cell_type": "code",
   "execution_count": 58,
   "metadata": {
    "collapsed": true
   },
   "outputs": [],
   "source": [
    "submission.to_csv('sub2.csv',index=False)"
   ]
  },
  {
   "cell_type": "code",
   "execution_count": null,
   "metadata": {
    "collapsed": true
   },
   "outputs": [],
   "source": []
  },
  {
   "cell_type": "code",
   "execution_count": 59,
   "metadata": {},
   "outputs": [
    {
     "name": "stderr",
     "output_type": "stream",
     "text": [
      "/home/pritam/anaconda3/lib/python3.6/site-packages/sklearn/preprocessing/label.py:95: DataConversionWarning: A column-vector y was passed when a 1d array was expected. Please change the shape of y to (n_samples, ), for example using ravel().\n",
      "  y = column_or_1d(y, warn=True)\n",
      "/home/pritam/anaconda3/lib/python3.6/site-packages/sklearn/preprocessing/label.py:128: DataConversionWarning: A column-vector y was passed when a 1d array was expected. Please change the shape of y to (n_samples, ), for example using ravel().\n",
      "  y = column_or_1d(y, warn=True)\n"
     ]
    },
    {
     "data": {
      "text/plain": [
       "XGBClassifier(base_score=0.5, colsample_bylevel=1, colsample_bytree=1,\n",
       "       gamma=0, learning_rate=0.1, max_delta_step=0, max_depth=3,\n",
       "       min_child_weight=1, missing=None, n_estimators=100, nthread=-1,\n",
       "       objective='binary:logistic', reg_alpha=0, reg_lambda=1,\n",
       "       scale_pos_weight=1, seed=0, silent=True, subsample=1)"
      ]
     },
     "execution_count": 59,
     "metadata": {},
     "output_type": "execute_result"
    }
   ],
   "source": [
    "clf.fit(x_train,y_train)"
   ]
  },
  {
   "cell_type": "code",
   "execution_count": 60,
   "metadata": {},
   "outputs": [
    {
     "name": "stdout",
     "output_type": "stream",
     "text": [
      "          PERID  Criminal\n",
      "0      66583679         0\n",
      "1      35494679         0\n",
      "2      79424679         0\n",
      "3      11744679         0\n",
      "4      31554679         0\n",
      "5      83164679         0\n",
      "6      58474679         0\n",
      "7      40695779         0\n",
      "8      39315779         0\n",
      "9      58415779         0\n",
      "10     23535779         0\n",
      "11     67275779         0\n",
      "12     93485779         0\n",
      "13     29546779         0\n",
      "14     97556779         0\n",
      "15     37797779         0\n",
      "16     36607779         0\n",
      "17     61727779         0\n",
      "18     20827779         0\n",
      "19     52437779         0\n",
      "20     87267779         0\n",
      "21     33287779         0\n",
      "22     30398779         0\n",
      "23     98598779         0\n",
      "24     41818779         0\n",
      "25     69638779         0\n",
      "26     25748779         0\n",
      "27     75368779         0\n",
      "28     99968779         0\n",
      "29     91578779         0\n",
      "...         ...       ...\n",
      "11400  43750730         0\n",
      "11401  35360730         0\n",
      "11402  51380730         0\n",
      "11403  50480730         0\n",
      "11404  71901730         0\n",
      "11405  96021730         0\n",
      "11406  71331730         0\n",
      "11407  66541730         0\n",
      "11408  29861730         0\n",
      "11409  95071730         1\n",
      "11410  61281730         0\n",
      "11411  57202730         0\n",
      "11412  45402730         0\n",
      "11413  45022730         0\n",
      "11414  99432730         0\n",
      "11415  26732730         0\n",
      "11416  85832730         0\n",
      "11417  45782730         0\n",
      "11418  26493730         0\n",
      "11419  54693730         0\n",
      "11420  97103730         0\n",
      "11421  99713730         0\n",
      "11422  74543730         0\n",
      "11423  57863730         0\n",
      "11424  97294730         0\n",
      "11425  31894730         0\n",
      "11426  98524730         0\n",
      "11427  80134730         0\n",
      "11428  65323398         0\n",
      "11429  90906563         0\n",
      "\n",
      "[11430 rows x 2 columns]\n"
     ]
    }
   ],
   "source": [
    "predictions=clf2.predict(test)\n",
    "submission={'PERID':perid,'Criminal':predictions}\n",
    "submission=pd.DataFrame(submission)\n",
    "a=submission['Criminal']\n",
    "del submission['Criminal']\n",
    "submission['Criminal']=a\n",
    "print(submission)\n",
    "submission.to_csv('sub1.csv',index=False)"
   ]
  },
  {
   "cell_type": "code",
   "execution_count": null,
   "metadata": {
    "collapsed": true
   },
   "outputs": [],
   "source": []
  },
  {
   "cell_type": "code",
   "execution_count": null,
   "metadata": {
    "collapsed": true
   },
   "outputs": [],
   "source": []
  }
 ],
 "metadata": {
  "kernelspec": {
   "display_name": "Python 3",
   "language": "python",
   "name": "python3"
  },
  "language_info": {
   "codemirror_mode": {
    "name": "ipython",
    "version": 3
   },
   "file_extension": ".py",
   "mimetype": "text/x-python",
   "name": "python",
   "nbconvert_exporter": "python",
   "pygments_lexer": "ipython3",
   "version": "3.6.3"
  }
 },
 "nbformat": 4,
 "nbformat_minor": 2
}
